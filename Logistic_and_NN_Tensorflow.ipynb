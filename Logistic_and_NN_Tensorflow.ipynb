{
  "nbformat": 4,
  "nbformat_minor": 0,
  "metadata": {
    "colab": {
      "name": "Editing_Logistic_and_NN_Tensorflow.ipynb",
      "provenance": [],
      "collapsed_sections": [
        "B_xmzbxNWRda",
        "0TQbi9jYdT-7"
      ],
      "toc_visible": true,
      "include_colab_link": true
    },
    "kernelspec": {
      "name": "python3",
      "display_name": "Python 3"
    }
  },
  "cells": [
    {
      "cell_type": "markdown",
      "metadata": {
        "id": "view-in-github",
        "colab_type": "text"
      },
      "source": [
        "<a href=\"https://colab.research.google.com/github/Priya1Projects/MSBA_DataScience/blob/main/Logistic_and_NN_Tensorflow.ipynb\" target=\"_parent\"><img src=\"https://colab.research.google.com/assets/colab-badge.svg\" alt=\"Open In Colab\"/></a>"
      ]
    },
    {
      "cell_type": "markdown",
      "metadata": {
        "id": "0ElpI5lHLqv8"
      },
      "source": [
        "#Libraries"
      ]
    },
    {
      "cell_type": "markdown",
      "metadata": {
        "id": "IhsZuiY9ad-U"
      },
      "source": [
        "To load data from your Google drive, first you need to mount Google drive. First, run the code below. Second, in order to get the authorization code, you should click on the link, choose your Google account, click on 'allow' and copy the code and paste it in the box below and press Enter. Once done it will show you \"Mounted at gdrive\". You know the Google drive is mounted once you see your folders on the left panel.\n",
        "\n",
        "\n",
        "\n",
        "\n",
        "\n"
      ]
    },
    {
      "cell_type": "code",
      "metadata": {
        "colab": {
          "base_uri": "https://localhost:8080/"
        },
        "id": "NxOJfwnMt-sc",
        "outputId": "af3240b4-d0d9-417a-a801-2f6a1ff5574c"
      },
      "source": [
        "from google.colab import drive\n",
        "drive.mount('gdrive')"
      ],
      "execution_count": null,
      "outputs": [
        {
          "output_type": "stream",
          "name": "stdout",
          "text": [
            "Mounted at gdrive\n"
          ]
        }
      ]
    },
    {
      "cell_type": "code",
      "metadata": {
        "id": "8638pee010Y9",
        "colab": {
          "base_uri": "https://localhost:8080/"
        },
        "outputId": "53233d97-0268-408b-b4c8-c6d45e65d750"
      },
      "source": [
        "# tensorflow 1 is already installed by default\n",
        "# !pip install tensorflow==2\n",
        "# go to runtime, rsetart runtime!\n",
        "!pip install category_encoders\n"
      ],
      "execution_count": null,
      "outputs": [
        {
          "output_type": "stream",
          "name": "stdout",
          "text": [
            "Looking in indexes: https://pypi.org/simple, https://us-python.pkg.dev/colab-wheels/public/simple/\n",
            "Collecting category_encoders\n",
            "  Downloading category_encoders-2.4.1-py2.py3-none-any.whl (80 kB)\n",
            "\u001b[K     |████████████████████████████████| 80 kB 5.4 MB/s \n",
            "\u001b[?25hRequirement already satisfied: numpy>=1.14.0 in /usr/local/lib/python3.7/dist-packages (from category_encoders) (1.21.6)\n",
            "Requirement already satisfied: patsy>=0.5.1 in /usr/local/lib/python3.7/dist-packages (from category_encoders) (0.5.2)\n",
            "Requirement already satisfied: pandas>=0.21.1 in /usr/local/lib/python3.7/dist-packages (from category_encoders) (1.3.5)\n",
            "Requirement already satisfied: statsmodels>=0.9.0 in /usr/local/lib/python3.7/dist-packages (from category_encoders) (0.10.2)\n",
            "Requirement already satisfied: scipy>=1.0.0 in /usr/local/lib/python3.7/dist-packages (from category_encoders) (1.4.1)\n",
            "Requirement already satisfied: scikit-learn>=0.20.0 in /usr/local/lib/python3.7/dist-packages (from category_encoders) (1.0.2)\n",
            "Requirement already satisfied: pytz>=2017.3 in /usr/local/lib/python3.7/dist-packages (from pandas>=0.21.1->category_encoders) (2022.1)\n",
            "Requirement already satisfied: python-dateutil>=2.7.3 in /usr/local/lib/python3.7/dist-packages (from pandas>=0.21.1->category_encoders) (2.8.2)\n",
            "Requirement already satisfied: six in /usr/local/lib/python3.7/dist-packages (from patsy>=0.5.1->category_encoders) (1.15.0)\n",
            "Requirement already satisfied: threadpoolctl>=2.0.0 in /usr/local/lib/python3.7/dist-packages (from scikit-learn>=0.20.0->category_encoders) (3.1.0)\n",
            "Requirement already satisfied: joblib>=0.11 in /usr/local/lib/python3.7/dist-packages (from scikit-learn>=0.20.0->category_encoders) (1.1.0)\n",
            "Installing collected packages: category-encoders\n",
            "Successfully installed category-encoders-2.4.1\n"
          ]
        }
      ]
    },
    {
      "cell_type": "code",
      "metadata": {
        "id": "bUl20Z9l2Yq8"
      },
      "source": [
        "import tensorflow as tf"
      ],
      "execution_count": null,
      "outputs": []
    },
    {
      "cell_type": "code",
      "metadata": {
        "colab": {
          "base_uri": "https://localhost:8080/",
          "height": 35
        },
        "id": "DXk2d8A52ySO",
        "outputId": "f2e5c827-77fb-42ae-ddec-cbf1c478f9ac"
      },
      "source": [
        "# check the version\n",
        "tf.__version__"
      ],
      "execution_count": null,
      "outputs": [
        {
          "output_type": "execute_result",
          "data": {
            "text/plain": [
              "'2.8.0'"
            ],
            "application/vnd.google.colaboratory.intrinsic+json": {
              "type": "string"
            }
          },
          "metadata": {},
          "execution_count": 4
        }
      ]
    },
    {
      "cell_type": "code",
      "metadata": {
        "id": "KwR0wxfxDvLr"
      },
      "source": [
        "from tensorflow.keras.models import Sequential\n",
        "from tensorflow.keras.layers import Dense, Flatten, Dropout \n",
        "from tensorflow.keras import regularizers\n",
        "from tensorflow.keras.callbacks import Callback\n",
        "from tensorflow.keras.preprocessing import image\n",
        "from tensorflow.keras.datasets import mnist"
      ],
      "execution_count": null,
      "outputs": []
    },
    {
      "cell_type": "code",
      "metadata": {
        "id": "rWNYn_VmWX5Y"
      },
      "source": [
        "import numpy as np\n",
        "import pandas as pd\n",
        "import matplotlib.pyplot as plt\n",
        "%matplotlib inline"
      ],
      "execution_count": null,
      "outputs": []
    },
    {
      "cell_type": "code",
      "metadata": {
        "id": "gOhc81IGI0z1"
      },
      "source": [
        "from sklearn import preprocessing\n",
        "from sklearn.preprocessing import OrdinalEncoder\n",
        "from sklearn.preprocessing import LabelEncoder"
      ],
      "execution_count": null,
      "outputs": []
    },
    {
      "cell_type": "code",
      "source": [
        "from sklearn.metrics import confusion_matrix\n",
        "from sklearn.metrics import classification_report"
      ],
      "metadata": {
        "id": "rcE-6X4jk7IT"
      },
      "execution_count": null,
      "outputs": []
    },
    {
      "cell_type": "markdown",
      "metadata": {
        "id": "CFp_nFFm6xDy"
      },
      "source": [
        "#Data"
      ]
    },
    {
      "cell_type": "markdown",
      "source": [
        "##Data Loading"
      ],
      "metadata": {
        "id": "QUdzs8X_WErc"
      }
    },
    {
      "cell_type": "code",
      "metadata": {
        "id": "dTnwaNYTIcEk",
        "colab": {
          "base_uri": "https://localhost:8080/",
          "height": 424
        },
        "outputId": "19cad814-d8a0-4b21-f094-fe6c974dc660"
      },
      "source": [
        "data = pd.read_csv(\"/content/gdrive/MyDrive/new_train.csv\")\n",
        "data"
      ],
      "execution_count": null,
      "outputs": [
        {
          "output_type": "execute_result",
          "data": {
            "text/plain": [
              "       age           job   marital            education  default housing loan  \\\n",
              "0       49   blue-collar   married             basic.9y  unknown      no   no   \n",
              "1       37  entrepreneur   married    university.degree       no      no   no   \n",
              "2       78       retired   married             basic.4y       no      no   no   \n",
              "3       36        admin.   married    university.degree       no     yes   no   \n",
              "4       59       retired  divorced    university.degree       no      no   no   \n",
              "...    ...           ...       ...                  ...      ...     ...  ...   \n",
              "32945   28      services    single          high.school       no     yes   no   \n",
              "32946   52    technician   married  professional.course       no     yes   no   \n",
              "32947   54        admin.   married             basic.9y       no      no  yes   \n",
              "32948   29        admin.   married    university.degree       no      no   no   \n",
              "32949   35        admin.   married    university.degree       no      no  yes   \n",
              "\n",
              "         contact month day_of_week  duration  campaign  pdays  previous  \\\n",
              "0       cellular   nov         wed       227         4    999         0   \n",
              "1      telephone   nov         wed       202         2    999         1   \n",
              "2       cellular   jul         mon      1148         1    999         0   \n",
              "3      telephone   may         mon       120         2    999         0   \n",
              "4       cellular   jun         tue       368         2    999         0   \n",
              "...          ...   ...         ...       ...       ...    ...       ...   \n",
              "32945   cellular   jul         tue       192         1    999         0   \n",
              "32946   cellular   nov         fri        64         1    999         1   \n",
              "32947   cellular   jul         mon       131         4    999         0   \n",
              "32948  telephone   may         fri       165         1    999         0   \n",
              "32949  telephone   jun         tue       544         3    999         0   \n",
              "\n",
              "          poutcome    y  \n",
              "0      nonexistent   no  \n",
              "1          failure   no  \n",
              "2      nonexistent  yes  \n",
              "3      nonexistent   no  \n",
              "4      nonexistent   no  \n",
              "...            ...  ...  \n",
              "32945  nonexistent   no  \n",
              "32946      failure   no  \n",
              "32947  nonexistent   no  \n",
              "32948  nonexistent   no  \n",
              "32949  nonexistent   no  \n",
              "\n",
              "[32950 rows x 16 columns]"
            ],
            "text/html": [
              "\n",
              "  <div id=\"df-4c58b594-5f71-417f-8a2c-8550e97f3770\">\n",
              "    <div class=\"colab-df-container\">\n",
              "      <div>\n",
              "<style scoped>\n",
              "    .dataframe tbody tr th:only-of-type {\n",
              "        vertical-align: middle;\n",
              "    }\n",
              "\n",
              "    .dataframe tbody tr th {\n",
              "        vertical-align: top;\n",
              "    }\n",
              "\n",
              "    .dataframe thead th {\n",
              "        text-align: right;\n",
              "    }\n",
              "</style>\n",
              "<table border=\"1\" class=\"dataframe\">\n",
              "  <thead>\n",
              "    <tr style=\"text-align: right;\">\n",
              "      <th></th>\n",
              "      <th>age</th>\n",
              "      <th>job</th>\n",
              "      <th>marital</th>\n",
              "      <th>education</th>\n",
              "      <th>default</th>\n",
              "      <th>housing</th>\n",
              "      <th>loan</th>\n",
              "      <th>contact</th>\n",
              "      <th>month</th>\n",
              "      <th>day_of_week</th>\n",
              "      <th>duration</th>\n",
              "      <th>campaign</th>\n",
              "      <th>pdays</th>\n",
              "      <th>previous</th>\n",
              "      <th>poutcome</th>\n",
              "      <th>y</th>\n",
              "    </tr>\n",
              "  </thead>\n",
              "  <tbody>\n",
              "    <tr>\n",
              "      <th>0</th>\n",
              "      <td>49</td>\n",
              "      <td>blue-collar</td>\n",
              "      <td>married</td>\n",
              "      <td>basic.9y</td>\n",
              "      <td>unknown</td>\n",
              "      <td>no</td>\n",
              "      <td>no</td>\n",
              "      <td>cellular</td>\n",
              "      <td>nov</td>\n",
              "      <td>wed</td>\n",
              "      <td>227</td>\n",
              "      <td>4</td>\n",
              "      <td>999</td>\n",
              "      <td>0</td>\n",
              "      <td>nonexistent</td>\n",
              "      <td>no</td>\n",
              "    </tr>\n",
              "    <tr>\n",
              "      <th>1</th>\n",
              "      <td>37</td>\n",
              "      <td>entrepreneur</td>\n",
              "      <td>married</td>\n",
              "      <td>university.degree</td>\n",
              "      <td>no</td>\n",
              "      <td>no</td>\n",
              "      <td>no</td>\n",
              "      <td>telephone</td>\n",
              "      <td>nov</td>\n",
              "      <td>wed</td>\n",
              "      <td>202</td>\n",
              "      <td>2</td>\n",
              "      <td>999</td>\n",
              "      <td>1</td>\n",
              "      <td>failure</td>\n",
              "      <td>no</td>\n",
              "    </tr>\n",
              "    <tr>\n",
              "      <th>2</th>\n",
              "      <td>78</td>\n",
              "      <td>retired</td>\n",
              "      <td>married</td>\n",
              "      <td>basic.4y</td>\n",
              "      <td>no</td>\n",
              "      <td>no</td>\n",
              "      <td>no</td>\n",
              "      <td>cellular</td>\n",
              "      <td>jul</td>\n",
              "      <td>mon</td>\n",
              "      <td>1148</td>\n",
              "      <td>1</td>\n",
              "      <td>999</td>\n",
              "      <td>0</td>\n",
              "      <td>nonexistent</td>\n",
              "      <td>yes</td>\n",
              "    </tr>\n",
              "    <tr>\n",
              "      <th>3</th>\n",
              "      <td>36</td>\n",
              "      <td>admin.</td>\n",
              "      <td>married</td>\n",
              "      <td>university.degree</td>\n",
              "      <td>no</td>\n",
              "      <td>yes</td>\n",
              "      <td>no</td>\n",
              "      <td>telephone</td>\n",
              "      <td>may</td>\n",
              "      <td>mon</td>\n",
              "      <td>120</td>\n",
              "      <td>2</td>\n",
              "      <td>999</td>\n",
              "      <td>0</td>\n",
              "      <td>nonexistent</td>\n",
              "      <td>no</td>\n",
              "    </tr>\n",
              "    <tr>\n",
              "      <th>4</th>\n",
              "      <td>59</td>\n",
              "      <td>retired</td>\n",
              "      <td>divorced</td>\n",
              "      <td>university.degree</td>\n",
              "      <td>no</td>\n",
              "      <td>no</td>\n",
              "      <td>no</td>\n",
              "      <td>cellular</td>\n",
              "      <td>jun</td>\n",
              "      <td>tue</td>\n",
              "      <td>368</td>\n",
              "      <td>2</td>\n",
              "      <td>999</td>\n",
              "      <td>0</td>\n",
              "      <td>nonexistent</td>\n",
              "      <td>no</td>\n",
              "    </tr>\n",
              "    <tr>\n",
              "      <th>...</th>\n",
              "      <td>...</td>\n",
              "      <td>...</td>\n",
              "      <td>...</td>\n",
              "      <td>...</td>\n",
              "      <td>...</td>\n",
              "      <td>...</td>\n",
              "      <td>...</td>\n",
              "      <td>...</td>\n",
              "      <td>...</td>\n",
              "      <td>...</td>\n",
              "      <td>...</td>\n",
              "      <td>...</td>\n",
              "      <td>...</td>\n",
              "      <td>...</td>\n",
              "      <td>...</td>\n",
              "      <td>...</td>\n",
              "    </tr>\n",
              "    <tr>\n",
              "      <th>32945</th>\n",
              "      <td>28</td>\n",
              "      <td>services</td>\n",
              "      <td>single</td>\n",
              "      <td>high.school</td>\n",
              "      <td>no</td>\n",
              "      <td>yes</td>\n",
              "      <td>no</td>\n",
              "      <td>cellular</td>\n",
              "      <td>jul</td>\n",
              "      <td>tue</td>\n",
              "      <td>192</td>\n",
              "      <td>1</td>\n",
              "      <td>999</td>\n",
              "      <td>0</td>\n",
              "      <td>nonexistent</td>\n",
              "      <td>no</td>\n",
              "    </tr>\n",
              "    <tr>\n",
              "      <th>32946</th>\n",
              "      <td>52</td>\n",
              "      <td>technician</td>\n",
              "      <td>married</td>\n",
              "      <td>professional.course</td>\n",
              "      <td>no</td>\n",
              "      <td>yes</td>\n",
              "      <td>no</td>\n",
              "      <td>cellular</td>\n",
              "      <td>nov</td>\n",
              "      <td>fri</td>\n",
              "      <td>64</td>\n",
              "      <td>1</td>\n",
              "      <td>999</td>\n",
              "      <td>1</td>\n",
              "      <td>failure</td>\n",
              "      <td>no</td>\n",
              "    </tr>\n",
              "    <tr>\n",
              "      <th>32947</th>\n",
              "      <td>54</td>\n",
              "      <td>admin.</td>\n",
              "      <td>married</td>\n",
              "      <td>basic.9y</td>\n",
              "      <td>no</td>\n",
              "      <td>no</td>\n",
              "      <td>yes</td>\n",
              "      <td>cellular</td>\n",
              "      <td>jul</td>\n",
              "      <td>mon</td>\n",
              "      <td>131</td>\n",
              "      <td>4</td>\n",
              "      <td>999</td>\n",
              "      <td>0</td>\n",
              "      <td>nonexistent</td>\n",
              "      <td>no</td>\n",
              "    </tr>\n",
              "    <tr>\n",
              "      <th>32948</th>\n",
              "      <td>29</td>\n",
              "      <td>admin.</td>\n",
              "      <td>married</td>\n",
              "      <td>university.degree</td>\n",
              "      <td>no</td>\n",
              "      <td>no</td>\n",
              "      <td>no</td>\n",
              "      <td>telephone</td>\n",
              "      <td>may</td>\n",
              "      <td>fri</td>\n",
              "      <td>165</td>\n",
              "      <td>1</td>\n",
              "      <td>999</td>\n",
              "      <td>0</td>\n",
              "      <td>nonexistent</td>\n",
              "      <td>no</td>\n",
              "    </tr>\n",
              "    <tr>\n",
              "      <th>32949</th>\n",
              "      <td>35</td>\n",
              "      <td>admin.</td>\n",
              "      <td>married</td>\n",
              "      <td>university.degree</td>\n",
              "      <td>no</td>\n",
              "      <td>no</td>\n",
              "      <td>yes</td>\n",
              "      <td>telephone</td>\n",
              "      <td>jun</td>\n",
              "      <td>tue</td>\n",
              "      <td>544</td>\n",
              "      <td>3</td>\n",
              "      <td>999</td>\n",
              "      <td>0</td>\n",
              "      <td>nonexistent</td>\n",
              "      <td>no</td>\n",
              "    </tr>\n",
              "  </tbody>\n",
              "</table>\n",
              "<p>32950 rows × 16 columns</p>\n",
              "</div>\n",
              "      <button class=\"colab-df-convert\" onclick=\"convertToInteractive('df-4c58b594-5f71-417f-8a2c-8550e97f3770')\"\n",
              "              title=\"Convert this dataframe to an interactive table.\"\n",
              "              style=\"display:none;\">\n",
              "        \n",
              "  <svg xmlns=\"http://www.w3.org/2000/svg\" height=\"24px\"viewBox=\"0 0 24 24\"\n",
              "       width=\"24px\">\n",
              "    <path d=\"M0 0h24v24H0V0z\" fill=\"none\"/>\n",
              "    <path d=\"M18.56 5.44l.94 2.06.94-2.06 2.06-.94-2.06-.94-.94-2.06-.94 2.06-2.06.94zm-11 1L8.5 8.5l.94-2.06 2.06-.94-2.06-.94L8.5 2.5l-.94 2.06-2.06.94zm10 10l.94 2.06.94-2.06 2.06-.94-2.06-.94-.94-2.06-.94 2.06-2.06.94z\"/><path d=\"M17.41 7.96l-1.37-1.37c-.4-.4-.92-.59-1.43-.59-.52 0-1.04.2-1.43.59L10.3 9.45l-7.72 7.72c-.78.78-.78 2.05 0 2.83L4 21.41c.39.39.9.59 1.41.59.51 0 1.02-.2 1.41-.59l7.78-7.78 2.81-2.81c.8-.78.8-2.07 0-2.86zM5.41 20L4 18.59l7.72-7.72 1.47 1.35L5.41 20z\"/>\n",
              "  </svg>\n",
              "      </button>\n",
              "      \n",
              "  <style>\n",
              "    .colab-df-container {\n",
              "      display:flex;\n",
              "      flex-wrap:wrap;\n",
              "      gap: 12px;\n",
              "    }\n",
              "\n",
              "    .colab-df-convert {\n",
              "      background-color: #E8F0FE;\n",
              "      border: none;\n",
              "      border-radius: 50%;\n",
              "      cursor: pointer;\n",
              "      display: none;\n",
              "      fill: #1967D2;\n",
              "      height: 32px;\n",
              "      padding: 0 0 0 0;\n",
              "      width: 32px;\n",
              "    }\n",
              "\n",
              "    .colab-df-convert:hover {\n",
              "      background-color: #E2EBFA;\n",
              "      box-shadow: 0px 1px 2px rgba(60, 64, 67, 0.3), 0px 1px 3px 1px rgba(60, 64, 67, 0.15);\n",
              "      fill: #174EA6;\n",
              "    }\n",
              "\n",
              "    [theme=dark] .colab-df-convert {\n",
              "      background-color: #3B4455;\n",
              "      fill: #D2E3FC;\n",
              "    }\n",
              "\n",
              "    [theme=dark] .colab-df-convert:hover {\n",
              "      background-color: #434B5C;\n",
              "      box-shadow: 0px 1px 3px 1px rgba(0, 0, 0, 0.15);\n",
              "      filter: drop-shadow(0px 1px 2px rgba(0, 0, 0, 0.3));\n",
              "      fill: #FFFFFF;\n",
              "    }\n",
              "  </style>\n",
              "\n",
              "      <script>\n",
              "        const buttonEl =\n",
              "          document.querySelector('#df-4c58b594-5f71-417f-8a2c-8550e97f3770 button.colab-df-convert');\n",
              "        buttonEl.style.display =\n",
              "          google.colab.kernel.accessAllowed ? 'block' : 'none';\n",
              "\n",
              "        async function convertToInteractive(key) {\n",
              "          const element = document.querySelector('#df-4c58b594-5f71-417f-8a2c-8550e97f3770');\n",
              "          const dataTable =\n",
              "            await google.colab.kernel.invokeFunction('convertToInteractive',\n",
              "                                                     [key], {});\n",
              "          if (!dataTable) return;\n",
              "\n",
              "          const docLinkHtml = 'Like what you see? Visit the ' +\n",
              "            '<a target=\"_blank\" href=https://colab.research.google.com/notebooks/data_table.ipynb>data table notebook</a>'\n",
              "            + ' to learn more about interactive tables.';\n",
              "          element.innerHTML = '';\n",
              "          dataTable['output_type'] = 'display_data';\n",
              "          await google.colab.output.renderOutput(dataTable, element);\n",
              "          const docLink = document.createElement('div');\n",
              "          docLink.innerHTML = docLinkHtml;\n",
              "          element.appendChild(docLink);\n",
              "        }\n",
              "      </script>\n",
              "    </div>\n",
              "  </div>\n",
              "  "
            ]
          },
          "metadata": {},
          "execution_count": 9
        }
      ]
    },
    {
      "cell_type": "code",
      "source": [
        "pd.DataFrame(data['y']).value_counts()"
      ],
      "metadata": {
        "colab": {
          "base_uri": "https://localhost:8080/"
        },
        "id": "bubwSSfOsNT1",
        "outputId": "dc5b6b4e-bcaa-44b5-cf53-47b4536c698a"
      },
      "execution_count": null,
      "outputs": [
        {
          "output_type": "execute_result",
          "data": {
            "text/plain": [
              "y  \n",
              "no     29238\n",
              "yes     3712\n",
              "dtype: int64"
            ]
          },
          "metadata": {},
          "execution_count": 10
        }
      ]
    },
    {
      "cell_type": "code",
      "source": [
        "data_yes = data.loc[(data['y'] == 'yes')]\n",
        "data_no = data.loc[(data['y'] == 'no')]\n",
        "\n",
        "data_balanced = data_no.sample(n=3712)\n",
        "data_balanced = data_balanced.append(data_yes)\n",
        "\n",
        "pd.DataFrame(data_balanced['y']).value_counts()"
      ],
      "metadata": {
        "colab": {
          "base_uri": "https://localhost:8080/"
        },
        "id": "pQ24nct2rewi",
        "outputId": "4a284d48-21ba-47af-c1d1-5cc0df8da4cd"
      },
      "execution_count": null,
      "outputs": [
        {
          "output_type": "execute_result",
          "data": {
            "text/plain": [
              "y  \n",
              "no     3712\n",
              "yes    3712\n",
              "dtype: int64"
            ]
          },
          "metadata": {},
          "execution_count": 11
        }
      ]
    },
    {
      "cell_type": "code",
      "source": [
        "# Split x and y\n",
        "x = data_balanced.iloc[:,0:15]\n",
        "y = data_balanced.iloc[:,15]\n",
        "x.shape"
      ],
      "metadata": {
        "id": "KtxIL1sTATuV",
        "colab": {
          "base_uri": "https://localhost:8080/"
        },
        "outputId": "62d92728-f3df-4450-e8e5-e075b7056463"
      },
      "execution_count": null,
      "outputs": [
        {
          "output_type": "execute_result",
          "data": {
            "text/plain": [
              "(7424, 15)"
            ]
          },
          "metadata": {},
          "execution_count": 12
        }
      ]
    },
    {
      "cell_type": "code",
      "source": [
        "from sklearn.preprocessing import MinMaxScaler\n",
        "def normalize(data):\n",
        "  # Numeric Data Normalization\n",
        "  index=[0,10,11,12,13]\n",
        "  scaler = MinMaxScaler(feature_range=(0, 1))\n",
        "  data[data.columns[index]] = scaler.fit_transform(data[data.columns[index]])\n",
        "  return data"
      ],
      "metadata": {
        "id": "DSPherqykYoG"
      },
      "execution_count": null,
      "outputs": []
    },
    {
      "cell_type": "code",
      "source": [
        "from sklearn.model_selection import train_test_split\n",
        "x= normalize(x)\n",
        "x"
      ],
      "metadata": {
        "id": "HQ6wUjvaAezN",
        "colab": {
          "base_uri": "https://localhost:8080/",
          "height": 424
        },
        "outputId": "678bf601-69eb-465e-c689-671675f59e6f"
      },
      "execution_count": null,
      "outputs": [
        {
          "output_type": "execute_result",
          "data": {
            "text/plain": [
              "            age          job   marital            education  default housing  \\\n",
              "25507  0.271605   management    single    university.degree       no      no   \n",
              "7671   0.148148   technician    single    university.degree       no      no   \n",
              "17387  0.283951       admin.   married             basic.9y       no     yes   \n",
              "15311  0.296296   technician  divorced    university.degree       no     yes   \n",
              "26440  0.148148   technician    single          high.school       no     yes   \n",
              "...         ...          ...       ...                  ...      ...     ...   \n",
              "32917  0.617284      retired   married  professional.course       no     yes   \n",
              "32918  0.049383      student    single          high.school       no      no   \n",
              "32922  0.271605   technician    single  professional.course  unknown      no   \n",
              "32937  0.148148   technician    single    university.degree       no     yes   \n",
              "32941  0.135802  blue-collar    single             basic.9y       no     yes   \n",
              "\n",
              "      loan    contact month day_of_week  duration  campaign     pdays  \\\n",
              "25507   no   cellular   apr         fri  0.065316  0.000000  1.000000   \n",
              "7671   yes   cellular   apr         mon  0.051967  0.000000  1.000000   \n",
              "17387   no   cellular   nov         wed  0.043385  0.024390  1.000000   \n",
              "15311  yes   cellular   aug         fri  0.026698  0.024390  1.000000   \n",
              "26440   no   cellular   aug         tue  0.030036  0.121951  1.000000   \n",
              "...    ...        ...   ...         ...       ...       ...       ...   \n",
              "32917  yes   cellular   aug         mon  0.043385  0.000000  1.000000   \n",
              "32918   no   cellular   jun         thu  0.094398  0.000000  1.000000   \n",
              "32922   no  telephone   jun         mon  0.102026  0.073171  1.000000   \n",
              "32937  yes   cellular   may         fri  0.103218  0.048780  1.000000   \n",
              "32941   no   cellular   apr         thu  0.074136  0.000000  0.002002   \n",
              "\n",
              "       previous     poutcome  \n",
              "25507  0.000000  nonexistent  \n",
              "7671   0.000000  nonexistent  \n",
              "17387  0.000000  nonexistent  \n",
              "15311  0.000000  nonexistent  \n",
              "26440  0.000000  nonexistent  \n",
              "...         ...          ...  \n",
              "32917  0.000000  nonexistent  \n",
              "32918  0.000000  nonexistent  \n",
              "32922  0.000000  nonexistent  \n",
              "32937  0.000000  nonexistent  \n",
              "32941  0.166667      success  \n",
              "\n",
              "[7424 rows x 15 columns]"
            ],
            "text/html": [
              "\n",
              "  <div id=\"df-bc94ea4c-0fa4-4988-bc2d-8e76ef3fd37b\">\n",
              "    <div class=\"colab-df-container\">\n",
              "      <div>\n",
              "<style scoped>\n",
              "    .dataframe tbody tr th:only-of-type {\n",
              "        vertical-align: middle;\n",
              "    }\n",
              "\n",
              "    .dataframe tbody tr th {\n",
              "        vertical-align: top;\n",
              "    }\n",
              "\n",
              "    .dataframe thead th {\n",
              "        text-align: right;\n",
              "    }\n",
              "</style>\n",
              "<table border=\"1\" class=\"dataframe\">\n",
              "  <thead>\n",
              "    <tr style=\"text-align: right;\">\n",
              "      <th></th>\n",
              "      <th>age</th>\n",
              "      <th>job</th>\n",
              "      <th>marital</th>\n",
              "      <th>education</th>\n",
              "      <th>default</th>\n",
              "      <th>housing</th>\n",
              "      <th>loan</th>\n",
              "      <th>contact</th>\n",
              "      <th>month</th>\n",
              "      <th>day_of_week</th>\n",
              "      <th>duration</th>\n",
              "      <th>campaign</th>\n",
              "      <th>pdays</th>\n",
              "      <th>previous</th>\n",
              "      <th>poutcome</th>\n",
              "    </tr>\n",
              "  </thead>\n",
              "  <tbody>\n",
              "    <tr>\n",
              "      <th>25507</th>\n",
              "      <td>0.271605</td>\n",
              "      <td>management</td>\n",
              "      <td>single</td>\n",
              "      <td>university.degree</td>\n",
              "      <td>no</td>\n",
              "      <td>no</td>\n",
              "      <td>no</td>\n",
              "      <td>cellular</td>\n",
              "      <td>apr</td>\n",
              "      <td>fri</td>\n",
              "      <td>0.065316</td>\n",
              "      <td>0.000000</td>\n",
              "      <td>1.000000</td>\n",
              "      <td>0.000000</td>\n",
              "      <td>nonexistent</td>\n",
              "    </tr>\n",
              "    <tr>\n",
              "      <th>7671</th>\n",
              "      <td>0.148148</td>\n",
              "      <td>technician</td>\n",
              "      <td>single</td>\n",
              "      <td>university.degree</td>\n",
              "      <td>no</td>\n",
              "      <td>no</td>\n",
              "      <td>yes</td>\n",
              "      <td>cellular</td>\n",
              "      <td>apr</td>\n",
              "      <td>mon</td>\n",
              "      <td>0.051967</td>\n",
              "      <td>0.000000</td>\n",
              "      <td>1.000000</td>\n",
              "      <td>0.000000</td>\n",
              "      <td>nonexistent</td>\n",
              "    </tr>\n",
              "    <tr>\n",
              "      <th>17387</th>\n",
              "      <td>0.283951</td>\n",
              "      <td>admin.</td>\n",
              "      <td>married</td>\n",
              "      <td>basic.9y</td>\n",
              "      <td>no</td>\n",
              "      <td>yes</td>\n",
              "      <td>no</td>\n",
              "      <td>cellular</td>\n",
              "      <td>nov</td>\n",
              "      <td>wed</td>\n",
              "      <td>0.043385</td>\n",
              "      <td>0.024390</td>\n",
              "      <td>1.000000</td>\n",
              "      <td>0.000000</td>\n",
              "      <td>nonexistent</td>\n",
              "    </tr>\n",
              "    <tr>\n",
              "      <th>15311</th>\n",
              "      <td>0.296296</td>\n",
              "      <td>technician</td>\n",
              "      <td>divorced</td>\n",
              "      <td>university.degree</td>\n",
              "      <td>no</td>\n",
              "      <td>yes</td>\n",
              "      <td>yes</td>\n",
              "      <td>cellular</td>\n",
              "      <td>aug</td>\n",
              "      <td>fri</td>\n",
              "      <td>0.026698</td>\n",
              "      <td>0.024390</td>\n",
              "      <td>1.000000</td>\n",
              "      <td>0.000000</td>\n",
              "      <td>nonexistent</td>\n",
              "    </tr>\n",
              "    <tr>\n",
              "      <th>26440</th>\n",
              "      <td>0.148148</td>\n",
              "      <td>technician</td>\n",
              "      <td>single</td>\n",
              "      <td>high.school</td>\n",
              "      <td>no</td>\n",
              "      <td>yes</td>\n",
              "      <td>no</td>\n",
              "      <td>cellular</td>\n",
              "      <td>aug</td>\n",
              "      <td>tue</td>\n",
              "      <td>0.030036</td>\n",
              "      <td>0.121951</td>\n",
              "      <td>1.000000</td>\n",
              "      <td>0.000000</td>\n",
              "      <td>nonexistent</td>\n",
              "    </tr>\n",
              "    <tr>\n",
              "      <th>...</th>\n",
              "      <td>...</td>\n",
              "      <td>...</td>\n",
              "      <td>...</td>\n",
              "      <td>...</td>\n",
              "      <td>...</td>\n",
              "      <td>...</td>\n",
              "      <td>...</td>\n",
              "      <td>...</td>\n",
              "      <td>...</td>\n",
              "      <td>...</td>\n",
              "      <td>...</td>\n",
              "      <td>...</td>\n",
              "      <td>...</td>\n",
              "      <td>...</td>\n",
              "      <td>...</td>\n",
              "    </tr>\n",
              "    <tr>\n",
              "      <th>32917</th>\n",
              "      <td>0.617284</td>\n",
              "      <td>retired</td>\n",
              "      <td>married</td>\n",
              "      <td>professional.course</td>\n",
              "      <td>no</td>\n",
              "      <td>yes</td>\n",
              "      <td>yes</td>\n",
              "      <td>cellular</td>\n",
              "      <td>aug</td>\n",
              "      <td>mon</td>\n",
              "      <td>0.043385</td>\n",
              "      <td>0.000000</td>\n",
              "      <td>1.000000</td>\n",
              "      <td>0.000000</td>\n",
              "      <td>nonexistent</td>\n",
              "    </tr>\n",
              "    <tr>\n",
              "      <th>32918</th>\n",
              "      <td>0.049383</td>\n",
              "      <td>student</td>\n",
              "      <td>single</td>\n",
              "      <td>high.school</td>\n",
              "      <td>no</td>\n",
              "      <td>no</td>\n",
              "      <td>no</td>\n",
              "      <td>cellular</td>\n",
              "      <td>jun</td>\n",
              "      <td>thu</td>\n",
              "      <td>0.094398</td>\n",
              "      <td>0.000000</td>\n",
              "      <td>1.000000</td>\n",
              "      <td>0.000000</td>\n",
              "      <td>nonexistent</td>\n",
              "    </tr>\n",
              "    <tr>\n",
              "      <th>32922</th>\n",
              "      <td>0.271605</td>\n",
              "      <td>technician</td>\n",
              "      <td>single</td>\n",
              "      <td>professional.course</td>\n",
              "      <td>unknown</td>\n",
              "      <td>no</td>\n",
              "      <td>no</td>\n",
              "      <td>telephone</td>\n",
              "      <td>jun</td>\n",
              "      <td>mon</td>\n",
              "      <td>0.102026</td>\n",
              "      <td>0.073171</td>\n",
              "      <td>1.000000</td>\n",
              "      <td>0.000000</td>\n",
              "      <td>nonexistent</td>\n",
              "    </tr>\n",
              "    <tr>\n",
              "      <th>32937</th>\n",
              "      <td>0.148148</td>\n",
              "      <td>technician</td>\n",
              "      <td>single</td>\n",
              "      <td>university.degree</td>\n",
              "      <td>no</td>\n",
              "      <td>yes</td>\n",
              "      <td>yes</td>\n",
              "      <td>cellular</td>\n",
              "      <td>may</td>\n",
              "      <td>fri</td>\n",
              "      <td>0.103218</td>\n",
              "      <td>0.048780</td>\n",
              "      <td>1.000000</td>\n",
              "      <td>0.000000</td>\n",
              "      <td>nonexistent</td>\n",
              "    </tr>\n",
              "    <tr>\n",
              "      <th>32941</th>\n",
              "      <td>0.135802</td>\n",
              "      <td>blue-collar</td>\n",
              "      <td>single</td>\n",
              "      <td>basic.9y</td>\n",
              "      <td>no</td>\n",
              "      <td>yes</td>\n",
              "      <td>no</td>\n",
              "      <td>cellular</td>\n",
              "      <td>apr</td>\n",
              "      <td>thu</td>\n",
              "      <td>0.074136</td>\n",
              "      <td>0.000000</td>\n",
              "      <td>0.002002</td>\n",
              "      <td>0.166667</td>\n",
              "      <td>success</td>\n",
              "    </tr>\n",
              "  </tbody>\n",
              "</table>\n",
              "<p>7424 rows × 15 columns</p>\n",
              "</div>\n",
              "      <button class=\"colab-df-convert\" onclick=\"convertToInteractive('df-bc94ea4c-0fa4-4988-bc2d-8e76ef3fd37b')\"\n",
              "              title=\"Convert this dataframe to an interactive table.\"\n",
              "              style=\"display:none;\">\n",
              "        \n",
              "  <svg xmlns=\"http://www.w3.org/2000/svg\" height=\"24px\"viewBox=\"0 0 24 24\"\n",
              "       width=\"24px\">\n",
              "    <path d=\"M0 0h24v24H0V0z\" fill=\"none\"/>\n",
              "    <path d=\"M18.56 5.44l.94 2.06.94-2.06 2.06-.94-2.06-.94-.94-2.06-.94 2.06-2.06.94zm-11 1L8.5 8.5l.94-2.06 2.06-.94-2.06-.94L8.5 2.5l-.94 2.06-2.06.94zm10 10l.94 2.06.94-2.06 2.06-.94-2.06-.94-.94-2.06-.94 2.06-2.06.94z\"/><path d=\"M17.41 7.96l-1.37-1.37c-.4-.4-.92-.59-1.43-.59-.52 0-1.04.2-1.43.59L10.3 9.45l-7.72 7.72c-.78.78-.78 2.05 0 2.83L4 21.41c.39.39.9.59 1.41.59.51 0 1.02-.2 1.41-.59l7.78-7.78 2.81-2.81c.8-.78.8-2.07 0-2.86zM5.41 20L4 18.59l7.72-7.72 1.47 1.35L5.41 20z\"/>\n",
              "  </svg>\n",
              "      </button>\n",
              "      \n",
              "  <style>\n",
              "    .colab-df-container {\n",
              "      display:flex;\n",
              "      flex-wrap:wrap;\n",
              "      gap: 12px;\n",
              "    }\n",
              "\n",
              "    .colab-df-convert {\n",
              "      background-color: #E8F0FE;\n",
              "      border: none;\n",
              "      border-radius: 50%;\n",
              "      cursor: pointer;\n",
              "      display: none;\n",
              "      fill: #1967D2;\n",
              "      height: 32px;\n",
              "      padding: 0 0 0 0;\n",
              "      width: 32px;\n",
              "    }\n",
              "\n",
              "    .colab-df-convert:hover {\n",
              "      background-color: #E2EBFA;\n",
              "      box-shadow: 0px 1px 2px rgba(60, 64, 67, 0.3), 0px 1px 3px 1px rgba(60, 64, 67, 0.15);\n",
              "      fill: #174EA6;\n",
              "    }\n",
              "\n",
              "    [theme=dark] .colab-df-convert {\n",
              "      background-color: #3B4455;\n",
              "      fill: #D2E3FC;\n",
              "    }\n",
              "\n",
              "    [theme=dark] .colab-df-convert:hover {\n",
              "      background-color: #434B5C;\n",
              "      box-shadow: 0px 1px 3px 1px rgba(0, 0, 0, 0.15);\n",
              "      filter: drop-shadow(0px 1px 2px rgba(0, 0, 0, 0.3));\n",
              "      fill: #FFFFFF;\n",
              "    }\n",
              "  </style>\n",
              "\n",
              "      <script>\n",
              "        const buttonEl =\n",
              "          document.querySelector('#df-bc94ea4c-0fa4-4988-bc2d-8e76ef3fd37b button.colab-df-convert');\n",
              "        buttonEl.style.display =\n",
              "          google.colab.kernel.accessAllowed ? 'block' : 'none';\n",
              "\n",
              "        async function convertToInteractive(key) {\n",
              "          const element = document.querySelector('#df-bc94ea4c-0fa4-4988-bc2d-8e76ef3fd37b');\n",
              "          const dataTable =\n",
              "            await google.colab.kernel.invokeFunction('convertToInteractive',\n",
              "                                                     [key], {});\n",
              "          if (!dataTable) return;\n",
              "\n",
              "          const docLinkHtml = 'Like what you see? Visit the ' +\n",
              "            '<a target=\"_blank\" href=https://colab.research.google.com/notebooks/data_table.ipynb>data table notebook</a>'\n",
              "            + ' to learn more about interactive tables.';\n",
              "          element.innerHTML = '';\n",
              "          dataTable['output_type'] = 'display_data';\n",
              "          await google.colab.output.renderOutput(dataTable, element);\n",
              "          const docLink = document.createElement('div');\n",
              "          docLink.innerHTML = docLinkHtml;\n",
              "          element.appendChild(docLink);\n",
              "        }\n",
              "      </script>\n",
              "    </div>\n",
              "  </div>\n",
              "  "
            ]
          },
          "metadata": {},
          "execution_count": 14
        }
      ]
    },
    {
      "cell_type": "code",
      "source": [
        "x_train,x_test,y_train,y_test = train_test_split(x,y,\n",
        "                                                 test_size=0.2,\n",
        "                                                 random_state=42)   # Split 80-20"
      ],
      "metadata": {
        "id": "K0L1x1QWAhg_"
      },
      "execution_count": null,
      "outputs": []
    },
    {
      "cell_type": "code",
      "metadata": {
        "colab": {
          "base_uri": "https://localhost:8080/"
        },
        "id": "B0XxNSnvIc39",
        "outputId": "50ba9eda-12dd-4aad-c10b-cfd9dec7bb51"
      },
      "source": [
        "print(\"train X shape: \", x_train.shape) # X_train: numpy array with shape: (num_samples_train, num_features)\n",
        "print(\"train y shape: \", y_train.shape) # y_train: numpy array with shape: (num_samples_train,) \n",
        "print(\"test X shape: \", x_test.shape)   # X_test: numpy array with shape: (num_samples_test, num_features)\n",
        "print(\"test y shape: \", y_test.shape)   # y_test: numpy array with shape: (num_samples_test,)"
      ],
      "execution_count": null,
      "outputs": [
        {
          "output_type": "stream",
          "name": "stdout",
          "text": [
            "train X shape:  (5939, 15)\n",
            "train y shape:  (5939,)\n",
            "test X shape:  (1485, 15)\n",
            "test y shape:  (1485,)\n"
          ]
        }
      ]
    },
    {
      "cell_type": "code",
      "source": [
        "#Display y label\n",
        "x_train.iloc[0,0]"
      ],
      "metadata": {
        "id": "lUk4BCywtqMl",
        "colab": {
          "base_uri": "https://localhost:8080/"
        },
        "outputId": "8391539b-458a-44ee-c92a-cbc8473a223a"
      },
      "execution_count": null,
      "outputs": [
        {
          "output_type": "execute_result",
          "data": {
            "text/plain": [
              "0.2222222222222222"
            ]
          },
          "metadata": {},
          "execution_count": 17
        }
      ]
    },
    {
      "cell_type": "code",
      "source": [
        "pd.DataFrame(y_test).value_counts()\n",
        "x_train.iloc[:, [1,2,3,4,5,6,7,8,9]]"
      ],
      "metadata": {
        "colab": {
          "base_uri": "https://localhost:8080/",
          "height": 424
        },
        "id": "1pT8fcCmrHmY",
        "outputId": "05b9683a-ae42-4b97-806a-c6fa196dbbb1"
      },
      "execution_count": null,
      "outputs": [
        {
          "output_type": "execute_result",
          "data": {
            "text/plain": [
              "               job   marital          education  default  housing     loan  \\\n",
              "24141  blue-collar   married           basic.9y       no       no       no   \n",
              "11642   technician   married           basic.6y  unknown       no       no   \n",
              "11694     services   married        high.school  unknown      yes       no   \n",
              "7707      services  divorced  university.degree       no  unknown  unknown   \n",
              "14644     services   married        high.school       no       no      yes   \n",
              "...            ...       ...                ...      ...      ...      ...   \n",
              "13240  blue-collar   married           basic.4y       no       no       no   \n",
              "13527  blue-collar  divorced           basic.9y       no      yes       no   \n",
              "14955   technician   married  university.degree       no       no       no   \n",
              "3424    technician  divorced        high.school       no       no       no   \n",
              "31692  blue-collar   married           basic.4y       no      yes       no   \n",
              "\n",
              "         contact month day_of_week  \n",
              "24141  telephone   jul         mon  \n",
              "11642  telephone   jun         mon  \n",
              "11694  telephone   may         tue  \n",
              "7707    cellular   nov         tue  \n",
              "14644   cellular   may         fri  \n",
              "...          ...   ...         ...  \n",
              "13240  telephone   sep         wed  \n",
              "13527   cellular   jul         wed  \n",
              "14955   cellular   aug         wed  \n",
              "3424    cellular   nov         fri  \n",
              "31692   cellular   apr         wed  \n",
              "\n",
              "[5939 rows x 9 columns]"
            ],
            "text/html": [
              "\n",
              "  <div id=\"df-6f069fde-3b89-4252-9d20-e3703c5776fe\">\n",
              "    <div class=\"colab-df-container\">\n",
              "      <div>\n",
              "<style scoped>\n",
              "    .dataframe tbody tr th:only-of-type {\n",
              "        vertical-align: middle;\n",
              "    }\n",
              "\n",
              "    .dataframe tbody tr th {\n",
              "        vertical-align: top;\n",
              "    }\n",
              "\n",
              "    .dataframe thead th {\n",
              "        text-align: right;\n",
              "    }\n",
              "</style>\n",
              "<table border=\"1\" class=\"dataframe\">\n",
              "  <thead>\n",
              "    <tr style=\"text-align: right;\">\n",
              "      <th></th>\n",
              "      <th>job</th>\n",
              "      <th>marital</th>\n",
              "      <th>education</th>\n",
              "      <th>default</th>\n",
              "      <th>housing</th>\n",
              "      <th>loan</th>\n",
              "      <th>contact</th>\n",
              "      <th>month</th>\n",
              "      <th>day_of_week</th>\n",
              "    </tr>\n",
              "  </thead>\n",
              "  <tbody>\n",
              "    <tr>\n",
              "      <th>24141</th>\n",
              "      <td>blue-collar</td>\n",
              "      <td>married</td>\n",
              "      <td>basic.9y</td>\n",
              "      <td>no</td>\n",
              "      <td>no</td>\n",
              "      <td>no</td>\n",
              "      <td>telephone</td>\n",
              "      <td>jul</td>\n",
              "      <td>mon</td>\n",
              "    </tr>\n",
              "    <tr>\n",
              "      <th>11642</th>\n",
              "      <td>technician</td>\n",
              "      <td>married</td>\n",
              "      <td>basic.6y</td>\n",
              "      <td>unknown</td>\n",
              "      <td>no</td>\n",
              "      <td>no</td>\n",
              "      <td>telephone</td>\n",
              "      <td>jun</td>\n",
              "      <td>mon</td>\n",
              "    </tr>\n",
              "    <tr>\n",
              "      <th>11694</th>\n",
              "      <td>services</td>\n",
              "      <td>married</td>\n",
              "      <td>high.school</td>\n",
              "      <td>unknown</td>\n",
              "      <td>yes</td>\n",
              "      <td>no</td>\n",
              "      <td>telephone</td>\n",
              "      <td>may</td>\n",
              "      <td>tue</td>\n",
              "    </tr>\n",
              "    <tr>\n",
              "      <th>7707</th>\n",
              "      <td>services</td>\n",
              "      <td>divorced</td>\n",
              "      <td>university.degree</td>\n",
              "      <td>no</td>\n",
              "      <td>unknown</td>\n",
              "      <td>unknown</td>\n",
              "      <td>cellular</td>\n",
              "      <td>nov</td>\n",
              "      <td>tue</td>\n",
              "    </tr>\n",
              "    <tr>\n",
              "      <th>14644</th>\n",
              "      <td>services</td>\n",
              "      <td>married</td>\n",
              "      <td>high.school</td>\n",
              "      <td>no</td>\n",
              "      <td>no</td>\n",
              "      <td>yes</td>\n",
              "      <td>cellular</td>\n",
              "      <td>may</td>\n",
              "      <td>fri</td>\n",
              "    </tr>\n",
              "    <tr>\n",
              "      <th>...</th>\n",
              "      <td>...</td>\n",
              "      <td>...</td>\n",
              "      <td>...</td>\n",
              "      <td>...</td>\n",
              "      <td>...</td>\n",
              "      <td>...</td>\n",
              "      <td>...</td>\n",
              "      <td>...</td>\n",
              "      <td>...</td>\n",
              "    </tr>\n",
              "    <tr>\n",
              "      <th>13240</th>\n",
              "      <td>blue-collar</td>\n",
              "      <td>married</td>\n",
              "      <td>basic.4y</td>\n",
              "      <td>no</td>\n",
              "      <td>no</td>\n",
              "      <td>no</td>\n",
              "      <td>telephone</td>\n",
              "      <td>sep</td>\n",
              "      <td>wed</td>\n",
              "    </tr>\n",
              "    <tr>\n",
              "      <th>13527</th>\n",
              "      <td>blue-collar</td>\n",
              "      <td>divorced</td>\n",
              "      <td>basic.9y</td>\n",
              "      <td>no</td>\n",
              "      <td>yes</td>\n",
              "      <td>no</td>\n",
              "      <td>cellular</td>\n",
              "      <td>jul</td>\n",
              "      <td>wed</td>\n",
              "    </tr>\n",
              "    <tr>\n",
              "      <th>14955</th>\n",
              "      <td>technician</td>\n",
              "      <td>married</td>\n",
              "      <td>university.degree</td>\n",
              "      <td>no</td>\n",
              "      <td>no</td>\n",
              "      <td>no</td>\n",
              "      <td>cellular</td>\n",
              "      <td>aug</td>\n",
              "      <td>wed</td>\n",
              "    </tr>\n",
              "    <tr>\n",
              "      <th>3424</th>\n",
              "      <td>technician</td>\n",
              "      <td>divorced</td>\n",
              "      <td>high.school</td>\n",
              "      <td>no</td>\n",
              "      <td>no</td>\n",
              "      <td>no</td>\n",
              "      <td>cellular</td>\n",
              "      <td>nov</td>\n",
              "      <td>fri</td>\n",
              "    </tr>\n",
              "    <tr>\n",
              "      <th>31692</th>\n",
              "      <td>blue-collar</td>\n",
              "      <td>married</td>\n",
              "      <td>basic.4y</td>\n",
              "      <td>no</td>\n",
              "      <td>yes</td>\n",
              "      <td>no</td>\n",
              "      <td>cellular</td>\n",
              "      <td>apr</td>\n",
              "      <td>wed</td>\n",
              "    </tr>\n",
              "  </tbody>\n",
              "</table>\n",
              "<p>5939 rows × 9 columns</p>\n",
              "</div>\n",
              "      <button class=\"colab-df-convert\" onclick=\"convertToInteractive('df-6f069fde-3b89-4252-9d20-e3703c5776fe')\"\n",
              "              title=\"Convert this dataframe to an interactive table.\"\n",
              "              style=\"display:none;\">\n",
              "        \n",
              "  <svg xmlns=\"http://www.w3.org/2000/svg\" height=\"24px\"viewBox=\"0 0 24 24\"\n",
              "       width=\"24px\">\n",
              "    <path d=\"M0 0h24v24H0V0z\" fill=\"none\"/>\n",
              "    <path d=\"M18.56 5.44l.94 2.06.94-2.06 2.06-.94-2.06-.94-.94-2.06-.94 2.06-2.06.94zm-11 1L8.5 8.5l.94-2.06 2.06-.94-2.06-.94L8.5 2.5l-.94 2.06-2.06.94zm10 10l.94 2.06.94-2.06 2.06-.94-2.06-.94-.94-2.06-.94 2.06-2.06.94z\"/><path d=\"M17.41 7.96l-1.37-1.37c-.4-.4-.92-.59-1.43-.59-.52 0-1.04.2-1.43.59L10.3 9.45l-7.72 7.72c-.78.78-.78 2.05 0 2.83L4 21.41c.39.39.9.59 1.41.59.51 0 1.02-.2 1.41-.59l7.78-7.78 2.81-2.81c.8-.78.8-2.07 0-2.86zM5.41 20L4 18.59l7.72-7.72 1.47 1.35L5.41 20z\"/>\n",
              "  </svg>\n",
              "      </button>\n",
              "      \n",
              "  <style>\n",
              "    .colab-df-container {\n",
              "      display:flex;\n",
              "      flex-wrap:wrap;\n",
              "      gap: 12px;\n",
              "    }\n",
              "\n",
              "    .colab-df-convert {\n",
              "      background-color: #E8F0FE;\n",
              "      border: none;\n",
              "      border-radius: 50%;\n",
              "      cursor: pointer;\n",
              "      display: none;\n",
              "      fill: #1967D2;\n",
              "      height: 32px;\n",
              "      padding: 0 0 0 0;\n",
              "      width: 32px;\n",
              "    }\n",
              "\n",
              "    .colab-df-convert:hover {\n",
              "      background-color: #E2EBFA;\n",
              "      box-shadow: 0px 1px 2px rgba(60, 64, 67, 0.3), 0px 1px 3px 1px rgba(60, 64, 67, 0.15);\n",
              "      fill: #174EA6;\n",
              "    }\n",
              "\n",
              "    [theme=dark] .colab-df-convert {\n",
              "      background-color: #3B4455;\n",
              "      fill: #D2E3FC;\n",
              "    }\n",
              "\n",
              "    [theme=dark] .colab-df-convert:hover {\n",
              "      background-color: #434B5C;\n",
              "      box-shadow: 0px 1px 3px 1px rgba(0, 0, 0, 0.15);\n",
              "      filter: drop-shadow(0px 1px 2px rgba(0, 0, 0, 0.3));\n",
              "      fill: #FFFFFF;\n",
              "    }\n",
              "  </style>\n",
              "\n",
              "      <script>\n",
              "        const buttonEl =\n",
              "          document.querySelector('#df-6f069fde-3b89-4252-9d20-e3703c5776fe button.colab-df-convert');\n",
              "        buttonEl.style.display =\n",
              "          google.colab.kernel.accessAllowed ? 'block' : 'none';\n",
              "\n",
              "        async function convertToInteractive(key) {\n",
              "          const element = document.querySelector('#df-6f069fde-3b89-4252-9d20-e3703c5776fe');\n",
              "          const dataTable =\n",
              "            await google.colab.kernel.invokeFunction('convertToInteractive',\n",
              "                                                     [key], {});\n",
              "          if (!dataTable) return;\n",
              "\n",
              "          const docLinkHtml = 'Like what you see? Visit the ' +\n",
              "            '<a target=\"_blank\" href=https://colab.research.google.com/notebooks/data_table.ipynb>data table notebook</a>'\n",
              "            + ' to learn more about interactive tables.';\n",
              "          element.innerHTML = '';\n",
              "          dataTable['output_type'] = 'display_data';\n",
              "          await google.colab.output.renderOutput(dataTable, element);\n",
              "          const docLink = document.createElement('div');\n",
              "          docLink.innerHTML = docLinkHtml;\n",
              "          element.appendChild(docLink);\n",
              "        }\n",
              "      </script>\n",
              "    </div>\n",
              "  </div>\n",
              "  "
            ]
          },
          "metadata": {},
          "execution_count": 18
        }
      ]
    },
    {
      "cell_type": "markdown",
      "source": [
        "##Data Preparation"
      ],
      "metadata": {
        "id": "crSJ2-KGWJrr"
      }
    },
    {
      "cell_type": "code",
      "source": [
        "# prepare input data\n",
        "def prepare_inputs(x, X_train, X_test):\n",
        "    oe = OrdinalEncoder()\n",
        "    #oe.fit(x)    \n",
        "    X_train_enc = oe.fit_transform(X_train)\n",
        "    print(oe.categories_)\n",
        "    X_test_enc = oe.fit_transform(X_test)\n",
        "    return X_train_enc,  X_test_enc"
      ],
      "metadata": {
        "id": "7cy1ITQaBFBl"
      },
      "execution_count": null,
      "outputs": []
    },
    {
      "cell_type": "code",
      "source": [
        "# prepare target\n",
        "def prepare_targets(y, y_train, y_test):\n",
        "    le = LabelEncoder()\n",
        "    #le.fit(y)\n",
        "    y_train_enc = le.fit_transform(y_train)\n",
        "    y_test_enc = le.fit_transform(y_test)\n",
        "    return y_train_enc,  y_test_enc"
      ],
      "metadata": {
        "id": "CmH5Xzd8BHGv"
      },
      "execution_count": null,
      "outputs": []
    },
    {
      "cell_type": "code",
      "source": [
        ""
      ],
      "metadata": {
        "id": "XWS9udT1q1iu"
      },
      "execution_count": null,
      "outputs": []
    },
    {
      "cell_type": "code",
      "source": [
        "# prepare input data\n",
        "#x_train, x_test = prepare_inputs(x, x_train, x_test)\n",
        "\n",
        "# prepare output data\n",
        "y_train, y_test = prepare_targets(y, y_train, y_test)\n",
        "\n",
        "#x_train\n"
      ],
      "metadata": {
        "id": "SGC5CJDNBXm0"
      },
      "execution_count": null,
      "outputs": []
    },
    {
      "cell_type": "code",
      "source": [
        "# Normalize categorical values\n",
        "import category_encoders as ce\n",
        "encoder= ce.OrdinalEncoder(cols=['job','marital',\t'education',\t'default',\t'housing',\t'loan',\t'contact',\t'month',\t'day_of_week','poutcome'])\n",
        "x_train= encoder.fit_transform(x_train)\n",
        "x_test= encoder.fit_transform(x_test)"
      ],
      "metadata": {
        "colab": {
          "base_uri": "https://localhost:8080/"
        },
        "outputId": "df7be785-4ea9-4d15-c439-6ddda2def34e",
        "id": "hanfZp_I73cg"
      },
      "execution_count": null,
      "outputs": [
        {
          "output_type": "stream",
          "name": "stderr",
          "text": [
            "/usr/local/lib/python3.7/dist-packages/statsmodels/tools/_testing.py:19: FutureWarning: pandas.util.testing is deprecated. Use the functions in the public API at pandas.testing instead.\n",
            "  import pandas.util.testing as tm\n"
          ]
        }
      ]
    },
    {
      "cell_type": "code",
      "source": [
        "x_train"
      ],
      "metadata": {
        "colab": {
          "base_uri": "https://localhost:8080/",
          "height": 424
        },
        "id": "VkyvoiqGstUt",
        "outputId": "2df2161a-ce1c-4085-f9c6-6a024e16e5aa"
      },
      "execution_count": null,
      "outputs": [
        {
          "output_type": "execute_result",
          "data": {
            "text/plain": [
              "            age  job  marital  education  default  housing  loan  contact  \\\n",
              "24141  0.222222    1        1          1        1        1     1        1   \n",
              "11642  0.209877    2        1          2        2        1     1        1   \n",
              "11694  0.271605    3        1          3        2        2     1        1   \n",
              "7707   0.308642    3        2          4        1        3     2        2   \n",
              "14644  0.432099    3        1          3        1        1     3        2   \n",
              "...         ...  ...      ...        ...      ...      ...   ...      ...   \n",
              "13240  0.185185    1        1          5        1        1     1        1   \n",
              "13527  0.197531    1        2          1        1        2     1        2   \n",
              "14955  0.370370    2        1          4        1        1     1        2   \n",
              "3424   0.185185    2        2          3        1        1     1        2   \n",
              "31692  0.432099    1        1          5        1        2     1        2   \n",
              "\n",
              "       month  day_of_week  duration  campaign     pdays  previous  poutcome  \n",
              "24141      1            1  0.322288   0.04878  1.000000  0.000000         1  \n",
              "11642      2            1  0.112992   0.02439  1.000000  0.000000         1  \n",
              "11694      3            2  0.217878   0.00000  1.000000  0.000000         1  \n",
              "7707       4            2  0.061502   0.00000  1.000000  0.166667         2  \n",
              "14644      3            3  0.008105   0.02439  1.000000  0.000000         1  \n",
              "...      ...          ...       ...       ...       ...       ...       ...  \n",
              "13240      9            4  0.143504   0.04878  0.003003  0.666667         3  \n",
              "13527      1            4  0.172825   0.02439  1.000000  0.000000         1  \n",
              "14955      8            4  0.390465   0.02439  1.000000  0.000000         1  \n",
              "3424       4            3  0.010965   0.00000  1.000000  0.000000         1  \n",
              "31692      5            4  0.074136   0.00000  1.000000  0.000000         1  \n",
              "\n",
              "[5939 rows x 15 columns]"
            ],
            "text/html": [
              "\n",
              "  <div id=\"df-42ff2fea-7d5a-41ca-86e1-43492d6afdc5\">\n",
              "    <div class=\"colab-df-container\">\n",
              "      <div>\n",
              "<style scoped>\n",
              "    .dataframe tbody tr th:only-of-type {\n",
              "        vertical-align: middle;\n",
              "    }\n",
              "\n",
              "    .dataframe tbody tr th {\n",
              "        vertical-align: top;\n",
              "    }\n",
              "\n",
              "    .dataframe thead th {\n",
              "        text-align: right;\n",
              "    }\n",
              "</style>\n",
              "<table border=\"1\" class=\"dataframe\">\n",
              "  <thead>\n",
              "    <tr style=\"text-align: right;\">\n",
              "      <th></th>\n",
              "      <th>age</th>\n",
              "      <th>job</th>\n",
              "      <th>marital</th>\n",
              "      <th>education</th>\n",
              "      <th>default</th>\n",
              "      <th>housing</th>\n",
              "      <th>loan</th>\n",
              "      <th>contact</th>\n",
              "      <th>month</th>\n",
              "      <th>day_of_week</th>\n",
              "      <th>duration</th>\n",
              "      <th>campaign</th>\n",
              "      <th>pdays</th>\n",
              "      <th>previous</th>\n",
              "      <th>poutcome</th>\n",
              "    </tr>\n",
              "  </thead>\n",
              "  <tbody>\n",
              "    <tr>\n",
              "      <th>24141</th>\n",
              "      <td>0.222222</td>\n",
              "      <td>1</td>\n",
              "      <td>1</td>\n",
              "      <td>1</td>\n",
              "      <td>1</td>\n",
              "      <td>1</td>\n",
              "      <td>1</td>\n",
              "      <td>1</td>\n",
              "      <td>1</td>\n",
              "      <td>1</td>\n",
              "      <td>0.322288</td>\n",
              "      <td>0.04878</td>\n",
              "      <td>1.000000</td>\n",
              "      <td>0.000000</td>\n",
              "      <td>1</td>\n",
              "    </tr>\n",
              "    <tr>\n",
              "      <th>11642</th>\n",
              "      <td>0.209877</td>\n",
              "      <td>2</td>\n",
              "      <td>1</td>\n",
              "      <td>2</td>\n",
              "      <td>2</td>\n",
              "      <td>1</td>\n",
              "      <td>1</td>\n",
              "      <td>1</td>\n",
              "      <td>2</td>\n",
              "      <td>1</td>\n",
              "      <td>0.112992</td>\n",
              "      <td>0.02439</td>\n",
              "      <td>1.000000</td>\n",
              "      <td>0.000000</td>\n",
              "      <td>1</td>\n",
              "    </tr>\n",
              "    <tr>\n",
              "      <th>11694</th>\n",
              "      <td>0.271605</td>\n",
              "      <td>3</td>\n",
              "      <td>1</td>\n",
              "      <td>3</td>\n",
              "      <td>2</td>\n",
              "      <td>2</td>\n",
              "      <td>1</td>\n",
              "      <td>1</td>\n",
              "      <td>3</td>\n",
              "      <td>2</td>\n",
              "      <td>0.217878</td>\n",
              "      <td>0.00000</td>\n",
              "      <td>1.000000</td>\n",
              "      <td>0.000000</td>\n",
              "      <td>1</td>\n",
              "    </tr>\n",
              "    <tr>\n",
              "      <th>7707</th>\n",
              "      <td>0.308642</td>\n",
              "      <td>3</td>\n",
              "      <td>2</td>\n",
              "      <td>4</td>\n",
              "      <td>1</td>\n",
              "      <td>3</td>\n",
              "      <td>2</td>\n",
              "      <td>2</td>\n",
              "      <td>4</td>\n",
              "      <td>2</td>\n",
              "      <td>0.061502</td>\n",
              "      <td>0.00000</td>\n",
              "      <td>1.000000</td>\n",
              "      <td>0.166667</td>\n",
              "      <td>2</td>\n",
              "    </tr>\n",
              "    <tr>\n",
              "      <th>14644</th>\n",
              "      <td>0.432099</td>\n",
              "      <td>3</td>\n",
              "      <td>1</td>\n",
              "      <td>3</td>\n",
              "      <td>1</td>\n",
              "      <td>1</td>\n",
              "      <td>3</td>\n",
              "      <td>2</td>\n",
              "      <td>3</td>\n",
              "      <td>3</td>\n",
              "      <td>0.008105</td>\n",
              "      <td>0.02439</td>\n",
              "      <td>1.000000</td>\n",
              "      <td>0.000000</td>\n",
              "      <td>1</td>\n",
              "    </tr>\n",
              "    <tr>\n",
              "      <th>...</th>\n",
              "      <td>...</td>\n",
              "      <td>...</td>\n",
              "      <td>...</td>\n",
              "      <td>...</td>\n",
              "      <td>...</td>\n",
              "      <td>...</td>\n",
              "      <td>...</td>\n",
              "      <td>...</td>\n",
              "      <td>...</td>\n",
              "      <td>...</td>\n",
              "      <td>...</td>\n",
              "      <td>...</td>\n",
              "      <td>...</td>\n",
              "      <td>...</td>\n",
              "      <td>...</td>\n",
              "    </tr>\n",
              "    <tr>\n",
              "      <th>13240</th>\n",
              "      <td>0.185185</td>\n",
              "      <td>1</td>\n",
              "      <td>1</td>\n",
              "      <td>5</td>\n",
              "      <td>1</td>\n",
              "      <td>1</td>\n",
              "      <td>1</td>\n",
              "      <td>1</td>\n",
              "      <td>9</td>\n",
              "      <td>4</td>\n",
              "      <td>0.143504</td>\n",
              "      <td>0.04878</td>\n",
              "      <td>0.003003</td>\n",
              "      <td>0.666667</td>\n",
              "      <td>3</td>\n",
              "    </tr>\n",
              "    <tr>\n",
              "      <th>13527</th>\n",
              "      <td>0.197531</td>\n",
              "      <td>1</td>\n",
              "      <td>2</td>\n",
              "      <td>1</td>\n",
              "      <td>1</td>\n",
              "      <td>2</td>\n",
              "      <td>1</td>\n",
              "      <td>2</td>\n",
              "      <td>1</td>\n",
              "      <td>4</td>\n",
              "      <td>0.172825</td>\n",
              "      <td>0.02439</td>\n",
              "      <td>1.000000</td>\n",
              "      <td>0.000000</td>\n",
              "      <td>1</td>\n",
              "    </tr>\n",
              "    <tr>\n",
              "      <th>14955</th>\n",
              "      <td>0.370370</td>\n",
              "      <td>2</td>\n",
              "      <td>1</td>\n",
              "      <td>4</td>\n",
              "      <td>1</td>\n",
              "      <td>1</td>\n",
              "      <td>1</td>\n",
              "      <td>2</td>\n",
              "      <td>8</td>\n",
              "      <td>4</td>\n",
              "      <td>0.390465</td>\n",
              "      <td>0.02439</td>\n",
              "      <td>1.000000</td>\n",
              "      <td>0.000000</td>\n",
              "      <td>1</td>\n",
              "    </tr>\n",
              "    <tr>\n",
              "      <th>3424</th>\n",
              "      <td>0.185185</td>\n",
              "      <td>2</td>\n",
              "      <td>2</td>\n",
              "      <td>3</td>\n",
              "      <td>1</td>\n",
              "      <td>1</td>\n",
              "      <td>1</td>\n",
              "      <td>2</td>\n",
              "      <td>4</td>\n",
              "      <td>3</td>\n",
              "      <td>0.010965</td>\n",
              "      <td>0.00000</td>\n",
              "      <td>1.000000</td>\n",
              "      <td>0.000000</td>\n",
              "      <td>1</td>\n",
              "    </tr>\n",
              "    <tr>\n",
              "      <th>31692</th>\n",
              "      <td>0.432099</td>\n",
              "      <td>1</td>\n",
              "      <td>1</td>\n",
              "      <td>5</td>\n",
              "      <td>1</td>\n",
              "      <td>2</td>\n",
              "      <td>1</td>\n",
              "      <td>2</td>\n",
              "      <td>5</td>\n",
              "      <td>4</td>\n",
              "      <td>0.074136</td>\n",
              "      <td>0.00000</td>\n",
              "      <td>1.000000</td>\n",
              "      <td>0.000000</td>\n",
              "      <td>1</td>\n",
              "    </tr>\n",
              "  </tbody>\n",
              "</table>\n",
              "<p>5939 rows × 15 columns</p>\n",
              "</div>\n",
              "      <button class=\"colab-df-convert\" onclick=\"convertToInteractive('df-42ff2fea-7d5a-41ca-86e1-43492d6afdc5')\"\n",
              "              title=\"Convert this dataframe to an interactive table.\"\n",
              "              style=\"display:none;\">\n",
              "        \n",
              "  <svg xmlns=\"http://www.w3.org/2000/svg\" height=\"24px\"viewBox=\"0 0 24 24\"\n",
              "       width=\"24px\">\n",
              "    <path d=\"M0 0h24v24H0V0z\" fill=\"none\"/>\n",
              "    <path d=\"M18.56 5.44l.94 2.06.94-2.06 2.06-.94-2.06-.94-.94-2.06-.94 2.06-2.06.94zm-11 1L8.5 8.5l.94-2.06 2.06-.94-2.06-.94L8.5 2.5l-.94 2.06-2.06.94zm10 10l.94 2.06.94-2.06 2.06-.94-2.06-.94-.94-2.06-.94 2.06-2.06.94z\"/><path d=\"M17.41 7.96l-1.37-1.37c-.4-.4-.92-.59-1.43-.59-.52 0-1.04.2-1.43.59L10.3 9.45l-7.72 7.72c-.78.78-.78 2.05 0 2.83L4 21.41c.39.39.9.59 1.41.59.51 0 1.02-.2 1.41-.59l7.78-7.78 2.81-2.81c.8-.78.8-2.07 0-2.86zM5.41 20L4 18.59l7.72-7.72 1.47 1.35L5.41 20z\"/>\n",
              "  </svg>\n",
              "      </button>\n",
              "      \n",
              "  <style>\n",
              "    .colab-df-container {\n",
              "      display:flex;\n",
              "      flex-wrap:wrap;\n",
              "      gap: 12px;\n",
              "    }\n",
              "\n",
              "    .colab-df-convert {\n",
              "      background-color: #E8F0FE;\n",
              "      border: none;\n",
              "      border-radius: 50%;\n",
              "      cursor: pointer;\n",
              "      display: none;\n",
              "      fill: #1967D2;\n",
              "      height: 32px;\n",
              "      padding: 0 0 0 0;\n",
              "      width: 32px;\n",
              "    }\n",
              "\n",
              "    .colab-df-convert:hover {\n",
              "      background-color: #E2EBFA;\n",
              "      box-shadow: 0px 1px 2px rgba(60, 64, 67, 0.3), 0px 1px 3px 1px rgba(60, 64, 67, 0.15);\n",
              "      fill: #174EA6;\n",
              "    }\n",
              "\n",
              "    [theme=dark] .colab-df-convert {\n",
              "      background-color: #3B4455;\n",
              "      fill: #D2E3FC;\n",
              "    }\n",
              "\n",
              "    [theme=dark] .colab-df-convert:hover {\n",
              "      background-color: #434B5C;\n",
              "      box-shadow: 0px 1px 3px 1px rgba(0, 0, 0, 0.15);\n",
              "      filter: drop-shadow(0px 1px 2px rgba(0, 0, 0, 0.3));\n",
              "      fill: #FFFFFF;\n",
              "    }\n",
              "  </style>\n",
              "\n",
              "      <script>\n",
              "        const buttonEl =\n",
              "          document.querySelector('#df-42ff2fea-7d5a-41ca-86e1-43492d6afdc5 button.colab-df-convert');\n",
              "        buttonEl.style.display =\n",
              "          google.colab.kernel.accessAllowed ? 'block' : 'none';\n",
              "\n",
              "        async function convertToInteractive(key) {\n",
              "          const element = document.querySelector('#df-42ff2fea-7d5a-41ca-86e1-43492d6afdc5');\n",
              "          const dataTable =\n",
              "            await google.colab.kernel.invokeFunction('convertToInteractive',\n",
              "                                                     [key], {});\n",
              "          if (!dataTable) return;\n",
              "\n",
              "          const docLinkHtml = 'Like what you see? Visit the ' +\n",
              "            '<a target=\"_blank\" href=https://colab.research.google.com/notebooks/data_table.ipynb>data table notebook</a>'\n",
              "            + ' to learn more about interactive tables.';\n",
              "          element.innerHTML = '';\n",
              "          dataTable['output_type'] = 'display_data';\n",
              "          await google.colab.output.renderOutput(dataTable, element);\n",
              "          const docLink = document.createElement('div');\n",
              "          docLink.innerHTML = docLinkHtml;\n",
              "          element.appendChild(docLink);\n",
              "        }\n",
              "      </script>\n",
              "    </div>\n",
              "  </div>\n",
              "  "
            ]
          },
          "metadata": {},
          "execution_count": 24
        }
      ]
    },
    {
      "cell_type": "code",
      "source": [
        ""
      ],
      "metadata": {
        "id": "dEEDnNqXquap"
      },
      "execution_count": null,
      "outputs": []
    },
    {
      "cell_type": "code",
      "source": [
        "np.min(np.min(x_train))"
      ],
      "metadata": {
        "colab": {
          "base_uri": "https://localhost:8080/"
        },
        "id": "0KSmWsZOH_hd",
        "outputId": "8689606c-21e8-46d2-a1bd-e76b774d2b3d"
      },
      "execution_count": null,
      "outputs": [
        {
          "output_type": "execute_result",
          "data": {
            "text/plain": [
              "0.0"
            ]
          },
          "metadata": {},
          "execution_count": 367
        }
      ]
    },
    {
      "cell_type": "code",
      "source": [
        "#y_train = y_train.reshape((len(y_train),1)).T\n",
        "#y_test = y_test.reshape((len(y_test),1)).T"
      ],
      "metadata": {
        "id": "oYue7QkPBiVA"
      },
      "execution_count": null,
      "outputs": []
    },
    {
      "cell_type": "code",
      "source": [
        "print (\"x_train shape: \" + str(x_train.shape))\n",
        "print (\"y_train shape: \" + str(y_train.shape))\n",
        "print (\"x_test shape: \" + str(x_test.shape))\n",
        "print (\"y_test shape: \" + str(y_test.shape))"
      ],
      "metadata": {
        "colab": {
          "base_uri": "https://localhost:8080/"
        },
        "id": "1pfeGMF5BlZ6",
        "outputId": "ad8ccd4e-161e-4087-86d8-d5f06a922ea9"
      },
      "execution_count": null,
      "outputs": [
        {
          "output_type": "stream",
          "name": "stdout",
          "text": [
            "x_train shape: (5939, 15)\n",
            "y_train shape: (5939,)\n",
            "x_test shape: (1485, 15)\n",
            "y_test shape: (1485,)\n"
          ]
        }
      ]
    },
    {
      "cell_type": "code",
      "source": [
        "x_test1 = x_test.T\n",
        "x_train1 = x_train.T\n",
        "\n",
        "x_train, x_test = np.array(x_train, np.float32), np.array(x_test, np.float32)\n"
      ],
      "metadata": {
        "id": "cUhrsVbxIaGm"
      },
      "execution_count": null,
      "outputs": []
    },
    {
      "cell_type": "code",
      "source": [
        "x_train"
      ],
      "metadata": {
        "colab": {
          "base_uri": "https://localhost:8080/"
        },
        "id": "S8-F5wQeM-Y1",
        "outputId": "5bcaa9a5-b888-4efd-82d1-2e45539eb3b8"
      },
      "execution_count": null,
      "outputs": [
        {
          "output_type": "execute_result",
          "data": {
            "text/plain": [
              "array([[0.22222222, 1.        , 1.        , ..., 1.        , 0.        ,\n",
              "        1.        ],\n",
              "       [0.20987654, 2.        , 1.        , ..., 1.        , 0.        ,\n",
              "        1.        ],\n",
              "       [0.27160493, 3.        , 1.        , ..., 1.        , 0.        ,\n",
              "        1.        ],\n",
              "       ...,\n",
              "       [0.37037036, 2.        , 1.        , ..., 1.        , 0.        ,\n",
              "        1.        ],\n",
              "       [0.18518518, 2.        , 2.        , ..., 1.        , 0.        ,\n",
              "        1.        ],\n",
              "       [0.43209878, 1.        , 1.        , ..., 1.        , 0.        ,\n",
              "        1.        ]], dtype=float32)"
            ]
          },
          "metadata": {},
          "execution_count": 27
        }
      ]
    },
    {
      "cell_type": "markdown",
      "source": [
        "#Logistic Model"
      ],
      "metadata": {
        "id": "wWWLoxNZV-qV"
      }
    },
    {
      "cell_type": "markdown",
      "source": [
        "## Parameters\n",
        "Defining Parameters "
      ],
      "metadata": {
        "id": "B_xmzbxNWRda"
      }
    },
    {
      "cell_type": "code",
      "source": [
        "num_classes = 2 # 0 or 1\n",
        "\n",
        "num_features = 15 # 15 variables\n",
        "\n",
        "learning_rate = 0.01\n",
        "\n",
        "training_steps = 1000\n",
        "\n",
        "batch_size = 1000\n",
        "\n",
        "display_step = 500"
      ],
      "metadata": {
        "id": "Gel1IMjEWAQJ"
      },
      "execution_count": null,
      "outputs": []
    },
    {
      "cell_type": "code",
      "source": [
        "# Use tf.data API to shuffle and batch data.\n",
        "\n",
        "train_data=tf.data.Dataset.from_tensor_slices((x_train,y_train))\n",
        "\n",
        "train_data=train_data.repeat().shuffle(5000).batch(batch_size).prefetch(1)\n"
      ],
      "metadata": {
        "id": "zUIhpvF1c_pO"
      },
      "execution_count": null,
      "outputs": []
    },
    {
      "cell_type": "code",
      "source": [
        "# Initial weights and biases\n",
        "# Weight of shape [784, 10], the 28*28 image features, and a total number of classes.\n",
        "\n",
        "W = tf.Variable(tf.ones([num_features, num_classes]), name=\"weight\")\n",
        "\n",
        "# Bias of shape [10], the total number of classes.\n",
        "\n",
        "b = tf.Variable(tf.zeros([num_classes]), name=\"bias\")"
      ],
      "metadata": {
        "id": "5N1YOTICYaPe"
      },
      "execution_count": null,
      "outputs": []
    },
    {
      "cell_type": "code",
      "source": [
        "W"
      ],
      "metadata": {
        "colab": {
          "base_uri": "https://localhost:8080/"
        },
        "id": "AObD0HqiJtkP",
        "outputId": "ce071b03-381e-4c56-e1f6-38fde4c9fa6f"
      },
      "execution_count": null,
      "outputs": [
        {
          "output_type": "execute_result",
          "data": {
            "text/plain": [
              "<tf.Variable 'weight:0' shape=(15, 2) dtype=float32, numpy=\n",
              "array([[1., 1.],\n",
              "       [1., 1.],\n",
              "       [1., 1.],\n",
              "       [1., 1.],\n",
              "       [1., 1.],\n",
              "       [1., 1.],\n",
              "       [1., 1.],\n",
              "       [1., 1.],\n",
              "       [1., 1.],\n",
              "       [1., 1.],\n",
              "       [1., 1.],\n",
              "       [1., 1.],\n",
              "       [1., 1.],\n",
              "       [1., 1.],\n",
              "       [1., 1.]], dtype=float32)>"
            ]
          },
          "metadata": {},
          "execution_count": 348
        }
      ]
    },
    {
      "cell_type": "markdown",
      "metadata": {
        "id": "H4NdPJMVgVPa"
      },
      "source": [
        "##Build Model (Logistic)"
      ]
    },
    {
      "cell_type": "markdown",
      "source": [
        "###Define Functions"
      ],
      "metadata": {
        "id": "0TQbi9jYdT-7"
      }
    },
    {
      "cell_type": "code",
      "source": [
        "# Logistic regression (Wx + b).\n",
        "\n",
        "def logistic_regression(x):\n",
        "\n",
        "    # Apply softmax to normalize the logits to a probability distribution.\n",
        "\n",
        "    return tf.nn.softmax(tf.matmul(x, W) + b)\n",
        "\n",
        "# Cross-Entropy loss function.\n",
        "\n",
        "def cross_entropy(y_pred, y_true):\n",
        "\n",
        "    # Encode label to a one hot vector.\n",
        "\n",
        "    y_true = tf.one_hot(y_true, depth=num_classes)\n",
        "\n",
        "    # Clip prediction values to avoid log(0) error.\n",
        "\n",
        "    y_pred = tf.clip_by_value(y_pred, 1e-9, 1.)\n",
        "\n",
        "    # Compute cross-entropy.\n",
        "\n",
        "    return tf.reduce_mean(-tf.reduce_sum(y_true * tf.math.log(y_pred)))\n",
        "\n",
        "# Accuracy metric.\n",
        "\n",
        "def accuracy(y_pred, y_true):\n",
        "\n",
        "# Predicted class is the index of the highest score in prediction vector (i.e. argmax).\n",
        "\n",
        "  correct_prediction = tf.equal(tf.argmax(y_pred, 1), tf.cast(y_true, tf.int64))\n",
        "\n",
        "  return tf.reduce_mean(tf.cast(correct_prediction, tf.float32))\n",
        "\n",
        "# Stochastic gradient descent optimizer.\n",
        "\n",
        "optimizer = tf.optimizers.SGD(learning_rate)\n",
        "\n",
        "# Optimization process. \n",
        "\n",
        "def run_optimization(x, y):\n",
        "\n",
        "# Wrap computation inside a GradientTape for automatic differentiation.\n",
        "\n",
        "    with tf.GradientTape() as g:\n",
        "\n",
        "        pred = logistic_regression(x)\n",
        "\n",
        "        loss = cross_entropy(pred, y)\n",
        "\n",
        "    # Compute gradients.\n",
        "\n",
        "    gradients = g.gradient(loss, [W, b])\n",
        "\n",
        "  \n",
        "\n",
        "    # Update W and b following gradients.\n",
        "\n",
        "    optimizer.apply_gradients(zip(gradients, [W, b]))"
      ],
      "metadata": {
        "id": "87iWHpEZcl2I"
      },
      "execution_count": null,
      "outputs": []
    },
    {
      "cell_type": "markdown",
      "source": [
        "###Model with Sklearn"
      ],
      "metadata": {
        "id": "GSpnrL_ynC4s"
      }
    },
    {
      "cell_type": "code",
      "source": [
        "from sklearn.linear_model import LogisticRegression\n",
        "model = LogisticRegression(solver='liblinear', random_state=0).fit(x_train, y_train)"
      ],
      "metadata": {
        "id": "70qTIUZX0zy4"
      },
      "execution_count": null,
      "outputs": []
    },
    {
      "cell_type": "code",
      "source": [
        "confusion_matrix(y_train, model.predict(x_train))"
      ],
      "metadata": {
        "colab": {
          "base_uri": "https://localhost:8080/"
        },
        "id": "YgqSJdDJ1BtU",
        "outputId": "31b5d232-a16f-44c3-a560-c7b52f723166"
      },
      "execution_count": null,
      "outputs": [
        {
          "output_type": "execute_result",
          "data": {
            "text/plain": [
              "array([[2511,  447],\n",
              "       [ 693, 2288]])"
            ]
          },
          "metadata": {},
          "execution_count": 33
        }
      ]
    },
    {
      "cell_type": "markdown",
      "source": [
        "###Model with batch"
      ],
      "metadata": {
        "id": "3M0pu5xGdYj3"
      }
    },
    {
      "cell_type": "code",
      "source": [
        "#Model\n",
        "\n",
        "def model(learning_rate=0.01):\n",
        "\n",
        "  learning_rate = learning_rate\n",
        "\n",
        "  for step, (batch_x, batch_y) in enumerate(train_data.take(training_steps), 1):\n",
        "\n",
        "      # Run the optimization to update W and b values.\n",
        "\n",
        "      run_optimization(batch_x, batch_y)\n",
        "\n",
        "    \n",
        "\n",
        "      if step % display_step == 0:\n",
        "\n",
        "          pred = logistic_regression(batch_x)\n",
        "\n",
        "          loss = cross_entropy(pred, batch_y)\n",
        "\n",
        "          acc = accuracy(pred, batch_y)\n",
        "\n",
        "          print(\"step: %i, loss: %f, accuracy: %f\" % (step, loss, acc))\n"
      ],
      "metadata": {
        "id": "rqyGdBsmi0HG"
      },
      "execution_count": null,
      "outputs": []
    },
    {
      "cell_type": "code",
      "source": [
        "model(learning_rate=0.1)\n",
        "model(0.01)\n",
        "model(0.005)\n",
        "model(0.0005)\n",
        "model(0.0001)"
      ],
      "metadata": {
        "colab": {
          "base_uri": "https://localhost:8080/"
        },
        "id": "o7fCqgQpjNlz",
        "outputId": "5d9e55da-c99a-445b-a1f7-ed3dfd2c74b7"
      },
      "execution_count": null,
      "outputs": [
        {
          "output_type": "stream",
          "name": "stdout",
          "text": [
            "step: 500, loss: 9884.998047, accuracy: 0.523000\n",
            "step: 1000, loss: 10506.695312, accuracy: 0.493000\n",
            "step: 500, loss: 10672.482422, accuracy: 0.485000\n",
            "step: 1000, loss: 10651.759766, accuracy: 0.486000\n",
            "step: 500, loss: 10112.954102, accuracy: 0.512000\n",
            "step: 1000, loss: 10237.293945, accuracy: 0.506000\n",
            "step: 500, loss: 10734.651367, accuracy: 0.482000\n",
            "step: 1000, loss: 10195.847656, accuracy: 0.508000\n",
            "step: 500, loss: 10796.822266, accuracy: 0.479000\n",
            "step: 1000, loss: 10776.098633, accuracy: 0.480000\n"
          ]
        }
      ]
    },
    {
      "cell_type": "markdown",
      "source": [
        "###TensorFlow logistic sequential Model"
      ],
      "metadata": {
        "id": "qkz0qaOHhaej"
      }
    },
    {
      "cell_type": "code",
      "metadata": {
        "id": "8mRUSOniOa4w"
      },
      "source": [
        "\n",
        "model = Sequential([\n",
        "                    Dense(1, activation='sigmoid',input_shape = (15,)),\n",
        "])\n"
      ],
      "execution_count": null,
      "outputs": []
    },
    {
      "cell_type": "code",
      "source": [
        "# compile the model\n",
        "\n",
        "model.compile(optimizer = tf.optimizers.SGD(learning_rate = 0.003),\n",
        "              loss='bce', \n",
        "              metrics = [tf.keras.metrics.SparseCategoricalAccuracy()])"
      ],
      "metadata": {
        "id": "sveifn4zHTk5"
      },
      "execution_count": null,
      "outputs": []
    },
    {
      "cell_type": "code",
      "metadata": {
        "colab": {
          "base_uri": "https://localhost:8080/"
        },
        "id": "5Ebd_q5yLOJc",
        "outputId": "aff6f313-65a8-48f1-9bd9-217e9b77b339"
      },
      "source": [
        "model.summary()"
      ],
      "execution_count": null,
      "outputs": [
        {
          "output_type": "stream",
          "name": "stdout",
          "text": [
            "Model: \"sequential\"\n",
            "_________________________________________________________________\n",
            " Layer (type)                Output Shape              Param #   \n",
            "=================================================================\n",
            " dense (Dense)               (None, 1)                 16        \n",
            "                                                                 \n",
            "=================================================================\n",
            "Total params: 16\n",
            "Trainable params: 16\n",
            "Non-trainable params: 0\n",
            "_________________________________________________________________\n"
          ]
        }
      ]
    },
    {
      "cell_type": "markdown",
      "metadata": {
        "id": "0U_qFaJnYr2T"
      },
      "source": [
        "Calling model.fit returns a TensorFlow history object. This object contains a record of the progress of the network during training in terms of the loss and the metrics that we defined when we compiled the model."
      ]
    },
    {
      "cell_type": "code",
      "metadata": {
        "colab": {
          "base_uri": "https://localhost:8080/"
        },
        "id": "_8j8gKtyYsnz",
        "outputId": "5318e0f3-a75e-4025-e4ae-5bc8c964e7aa"
      },
      "source": [
        "# fit the model\n",
        "history = model.fit(x_train, y_train, epochs=20,batch_size=64, verbose = 2,validation_split = 0.25)"
      ],
      "execution_count": null,
      "outputs": [
        {
          "output_type": "stream",
          "name": "stdout",
          "text": [
            "Epoch 1/20\n",
            "70/70 - 1s - loss: 0.8039 - sparse_categorical_accuracy: 0.4982 - val_loss: 0.7885 - val_sparse_categorical_accuracy: 0.4976 - 713ms/epoch - 10ms/step\n",
            "Epoch 2/20\n",
            "70/70 - 0s - loss: 0.7631 - sparse_categorical_accuracy: 0.4982 - val_loss: 0.7662 - val_sparse_categorical_accuracy: 0.4976 - 116ms/epoch - 2ms/step\n",
            "Epoch 3/20\n",
            "70/70 - 0s - loss: 0.7428 - sparse_categorical_accuracy: 0.4982 - val_loss: 0.7487 - val_sparse_categorical_accuracy: 0.4976 - 119ms/epoch - 2ms/step\n",
            "Epoch 4/20\n",
            "70/70 - 0s - loss: 0.7269 - sparse_categorical_accuracy: 0.4982 - val_loss: 0.7332 - val_sparse_categorical_accuracy: 0.4976 - 168ms/epoch - 2ms/step\n",
            "Epoch 5/20\n",
            "70/70 - 0s - loss: 0.7139 - sparse_categorical_accuracy: 0.4982 - val_loss: 0.7214 - val_sparse_categorical_accuracy: 0.4976 - 133ms/epoch - 2ms/step\n",
            "Epoch 6/20\n",
            "70/70 - 0s - loss: 0.7038 - sparse_categorical_accuracy: 0.4982 - val_loss: 0.7120 - val_sparse_categorical_accuracy: 0.4976 - 163ms/epoch - 2ms/step\n",
            "Epoch 7/20\n",
            "70/70 - 0s - loss: 0.6956 - sparse_categorical_accuracy: 0.4982 - val_loss: 0.7045 - val_sparse_categorical_accuracy: 0.4976 - 127ms/epoch - 2ms/step\n",
            "Epoch 8/20\n",
            "70/70 - 0s - loss: 0.6892 - sparse_categorical_accuracy: 0.4982 - val_loss: 0.6984 - val_sparse_categorical_accuracy: 0.4976 - 157ms/epoch - 2ms/step\n",
            "Epoch 9/20\n",
            "70/70 - 0s - loss: 0.6839 - sparse_categorical_accuracy: 0.4982 - val_loss: 0.6930 - val_sparse_categorical_accuracy: 0.4976 - 124ms/epoch - 2ms/step\n",
            "Epoch 10/20\n",
            "70/70 - 0s - loss: 0.6794 - sparse_categorical_accuracy: 0.4982 - val_loss: 0.6883 - val_sparse_categorical_accuracy: 0.4976 - 122ms/epoch - 2ms/step\n",
            "Epoch 11/20\n",
            "70/70 - 0s - loss: 0.6757 - sparse_categorical_accuracy: 0.4982 - val_loss: 0.6846 - val_sparse_categorical_accuracy: 0.4976 - 159ms/epoch - 2ms/step\n",
            "Epoch 12/20\n",
            "70/70 - 0s - loss: 0.6720 - sparse_categorical_accuracy: 0.4982 - val_loss: 0.6823 - val_sparse_categorical_accuracy: 0.4976 - 175ms/epoch - 3ms/step\n",
            "Epoch 13/20\n",
            "70/70 - 0s - loss: 0.6693 - sparse_categorical_accuracy: 0.4982 - val_loss: 0.6781 - val_sparse_categorical_accuracy: 0.4976 - 129ms/epoch - 2ms/step\n",
            "Epoch 14/20\n",
            "70/70 - 0s - loss: 0.6670 - sparse_categorical_accuracy: 0.4982 - val_loss: 0.6753 - val_sparse_categorical_accuracy: 0.4976 - 125ms/epoch - 2ms/step\n",
            "Epoch 15/20\n",
            "70/70 - 0s - loss: 0.6647 - sparse_categorical_accuracy: 0.4982 - val_loss: 0.6734 - val_sparse_categorical_accuracy: 0.4976 - 118ms/epoch - 2ms/step\n",
            "Epoch 16/20\n",
            "70/70 - 0s - loss: 0.6626 - sparse_categorical_accuracy: 0.4982 - val_loss: 0.6706 - val_sparse_categorical_accuracy: 0.4976 - 122ms/epoch - 2ms/step\n",
            "Epoch 17/20\n",
            "70/70 - 0s - loss: 0.6606 - sparse_categorical_accuracy: 0.4982 - val_loss: 0.6685 - val_sparse_categorical_accuracy: 0.4976 - 135ms/epoch - 2ms/step\n",
            "Epoch 18/20\n",
            "70/70 - 0s - loss: 0.6588 - sparse_categorical_accuracy: 0.4982 - val_loss: 0.6665 - val_sparse_categorical_accuracy: 0.4976 - 133ms/epoch - 2ms/step\n",
            "Epoch 19/20\n",
            "70/70 - 0s - loss: 0.6572 - sparse_categorical_accuracy: 0.4982 - val_loss: 0.6650 - val_sparse_categorical_accuracy: 0.4976 - 136ms/epoch - 2ms/step\n",
            "Epoch 20/20\n",
            "70/70 - 0s - loss: 0.6556 - sparse_categorical_accuracy: 0.4982 - val_loss: 0.6629 - val_sparse_categorical_accuracy: 0.4976 - 137ms/epoch - 2ms/step\n"
          ]
        }
      ]
    },
    {
      "cell_type": "code",
      "source": [
        "# Plot the training and validation loss\n",
        "\n",
        "plt.plot(history.history['loss'])\n",
        "plt.plot(history.history['val_loss'])\n",
        "plt.title('Loss vs. epochs')\n",
        "plt.ylabel('Loss')\n",
        "plt.xlabel('Epoch')\n",
        "plt.legend(['Training', 'Validation'], loc='upper right')\n",
        "plt.show()"
      ],
      "metadata": {
        "id": "-Ws0yIoLD-5k"
      },
      "execution_count": null,
      "outputs": []
    },
    {
      "cell_type": "code",
      "source": [
        "#Train Metrics\n",
        "Y_prediction = pd.DataFrame()\n",
        "Y_prediciton = pred = model.predict(x_train)\n",
        "for i in range(pred.shape[0]):  \n",
        "    Y_prediction[0,i] = np.where(pred[i] > 0.5, 1, 0)\n",
        "\n",
        "Y_prediction = Y_prediction.T\n",
        "print('Train Confusion Matrix:\\n',confusion_matrix(Y_prediction,y_train))\n",
        "print('Train Classification Report:\\n',classification_report(Y_prediction,y_train))\n"
      ],
      "metadata": {
        "id": "XGYBajKAFQS8"
      },
      "execution_count": null,
      "outputs": []
    },
    {
      "cell_type": "code",
      "source": [
        "# Test Metrics\n",
        "Y_prediction = pd.DataFrame()\n",
        "Y_prediciton = pred = model.predict(x_test)\n",
        "for i in range(pred.shape[0]):  \n",
        "    Y_prediction[0,i] = np.where(pred[i] > 0.5, 1, 0)\n",
        "\n",
        "Y_prediction = Y_prediction.T\n",
        "print('Test Confusion Matrix:\\n',confusion_matrix(Y_prediction,y_test))\n",
        "print('Test Classification Report:\\n',classification_report(Y_prediction,y_test))"
      ],
      "metadata": {
        "id": "sq0NLpP-HfG-"
      },
      "execution_count": null,
      "outputs": []
    },
    {
      "cell_type": "markdown",
      "source": [
        "#NN Models"
      ],
      "metadata": {
        "id": "WoBch-X7jb9d"
      }
    },
    {
      "cell_type": "markdown",
      "source": [
        "## Shallow single layer Relu"
      ],
      "metadata": {
        "id": "2_MRVQW_PF5q"
      }
    },
    {
      "cell_type": "code",
      "source": [
        "model = Sequential([\n",
        "                    Dense(16, activation = 'relu', input_shape = (15,))\n",
        "                   ])"
      ],
      "metadata": {
        "id": "SZTCswu6DBZ3"
      },
      "execution_count": null,
      "outputs": []
    },
    {
      "cell_type": "code",
      "source": [
        "# compile the model\n",
        "\n",
        "model.compile(optimizer = tf.keras.optimizers.Adam(learning_rate = 0.003),\n",
        "              loss='sparse_categorical_crossentropy', #Use this loss function when y labels are integers\n",
        "              metrics = [tf.keras.metrics.SparseCategoricalAccuracy()]) #use this accuracy when ylabels are integers"
      ],
      "metadata": {
        "id": "JYLcNcIDTnZu"
      },
      "execution_count": null,
      "outputs": []
    },
    {
      "cell_type": "code",
      "source": [
        "# fit the model with validation set\n",
        "\n",
        "history = model.fit(x_train, y_train, epochs=20,batch_size=64, verbose = 2,validation_split = 0.25)"
      ],
      "metadata": {
        "colab": {
          "base_uri": "https://localhost:8080/"
        },
        "id": "d9tXpTzOTqc-",
        "outputId": "4d129dbb-4191-40c6-af64-db479c938c1f"
      },
      "execution_count": null,
      "outputs": [
        {
          "output_type": "stream",
          "name": "stdout",
          "text": [
            "Epoch 1/20\n",
            "70/70 - 1s - loss: 4.5751 - sparse_categorical_accuracy: 0.1718 - val_loss: 0.9630 - val_sparse_categorical_accuracy: 0.4889 - 1s/epoch - 16ms/step\n",
            "Epoch 2/20\n",
            "70/70 - 0s - loss: 0.7610 - sparse_categorical_accuracy: 0.4836 - val_loss: 0.7384 - val_sparse_categorical_accuracy: 0.4956 - 286ms/epoch - 4ms/step\n",
            "Epoch 3/20\n",
            "70/70 - 0s - loss: 0.7008 - sparse_categorical_accuracy: 0.4879 - val_loss: 0.7106 - val_sparse_categorical_accuracy: 0.4976 - 292ms/epoch - 4ms/step\n",
            "Epoch 4/20\n",
            "70/70 - 0s - loss: 0.6942 - sparse_categorical_accuracy: 0.4919 - val_loss: 0.6965 - val_sparse_categorical_accuracy: 0.5104 - 282ms/epoch - 4ms/step\n",
            "Epoch 5/20\n",
            "70/70 - 0s - loss: 0.6931 - sparse_categorical_accuracy: 0.4910 - val_loss: 0.6958 - val_sparse_categorical_accuracy: 0.5071 - 242ms/epoch - 3ms/step\n",
            "Epoch 6/20\n",
            "70/70 - 0s - loss: 0.6928 - sparse_categorical_accuracy: 0.4903 - val_loss: 0.6953 - val_sparse_categorical_accuracy: 0.5010 - 237ms/epoch - 3ms/step\n",
            "Epoch 7/20\n",
            "70/70 - 0s - loss: 0.6926 - sparse_categorical_accuracy: 0.4892 - val_loss: 0.6950 - val_sparse_categorical_accuracy: 0.4970 - 256ms/epoch - 4ms/step\n",
            "Epoch 8/20\n",
            "70/70 - 0s - loss: 0.6925 - sparse_categorical_accuracy: 0.4859 - val_loss: 0.6948 - val_sparse_categorical_accuracy: 0.4970 - 242ms/epoch - 3ms/step\n",
            "Epoch 9/20\n",
            "70/70 - 0s - loss: 0.6924 - sparse_categorical_accuracy: 0.4885 - val_loss: 0.6946 - val_sparse_categorical_accuracy: 0.4983 - 147ms/epoch - 2ms/step\n",
            "Epoch 10/20\n",
            "70/70 - 0s - loss: 0.6923 - sparse_categorical_accuracy: 0.4861 - val_loss: 0.6945 - val_sparse_categorical_accuracy: 0.4896 - 124ms/epoch - 2ms/step\n",
            "Epoch 11/20\n",
            "70/70 - 0s - loss: 0.6922 - sparse_categorical_accuracy: 0.4847 - val_loss: 0.6944 - val_sparse_categorical_accuracy: 0.4882 - 162ms/epoch - 2ms/step\n",
            "Epoch 12/20\n",
            "70/70 - 0s - loss: 0.6921 - sparse_categorical_accuracy: 0.4825 - val_loss: 0.6944 - val_sparse_categorical_accuracy: 0.4862 - 121ms/epoch - 2ms/step\n",
            "Epoch 13/20\n",
            "70/70 - 0s - loss: 0.6921 - sparse_categorical_accuracy: 0.4854 - val_loss: 0.6943 - val_sparse_categorical_accuracy: 0.4842 - 125ms/epoch - 2ms/step\n",
            "Epoch 14/20\n",
            "70/70 - 0s - loss: 0.6921 - sparse_categorical_accuracy: 0.4852 - val_loss: 0.6943 - val_sparse_categorical_accuracy: 0.4875 - 123ms/epoch - 2ms/step\n",
            "Epoch 15/20\n",
            "70/70 - 0s - loss: 0.6920 - sparse_categorical_accuracy: 0.4852 - val_loss: 0.6943 - val_sparse_categorical_accuracy: 0.4889 - 158ms/epoch - 2ms/step\n",
            "Epoch 16/20\n",
            "70/70 - 0s - loss: 0.6919 - sparse_categorical_accuracy: 0.4861 - val_loss: 0.6942 - val_sparse_categorical_accuracy: 0.4882 - 123ms/epoch - 2ms/step\n",
            "Epoch 17/20\n",
            "70/70 - 0s - loss: 0.6919 - sparse_categorical_accuracy: 0.4863 - val_loss: 0.6942 - val_sparse_categorical_accuracy: 0.4896 - 126ms/epoch - 2ms/step\n",
            "Epoch 18/20\n",
            "70/70 - 0s - loss: 0.6918 - sparse_categorical_accuracy: 0.4865 - val_loss: 0.6943 - val_sparse_categorical_accuracy: 0.4889 - 162ms/epoch - 2ms/step\n",
            "Epoch 19/20\n",
            "70/70 - 0s - loss: 0.6918 - sparse_categorical_accuracy: 0.4859 - val_loss: 0.6942 - val_sparse_categorical_accuracy: 0.4902 - 164ms/epoch - 2ms/step\n",
            "Epoch 20/20\n",
            "70/70 - 0s - loss: 0.6917 - sparse_categorical_accuracy: 0.4870 - val_loss: 0.6942 - val_sparse_categorical_accuracy: 0.4862 - 127ms/epoch - 2ms/step\n"
          ]
        }
      ]
    },
    {
      "cell_type": "code",
      "source": [
        "# Plot the training and validation loss\n",
        "\n",
        "plt.plot(history.history['loss'])\n",
        "plt.plot(history.history['val_loss'])\n",
        "plt.title('Loss vs. epochs')\n",
        "plt.ylabel('Loss')\n",
        "plt.xlabel('Epoch')\n",
        "plt.legend(['Training', 'Validation'], loc='upper right')\n",
        "plt.show()"
      ],
      "metadata": {
        "colab": {
          "base_uri": "https://localhost:8080/",
          "height": 295
        },
        "id": "13pDN01bTvFp",
        "outputId": "0349e25f-3dde-4c75-c48c-089d519875b8"
      },
      "execution_count": null,
      "outputs": [
        {
          "output_type": "display_data",
          "data": {
            "text/plain": [
              "<Figure size 432x288 with 1 Axes>"
            ],
            "image/png": "[encoded data removed]"
          },
          "metadata": {
            "needs_background": "light"
          }
        }
      ]
    },
    {
      "cell_type": "code",
      "metadata": {
        "id": "C5Fq4MI5CeC9",
        "colab": {
          "base_uri": "https://localhost:8080/"
        },
        "outputId": "e767d85a-8642-40fd-98b1-7fd0dceef3d5"
      },
      "source": [
        "train_loss, train_accuracy = model.evaluate(x_train, y_train)\n",
        "train_accuracy"
      ],
      "execution_count": null,
      "outputs": [
        {
          "output_type": "stream",
          "name": "stdout",
          "text": [
            "186/186 [==============================] - 0s 1ms/step - loss: 0.6923 - sparse_categorical_accuracy: 0.4871\n"
          ]
        },
        {
          "output_type": "execute_result",
          "data": {
            "text/plain": [
              "0.48711904883384705"
            ]
          },
          "metadata": {},
          "execution_count": 51
        }
      ]
    },
    {
      "cell_type": "code",
      "source": [
        "test_loss, test_accuracy = model.evaluate(x_test, y_test)\n",
        "test_accuracy"
      ],
      "metadata": {
        "colab": {
          "base_uri": "https://localhost:8080/"
        },
        "id": "XQICDhbuU81d",
        "outputId": "b696f5b9-f8ba-4555-e258-6135b267a25c"
      },
      "execution_count": null,
      "outputs": [
        {
          "output_type": "stream",
          "name": "stdout",
          "text": [
            "47/47 [==============================] - 0s 1ms/step - loss: 0.6940 - sparse_categorical_accuracy: 0.4983\n"
          ]
        },
        {
          "output_type": "execute_result",
          "data": {
            "text/plain": [
              "0.4983164966106415"
            ]
          },
          "metadata": {},
          "execution_count": 52
        }
      ]
    },
    {
      "cell_type": "markdown",
      "source": [
        "## Shallow single layer Sigmoid"
      ],
      "metadata": {
        "id": "xkMWvTxLQpGC"
      }
    },
    {
      "cell_type": "code",
      "source": [
        "model = Sequential([\n",
        "                    Dense(16, activation = 'sigmoid', input_shape = (15,))\n",
        "                   ])"
      ],
      "metadata": {
        "id": "0kme0W6PQpGE"
      },
      "execution_count": null,
      "outputs": []
    },
    {
      "cell_type": "code",
      "source": [
        "# compile the model\n",
        "\n",
        "model.compile(optimizer = tf.keras.optimizers.Adam(learning_rate = 0.003),\n",
        "              loss='sparse_categorical_crossentropy', #Use this loss function when y labels are integers\n",
        "              metrics = [tf.keras.metrics.SparseCategoricalAccuracy()]) #use this accuracy when ylabels are integers"
      ],
      "metadata": {
        "id": "qbA1zNXWQpGF"
      },
      "execution_count": null,
      "outputs": []
    },
    {
      "cell_type": "code",
      "source": [
        "# fit the model with validation set\n",
        "\n",
        "history = model.fit(x_train, y_train, epochs=20,batch_size=64, verbose = 2,validation_split = 0.25)"
      ],
      "metadata": {
        "colab": {
          "base_uri": "https://localhost:8080/"
        },
        "outputId": "f04a748f-e9f2-4b13-d997-75cdd85a06c4",
        "id": "P8BDe5QgQpGF"
      },
      "execution_count": null,
      "outputs": [
        {
          "output_type": "stream",
          "name": "stdout",
          "text": [
            "Epoch 1/20\n",
            "70/70 - 0s - loss: 2.1415 - sparse_categorical_accuracy: 0.3217 - val_loss: 0.9960 - val_sparse_categorical_accuracy: 0.5340 - 494ms/epoch - 7ms/step\n",
            "Epoch 2/20\n",
            "70/70 - 0s - loss: 0.8823 - sparse_categorical_accuracy: 0.5550 - val_loss: 0.8345 - val_sparse_categorical_accuracy: 0.5576 - 161ms/epoch - 2ms/step\n",
            "Epoch 3/20\n",
            "70/70 - 0s - loss: 0.7538 - sparse_categorical_accuracy: 0.5799 - val_loss: 0.7237 - val_sparse_categorical_accuracy: 0.5724 - 166ms/epoch - 2ms/step\n",
            "Epoch 4/20\n",
            "70/70 - 0s - loss: 0.6767 - sparse_categorical_accuracy: 0.6066 - val_loss: 0.6598 - val_sparse_categorical_accuracy: 0.6135 - 144ms/epoch - 2ms/step\n",
            "Epoch 5/20\n",
            "70/70 - 0s - loss: 0.6294 - sparse_categorical_accuracy: 0.6466 - val_loss: 0.6221 - val_sparse_categorical_accuracy: 0.6512 - 133ms/epoch - 2ms/step\n",
            "Epoch 6/20\n",
            "70/70 - 0s - loss: 0.6027 - sparse_categorical_accuracy: 0.6695 - val_loss: 0.6023 - val_sparse_categorical_accuracy: 0.6781 - 166ms/epoch - 2ms/step\n",
            "Epoch 7/20\n",
            "70/70 - 0s - loss: 0.5865 - sparse_categorical_accuracy: 0.6877 - val_loss: 0.5872 - val_sparse_categorical_accuracy: 0.6983 - 167ms/epoch - 2ms/step\n",
            "Epoch 8/20\n",
            "70/70 - 0s - loss: 0.5757 - sparse_categorical_accuracy: 0.6965 - val_loss: 0.5779 - val_sparse_categorical_accuracy: 0.7145 - 162ms/epoch - 2ms/step\n",
            "Epoch 9/20\n",
            "70/70 - 0s - loss: 0.5656 - sparse_categorical_accuracy: 0.7124 - val_loss: 0.5691 - val_sparse_categorical_accuracy: 0.7091 - 156ms/epoch - 2ms/step\n",
            "Epoch 10/20\n",
            "70/70 - 0s - loss: 0.5595 - sparse_categorical_accuracy: 0.7124 - val_loss: 0.5637 - val_sparse_categorical_accuracy: 0.7239 - 118ms/epoch - 2ms/step\n",
            "Epoch 11/20\n",
            "70/70 - 0s - loss: 0.5519 - sparse_categorical_accuracy: 0.7173 - val_loss: 0.5580 - val_sparse_categorical_accuracy: 0.7286 - 158ms/epoch - 2ms/step\n",
            "Epoch 12/20\n",
            "70/70 - 0s - loss: 0.5459 - sparse_categorical_accuracy: 0.7259 - val_loss: 0.5505 - val_sparse_categorical_accuracy: 0.7246 - 124ms/epoch - 2ms/step\n",
            "Epoch 13/20\n",
            "70/70 - 0s - loss: 0.5407 - sparse_categorical_accuracy: 0.7326 - val_loss: 0.5461 - val_sparse_categorical_accuracy: 0.7374 - 160ms/epoch - 2ms/step\n",
            "Epoch 14/20\n",
            "70/70 - 0s - loss: 0.5345 - sparse_categorical_accuracy: 0.7346 - val_loss: 0.5406 - val_sparse_categorical_accuracy: 0.7333 - 159ms/epoch - 2ms/step\n",
            "Epoch 15/20\n",
            "70/70 - 0s - loss: 0.5314 - sparse_categorical_accuracy: 0.7364 - val_loss: 0.5401 - val_sparse_categorical_accuracy: 0.7279 - 162ms/epoch - 2ms/step\n",
            "Epoch 16/20\n",
            "70/70 - 0s - loss: 0.5275 - sparse_categorical_accuracy: 0.7369 - val_loss: 0.5328 - val_sparse_categorical_accuracy: 0.7333 - 162ms/epoch - 2ms/step\n",
            "Epoch 17/20\n",
            "70/70 - 0s - loss: 0.5219 - sparse_categorical_accuracy: 0.7476 - val_loss: 0.5309 - val_sparse_categorical_accuracy: 0.7455 - 160ms/epoch - 2ms/step\n",
            "Epoch 18/20\n",
            "70/70 - 0s - loss: 0.5176 - sparse_categorical_accuracy: 0.7542 - val_loss: 0.5246 - val_sparse_categorical_accuracy: 0.7394 - 158ms/epoch - 2ms/step\n",
            "Epoch 19/20\n",
            "70/70 - 0s - loss: 0.5136 - sparse_categorical_accuracy: 0.7474 - val_loss: 0.5199 - val_sparse_categorical_accuracy: 0.7522 - 133ms/epoch - 2ms/step\n",
            "Epoch 20/20\n",
            "70/70 - 0s - loss: 0.5089 - sparse_categorical_accuracy: 0.7618 - val_loss: 0.5178 - val_sparse_categorical_accuracy: 0.7562 - 158ms/epoch - 2ms/step\n"
          ]
        }
      ]
    },
    {
      "cell_type": "code",
      "source": [
        "# Plot the training and validation loss\n",
        "\n",
        "plt.plot(history.history['loss'])\n",
        "plt.plot(history.history['val_loss'])\n",
        "plt.title('Loss vs. epochs')\n",
        "plt.ylabel('Loss')\n",
        "plt.xlabel('Epoch')\n",
        "plt.legend(['Training', 'Validation'], loc='upper right')\n",
        "plt.show()"
      ],
      "metadata": {
        "colab": {
          "base_uri": "https://localhost:8080/",
          "height": 295
        },
        "outputId": "2553774a-45e1-46f4-86b1-dafa62f5eb74",
        "id": "3l_DprNSQpGG"
      },
      "execution_count": null,
      "outputs": [
        {
          "output_type": "display_data",
          "data": {
            "text/plain": [
              "<Figure size 432x288 with 1 Axes>"
            ],
            "image/png": "[encoded data removed]"
          },
          "metadata": {
            "needs_background": "light"
          }
        }
      ]
    },
    {
      "cell_type": "code",
      "metadata": {
        "colab": {
          "base_uri": "https://localhost:8080/"
        },
        "outputId": "204587db-87f0-4252-89e7-ce0e7faec48f",
        "id": "BlMcKlwMVKs-"
      },
      "source": [
        "train_loss, train_accuracy = model.evaluate(x_train, y_train)\n",
        "train_accuracy"
      ],
      "execution_count": null,
      "outputs": [
        {
          "output_type": "stream",
          "name": "stdout",
          "text": [
            "186/186 [==============================] - 0s 1ms/step - loss: 0.5105 - sparse_categorical_accuracy: 0.7607\n"
          ]
        },
        {
          "output_type": "execute_result",
          "data": {
            "text/plain": [
              "0.7607341408729553"
            ]
          },
          "metadata": {},
          "execution_count": 57
        }
      ]
    },
    {
      "cell_type": "code",
      "metadata": {
        "colab": {
          "base_uri": "https://localhost:8080/"
        },
        "outputId": "3b298f4a-4e9d-4f9a-ed86-34abd30252f4",
        "id": "aZbwBlZrQpGG"
      },
      "source": [
        "test_loss, test_accuracy = model.evaluate(x_test, y_test)\n",
        "test_accuracy"
      ],
      "execution_count": null,
      "outputs": [
        {
          "output_type": "stream",
          "name": "stdout",
          "text": [
            "47/47 [==============================] - 0s 1ms/step - loss: 0.5152 - sparse_categorical_accuracy: 0.7630\n"
          ]
        },
        {
          "output_type": "execute_result",
          "data": {
            "text/plain": [
              "0.7629629373550415"
            ]
          },
          "metadata": {},
          "execution_count": 58
        }
      ]
    },
    {
      "cell_type": "markdown",
      "source": [
        "## 2 layer NN"
      ],
      "metadata": {
        "id": "kYjGaZPsQy3Y"
      }
    },
    {
      "cell_type": "code",
      "source": [
        "model = Sequential([\n",
        "                    Dense(16, activation = 'relu', input_shape = (15,)),\n",
        "                    Dense(50, activation = 'sigmoid')\n",
        "                   ])"
      ],
      "metadata": {
        "id": "A946tv2hQy3b"
      },
      "execution_count": null,
      "outputs": []
    },
    {
      "cell_type": "code",
      "source": [
        "# compile the model\n",
        "\n",
        "model.compile(optimizer = tf.keras.optimizers.Adam(learning_rate = 0.003),\n",
        "              loss='sparse_categorical_crossentropy', #Use this loss function when y labels are integers\n",
        "              metrics = [tf.keras.metrics.SparseCategoricalAccuracy()]) #use this accuracy when ylabels are integers"
      ],
      "metadata": {
        "id": "OBHd8bkMQy3c"
      },
      "execution_count": null,
      "outputs": []
    },
    {
      "cell_type": "code",
      "source": [
        "# fit the model with validation set\n",
        "\n",
        "history = model.fit(x_train, y_train, epochs=20,batch_size=64, verbose = 2,validation_split = 0.25)"
      ],
      "metadata": {
        "colab": {
          "base_uri": "https://localhost:8080/"
        },
        "outputId": "081121f5-4823-4420-bbfb-75e5f6787ec7",
        "id": "RbLDQPGFQy3c"
      },
      "execution_count": null,
      "outputs": [
        {
          "output_type": "stream",
          "name": "stdout",
          "text": [
            "Epoch 1/20\n",
            "70/70 - 1s - loss: 1.7663 - sparse_categorical_accuracy: 0.3981 - val_loss: 0.7259 - val_sparse_categorical_accuracy: 0.5286 - 609ms/epoch - 9ms/step\n",
            "Epoch 2/20\n",
            "70/70 - 0s - loss: 0.6982 - sparse_categorical_accuracy: 0.5528 - val_loss: 0.6886 - val_sparse_categorical_accuracy: 0.5603 - 186ms/epoch - 3ms/step\n",
            "Epoch 3/20\n",
            "70/70 - 0s - loss: 0.6712 - sparse_categorical_accuracy: 0.5905 - val_loss: 0.6640 - val_sparse_categorical_accuracy: 0.6141 - 134ms/epoch - 2ms/step\n",
            "Epoch 4/20\n",
            "70/70 - 0s - loss: 0.6425 - sparse_categorical_accuracy: 0.6257 - val_loss: 0.6291 - val_sparse_categorical_accuracy: 0.6485 - 179ms/epoch - 3ms/step\n",
            "Epoch 5/20\n",
            "70/70 - 0s - loss: 0.6043 - sparse_categorical_accuracy: 0.6664 - val_loss: 0.5889 - val_sparse_categorical_accuracy: 0.6882 - 175ms/epoch - 3ms/step\n",
            "Epoch 6/20\n",
            "70/70 - 0s - loss: 0.5695 - sparse_categorical_accuracy: 0.6974 - val_loss: 0.5830 - val_sparse_categorical_accuracy: 0.6882 - 143ms/epoch - 2ms/step\n",
            "Epoch 7/20\n",
            "70/70 - 0s - loss: 0.5559 - sparse_categorical_accuracy: 0.6991 - val_loss: 0.5641 - val_sparse_categorical_accuracy: 0.6808 - 148ms/epoch - 2ms/step\n",
            "Epoch 8/20\n",
            "70/70 - 0s - loss: 0.5325 - sparse_categorical_accuracy: 0.7308 - val_loss: 0.5292 - val_sparse_categorical_accuracy: 0.7468 - 194ms/epoch - 3ms/step\n",
            "Epoch 9/20\n",
            "70/70 - 0s - loss: 0.5177 - sparse_categorical_accuracy: 0.7400 - val_loss: 0.5282 - val_sparse_categorical_accuracy: 0.7205 - 140ms/epoch - 2ms/step\n",
            "Epoch 10/20\n",
            "70/70 - 0s - loss: 0.5014 - sparse_categorical_accuracy: 0.7591 - val_loss: 0.5048 - val_sparse_categorical_accuracy: 0.7582 - 132ms/epoch - 2ms/step\n",
            "Epoch 11/20\n",
            "70/70 - 0s - loss: 0.4887 - sparse_categorical_accuracy: 0.7699 - val_loss: 0.4965 - val_sparse_categorical_accuracy: 0.7710 - 176ms/epoch - 3ms/step\n",
            "Epoch 12/20\n",
            "70/70 - 0s - loss: 0.4780 - sparse_categorical_accuracy: 0.7804 - val_loss: 0.4863 - val_sparse_categorical_accuracy: 0.7596 - 133ms/epoch - 2ms/step\n",
            "Epoch 13/20\n",
            "70/70 - 0s - loss: 0.4683 - sparse_categorical_accuracy: 0.7865 - val_loss: 0.5021 - val_sparse_categorical_accuracy: 0.7313 - 132ms/epoch - 2ms/step\n",
            "Epoch 14/20\n",
            "70/70 - 0s - loss: 0.4607 - sparse_categorical_accuracy: 0.7964 - val_loss: 0.4717 - val_sparse_categorical_accuracy: 0.7778 - 132ms/epoch - 2ms/step\n",
            "Epoch 15/20\n",
            "70/70 - 0s - loss: 0.4563 - sparse_categorical_accuracy: 0.7943 - val_loss: 0.4916 - val_sparse_categorical_accuracy: 0.7421 - 182ms/epoch - 3ms/step\n",
            "Epoch 16/20\n",
            "70/70 - 0s - loss: 0.4503 - sparse_categorical_accuracy: 0.8011 - val_loss: 0.4694 - val_sparse_categorical_accuracy: 0.7980 - 172ms/epoch - 2ms/step\n",
            "Epoch 17/20\n",
            "70/70 - 0s - loss: 0.4437 - sparse_categorical_accuracy: 0.7991 - val_loss: 0.4808 - val_sparse_categorical_accuracy: 0.7939 - 176ms/epoch - 3ms/step\n",
            "Epoch 18/20\n",
            "70/70 - 0s - loss: 0.4396 - sparse_categorical_accuracy: 0.8062 - val_loss: 0.4581 - val_sparse_categorical_accuracy: 0.7886 - 134ms/epoch - 2ms/step\n",
            "Epoch 19/20\n",
            "70/70 - 0s - loss: 0.4456 - sparse_categorical_accuracy: 0.7943 - val_loss: 0.4580 - val_sparse_categorical_accuracy: 0.8027 - 194ms/epoch - 3ms/step\n",
            "Epoch 20/20\n",
            "70/70 - 0s - loss: 0.4348 - sparse_categorical_accuracy: 0.8040 - val_loss: 0.4588 - val_sparse_categorical_accuracy: 0.7872 - 167ms/epoch - 2ms/step\n"
          ]
        }
      ]
    },
    {
      "cell_type": "code",
      "source": [
        "# Plot the training and validation loss\n",
        "\n",
        "plt.plot(history.history['loss'])\n",
        "plt.plot(history.history['val_loss'])\n",
        "plt.title('Loss vs. epochs')\n",
        "plt.ylabel('Loss')\n",
        "plt.xlabel('Epoch')\n",
        "plt.legend(['Training', 'Validation'], loc='upper right')\n",
        "plt.show()"
      ],
      "metadata": {
        "colab": {
          "base_uri": "https://localhost:8080/",
          "height": 295
        },
        "outputId": "ce3ab45e-bdae-45a6-eeea-7825c288f0a2",
        "id": "S00tx7XoQy3d"
      },
      "execution_count": null,
      "outputs": [
        {
          "output_type": "display_data",
          "data": {
            "text/plain": [
              "<Figure size 432x288 with 1 Axes>"
            ],
            "image/png": "[encoded data removed]"
          },
          "metadata": {
            "needs_background": "light"
          }
        }
      ]
    },
    {
      "cell_type": "code",
      "metadata": {
        "colab": {
          "base_uri": "https://localhost:8080/"
        },
        "outputId": "5888b53e-c122-4e5b-b9fa-64a590e048b8",
        "id": "BZ57h0rAVMdI"
      },
      "source": [
        "train_loss, train_accuracy = model.evaluate(x_train, y_train)\n",
        "train_accuracy"
      ],
      "execution_count": null,
      "outputs": [
        {
          "output_type": "stream",
          "name": "stdout",
          "text": [
            "186/186 [==============================] - 0s 1ms/step - loss: 0.4392 - sparse_categorical_accuracy: 0.7976\n"
          ]
        },
        {
          "output_type": "execute_result",
          "data": {
            "text/plain": [
              "0.7976090312004089"
            ]
          },
          "metadata": {},
          "execution_count": 63
        }
      ]
    },
    {
      "cell_type": "code",
      "metadata": {
        "colab": {
          "base_uri": "https://localhost:8080/"
        },
        "outputId": "c5fe26e0-ca87-42db-d2ca-24b40ce1b3b6",
        "id": "Vv1-nRa8Qy3d"
      },
      "source": [
        "test_loss, test_accuracy = model.evaluate(x_test, y_test)\n",
        "test_accuracy"
      ],
      "execution_count": null,
      "outputs": [
        {
          "output_type": "stream",
          "name": "stdout",
          "text": [
            "47/47 [==============================] - 0s 1ms/step - loss: 0.4287 - sparse_categorical_accuracy: 0.8040\n"
          ]
        },
        {
          "output_type": "execute_result",
          "data": {
            "text/plain": [
              "0.8040404319763184"
            ]
          },
          "metadata": {},
          "execution_count": 64
        }
      ]
    },
    {
      "cell_type": "markdown",
      "source": [
        "## 3 layer NN (Found to be best)"
      ],
      "metadata": {
        "id": "P8ucDLHmQzl6"
      }
    },
    {
      "cell_type": "code",
      "source": [
        "model = Sequential([\n",
        "                    Dense(16, activation = 'relu', input_shape = (15,)),\n",
        "                    Dense(32, activation = 'relu'),\n",
        "                    Dense(64, activation = 'sigmoid')\n",
        "                   ])"
      ],
      "metadata": {
        "id": "U2VjBvngQzl7"
      },
      "execution_count": null,
      "outputs": []
    },
    {
      "cell_type": "code",
      "source": [
        "model = Sequential([\n",
        "                    Dense(16, activation = 'relu', input_shape = (15,)),\n",
        "                    Dense(32, activation = 'relu'),\n",
        "                    Dense(64, activation = 'sigmoid'),\n",
        "                    Dense(1, activation = 'sigmoid') ])"
      ],
      "metadata": {
        "id": "P2k4apn2QV4h"
      },
      "execution_count": null,
      "outputs": []
    },
    {
      "cell_type": "code",
      "source": [
        "# compile the model\n",
        "\n",
        "model.compile(optimizer = tf.keras.optimizers.Adam(learning_rate = 0.003),\n",
        "              loss='sparse_categorical_crossentropy', #Use this loss function when y labels are integers\n",
        "              metrics = [tf.keras.metrics.SparseCategoricalAccuracy()]) #use this accuracy when ylabels are integers"
      ],
      "metadata": {
        "id": "822mDM-GQzl8"
      },
      "execution_count": null,
      "outputs": []
    },
    {
      "cell_type": "code",
      "source": [
        "# fit the model with validation set\n",
        "\n",
        "history = model.fit(x_train, y_train, epochs=20,batch_size=64, verbose = 2,validation_split = 0.25)"
      ],
      "metadata": {
        "colab": {
          "base_uri": "https://localhost:8080/"
        },
        "outputId": "17265101-5b5d-44dc-d8c2-ced7e839f184",
        "id": "trz2ZPmuQzl8"
      },
      "execution_count": null,
      "outputs": [
        {
          "output_type": "stream",
          "name": "stdout",
          "text": [
            "Epoch 1/20\n",
            "70/70 - 1s - loss: 1.5437 - sparse_categorical_accuracy: 0.4767 - val_loss: 0.6646 - val_sparse_categorical_accuracy: 0.6040 - 690ms/epoch - 10ms/step\n",
            "Epoch 2/20\n",
            "70/70 - 0s - loss: 0.6438 - sparse_categorical_accuracy: 0.6154 - val_loss: 0.6245 - val_sparse_categorical_accuracy: 0.6316 - 176ms/epoch - 3ms/step\n",
            "Epoch 3/20\n",
            "70/70 - 0s - loss: 0.6061 - sparse_categorical_accuracy: 0.6471 - val_loss: 0.6303 - val_sparse_categorical_accuracy: 0.6229 - 179ms/epoch - 3ms/step\n",
            "Epoch 4/20\n",
            "70/70 - 0s - loss: 0.5865 - sparse_categorical_accuracy: 0.6720 - val_loss: 0.6097 - val_sparse_categorical_accuracy: 0.6269 - 182ms/epoch - 3ms/step\n",
            "Epoch 5/20\n",
            "70/70 - 0s - loss: 0.5691 - sparse_categorical_accuracy: 0.6857 - val_loss: 0.5514 - val_sparse_categorical_accuracy: 0.7212 - 190ms/epoch - 3ms/step\n",
            "Epoch 6/20\n",
            "70/70 - 0s - loss: 0.5364 - sparse_categorical_accuracy: 0.7194 - val_loss: 0.5340 - val_sparse_categorical_accuracy: 0.7199 - 185ms/epoch - 3ms/step\n",
            "Epoch 7/20\n",
            "70/70 - 0s - loss: 0.5221 - sparse_categorical_accuracy: 0.7277 - val_loss: 0.5031 - val_sparse_categorical_accuracy: 0.7582 - 151ms/epoch - 2ms/step\n",
            "Epoch 8/20\n",
            "70/70 - 0s - loss: 0.4895 - sparse_categorical_accuracy: 0.7548 - val_loss: 0.5332 - val_sparse_categorical_accuracy: 0.7232 - 138ms/epoch - 2ms/step\n",
            "Epoch 9/20\n",
            "70/70 - 0s - loss: 0.4763 - sparse_categorical_accuracy: 0.7696 - val_loss: 0.4750 - val_sparse_categorical_accuracy: 0.7899 - 183ms/epoch - 3ms/step\n",
            "Epoch 10/20\n",
            "70/70 - 0s - loss: 0.4548 - sparse_categorical_accuracy: 0.7872 - val_loss: 0.4600 - val_sparse_categorical_accuracy: 0.8020 - 143ms/epoch - 2ms/step\n",
            "Epoch 11/20\n",
            "70/70 - 0s - loss: 0.4465 - sparse_categorical_accuracy: 0.7892 - val_loss: 0.4565 - val_sparse_categorical_accuracy: 0.7838 - 169ms/epoch - 2ms/step\n",
            "Epoch 12/20\n",
            "70/70 - 0s - loss: 0.4481 - sparse_categorical_accuracy: 0.7885 - val_loss: 0.4550 - val_sparse_categorical_accuracy: 0.8135 - 180ms/epoch - 3ms/step\n",
            "Epoch 13/20\n",
            "70/70 - 0s - loss: 0.4355 - sparse_categorical_accuracy: 0.8015 - val_loss: 0.4560 - val_sparse_categorical_accuracy: 0.8054 - 178ms/epoch - 3ms/step\n",
            "Epoch 14/20\n",
            "70/70 - 0s - loss: 0.4323 - sparse_categorical_accuracy: 0.8067 - val_loss: 0.4695 - val_sparse_categorical_accuracy: 0.7845 - 193ms/epoch - 3ms/step\n",
            "Epoch 15/20\n",
            "70/70 - 0s - loss: 0.4274 - sparse_categorical_accuracy: 0.8074 - val_loss: 0.4600 - val_sparse_categorical_accuracy: 0.8108 - 145ms/epoch - 2ms/step\n",
            "Epoch 16/20\n",
            "70/70 - 0s - loss: 0.4289 - sparse_categorical_accuracy: 0.8069 - val_loss: 0.4518 - val_sparse_categorical_accuracy: 0.8007 - 186ms/epoch - 3ms/step\n",
            "Epoch 17/20\n",
            "70/70 - 0s - loss: 0.4287 - sparse_categorical_accuracy: 0.8089 - val_loss: 0.4466 - val_sparse_categorical_accuracy: 0.8094 - 181ms/epoch - 3ms/step\n",
            "Epoch 18/20\n",
            "70/70 - 0s - loss: 0.4235 - sparse_categorical_accuracy: 0.8065 - val_loss: 0.4447 - val_sparse_categorical_accuracy: 0.8101 - 141ms/epoch - 2ms/step\n",
            "Epoch 19/20\n",
            "70/70 - 0s - loss: 0.4267 - sparse_categorical_accuracy: 0.8060 - val_loss: 0.4556 - val_sparse_categorical_accuracy: 0.8067 - 138ms/epoch - 2ms/step\n",
            "Epoch 20/20\n",
            "70/70 - 0s - loss: 0.4242 - sparse_categorical_accuracy: 0.8051 - val_loss: 0.4985 - val_sparse_categorical_accuracy: 0.7663 - 149ms/epoch - 2ms/step\n"
          ]
        }
      ]
    },
    {
      "cell_type": "code",
      "source": [
        "# Plot the training and validation loss\n",
        "\n",
        "plt.plot(history.history['loss'])\n",
        "plt.plot(history.history['val_loss'])\n",
        "plt.title('Loss vs. epochs')\n",
        "plt.ylabel('Loss')\n",
        "plt.xlabel('Epoch')\n",
        "plt.legend(['Training', 'Validation'], loc='upper right')\n",
        "plt.show()"
      ],
      "metadata": {
        "colab": {
          "base_uri": "https://localhost:8080/",
          "height": 295
        },
        "outputId": "93ccc979-6206-477f-f14b-dc5c1d476fbc",
        "id": "2_m6AEfqQzl8"
      },
      "execution_count": null,
      "outputs": [
        {
          "output_type": "display_data",
          "data": {
            "text/plain": [
              "<Figure size 432x288 with 1 Axes>"
            ],
            "image/png": "[encoded data removed]"
          },
          "metadata": {
            "needs_background": "light"
          }
        }
      ]
    },
    {
      "cell_type": "code",
      "metadata": {
        "colab": {
          "base_uri": "https://localhost:8080/"
        },
        "outputId": "28a93e1a-1c95-4cfc-b08f-016fa2e6cc4f",
        "id": "lW8ODw4VVZK1"
      },
      "source": [
        "train_loss, train_accuracy = model.evaluate(x_train, y_train)\n",
        "train_accuracy"
      ],
      "execution_count": null,
      "outputs": [
        {
          "output_type": "stream",
          "name": "stdout",
          "text": [
            "186/186 [==============================] - 0s 1ms/step - loss: 0.4788 - sparse_categorical_accuracy: 0.7779\n"
          ]
        },
        {
          "output_type": "execute_result",
          "data": {
            "text/plain": [
              "0.7779087424278259"
            ]
          },
          "metadata": {},
          "execution_count": 69
        }
      ]
    },
    {
      "cell_type": "code",
      "metadata": {
        "colab": {
          "base_uri": "https://localhost:8080/"
        },
        "outputId": "0bca2479-9a03-48d1-81cf-16b0ba1d2368",
        "id": "MN9xwNTTQzl9"
      },
      "source": [
        "test_loss, test_accuracy = model.evaluate(x_test, y_test)\n",
        "test_accuracy"
      ],
      "execution_count": null,
      "outputs": [
        {
          "output_type": "stream",
          "name": "stdout",
          "text": [
            "47/47 [==============================] - 0s 1ms/step - loss: 0.4661 - sparse_categorical_accuracy: 0.7865\n"
          ]
        },
        {
          "output_type": "execute_result",
          "data": {
            "text/plain": [
              "0.7865319848060608"
            ]
          },
          "metadata": {},
          "execution_count": 70
        }
      ]
    },
    {
      "cell_type": "markdown",
      "source": [
        "## 3 Layer NN"
      ],
      "metadata": {
        "id": "pDkJI8WFQ0FL"
      }
    },
    {
      "cell_type": "code",
      "source": [
        "model = Sequential([\n",
        "                    Dense(64, activation = 'relu', input_shape = (15,)),\n",
        "                    Dense(64, activation = 'relu'),\n",
        "                    Dense(64, activation = 'sigmoid')\n",
        "                   ])"
      ],
      "metadata": {
        "id": "wXEBgG-iQ0FM"
      },
      "execution_count": null,
      "outputs": []
    },
    {
      "cell_type": "code",
      "source": [
        "# compile the model\n",
        "\n",
        "model.compile(optimizer = tf.keras.optimizers.Adam(learning_rate = 0.003),\n",
        "              loss='sparse_categorical_crossentropy', #Use this loss function when y labels are integers\n",
        "              metrics = [tf.keras.metrics.SparseCategoricalAccuracy()]) #use this accuracy when ylabels are integers"
      ],
      "metadata": {
        "id": "1e6dLl0TQ0FM"
      },
      "execution_count": null,
      "outputs": []
    },
    {
      "cell_type": "code",
      "source": [
        "# fit the model with validation set\n",
        "\n",
        "history = model.fit(x_train, y_train, epochs=20,batch_size=64, verbose = 2,validation_split = 0.25)"
      ],
      "metadata": {
        "colab": {
          "base_uri": "https://localhost:8080/"
        },
        "outputId": "d8f8df1f-626d-43ca-a54e-5a1dd3f8ab3f",
        "id": "aw66oXCWQ0FM"
      },
      "execution_count": null,
      "outputs": [
        {
          "output_type": "stream",
          "name": "stdout",
          "text": [
            "Epoch 1/20\n",
            "70/70 - 1s - loss: 0.9133 - sparse_categorical_accuracy: 0.5732 - val_loss: 0.6249 - val_sparse_categorical_accuracy: 0.6444 - 655ms/epoch - 9ms/step\n",
            "Epoch 2/20\n",
            "70/70 - 0s - loss: 0.6097 - sparse_categorical_accuracy: 0.6533 - val_loss: 0.5890 - val_sparse_categorical_accuracy: 0.6620 - 204ms/epoch - 3ms/step\n",
            "Epoch 3/20\n",
            "70/70 - 0s - loss: 0.5520 - sparse_categorical_accuracy: 0.7106 - val_loss: 0.5946 - val_sparse_categorical_accuracy: 0.6795 - 151ms/epoch - 2ms/step\n",
            "Epoch 4/20\n",
            "70/70 - 0s - loss: 0.5008 - sparse_categorical_accuracy: 0.7564 - val_loss: 0.4865 - val_sparse_categorical_accuracy: 0.7764 - 193ms/epoch - 3ms/step\n",
            "Epoch 5/20\n",
            "70/70 - 0s - loss: 0.4606 - sparse_categorical_accuracy: 0.7820 - val_loss: 0.4651 - val_sparse_categorical_accuracy: 0.7771 - 193ms/epoch - 3ms/step\n",
            "Epoch 6/20\n",
            "70/70 - 0s - loss: 0.4502 - sparse_categorical_accuracy: 0.7847 - val_loss: 0.5705 - val_sparse_categorical_accuracy: 0.7199 - 194ms/epoch - 3ms/step\n",
            "Epoch 7/20\n",
            "70/70 - 0s - loss: 0.4408 - sparse_categorical_accuracy: 0.7939 - val_loss: 0.4599 - val_sparse_categorical_accuracy: 0.7798 - 163ms/epoch - 2ms/step\n",
            "Epoch 8/20\n",
            "70/70 - 0s - loss: 0.4228 - sparse_categorical_accuracy: 0.8076 - val_loss: 0.6129 - val_sparse_categorical_accuracy: 0.7138 - 145ms/epoch - 2ms/step\n",
            "Epoch 9/20\n",
            "70/70 - 0s - loss: 0.4323 - sparse_categorical_accuracy: 0.8020 - val_loss: 0.4498 - val_sparse_categorical_accuracy: 0.8013 - 148ms/epoch - 2ms/step\n",
            "Epoch 10/20\n",
            "70/70 - 0s - loss: 0.4273 - sparse_categorical_accuracy: 0.8018 - val_loss: 0.4537 - val_sparse_categorical_accuracy: 0.7892 - 190ms/epoch - 3ms/step\n",
            "Epoch 11/20\n",
            "70/70 - 0s - loss: 0.4052 - sparse_categorical_accuracy: 0.8172 - val_loss: 0.4482 - val_sparse_categorical_accuracy: 0.8020 - 148ms/epoch - 2ms/step\n",
            "Epoch 12/20\n",
            "70/70 - 0s - loss: 0.4270 - sparse_categorical_accuracy: 0.8035 - val_loss: 0.4588 - val_sparse_categorical_accuracy: 0.7872 - 151ms/epoch - 2ms/step\n",
            "Epoch 13/20\n",
            "70/70 - 0s - loss: 0.4152 - sparse_categorical_accuracy: 0.8139 - val_loss: 0.4597 - val_sparse_categorical_accuracy: 0.7879 - 189ms/epoch - 3ms/step\n",
            "Epoch 14/20\n",
            "70/70 - 0s - loss: 0.4100 - sparse_categorical_accuracy: 0.8141 - val_loss: 0.4535 - val_sparse_categorical_accuracy: 0.7987 - 155ms/epoch - 2ms/step\n",
            "Epoch 15/20\n",
            "70/70 - 0s - loss: 0.4373 - sparse_categorical_accuracy: 0.7946 - val_loss: 0.4454 - val_sparse_categorical_accuracy: 0.8047 - 179ms/epoch - 3ms/step\n",
            "Epoch 16/20\n",
            "70/70 - 0s - loss: 0.4099 - sparse_categorical_accuracy: 0.8087 - val_loss: 0.4886 - val_sparse_categorical_accuracy: 0.7717 - 199ms/epoch - 3ms/step\n",
            "Epoch 17/20\n",
            "70/70 - 0s - loss: 0.4017 - sparse_categorical_accuracy: 0.8184 - val_loss: 0.5207 - val_sparse_categorical_accuracy: 0.7650 - 158ms/epoch - 2ms/step\n",
            "Epoch 18/20\n",
            "70/70 - 0s - loss: 0.4049 - sparse_categorical_accuracy: 0.8110 - val_loss: 0.4460 - val_sparse_categorical_accuracy: 0.8040 - 192ms/epoch - 3ms/step\n",
            "Epoch 19/20\n",
            "70/70 - 0s - loss: 0.4010 - sparse_categorical_accuracy: 0.8193 - val_loss: 0.4365 - val_sparse_categorical_accuracy: 0.8027 - 147ms/epoch - 2ms/step\n",
            "Epoch 20/20\n",
            "70/70 - 0s - loss: 0.4027 - sparse_categorical_accuracy: 0.8132 - val_loss: 0.4708 - val_sparse_categorical_accuracy: 0.7879 - 153ms/epoch - 2ms/step\n"
          ]
        }
      ]
    },
    {
      "cell_type": "code",
      "source": [
        "# Plot the training and validation loss\n",
        "\n",
        "plt.plot(history.history['loss'])\n",
        "plt.plot(history.history['val_loss'])\n",
        "plt.title('Loss vs. epochs')\n",
        "plt.ylabel('Loss')\n",
        "plt.xlabel('Epoch')\n",
        "plt.legend(['Training', 'Validation'], loc='upper right')\n",
        "plt.show()"
      ],
      "metadata": {
        "colab": {
          "base_uri": "https://localhost:8080/",
          "height": 295
        },
        "outputId": "aaf5e672-ca55-478a-9c7f-c0a3fa2692ff",
        "id": "xn0pwyJxQ0FN"
      },
      "execution_count": null,
      "outputs": [
        {
          "output_type": "display_data",
          "data": {
            "text/plain": [
              "<Figure size 432x288 with 1 Axes>"
            ],
            "image/png": "[encoded data removed]"
          },
          "metadata": {
            "needs_background": "light"
          }
        }
      ]
    },
    {
      "cell_type": "code",
      "metadata": {
        "colab": {
          "base_uri": "https://localhost:8080/"
        },
        "outputId": "a77bb740-22e8-434f-e9c1-450dcc708df6",
        "id": "y5Ol9WUrVaoz"
      },
      "source": [
        "train_loss, train_accuracy = model.evaluate(x_train, y_train)\n",
        "train_accuracy"
      ],
      "execution_count": null,
      "outputs": [
        {
          "output_type": "stream",
          "name": "stdout",
          "text": [
            "186/186 [==============================] - 0s 1ms/step - loss: 0.4265 - sparse_categorical_accuracy: 0.8048\n"
          ]
        },
        {
          "output_type": "execute_result",
          "data": {
            "text/plain": [
              "0.8048493266105652"
            ]
          },
          "metadata": {},
          "execution_count": 75
        }
      ]
    },
    {
      "cell_type": "code",
      "metadata": {
        "colab": {
          "base_uri": "https://localhost:8080/"
        },
        "outputId": "c9c18179-c057-4604-a37c-a3e565e9e5bb",
        "id": "IhqGHq_0Q0FN"
      },
      "source": [
        "test_loss, test_accuracy = model.evaluate(x_test, y_test)\n",
        "test_accuracy"
      ],
      "execution_count": null,
      "outputs": [
        {
          "output_type": "stream",
          "name": "stdout",
          "text": [
            "47/47 [==============================] - 0s 1ms/step - loss: 0.4233 - sparse_categorical_accuracy: 0.8007\n"
          ]
        },
        {
          "output_type": "execute_result",
          "data": {
            "text/plain": [
              "0.8006734251976013"
            ]
          },
          "metadata": {},
          "execution_count": 76
        }
      ]
    },
    {
      "cell_type": "markdown",
      "source": [
        "# Optimization "
      ],
      "metadata": {
        "id": "7Mnm2T18ZuD-"
      }
    },
    {
      "cell_type": "markdown",
      "source": [
        "## Best 3-layer Adam's"
      ],
      "metadata": {
        "id": "hxEzPKjYZ7OZ"
      }
    },
    {
      "cell_type": "code",
      "source": [
        "model = Sequential([\n",
        "                    Dense(16, activation = 'relu', input_shape = (15,)),\n",
        "                    Dense(32, activation = 'relu'),\n",
        "                    Dense(64, activation = 'sigmoid')\n",
        "                   ])"
      ],
      "metadata": {
        "id": "sZY5zOn7Z7Oa"
      },
      "execution_count": null,
      "outputs": []
    },
    {
      "cell_type": "code",
      "source": [
        "# compile the model\n",
        "\n",
        "model.compile(optimizer = tf.keras.optimizers.Adam(learning_rate = 0.003),\n",
        "              loss='sparse_categorical_crossentropy', #Use this loss function when y labels are integers\n",
        "              metrics = [tf.keras.metrics.SparseCategoricalAccuracy()]) #use this accuracy when ylabels are integers"
      ],
      "metadata": {
        "id": "-aMiia_MZ7Oa"
      },
      "execution_count": null,
      "outputs": []
    },
    {
      "cell_type": "code",
      "source": [
        "# fit the model with validation set\n",
        "\n",
        "history = model.fit(x_train, y_train, epochs=20,batch_size=64, verbose = 2,validation_split = 0.25)"
      ],
      "metadata": {
        "colab": {
          "base_uri": "https://localhost:8080/"
        },
        "outputId": "33871979-1291-4972-ea56-19ced13066b5",
        "id": "FTYQjclsZ7Ob"
      },
      "execution_count": null,
      "outputs": [
        {
          "output_type": "stream",
          "name": "stdout",
          "text": [
            "Epoch 1/20\n",
            "70/70 - 1s - loss: 1.5441 - sparse_categorical_accuracy: 0.4708 - val_loss: 0.6605 - val_sparse_categorical_accuracy: 0.5939 - 630ms/epoch - 9ms/step\n",
            "Epoch 2/20\n",
            "70/70 - 0s - loss: 0.6478 - sparse_categorical_accuracy: 0.6176 - val_loss: 0.6258 - val_sparse_categorical_accuracy: 0.6451 - 143ms/epoch - 2ms/step\n",
            "Epoch 3/20\n",
            "70/70 - 0s - loss: 0.6091 - sparse_categorical_accuracy: 0.6545 - val_loss: 0.5983 - val_sparse_categorical_accuracy: 0.6727 - 186ms/epoch - 3ms/step\n",
            "Epoch 4/20\n",
            "70/70 - 0s - loss: 0.5889 - sparse_categorical_accuracy: 0.6740 - val_loss: 0.5677 - val_sparse_categorical_accuracy: 0.7071 - 190ms/epoch - 3ms/step\n",
            "Epoch 5/20\n",
            "70/70 - 0s - loss: 0.5522 - sparse_categorical_accuracy: 0.7101 - val_loss: 0.5445 - val_sparse_categorical_accuracy: 0.7333 - 157ms/epoch - 2ms/step\n",
            "Epoch 6/20\n",
            "70/70 - 0s - loss: 0.5255 - sparse_categorical_accuracy: 0.7375 - val_loss: 0.5342 - val_sparse_categorical_accuracy: 0.7064 - 174ms/epoch - 2ms/step\n",
            "Epoch 7/20\n",
            "70/70 - 0s - loss: 0.5046 - sparse_categorical_accuracy: 0.7557 - val_loss: 0.4861 - val_sparse_categorical_accuracy: 0.7690 - 137ms/epoch - 2ms/step\n",
            "Epoch 8/20\n",
            "70/70 - 0s - loss: 0.4768 - sparse_categorical_accuracy: 0.7764 - val_loss: 0.4882 - val_sparse_categorical_accuracy: 0.7508 - 150ms/epoch - 2ms/step\n",
            "Epoch 9/20\n",
            "70/70 - 0s - loss: 0.4631 - sparse_categorical_accuracy: 0.7820 - val_loss: 0.4775 - val_sparse_categorical_accuracy: 0.7879 - 216ms/epoch - 3ms/step\n",
            "Epoch 10/20\n",
            "70/70 - 0s - loss: 0.4472 - sparse_categorical_accuracy: 0.7979 - val_loss: 0.4613 - val_sparse_categorical_accuracy: 0.7953 - 148ms/epoch - 2ms/step\n",
            "Epoch 11/20\n",
            "70/70 - 0s - loss: 0.4446 - sparse_categorical_accuracy: 0.7966 - val_loss: 0.4525 - val_sparse_categorical_accuracy: 0.8034 - 183ms/epoch - 3ms/step\n",
            "Epoch 12/20\n",
            "70/70 - 0s - loss: 0.4398 - sparse_categorical_accuracy: 0.7970 - val_loss: 0.4508 - val_sparse_categorical_accuracy: 0.7993 - 186ms/epoch - 3ms/step\n",
            "Epoch 13/20\n",
            "70/70 - 0s - loss: 0.4308 - sparse_categorical_accuracy: 0.8062 - val_loss: 0.4665 - val_sparse_categorical_accuracy: 0.7852 - 184ms/epoch - 3ms/step\n",
            "Epoch 14/20\n",
            "70/70 - 0s - loss: 0.4308 - sparse_categorical_accuracy: 0.8083 - val_loss: 0.4499 - val_sparse_categorical_accuracy: 0.8027 - 171ms/epoch - 2ms/step\n",
            "Epoch 15/20\n",
            "70/70 - 0s - loss: 0.4373 - sparse_categorical_accuracy: 0.8022 - val_loss: 0.4571 - val_sparse_categorical_accuracy: 0.7939 - 183ms/epoch - 3ms/step\n",
            "Epoch 16/20\n",
            "70/70 - 0s - loss: 0.4319 - sparse_categorical_accuracy: 0.8103 - val_loss: 0.4706 - val_sparse_categorical_accuracy: 0.8034 - 143ms/epoch - 2ms/step\n",
            "Epoch 17/20\n",
            "70/70 - 0s - loss: 0.4250 - sparse_categorical_accuracy: 0.8094 - val_loss: 0.4687 - val_sparse_categorical_accuracy: 0.7859 - 172ms/epoch - 2ms/step\n",
            "Epoch 18/20\n",
            "70/70 - 0s - loss: 0.4280 - sparse_categorical_accuracy: 0.8101 - val_loss: 0.4548 - val_sparse_categorical_accuracy: 0.8128 - 170ms/epoch - 2ms/step\n",
            "Epoch 19/20\n",
            "70/70 - 0s - loss: 0.4299 - sparse_categorical_accuracy: 0.8024 - val_loss: 0.5058 - val_sparse_categorical_accuracy: 0.7522 - 149ms/epoch - 2ms/step\n",
            "Epoch 20/20\n",
            "70/70 - 0s - loss: 0.4484 - sparse_categorical_accuracy: 0.7930 - val_loss: 0.4601 - val_sparse_categorical_accuracy: 0.8101 - 162ms/epoch - 2ms/step\n"
          ]
        }
      ]
    },
    {
      "cell_type": "code",
      "source": [
        "# Plot the training and validation loss\n",
        "\n",
        "plt.plot(history.history['loss'])\n",
        "plt.plot(history.history['val_loss'])\n",
        "plt.title('Loss vs. epochs')\n",
        "plt.ylabel('Loss')\n",
        "plt.xlabel('Epoch')\n",
        "plt.legend(['Training', 'Validation'], loc='upper right')\n",
        "plt.show()"
      ],
      "metadata": {
        "colab": {
          "base_uri": "https://localhost:8080/",
          "height": 295
        },
        "outputId": "f7b3cec4-4ae6-4d71-a151-667df07e1982",
        "id": "GIWqx3vmZ7Ob"
      },
      "execution_count": null,
      "outputs": [
        {
          "output_type": "display_data",
          "data": {
            "text/plain": [
              "<Figure size 432x288 with 1 Axes>"
            ],
            "image/png": "[encoded data removed]"
          },
          "metadata": {
            "needs_background": "light"
          }
        }
      ]
    },
    {
      "cell_type": "code",
      "metadata": {
        "colab": {
          "base_uri": "https://localhost:8080/"
        },
        "outputId": "f6957aa3-64ab-4130-a2ac-a09806829b6e",
        "id": "VDA6WIzIZ7Ob"
      },
      "source": [
        "train_loss, train_accuracy = model.evaluate(x_train, y_train)\n",
        "train_accuracy"
      ],
      "execution_count": null,
      "outputs": [
        {
          "output_type": "stream",
          "name": "stdout",
          "text": [
            "186/186 [==============================] - 0s 1ms/step - loss: 0.4366 - sparse_categorical_accuracy: 0.8158\n"
          ]
        },
        {
          "output_type": "execute_result",
          "data": {
            "text/plain": [
              "0.8157939314842224"
            ]
          },
          "metadata": {},
          "execution_count": 81
        }
      ]
    },
    {
      "cell_type": "code",
      "metadata": {
        "colab": {
          "base_uri": "https://localhost:8080/"
        },
        "outputId": "4f954a3f-14ea-44b0-f664-3672b5bde35a",
        "id": "xHO0o9TcZ7Ob"
      },
      "source": [
        "test_loss, test_accuracy = model.evaluate(x_test, y_test)\n",
        "test_accuracy"
      ],
      "execution_count": null,
      "outputs": [
        {
          "output_type": "stream",
          "name": "stdout",
          "text": [
            "47/47 [==============================] - 0s 1ms/step - loss: 0.4212 - sparse_categorical_accuracy: 0.8162\n"
          ]
        },
        {
          "output_type": "execute_result",
          "data": {
            "text/plain": [
              "0.8161616325378418"
            ]
          },
          "metadata": {},
          "execution_count": 82
        }
      ]
    },
    {
      "cell_type": "markdown",
      "source": [
        "## Best 3-layer Gradeint Descent with Momentum"
      ],
      "metadata": {
        "id": "WnKb5vfGadF9"
      }
    },
    {
      "cell_type": "code",
      "source": [
        "model = Sequential([\n",
        "                    Dense(16, activation = 'relu', input_shape = (15,)),\n",
        "                    Dense(32, activation = 'relu'),\n",
        "                    Dense(64, activation = 'sigmoid')\n",
        "                   ])"
      ],
      "metadata": {
        "id": "gsbVvHIVadGA"
      },
      "execution_count": null,
      "outputs": []
    },
    {
      "cell_type": "code",
      "source": [
        "# compile the model\n",
        "\n",
        "model.compile(optimizer = tf.optimizers.SGD(learning_rate = 0.003),\n",
        "              loss='sparse_categorical_crossentropy', \n",
        "              metrics = [tf.keras.metrics.SparseCategoricalAccuracy()]) #use this accuracy when ylabels are integers"
      ],
      "metadata": {
        "id": "asTIIFC1adGB"
      },
      "execution_count": null,
      "outputs": []
    },
    {
      "cell_type": "code",
      "source": [
        "# fit the model with validation set\n",
        "\n",
        "history = model.fit(x_train, y_train, epochs=20,batch_size=64, verbose = 2,validation_split = 0.25)"
      ],
      "metadata": {
        "colab": {
          "base_uri": "https://localhost:8080/"
        },
        "outputId": "da90feb3-519c-41d9-d619-34a83e1936be",
        "id": "hk9KlrmZadGB"
      },
      "execution_count": null,
      "outputs": [
        {
          "output_type": "stream",
          "name": "stdout",
          "text": [
            "Epoch 1/20\n",
            "70/70 - 1s - loss: 2.8478 - sparse_categorical_accuracy: 0.4212 - val_loss: 1.3732 - val_sparse_categorical_accuracy: 0.5024 - 581ms/epoch - 8ms/step\n",
            "Epoch 2/20\n",
            "70/70 - 0s - loss: 0.9680 - sparse_categorical_accuracy: 0.5251 - val_loss: 0.8028 - val_sparse_categorical_accuracy: 0.5529 - 131ms/epoch - 2ms/step\n",
            "Epoch 3/20\n",
            "70/70 - 0s - loss: 0.7663 - sparse_categorical_accuracy: 0.5395 - val_loss: 0.7377 - val_sparse_categorical_accuracy: 0.5717 - 127ms/epoch - 2ms/step\n",
            "Epoch 4/20\n",
            "70/70 - 0s - loss: 0.7273 - sparse_categorical_accuracy: 0.5492 - val_loss: 0.7149 - val_sparse_categorical_accuracy: 0.5448 - 166ms/epoch - 2ms/step\n",
            "Epoch 5/20\n",
            "70/70 - 0s - loss: 0.7101 - sparse_categorical_accuracy: 0.5566 - val_loss: 0.7030 - val_sparse_categorical_accuracy: 0.5993 - 168ms/epoch - 2ms/step\n",
            "Epoch 6/20\n",
            "70/70 - 0s - loss: 0.7002 - sparse_categorical_accuracy: 0.5739 - val_loss: 0.6957 - val_sparse_categorical_accuracy: 0.5744 - 175ms/epoch - 3ms/step\n",
            "Epoch 7/20\n",
            "70/70 - 0s - loss: 0.6929 - sparse_categorical_accuracy: 0.5775 - val_loss: 0.6903 - val_sparse_categorical_accuracy: 0.6040 - 159ms/epoch - 2ms/step\n",
            "Epoch 8/20\n",
            "70/70 - 0s - loss: 0.6873 - sparse_categorical_accuracy: 0.5900 - val_loss: 0.6876 - val_sparse_categorical_accuracy: 0.6040 - 128ms/epoch - 2ms/step\n",
            "Epoch 9/20\n",
            "70/70 - 0s - loss: 0.6835 - sparse_categorical_accuracy: 0.5889 - val_loss: 0.6825 - val_sparse_categorical_accuracy: 0.6000 - 167ms/epoch - 2ms/step\n",
            "Epoch 10/20\n",
            "70/70 - 0s - loss: 0.6811 - sparse_categorical_accuracy: 0.5909 - val_loss: 0.6800 - val_sparse_categorical_accuracy: 0.6000 - 171ms/epoch - 2ms/step\n",
            "Epoch 11/20\n",
            "70/70 - 0s - loss: 0.6780 - sparse_categorical_accuracy: 0.5972 - val_loss: 0.6886 - val_sparse_categorical_accuracy: 0.5744 - 140ms/epoch - 2ms/step\n",
            "Epoch 12/20\n",
            "70/70 - 0s - loss: 0.6758 - sparse_categorical_accuracy: 0.6024 - val_loss: 0.6800 - val_sparse_categorical_accuracy: 0.5953 - 138ms/epoch - 2ms/step\n",
            "Epoch 13/20\n",
            "70/70 - 0s - loss: 0.6733 - sparse_categorical_accuracy: 0.5972 - val_loss: 0.6753 - val_sparse_categorical_accuracy: 0.5973 - 130ms/epoch - 2ms/step\n",
            "Epoch 14/20\n",
            "70/70 - 0s - loss: 0.6724 - sparse_categorical_accuracy: 0.5945 - val_loss: 0.6764 - val_sparse_categorical_accuracy: 0.5912 - 133ms/epoch - 2ms/step\n",
            "Epoch 15/20\n",
            "70/70 - 0s - loss: 0.6701 - sparse_categorical_accuracy: 0.6004 - val_loss: 0.6728 - val_sparse_categorical_accuracy: 0.5993 - 126ms/epoch - 2ms/step\n",
            "Epoch 16/20\n",
            "70/70 - 0s - loss: 0.6690 - sparse_categorical_accuracy: 0.6057 - val_loss: 0.6710 - val_sparse_categorical_accuracy: 0.5980 - 174ms/epoch - 2ms/step\n",
            "Epoch 17/20\n",
            "70/70 - 0s - loss: 0.6667 - sparse_categorical_accuracy: 0.6051 - val_loss: 0.6699 - val_sparse_categorical_accuracy: 0.5993 - 169ms/epoch - 2ms/step\n",
            "Epoch 18/20\n",
            "70/70 - 0s - loss: 0.6666 - sparse_categorical_accuracy: 0.6004 - val_loss: 0.6722 - val_sparse_categorical_accuracy: 0.5859 - 132ms/epoch - 2ms/step\n",
            "Epoch 19/20\n",
            "70/70 - 0s - loss: 0.6645 - sparse_categorical_accuracy: 0.6111 - val_loss: 0.6691 - val_sparse_categorical_accuracy: 0.5939 - 176ms/epoch - 3ms/step\n",
            "Epoch 20/20\n",
            "70/70 - 0s - loss: 0.6643 - sparse_categorical_accuracy: 0.6033 - val_loss: 0.6671 - val_sparse_categorical_accuracy: 0.5953 - 128ms/epoch - 2ms/step\n"
          ]
        }
      ]
    },
    {
      "cell_type": "code",
      "source": [
        "# Plot the training and validation loss\n",
        "\n",
        "plt.plot(history.history['loss'])\n",
        "plt.plot(history.history['val_loss'])\n",
        "plt.title('Loss vs. epochs')\n",
        "plt.ylabel('Loss')\n",
        "plt.xlabel('Epoch')\n",
        "plt.legend(['Training', 'Validation'], loc='upper right')\n",
        "plt.show()"
      ],
      "metadata": {
        "colab": {
          "base_uri": "https://localhost:8080/",
          "height": 295
        },
        "outputId": "3f77374d-0591-4319-c047-561533ae64ef",
        "id": "xcfGuwxLadGC"
      },
      "execution_count": null,
      "outputs": [
        {
          "output_type": "display_data",
          "data": {
            "text/plain": [
              "<Figure size 432x288 with 1 Axes>"
            ],
            "image/png": "[encoded data removed]"
          },
          "metadata": {
            "needs_background": "light"
          }
        }
      ]
    },
    {
      "cell_type": "code",
      "metadata": {
        "colab": {
          "base_uri": "https://localhost:8080/"
        },
        "outputId": "5ae6ec7b-20d9-4d66-e428-9364220b42ef",
        "id": "VY72ATOZadGD"
      },
      "source": [
        "train_loss, train_accuracy = model.evaluate(x_train, y_train)\n",
        "train_accuracy"
      ],
      "execution_count": null,
      "outputs": [
        {
          "output_type": "stream",
          "name": "stdout",
          "text": [
            "186/186 [==============================] - 0s 1ms/step - loss: 0.6626 - sparse_categorical_accuracy: 0.5991\n"
          ]
        },
        {
          "output_type": "execute_result",
          "data": {
            "text/plain": [
              "0.5990907549858093"
            ]
          },
          "metadata": {},
          "execution_count": 87
        }
      ]
    },
    {
      "cell_type": "code",
      "metadata": {
        "colab": {
          "base_uri": "https://localhost:8080/"
        },
        "outputId": "8d76978a-1e72-4be9-d6b3-b86c343d4602",
        "id": "5nJOl22YadGD"
      },
      "source": [
        "test_loss, test_accuracy = model.evaluate(x_test, y_test)\n",
        "test_accuracy"
      ],
      "execution_count": null,
      "outputs": [
        {
          "output_type": "stream",
          "name": "stdout",
          "text": [
            "47/47 [==============================] - 0s 1ms/step - loss: 0.6657 - sparse_categorical_accuracy: 0.5953\n"
          ]
        },
        {
          "output_type": "execute_result",
          "data": {
            "text/plain": [
              "0.5952861905097961"
            ]
          },
          "metadata": {},
          "execution_count": 88
        }
      ]
    },
    {
      "cell_type": "markdown",
      "source": [
        "## Best 3-layer Adaptive GD"
      ],
      "metadata": {
        "id": "byl9PmSVcIVI"
      }
    },
    {
      "cell_type": "code",
      "source": [
        "model = Sequential([\n",
        "                    Dense(16, activation = 'relu', input_shape = (15,)),\n",
        "                    Dense(32, activation = 'relu'),\n",
        "                    Dense(64, activation = 'sigmoid')\n",
        "                   ])"
      ],
      "metadata": {
        "id": "5ZIVQkg7cIVK"
      },
      "execution_count": null,
      "outputs": []
    },
    {
      "cell_type": "code",
      "source": [
        "# compile the model\n",
        "\n",
        "model.compile(optimizer = tf.optimizers.Adagrad(learning_rate = 0.003),\n",
        "              loss='sparse_categorical_crossentropy', \n",
        "              metrics = [tf.keras.metrics.SparseCategoricalAccuracy()]) #use this accuracy when ylabels are integers"
      ],
      "metadata": {
        "id": "7jLXctRWcIVK"
      },
      "execution_count": null,
      "outputs": []
    },
    {
      "cell_type": "code",
      "source": [
        "# fit the model with validation set\n",
        "\n",
        "history = model.fit(x_train, y_train, epochs=20,batch_size=64, verbose = 2,validation_split = 0.25)"
      ],
      "metadata": {
        "colab": {
          "base_uri": "https://localhost:8080/"
        },
        "outputId": "e6871389-bc49-4720-84da-1f52440d4500",
        "id": "2Bp9Xkw-cIVK"
      },
      "execution_count": null,
      "outputs": [
        {
          "output_type": "stream",
          "name": "stdout",
          "text": [
            "Epoch 1/20\n",
            "70/70 - 1s - loss: 3.2659 - sparse_categorical_accuracy: 0.1376 - val_loss: 2.2663 - val_sparse_categorical_accuracy: 0.4687 - 572ms/epoch - 8ms/step\n",
            "Epoch 2/20\n",
            "70/70 - 0s - loss: 1.6645 - sparse_categorical_accuracy: 0.5115 - val_loss: 1.2388 - val_sparse_categorical_accuracy: 0.5017 - 162ms/epoch - 2ms/step\n",
            "Epoch 3/20\n",
            "70/70 - 0s - loss: 1.0499 - sparse_categorical_accuracy: 0.5357 - val_loss: 0.9264 - val_sparse_categorical_accuracy: 0.5246 - 138ms/epoch - 2ms/step\n",
            "Epoch 4/20\n",
            "70/70 - 0s - loss: 0.8608 - sparse_categorical_accuracy: 0.5550 - val_loss: 0.8199 - val_sparse_categorical_accuracy: 0.5286 - 164ms/epoch - 2ms/step\n",
            "Epoch 5/20\n",
            "70/70 - 0s - loss: 0.7869 - sparse_categorical_accuracy: 0.5564 - val_loss: 0.7707 - val_sparse_categorical_accuracy: 0.5394 - 133ms/epoch - 2ms/step\n",
            "Epoch 6/20\n",
            "70/70 - 0s - loss: 0.7495 - sparse_categorical_accuracy: 0.5696 - val_loss: 0.7425 - val_sparse_categorical_accuracy: 0.5515 - 129ms/epoch - 2ms/step\n",
            "Epoch 7/20\n",
            "70/70 - 0s - loss: 0.7267 - sparse_categorical_accuracy: 0.5772 - val_loss: 0.7246 - val_sparse_categorical_accuracy: 0.5569 - 138ms/epoch - 2ms/step\n",
            "Epoch 8/20\n",
            "70/70 - 0s - loss: 0.7117 - sparse_categorical_accuracy: 0.5761 - val_loss: 0.7133 - val_sparse_categorical_accuracy: 0.5785 - 140ms/epoch - 2ms/step\n",
            "Epoch 9/20\n",
            "70/70 - 0s - loss: 0.7016 - sparse_categorical_accuracy: 0.5815 - val_loss: 0.7025 - val_sparse_categorical_accuracy: 0.5798 - 173ms/epoch - 2ms/step\n",
            "Epoch 10/20\n",
            "70/70 - 0s - loss: 0.6934 - sparse_categorical_accuracy: 0.5819 - val_loss: 0.6950 - val_sparse_categorical_accuracy: 0.5852 - 151ms/epoch - 2ms/step\n",
            "Epoch 11/20\n",
            "70/70 - 0s - loss: 0.6870 - sparse_categorical_accuracy: 0.5860 - val_loss: 0.6891 - val_sparse_categorical_accuracy: 0.5886 - 178ms/epoch - 3ms/step\n",
            "Epoch 12/20\n",
            "70/70 - 0s - loss: 0.6820 - sparse_categorical_accuracy: 0.5891 - val_loss: 0.6841 - val_sparse_categorical_accuracy: 0.5946 - 145ms/epoch - 2ms/step\n",
            "Epoch 13/20\n",
            "70/70 - 0s - loss: 0.6776 - sparse_categorical_accuracy: 0.5954 - val_loss: 0.6801 - val_sparse_categorical_accuracy: 0.5926 - 165ms/epoch - 2ms/step\n",
            "Epoch 14/20\n",
            "70/70 - 0s - loss: 0.6739 - sparse_categorical_accuracy: 0.5986 - val_loss: 0.6763 - val_sparse_categorical_accuracy: 0.5939 - 168ms/epoch - 2ms/step\n",
            "Epoch 15/20\n",
            "70/70 - 0s - loss: 0.6707 - sparse_categorical_accuracy: 0.6037 - val_loss: 0.6732 - val_sparse_categorical_accuracy: 0.6061 - 168ms/epoch - 2ms/step\n",
            "Epoch 16/20\n",
            "70/70 - 0s - loss: 0.6681 - sparse_categorical_accuracy: 0.6066 - val_loss: 0.6703 - val_sparse_categorical_accuracy: 0.6141 - 174ms/epoch - 2ms/step\n",
            "Epoch 17/20\n",
            "70/70 - 0s - loss: 0.6655 - sparse_categorical_accuracy: 0.6109 - val_loss: 0.6677 - val_sparse_categorical_accuracy: 0.6182 - 167ms/epoch - 2ms/step\n",
            "Epoch 18/20\n",
            "70/70 - 0s - loss: 0.6632 - sparse_categorical_accuracy: 0.6145 - val_loss: 0.6654 - val_sparse_categorical_accuracy: 0.6256 - 166ms/epoch - 2ms/step\n",
            "Epoch 19/20\n",
            "70/70 - 0s - loss: 0.6611 - sparse_categorical_accuracy: 0.6176 - val_loss: 0.6633 - val_sparse_categorical_accuracy: 0.6263 - 166ms/epoch - 2ms/step\n",
            "Epoch 20/20\n",
            "70/70 - 0s - loss: 0.6591 - sparse_categorical_accuracy: 0.6190 - val_loss: 0.6613 - val_sparse_categorical_accuracy: 0.6249 - 162ms/epoch - 2ms/step\n"
          ]
        }
      ]
    },
    {
      "cell_type": "code",
      "source": [
        "# Plot the training and validation loss\n",
        "\n",
        "plt.plot(history.history['loss'])\n",
        "plt.plot(history.history['val_loss'])\n",
        "plt.title('Loss vs. epochs')\n",
        "plt.ylabel('Loss')\n",
        "plt.xlabel('Epoch')\n",
        "plt.legend(['Training', 'Validation'], loc='upper right')\n",
        "plt.show()"
      ],
      "metadata": {
        "colab": {
          "base_uri": "https://localhost:8080/",
          "height": 295
        },
        "outputId": "591a6a88-b78c-4ebc-ea17-e4480f3db4f7",
        "id": "FFkPA6lGcIVL"
      },
      "execution_count": null,
      "outputs": [
        {
          "output_type": "display_data",
          "data": {
            "text/plain": [
              "<Figure size 432x288 with 1 Axes>"
            ],
            "image/png": "[encoded data removed]"
          },
          "metadata": {
            "needs_background": "light"
          }
        }
      ]
    },
    {
      "cell_type": "code",
      "metadata": {
        "colab": {
          "base_uri": "https://localhost:8080/"
        },
        "outputId": "eee10b0a-6378-4978-99db-be4dcaa845ec",
        "id": "d6RkfU8lcIVL"
      },
      "source": [
        "train_loss, train_accuracy = model.evaluate(x_train, y_train)\n",
        "train_accuracy"
      ],
      "execution_count": null,
      "outputs": [
        {
          "output_type": "stream",
          "name": "stdout",
          "text": [
            "186/186 [==============================] - 0s 1ms/step - loss: 0.5187 - sparse_categorical_accuracy: 0.7540\n"
          ]
        },
        {
          "output_type": "execute_result",
          "data": {
            "text/plain": [
              "0.7539989948272705"
            ]
          },
          "metadata": {},
          "execution_count": 78
        }
      ]
    },
    {
      "cell_type": "code",
      "metadata": {
        "colab": {
          "base_uri": "https://localhost:8080/"
        },
        "outputId": "807a43de-c1a1-47a9-d869-21e0bde2e92e",
        "id": "jK1FJpN-cIVL"
      },
      "source": [
        "test_loss, test_accuracy = model.evaluate(x_test, y_test)\n",
        "test_accuracy"
      ],
      "execution_count": null,
      "outputs": [
        {
          "output_type": "stream",
          "name": "stdout",
          "text": [
            "47/47 [==============================] - 0s 2ms/step - loss: 0.4932 - sparse_categorical_accuracy: 0.7811\n"
          ]
        },
        {
          "output_type": "execute_result",
          "data": {
            "text/plain": [
              "0.7811447978019714"
            ]
          },
          "metadata": {},
          "execution_count": 79
        }
      ]
    },
    {
      "cell_type": "markdown",
      "source": [
        "## Best 3-layer RMSprop"
      ],
      "metadata": {
        "id": "jE5Ihey_dn7z"
      }
    },
    {
      "cell_type": "code",
      "source": [
        "model = Sequential([\n",
        "                    Dense(16, activation = 'relu', input_shape = (15,)),\n",
        "                    Dense(32, activation = 'relu'),\n",
        "                    Dense(64, activation = 'sigmoid')\n",
        "                   ])"
      ],
      "metadata": {
        "id": "YHrwIArddn70"
      },
      "execution_count": null,
      "outputs": []
    },
    {
      "cell_type": "code",
      "source": [
        "# compile the model\n",
        "\n",
        "model.compile(optimizer = tf.optimizers.RMSprop(learning_rate = 0.003),\n",
        "              loss='sparse_categorical_crossentropy', \n",
        "              metrics = [tf.keras.metrics.SparseCategoricalAccuracy()]) #use this accuracy when ylabels are integers"
      ],
      "metadata": {
        "id": "Q-R57fDfdn70"
      },
      "execution_count": null,
      "outputs": []
    },
    {
      "cell_type": "code",
      "source": [
        "# fit the model with validation set\n",
        "\n",
        "history = model.fit(x_train, y_train, epochs=20,batch_size=64, verbose = 2,validation_split = 0.25)"
      ],
      "metadata": {
        "colab": {
          "base_uri": "https://localhost:8080/"
        },
        "outputId": "e15fd2d9-ff91-4ba3-dc03-df99a39ba239",
        "id": "cayclef5dn70"
      },
      "execution_count": null,
      "outputs": [
        {
          "output_type": "stream",
          "name": "stdout",
          "text": [
            "Epoch 1/20\n",
            "70/70 - 1s - loss: 0.9804 - sparse_categorical_accuracy: 0.5489 - val_loss: 0.6778 - val_sparse_categorical_accuracy: 0.5912 - 776ms/epoch - 11ms/step\n",
            "Epoch 2/20\n",
            "70/70 - 0s - loss: 0.6580 - sparse_categorical_accuracy: 0.6105 - val_loss: 0.6365 - val_sparse_categorical_accuracy: 0.6108 - 169ms/epoch - 2ms/step\n",
            "Epoch 3/20\n",
            "70/70 - 0s - loss: 0.6206 - sparse_categorical_accuracy: 0.6405 - val_loss: 0.6069 - val_sparse_categorical_accuracy: 0.6660 - 182ms/epoch - 3ms/step\n",
            "Epoch 4/20\n",
            "70/70 - 0s - loss: 0.5947 - sparse_categorical_accuracy: 0.6659 - val_loss: 0.5792 - val_sparse_categorical_accuracy: 0.6781 - 175ms/epoch - 2ms/step\n",
            "Epoch 5/20\n",
            "70/70 - 0s - loss: 0.5772 - sparse_categorical_accuracy: 0.6771 - val_loss: 0.6116 - val_sparse_categorical_accuracy: 0.6519 - 134ms/epoch - 2ms/step\n",
            "Epoch 6/20\n",
            "70/70 - 0s - loss: 0.5530 - sparse_categorical_accuracy: 0.6974 - val_loss: 0.6167 - val_sparse_categorical_accuracy: 0.6377 - 133ms/epoch - 2ms/step\n",
            "Epoch 7/20\n",
            "70/70 - 0s - loss: 0.5311 - sparse_categorical_accuracy: 0.7196 - val_loss: 0.5541 - val_sparse_categorical_accuracy: 0.7104 - 171ms/epoch - 2ms/step\n",
            "Epoch 8/20\n",
            "70/70 - 0s - loss: 0.5142 - sparse_categorical_accuracy: 0.7272 - val_loss: 0.5135 - val_sparse_categorical_accuracy: 0.7455 - 138ms/epoch - 2ms/step\n",
            "Epoch 9/20\n",
            "70/70 - 0s - loss: 0.5022 - sparse_categorical_accuracy: 0.7503 - val_loss: 0.4891 - val_sparse_categorical_accuracy: 0.7798 - 167ms/epoch - 2ms/step\n",
            "Epoch 10/20\n",
            "70/70 - 0s - loss: 0.4885 - sparse_categorical_accuracy: 0.7586 - val_loss: 0.5005 - val_sparse_categorical_accuracy: 0.7710 - 132ms/epoch - 2ms/step\n",
            "Epoch 11/20\n",
            "70/70 - 0s - loss: 0.4751 - sparse_categorical_accuracy: 0.7735 - val_loss: 0.5833 - val_sparse_categorical_accuracy: 0.7003 - 128ms/epoch - 2ms/step\n",
            "Epoch 12/20\n",
            "70/70 - 0s - loss: 0.4705 - sparse_categorical_accuracy: 0.7759 - val_loss: 0.4670 - val_sparse_categorical_accuracy: 0.7778 - 171ms/epoch - 2ms/step\n",
            "Epoch 13/20\n",
            "70/70 - 0s - loss: 0.4594 - sparse_categorical_accuracy: 0.7887 - val_loss: 0.4607 - val_sparse_categorical_accuracy: 0.7886 - 173ms/epoch - 2ms/step\n",
            "Epoch 14/20\n",
            "70/70 - 0s - loss: 0.4599 - sparse_categorical_accuracy: 0.7836 - val_loss: 0.5552 - val_sparse_categorical_accuracy: 0.7407 - 168ms/epoch - 2ms/step\n",
            "Epoch 15/20\n",
            "70/70 - 0s - loss: 0.4586 - sparse_categorical_accuracy: 0.7820 - val_loss: 0.5886 - val_sparse_categorical_accuracy: 0.7091 - 178ms/epoch - 3ms/step\n",
            "Epoch 16/20\n",
            "70/70 - 0s - loss: 0.4524 - sparse_categorical_accuracy: 0.7878 - val_loss: 0.5077 - val_sparse_categorical_accuracy: 0.7475 - 133ms/epoch - 2ms/step\n",
            "Epoch 17/20\n",
            "70/70 - 0s - loss: 0.4409 - sparse_categorical_accuracy: 0.7997 - val_loss: 0.4862 - val_sparse_categorical_accuracy: 0.7859 - 132ms/epoch - 2ms/step\n",
            "Epoch 18/20\n",
            "70/70 - 0s - loss: 0.4471 - sparse_categorical_accuracy: 0.7937 - val_loss: 0.5008 - val_sparse_categorical_accuracy: 0.7737 - 133ms/epoch - 2ms/step\n",
            "Epoch 19/20\n",
            "70/70 - 0s - loss: 0.4434 - sparse_categorical_accuracy: 0.7961 - val_loss: 0.4915 - val_sparse_categorical_accuracy: 0.7805 - 132ms/epoch - 2ms/step\n",
            "Epoch 20/20\n",
            "70/70 - 0s - loss: 0.4442 - sparse_categorical_accuracy: 0.7932 - val_loss: 0.4705 - val_sparse_categorical_accuracy: 0.8034 - 135ms/epoch - 2ms/step\n"
          ]
        }
      ]
    },
    {
      "cell_type": "code",
      "source": [
        "# Plot the training and validation loss\n",
        "\n",
        "plt.plot(history.history['loss'])\n",
        "plt.plot(history.history['val_loss'])\n",
        "plt.title('Loss vs. epochs')\n",
        "plt.ylabel('Loss')\n",
        "plt.xlabel('Epoch')\n",
        "plt.legend(['Training', 'Validation'], loc='upper right')\n",
        "plt.show()"
      ],
      "metadata": {
        "colab": {
          "base_uri": "https://localhost:8080/",
          "height": 295
        },
        "outputId": "01ac4ac4-7011-4adc-b1d8-b53cc75e0b61",
        "id": "ZyJ3jwYddn71"
      },
      "execution_count": null,
      "outputs": [
        {
          "output_type": "display_data",
          "data": {
            "text/plain": [
              "<Figure size 432x288 with 1 Axes>"
            ],
            "image/png": "[encoded data removed]"
          },
          "metadata": {
            "needs_background": "light"
          }
        }
      ]
    },
    {
      "cell_type": "code",
      "metadata": {
        "colab": {
          "base_uri": "https://localhost:8080/"
        },
        "outputId": "f383c046-0d3c-4cd0-adc3-3c9c0b5614ac",
        "id": "zEKg50Nkdn71"
      },
      "source": [
        "train_loss, train_accuracy = model.evaluate(x_train, y_train)\n",
        "train_accuracy"
      ],
      "execution_count": null,
      "outputs": [
        {
          "output_type": "stream",
          "name": "stdout",
          "text": [
            "186/186 [==============================] - 0s 1ms/step - loss: 0.4468 - sparse_categorical_accuracy: 0.8023\n"
          ]
        },
        {
          "output_type": "execute_result",
          "data": {
            "text/plain": [
              "0.8023236393928528"
            ]
          },
          "metadata": {},
          "execution_count": 97
        }
      ]
    },
    {
      "cell_type": "code",
      "metadata": {
        "colab": {
          "base_uri": "https://localhost:8080/"
        },
        "outputId": "27d60725-3311-4393-f648-5ba2befcff5c",
        "id": "c1GF6VzRdn71"
      },
      "source": [
        "test_loss, test_accuracy = model.evaluate(x_test, y_test)\n",
        "test_accuracy"
      ],
      "execution_count": null,
      "outputs": [
        {
          "output_type": "stream",
          "name": "stdout",
          "text": [
            "47/47 [==============================] - 0s 1ms/step - loss: 0.4374 - sparse_categorical_accuracy: 0.8054\n"
          ]
        },
        {
          "output_type": "execute_result",
          "data": {
            "text/plain": [
              "0.8053871989250183"
            ]
          },
          "metadata": {},
          "execution_count": 98
        }
      ]
    },
    {
      "cell_type": "markdown",
      "source": [
        "# Epochs"
      ],
      "metadata": {
        "id": "RhsQE2m8eh6U"
      }
    },
    {
      "cell_type": "markdown",
      "source": [
        "##20 epochs"
      ],
      "metadata": {
        "id": "yachGvcneme3"
      }
    },
    {
      "cell_type": "code",
      "source": [
        "model = Sequential([\n",
        "                    Dense(16, activation = 'relu', input_shape = (15,)),\n",
        "                    Dense(32, activation = 'relu'),\n",
        "                    Dense(64, activation = 'sigmoid')\n",
        "                   ])"
      ],
      "metadata": {
        "id": "OIJz1cf6eh6W"
      },
      "execution_count": null,
      "outputs": []
    },
    {
      "cell_type": "code",
      "source": [
        "# compile the model\n",
        "\n",
        "model.compile(optimizer = tf.keras.optimizers.Adam(learning_rate = 0.003),\n",
        "              loss='sparse_categorical_crossentropy', #Use this loss function when y labels are integers\n",
        "              metrics = [tf.keras.metrics.SparseCategoricalAccuracy()]) #use this accuracy when ylabels are integers"
      ],
      "metadata": {
        "id": "axNnw3DUeh6X"
      },
      "execution_count": null,
      "outputs": []
    },
    {
      "cell_type": "code",
      "source": [
        "# fit the model with validation set\n",
        "\n",
        "history = model.fit(x_train, y_train, epochs=20,batch_size=64, verbose = 2,validation_split = 0.25)"
      ],
      "metadata": {
        "colab": {
          "base_uri": "https://localhost:8080/"
        },
        "outputId": "4f33a8ec-9001-4c52-d56e-bb4a4761a5d9",
        "id": "Okkaep3Deh6Y"
      },
      "execution_count": null,
      "outputs": [
        {
          "output_type": "stream",
          "name": "stdout",
          "text": [
            "Epoch 1/20\n",
            "70/70 - 1s - loss: 0.9495 - sparse_categorical_accuracy: 0.5651 - val_loss: 0.6712 - val_sparse_categorical_accuracy: 0.5724 - 655ms/epoch - 9ms/step\n",
            "Epoch 2/20\n",
            "70/70 - 0s - loss: 0.6500 - sparse_categorical_accuracy: 0.6006 - val_loss: 0.6301 - val_sparse_categorical_accuracy: 0.6438 - 181ms/epoch - 3ms/step\n",
            "Epoch 3/20\n",
            "70/70 - 0s - loss: 0.6181 - sparse_categorical_accuracy: 0.6419 - val_loss: 0.6207 - val_sparse_categorical_accuracy: 0.6478 - 140ms/epoch - 2ms/step\n",
            "Epoch 4/20\n",
            "70/70 - 0s - loss: 0.5886 - sparse_categorical_accuracy: 0.6713 - val_loss: 0.6078 - val_sparse_categorical_accuracy: 0.6323 - 191ms/epoch - 3ms/step\n",
            "Epoch 5/20\n",
            "70/70 - 0s - loss: 0.5582 - sparse_categorical_accuracy: 0.6951 - val_loss: 0.5536 - val_sparse_categorical_accuracy: 0.6943 - 142ms/epoch - 2ms/step\n",
            "Epoch 6/20\n",
            "70/70 - 0s - loss: 0.5175 - sparse_categorical_accuracy: 0.7378 - val_loss: 0.5104 - val_sparse_categorical_accuracy: 0.7414 - 177ms/epoch - 3ms/step\n",
            "Epoch 7/20\n",
            "70/70 - 0s - loss: 0.4821 - sparse_categorical_accuracy: 0.7683 - val_loss: 0.4828 - val_sparse_categorical_accuracy: 0.7569 - 144ms/epoch - 2ms/step\n",
            "Epoch 8/20\n",
            "70/70 - 0s - loss: 0.4599 - sparse_categorical_accuracy: 0.7842 - val_loss: 0.4718 - val_sparse_categorical_accuracy: 0.7966 - 162ms/epoch - 2ms/step\n",
            "Epoch 9/20\n",
            "70/70 - 0s - loss: 0.4634 - sparse_categorical_accuracy: 0.7815 - val_loss: 0.4577 - val_sparse_categorical_accuracy: 0.8020 - 178ms/epoch - 3ms/step\n",
            "Epoch 10/20\n",
            "70/70 - 0s - loss: 0.4381 - sparse_categorical_accuracy: 0.7948 - val_loss: 0.4680 - val_sparse_categorical_accuracy: 0.8000 - 142ms/epoch - 2ms/step\n",
            "Epoch 11/20\n",
            "70/70 - 0s - loss: 0.4567 - sparse_categorical_accuracy: 0.7885 - val_loss: 0.4596 - val_sparse_categorical_accuracy: 0.7865 - 147ms/epoch - 2ms/step\n",
            "Epoch 12/20\n",
            "70/70 - 0s - loss: 0.4516 - sparse_categorical_accuracy: 0.7968 - val_loss: 0.4561 - val_sparse_categorical_accuracy: 0.7960 - 178ms/epoch - 3ms/step\n",
            "Epoch 13/20\n",
            "70/70 - 0s - loss: 0.4352 - sparse_categorical_accuracy: 0.7975 - val_loss: 0.4728 - val_sparse_categorical_accuracy: 0.7785 - 176ms/epoch - 3ms/step\n",
            "Epoch 14/20\n",
            "70/70 - 0s - loss: 0.4278 - sparse_categorical_accuracy: 0.8038 - val_loss: 0.4552 - val_sparse_categorical_accuracy: 0.7953 - 141ms/epoch - 2ms/step\n",
            "Epoch 15/20\n",
            "70/70 - 0s - loss: 0.4274 - sparse_categorical_accuracy: 0.8062 - val_loss: 0.4795 - val_sparse_categorical_accuracy: 0.7845 - 148ms/epoch - 2ms/step\n",
            "Epoch 16/20\n",
            "70/70 - 0s - loss: 0.4343 - sparse_categorical_accuracy: 0.7975 - val_loss: 0.4606 - val_sparse_categorical_accuracy: 0.7892 - 187ms/epoch - 3ms/step\n",
            "Epoch 17/20\n",
            "70/70 - 0s - loss: 0.4284 - sparse_categorical_accuracy: 0.8087 - val_loss: 0.4553 - val_sparse_categorical_accuracy: 0.7966 - 146ms/epoch - 2ms/step\n",
            "Epoch 18/20\n",
            "70/70 - 0s - loss: 0.4366 - sparse_categorical_accuracy: 0.8011 - val_loss: 0.4513 - val_sparse_categorical_accuracy: 0.8027 - 148ms/epoch - 2ms/step\n",
            "Epoch 19/20\n",
            "70/70 - 0s - loss: 0.4268 - sparse_categorical_accuracy: 0.8018 - val_loss: 0.4833 - val_sparse_categorical_accuracy: 0.7751 - 141ms/epoch - 2ms/step\n",
            "Epoch 20/20\n",
            "70/70 - 0s - loss: 0.4439 - sparse_categorical_accuracy: 0.7957 - val_loss: 0.4536 - val_sparse_categorical_accuracy: 0.8088 - 178ms/epoch - 3ms/step\n"
          ]
        }
      ]
    },
    {
      "cell_type": "code",
      "source": [
        "# Plot the training and validation loss\n",
        "\n",
        "plt.plot(history.history['loss'])\n",
        "plt.plot(history.history['val_loss'])\n",
        "plt.title('Loss vs. epochs')\n",
        "plt.ylabel('Loss')\n",
        "plt.xlabel('Epoch')\n",
        "plt.legend(['Training', 'Validation'], loc='upper right')\n",
        "plt.show()"
      ],
      "metadata": {
        "colab": {
          "base_uri": "https://localhost:8080/",
          "height": 295
        },
        "outputId": "485f380f-ee8e-4bca-fa4b-d48eedb7136e",
        "id": "w5ZPd9Mweh6Y"
      },
      "execution_count": null,
      "outputs": [
        {
          "output_type": "display_data",
          "data": {
            "text/plain": [
              "<Figure size 432x288 with 1 Axes>"
            ],
            "image/png": "[encoded data removed]"
          },
          "metadata": {
            "needs_background": "light"
          }
        }
      ]
    },
    {
      "cell_type": "code",
      "metadata": {
        "colab": {
          "base_uri": "https://localhost:8080/"
        },
        "outputId": "a86a8412-18d2-4c98-91f9-e8fba21e6e9d",
        "id": "xOClJAgjeh6Z"
      },
      "source": [
        "train_loss, train_accuracy = model.evaluate(x_train, y_train)\n",
        "train_accuracy"
      ],
      "execution_count": null,
      "outputs": [
        {
          "output_type": "stream",
          "name": "stdout",
          "text": [
            "186/186 [==============================] - 0s 1ms/step - loss: 0.4254 - sparse_categorical_accuracy: 0.8138\n"
          ]
        },
        {
          "output_type": "execute_result",
          "data": {
            "text/plain": [
              "0.8137733340263367"
            ]
          },
          "metadata": {},
          "execution_count": 103
        }
      ]
    },
    {
      "cell_type": "code",
      "metadata": {
        "colab": {
          "base_uri": "https://localhost:8080/"
        },
        "outputId": "5e415915-e105-4bde-a4da-66ed0ab07e97",
        "id": "SaE2MXMfeh6Z"
      },
      "source": [
        "test_loss, test_accuracy = model.evaluate(x_test, y_test)\n",
        "test_accuracy"
      ],
      "execution_count": null,
      "outputs": [
        {
          "output_type": "stream",
          "name": "stdout",
          "text": [
            "47/47 [==============================] - 0s 1ms/step - loss: 0.4071 - sparse_categorical_accuracy: 0.8182\n"
          ]
        },
        {
          "output_type": "execute_result",
          "data": {
            "text/plain": [
              "0.8181818127632141"
            ]
          },
          "metadata": {},
          "execution_count": 104
        }
      ]
    },
    {
      "cell_type": "markdown",
      "source": [
        "## 30 epochs"
      ],
      "metadata": {
        "id": "xecOY04AeqCF"
      }
    },
    {
      "cell_type": "code",
      "source": [
        "model = Sequential([\n",
        "                    Dense(16, activation = 'relu', input_shape = (15,)),\n",
        "                    Dense(32, activation = 'relu'),\n",
        "                    Dense(64, activation = 'sigmoid')\n",
        "                   ])"
      ],
      "metadata": {
        "id": "KKIIasl8eqCG"
      },
      "execution_count": null,
      "outputs": []
    },
    {
      "cell_type": "code",
      "source": [
        "# compile the model\n",
        "\n",
        "model.compile(optimizer = tf.keras.optimizers.Adam(learning_rate = 0.003),\n",
        "              loss='sparse_categorical_crossentropy', #Use this loss function when y labels are integers\n",
        "              metrics = [tf.keras.metrics.SparseCategoricalAccuracy()]) #use this accuracy when ylabels are integers"
      ],
      "metadata": {
        "id": "g88EZzI1eqCH"
      },
      "execution_count": null,
      "outputs": []
    },
    {
      "cell_type": "code",
      "source": [
        "# fit the model with validation set\n",
        "\n",
        "history = model.fit(x_train, y_train, epochs=30,batch_size=64, verbose = 2,validation_split = 0.25)"
      ],
      "metadata": {
        "colab": {
          "base_uri": "https://localhost:8080/"
        },
        "outputId": "20d1cace-7ae4-40e6-cac4-cf7dcafb63cb",
        "id": "IYSI0oGleqCI"
      },
      "execution_count": null,
      "outputs": [
        {
          "output_type": "stream",
          "name": "stdout",
          "text": [
            "Epoch 1/30\n",
            "70/70 - 1s - loss: 1.3501 - sparse_categorical_accuracy: 0.5260 - val_loss: 0.6532 - val_sparse_categorical_accuracy: 0.6242 - 682ms/epoch - 10ms/step\n",
            "Epoch 2/30\n",
            "70/70 - 0s - loss: 0.6371 - sparse_categorical_accuracy: 0.6253 - val_loss: 0.6229 - val_sparse_categorical_accuracy: 0.6579 - 165ms/epoch - 2ms/step\n",
            "Epoch 3/30\n",
            "70/70 - 0s - loss: 0.6165 - sparse_categorical_accuracy: 0.6540 - val_loss: 0.5928 - val_sparse_categorical_accuracy: 0.6882 - 145ms/epoch - 2ms/step\n",
            "Epoch 4/30\n",
            "70/70 - 0s - loss: 0.5788 - sparse_categorical_accuracy: 0.6852 - val_loss: 0.5704 - val_sparse_categorical_accuracy: 0.6828 - 184ms/epoch - 3ms/step\n",
            "Epoch 5/30\n",
            "70/70 - 0s - loss: 0.5537 - sparse_categorical_accuracy: 0.7030 - val_loss: 0.5408 - val_sparse_categorical_accuracy: 0.7037 - 176ms/epoch - 3ms/step\n",
            "Epoch 6/30\n",
            "70/70 - 0s - loss: 0.5236 - sparse_categorical_accuracy: 0.7277 - val_loss: 0.5164 - val_sparse_categorical_accuracy: 0.7333 - 189ms/epoch - 3ms/step\n",
            "Epoch 7/30\n",
            "70/70 - 0s - loss: 0.4947 - sparse_categorical_accuracy: 0.7519 - val_loss: 0.4902 - val_sparse_categorical_accuracy: 0.7576 - 144ms/epoch - 2ms/step\n",
            "Epoch 8/30\n",
            "70/70 - 0s - loss: 0.4826 - sparse_categorical_accuracy: 0.7602 - val_loss: 0.4906 - val_sparse_categorical_accuracy: 0.7785 - 187ms/epoch - 3ms/step\n",
            "Epoch 9/30\n",
            "70/70 - 0s - loss: 0.4561 - sparse_categorical_accuracy: 0.7858 - val_loss: 0.4575 - val_sparse_categorical_accuracy: 0.7960 - 180ms/epoch - 3ms/step\n",
            "Epoch 10/30\n",
            "70/70 - 0s - loss: 0.4432 - sparse_categorical_accuracy: 0.7997 - val_loss: 0.4546 - val_sparse_categorical_accuracy: 0.8074 - 159ms/epoch - 2ms/step\n",
            "Epoch 11/30\n",
            "70/70 - 0s - loss: 0.4461 - sparse_categorical_accuracy: 0.7979 - val_loss: 0.4485 - val_sparse_categorical_accuracy: 0.8034 - 143ms/epoch - 2ms/step\n",
            "Epoch 12/30\n",
            "70/70 - 0s - loss: 0.4342 - sparse_categorical_accuracy: 0.8015 - val_loss: 0.4544 - val_sparse_categorical_accuracy: 0.8141 - 146ms/epoch - 2ms/step\n",
            "Epoch 13/30\n",
            "70/70 - 0s - loss: 0.4344 - sparse_categorical_accuracy: 0.8011 - val_loss: 0.4677 - val_sparse_categorical_accuracy: 0.7731 - 179ms/epoch - 3ms/step\n",
            "Epoch 14/30\n",
            "70/70 - 0s - loss: 0.4390 - sparse_categorical_accuracy: 0.7979 - val_loss: 0.4696 - val_sparse_categorical_accuracy: 0.8000 - 154ms/epoch - 2ms/step\n",
            "Epoch 15/30\n",
            "70/70 - 0s - loss: 0.4314 - sparse_categorical_accuracy: 0.8069 - val_loss: 0.4485 - val_sparse_categorical_accuracy: 0.7987 - 143ms/epoch - 2ms/step\n",
            "Epoch 16/30\n",
            "70/70 - 0s - loss: 0.4397 - sparse_categorical_accuracy: 0.7991 - val_loss: 0.4479 - val_sparse_categorical_accuracy: 0.8007 - 181ms/epoch - 3ms/step\n",
            "Epoch 17/30\n",
            "70/70 - 0s - loss: 0.4201 - sparse_categorical_accuracy: 0.8103 - val_loss: 0.4993 - val_sparse_categorical_accuracy: 0.7576 - 182ms/epoch - 3ms/step\n",
            "Epoch 18/30\n",
            "70/70 - 0s - loss: 0.4323 - sparse_categorical_accuracy: 0.8006 - val_loss: 0.4452 - val_sparse_categorical_accuracy: 0.8094 - 157ms/epoch - 2ms/step\n",
            "Epoch 19/30\n",
            "70/70 - 0s - loss: 0.4224 - sparse_categorical_accuracy: 0.8094 - val_loss: 0.4678 - val_sparse_categorical_accuracy: 0.7798 - 147ms/epoch - 2ms/step\n",
            "Epoch 20/30\n",
            "70/70 - 0s - loss: 0.4260 - sparse_categorical_accuracy: 0.8060 - val_loss: 0.4827 - val_sparse_categorical_accuracy: 0.7859 - 180ms/epoch - 3ms/step\n",
            "Epoch 21/30\n",
            "70/70 - 0s - loss: 0.4305 - sparse_categorical_accuracy: 0.8031 - val_loss: 0.5622 - val_sparse_categorical_accuracy: 0.7279 - 186ms/epoch - 3ms/step\n",
            "Epoch 22/30\n",
            "70/70 - 0s - loss: 0.4309 - sparse_categorical_accuracy: 0.8015 - val_loss: 0.4600 - val_sparse_categorical_accuracy: 0.8128 - 178ms/epoch - 3ms/step\n",
            "Epoch 23/30\n",
            "70/70 - 0s - loss: 0.4244 - sparse_categorical_accuracy: 0.8096 - val_loss: 0.4505 - val_sparse_categorical_accuracy: 0.7939 - 142ms/epoch - 2ms/step\n",
            "Epoch 24/30\n",
            "70/70 - 0s - loss: 0.4224 - sparse_categorical_accuracy: 0.8033 - val_loss: 0.4434 - val_sparse_categorical_accuracy: 0.8101 - 182ms/epoch - 3ms/step\n",
            "Epoch 25/30\n",
            "70/70 - 0s - loss: 0.4197 - sparse_categorical_accuracy: 0.8069 - val_loss: 0.4387 - val_sparse_categorical_accuracy: 0.8047 - 144ms/epoch - 2ms/step\n",
            "Epoch 26/30\n",
            "70/70 - 0s - loss: 0.4200 - sparse_categorical_accuracy: 0.8114 - val_loss: 0.4503 - val_sparse_categorical_accuracy: 0.7960 - 183ms/epoch - 3ms/step\n",
            "Epoch 27/30\n",
            "70/70 - 0s - loss: 0.4276 - sparse_categorical_accuracy: 0.8035 - val_loss: 0.4428 - val_sparse_categorical_accuracy: 0.8027 - 174ms/epoch - 2ms/step\n",
            "Epoch 28/30\n",
            "70/70 - 0s - loss: 0.4247 - sparse_categorical_accuracy: 0.8011 - val_loss: 0.4702 - val_sparse_categorical_accuracy: 0.7704 - 155ms/epoch - 2ms/step\n",
            "Epoch 29/30\n",
            "70/70 - 0s - loss: 0.4164 - sparse_categorical_accuracy: 0.8056 - val_loss: 0.4432 - val_sparse_categorical_accuracy: 0.7953 - 142ms/epoch - 2ms/step\n",
            "Epoch 30/30\n",
            "70/70 - 0s - loss: 0.4177 - sparse_categorical_accuracy: 0.8058 - val_loss: 0.4328 - val_sparse_categorical_accuracy: 0.8088 - 151ms/epoch - 2ms/step\n"
          ]
        }
      ]
    },
    {
      "cell_type": "code",
      "source": [
        "# Plot the training and validation loss\n",
        "\n",
        "plt.plot(history.history['loss'])\n",
        "plt.plot(history.history['val_loss'])\n",
        "plt.title('Loss vs. epochs')\n",
        "plt.ylabel('Loss')\n",
        "plt.xlabel('Epoch')\n",
        "plt.legend(['Training', 'Validation'], loc='upper right')\n",
        "plt.show()"
      ],
      "metadata": {
        "colab": {
          "base_uri": "https://localhost:8080/",
          "height": 295
        },
        "outputId": "52dde2fe-64e0-438b-e64f-c606dc9b94d5",
        "id": "9n3in2dOeqCI"
      },
      "execution_count": null,
      "outputs": [
        {
          "output_type": "display_data",
          "data": {
            "text/plain": [
              "<Figure size 432x288 with 1 Axes>"
            ],
            "image/png": "[encoded data removed]"
          },
          "metadata": {
            "needs_background": "light"
          }
        }
      ]
    },
    {
      "cell_type": "code",
      "metadata": {
        "colab": {
          "base_uri": "https://localhost:8080/"
        },
        "outputId": "55ea6fdd-e5a9-4d6d-d3ef-8080e625c25b",
        "id": "yb9VfHkKeqCJ"
      },
      "source": [
        "train_loss, train_accuracy = model.evaluate(x_train, y_train)\n",
        "train_accuracy"
      ],
      "execution_count": null,
      "outputs": [
        {
          "output_type": "stream",
          "name": "stdout",
          "text": [
            "186/186 [==============================] - 0s 1ms/step - loss: 0.4278 - sparse_categorical_accuracy: 0.8205\n"
          ]
        },
        {
          "output_type": "execute_result",
          "data": {
            "text/plain": [
              "0.8205084800720215"
            ]
          },
          "metadata": {},
          "execution_count": 91
        }
      ]
    },
    {
      "cell_type": "code",
      "metadata": {
        "colab": {
          "base_uri": "https://localhost:8080/"
        },
        "outputId": "de624333-d220-4d9f-cb5f-ff5e359c0b28",
        "id": "APpnBEE-eqCJ"
      },
      "source": [
        "test_loss, test_accuracy = model.evaluate(x_test, y_test)\n",
        "test_accuracy"
      ],
      "execution_count": null,
      "outputs": [
        {
          "output_type": "stream",
          "name": "stdout",
          "text": [
            "47/47 [==============================] - 0s 2ms/step - loss: 0.4266 - sparse_categorical_accuracy: 0.8189\n"
          ]
        },
        {
          "output_type": "execute_result",
          "data": {
            "text/plain": [
              "0.8188552260398865"
            ]
          },
          "metadata": {},
          "execution_count": 92
        }
      ]
    },
    {
      "cell_type": "markdown",
      "source": [
        "## 40 epochs"
      ],
      "metadata": {
        "id": "xyF0JFSne2f7"
      }
    },
    {
      "cell_type": "code",
      "source": [
        "model = Sequential([\n",
        "                    Dense(16, activation = 'relu', input_shape = (15,)),\n",
        "                    Dense(32, activation = 'relu'),\n",
        "                    Dense(64, activation = 'sigmoid')\n",
        "                   ])"
      ],
      "metadata": {
        "id": "L5nvBQ7Ne2f9"
      },
      "execution_count": null,
      "outputs": []
    },
    {
      "cell_type": "code",
      "source": [
        "# compile the model\n",
        "\n",
        "model.compile(optimizer = tf.keras.optimizers.Adam(learning_rate = 0.003),\n",
        "              loss='sparse_categorical_crossentropy', #Use this loss function when y labels are integers\n",
        "              metrics = [tf.keras.metrics.SparseCategoricalAccuracy()]) #use this accuracy when ylabels are integers"
      ],
      "metadata": {
        "id": "MbriKH7xe2f9"
      },
      "execution_count": null,
      "outputs": []
    },
    {
      "cell_type": "code",
      "source": [
        "# fit the model with validation set\n",
        "\n",
        "history = model.fit(x_train, y_train, epochs=40,batch_size=64, verbose = 2,validation_split = 0.25)"
      ],
      "metadata": {
        "colab": {
          "base_uri": "https://localhost:8080/"
        },
        "outputId": "67c43536-6d62-47b0-9e09-a046e9006703",
        "id": "8yZsPHOHe2f-"
      },
      "execution_count": null,
      "outputs": [
        {
          "output_type": "stream",
          "name": "stdout",
          "text": [
            "Epoch 1/40\n",
            "70/70 - 1s - loss: 1.8331 - sparse_categorical_accuracy: 0.5981 - val_loss: 0.5611 - val_sparse_categorical_accuracy: 0.7448 - 669ms/epoch - 10ms/step\n",
            "Epoch 2/40\n",
            "70/70 - 0s - loss: 0.5841 - sparse_categorical_accuracy: 0.7306 - val_loss: 0.5218 - val_sparse_categorical_accuracy: 0.7313 - 210ms/epoch - 3ms/step\n",
            "Epoch 3/40\n",
            "70/70 - 0s - loss: 0.5418 - sparse_categorical_accuracy: 0.7580 - val_loss: 0.4905 - val_sparse_categorical_accuracy: 0.7832 - 158ms/epoch - 2ms/step\n",
            "Epoch 4/40\n",
            "70/70 - 0s - loss: 0.5071 - sparse_categorical_accuracy: 0.7652 - val_loss: 0.8427 - val_sparse_categorical_accuracy: 0.7071 - 148ms/epoch - 2ms/step\n",
            "Epoch 5/40\n",
            "70/70 - 0s - loss: 0.5999 - sparse_categorical_accuracy: 0.7497 - val_loss: 0.6190 - val_sparse_categorical_accuracy: 0.7771 - 197ms/epoch - 3ms/step\n",
            "Epoch 6/40\n",
            "70/70 - 0s - loss: 0.4989 - sparse_categorical_accuracy: 0.7753 - val_loss: 0.5436 - val_sparse_categorical_accuracy: 0.7104 - 184ms/epoch - 3ms/step\n",
            "Epoch 7/40\n",
            "70/70 - 0s - loss: 0.4521 - sparse_categorical_accuracy: 0.7975 - val_loss: 0.4812 - val_sparse_categorical_accuracy: 0.7650 - 145ms/epoch - 2ms/step\n",
            "Epoch 8/40\n",
            "70/70 - 0s - loss: 0.4475 - sparse_categorical_accuracy: 0.7961 - val_loss: 0.4668 - val_sparse_categorical_accuracy: 0.7724 - 184ms/epoch - 3ms/step\n",
            "Epoch 9/40\n",
            "70/70 - 0s - loss: 0.4531 - sparse_categorical_accuracy: 0.7925 - val_loss: 0.4376 - val_sparse_categorical_accuracy: 0.8020 - 176ms/epoch - 3ms/step\n",
            "Epoch 10/40\n",
            "70/70 - 0s - loss: 0.4663 - sparse_categorical_accuracy: 0.7921 - val_loss: 0.4869 - val_sparse_categorical_accuracy: 0.7576 - 180ms/epoch - 3ms/step\n",
            "Epoch 11/40\n",
            "70/70 - 0s - loss: 0.4661 - sparse_categorical_accuracy: 0.7885 - val_loss: 0.4658 - val_sparse_categorical_accuracy: 0.8081 - 208ms/epoch - 3ms/step\n",
            "Epoch 12/40\n",
            "70/70 - 0s - loss: 0.5039 - sparse_categorical_accuracy: 0.7789 - val_loss: 0.4681 - val_sparse_categorical_accuracy: 0.8034 - 181ms/epoch - 3ms/step\n",
            "Epoch 13/40\n",
            "70/70 - 0s - loss: 0.4737 - sparse_categorical_accuracy: 0.7939 - val_loss: 0.4902 - val_sparse_categorical_accuracy: 0.8094 - 182ms/epoch - 3ms/step\n",
            "Epoch 14/40\n",
            "70/70 - 0s - loss: 0.4458 - sparse_categorical_accuracy: 0.8006 - val_loss: 0.4323 - val_sparse_categorical_accuracy: 0.8155 - 145ms/epoch - 2ms/step\n",
            "Epoch 15/40\n",
            "70/70 - 0s - loss: 0.4782 - sparse_categorical_accuracy: 0.7899 - val_loss: 0.4716 - val_sparse_categorical_accuracy: 0.7616 - 180ms/epoch - 3ms/step\n",
            "Epoch 16/40\n",
            "70/70 - 0s - loss: 0.4783 - sparse_categorical_accuracy: 0.7856 - val_loss: 0.4373 - val_sparse_categorical_accuracy: 0.7993 - 179ms/epoch - 3ms/step\n",
            "Epoch 17/40\n",
            "70/70 - 0s - loss: 0.4424 - sparse_categorical_accuracy: 0.7995 - val_loss: 0.5074 - val_sparse_categorical_accuracy: 0.8081 - 158ms/epoch - 2ms/step\n",
            "Epoch 18/40\n",
            "70/70 - 0s - loss: 0.4639 - sparse_categorical_accuracy: 0.7961 - val_loss: 0.5490 - val_sparse_categorical_accuracy: 0.7966 - 152ms/epoch - 2ms/step\n",
            "Epoch 19/40\n",
            "70/70 - 0s - loss: 0.4730 - sparse_categorical_accuracy: 0.7966 - val_loss: 0.5255 - val_sparse_categorical_accuracy: 0.8054 - 147ms/epoch - 2ms/step\n",
            "Epoch 20/40\n",
            "70/70 - 0s - loss: 0.4526 - sparse_categorical_accuracy: 0.8009 - val_loss: 0.4751 - val_sparse_categorical_accuracy: 0.8135 - 143ms/epoch - 2ms/step\n",
            "Epoch 21/40\n",
            "70/70 - 0s - loss: 0.4862 - sparse_categorical_accuracy: 0.7901 - val_loss: 0.4541 - val_sparse_categorical_accuracy: 0.8101 - 174ms/epoch - 2ms/step\n",
            "Epoch 22/40\n",
            "70/70 - 0s - loss: 0.4461 - sparse_categorical_accuracy: 0.8018 - val_loss: 0.4688 - val_sparse_categorical_accuracy: 0.8114 - 185ms/epoch - 3ms/step\n",
            "Epoch 23/40\n",
            "70/70 - 0s - loss: 0.4612 - sparse_categorical_accuracy: 0.7975 - val_loss: 0.4462 - val_sparse_categorical_accuracy: 0.7912 - 191ms/epoch - 3ms/step\n",
            "Epoch 24/40\n",
            "70/70 - 0s - loss: 0.4237 - sparse_categorical_accuracy: 0.8107 - val_loss: 0.4483 - val_sparse_categorical_accuracy: 0.8135 - 177ms/epoch - 3ms/step\n",
            "Epoch 25/40\n",
            "70/70 - 0s - loss: 0.4303 - sparse_categorical_accuracy: 0.8083 - val_loss: 0.4430 - val_sparse_categorical_accuracy: 0.8101 - 179ms/epoch - 3ms/step\n",
            "Epoch 26/40\n",
            "70/70 - 0s - loss: 0.4630 - sparse_categorical_accuracy: 0.7968 - val_loss: 0.4265 - val_sparse_categorical_accuracy: 0.8081 - 138ms/epoch - 2ms/step\n",
            "Epoch 27/40\n",
            "70/70 - 0s - loss: 0.4602 - sparse_categorical_accuracy: 0.7919 - val_loss: 0.5438 - val_sparse_categorical_accuracy: 0.7899 - 145ms/epoch - 2ms/step\n",
            "Epoch 28/40\n",
            "70/70 - 0s - loss: 0.4470 - sparse_categorical_accuracy: 0.8051 - val_loss: 0.5316 - val_sparse_categorical_accuracy: 0.7960 - 148ms/epoch - 2ms/step\n",
            "Epoch 29/40\n",
            "70/70 - 0s - loss: 0.4334 - sparse_categorical_accuracy: 0.8098 - val_loss: 0.4354 - val_sparse_categorical_accuracy: 0.8175 - 190ms/epoch - 3ms/step\n",
            "Epoch 30/40\n",
            "70/70 - 0s - loss: 0.4326 - sparse_categorical_accuracy: 0.8105 - val_loss: 0.4801 - val_sparse_categorical_accuracy: 0.7710 - 177ms/epoch - 3ms/step\n",
            "Epoch 31/40\n",
            "70/70 - 0s - loss: 0.4396 - sparse_categorical_accuracy: 0.8042 - val_loss: 0.4237 - val_sparse_categorical_accuracy: 0.8168 - 148ms/epoch - 2ms/step\n",
            "Epoch 32/40\n",
            "70/70 - 0s - loss: 0.4233 - sparse_categorical_accuracy: 0.8121 - val_loss: 0.4288 - val_sparse_categorical_accuracy: 0.8101 - 140ms/epoch - 2ms/step\n",
            "Epoch 33/40\n",
            "70/70 - 0s - loss: 0.4222 - sparse_categorical_accuracy: 0.8152 - val_loss: 0.4442 - val_sparse_categorical_accuracy: 0.7919 - 147ms/epoch - 2ms/step\n",
            "Epoch 34/40\n",
            "70/70 - 0s - loss: 0.4105 - sparse_categorical_accuracy: 0.8172 - val_loss: 0.4767 - val_sparse_categorical_accuracy: 0.8135 - 177ms/epoch - 3ms/step\n",
            "Epoch 35/40\n",
            "70/70 - 0s - loss: 0.4462 - sparse_categorical_accuracy: 0.8087 - val_loss: 0.4397 - val_sparse_categorical_accuracy: 0.8202 - 167ms/epoch - 2ms/step\n",
            "Epoch 36/40\n",
            "70/70 - 0s - loss: 0.4304 - sparse_categorical_accuracy: 0.8076 - val_loss: 0.4296 - val_sparse_categorical_accuracy: 0.8168 - 187ms/epoch - 3ms/step\n",
            "Epoch 37/40\n",
            "70/70 - 0s - loss: 0.4204 - sparse_categorical_accuracy: 0.8161 - val_loss: 0.4250 - val_sparse_categorical_accuracy: 0.8229 - 143ms/epoch - 2ms/step\n",
            "Epoch 38/40\n",
            "70/70 - 0s - loss: 0.4245 - sparse_categorical_accuracy: 0.8123 - val_loss: 0.4236 - val_sparse_categorical_accuracy: 0.8148 - 177ms/epoch - 3ms/step\n",
            "Epoch 39/40\n",
            "70/70 - 0s - loss: 0.4117 - sparse_categorical_accuracy: 0.8188 - val_loss: 0.4267 - val_sparse_categorical_accuracy: 0.8195 - 145ms/epoch - 2ms/step\n",
            "Epoch 40/40\n",
            "70/70 - 0s - loss: 0.4123 - sparse_categorical_accuracy: 0.8181 - val_loss: 0.4212 - val_sparse_categorical_accuracy: 0.8249 - 179ms/epoch - 3ms/step\n"
          ]
        }
      ]
    },
    {
      "cell_type": "code",
      "source": [
        "# Plot the training and validation loss\n",
        "\n",
        "plt.plot(history.history['loss'])\n",
        "plt.plot(history.history['val_loss'])\n",
        "plt.title('Loss vs. epochs')\n",
        "plt.ylabel('Loss')\n",
        "plt.xlabel('Epoch')\n",
        "plt.legend(['Training', 'Validation'], loc='upper right')\n",
        "plt.show()"
      ],
      "metadata": {
        "colab": {
          "base_uri": "https://localhost:8080/",
          "height": 295
        },
        "outputId": "f5b70484-6cb5-4eb2-f25e-65475e36151e",
        "id": "VlXz5Aqke2f-"
      },
      "execution_count": null,
      "outputs": [
        {
          "output_type": "display_data",
          "data": {
            "text/plain": [
              "<Figure size 432x288 with 1 Axes>"
            ],
            "image/png": "[encoded data removed]"
          },
          "metadata": {
            "needs_background": "light"
          }
        }
      ]
    },
    {
      "cell_type": "code",
      "metadata": {
        "colab": {
          "base_uri": "https://localhost:8080/"
        },
        "outputId": "2867b027-6821-4062-f82a-ff381df562f1",
        "id": "m48-fWPKe2f-"
      },
      "source": [
        "train_loss, train_accuracy = model.evaluate(x_train, y_train)\n",
        "train_accuracy"
      ],
      "execution_count": null,
      "outputs": [
        {
          "output_type": "stream",
          "name": "stdout",
          "text": [
            "186/186 [==============================] - 1s 3ms/step - loss: 0.4057 - sparse_categorical_accuracy: 0.8242\n"
          ]
        },
        {
          "output_type": "execute_result",
          "data": {
            "text/plain": [
              "0.8242128491401672"
            ]
          },
          "metadata": {},
          "execution_count": 97
        }
      ]
    },
    {
      "cell_type": "code",
      "metadata": {
        "colab": {
          "base_uri": "https://localhost:8080/"
        },
        "outputId": "259e3689-94c0-4a03-84d2-465beaa66bf8",
        "id": "pLSQYvZye2f-"
      },
      "source": [
        "test_loss, test_accuracy = model.evaluate(x_test, y_test)\n",
        "test_accuracy"
      ],
      "execution_count": null,
      "outputs": [
        {
          "output_type": "stream",
          "name": "stdout",
          "text": [
            "47/47 [==============================] - 0s 2ms/step - loss: 0.4076 - sparse_categorical_accuracy: 0.8189\n"
          ]
        },
        {
          "output_type": "execute_result",
          "data": {
            "text/plain": [
              "0.8188552260398865"
            ]
          },
          "metadata": {},
          "execution_count": 98
        }
      ]
    },
    {
      "cell_type": "markdown",
      "source": [
        "## 50 epochs"
      ],
      "metadata": {
        "id": "QqJ320XAe4p4"
      }
    },
    {
      "cell_type": "code",
      "source": [
        "model = Sequential([\n",
        "                    Dense(16, activation = 'relu', input_shape = (15,)),\n",
        "                    Dense(32, activation = 'relu'),\n",
        "                    Dense(64, activation = 'sigmoid')\n",
        "                   ])"
      ],
      "metadata": {
        "id": "m28VxQPZe4p6"
      },
      "execution_count": null,
      "outputs": []
    },
    {
      "cell_type": "code",
      "source": [
        "# compile the model\n",
        "\n",
        "model.compile(optimizer = tf.keras.optimizers.Adam(learning_rate = 0.003),\n",
        "              loss='sparse_categorical_crossentropy', #Use this loss function when y labels are integers\n",
        "              metrics = [tf.keras.metrics.SparseCategoricalAccuracy()]) #use this accuracy when ylabels are integers"
      ],
      "metadata": {
        "id": "XcCAxEGLe4p7"
      },
      "execution_count": null,
      "outputs": []
    },
    {
      "cell_type": "code",
      "source": [
        "# fit the model with validation set\n",
        "\n",
        "history = model.fit(x_train, y_train, epochs=50,batch_size=64, verbose = 2,validation_split = 0.25)"
      ],
      "metadata": {
        "colab": {
          "base_uri": "https://localhost:8080/"
        },
        "outputId": "7da7dd25-5c3e-4929-bb9b-1731d53d147d",
        "id": "paMMdcfXe4p7"
      },
      "execution_count": null,
      "outputs": [
        {
          "output_type": "stream",
          "name": "stdout",
          "text": [
            "Epoch 1/50\n",
            "70/70 - 1s - loss: 1.2663 - sparse_categorical_accuracy: 0.5180 - val_loss: 0.6735 - val_sparse_categorical_accuracy: 0.5939 - 658ms/epoch - 9ms/step\n",
            "Epoch 2/50\n",
            "70/70 - 0s - loss: 0.6598 - sparse_categorical_accuracy: 0.6031 - val_loss: 0.6417 - val_sparse_categorical_accuracy: 0.6316 - 189ms/epoch - 3ms/step\n",
            "Epoch 3/50\n",
            "70/70 - 0s - loss: 0.6277 - sparse_categorical_accuracy: 0.6347 - val_loss: 0.6053 - val_sparse_categorical_accuracy: 0.6694 - 179ms/epoch - 3ms/step\n",
            "Epoch 4/50\n",
            "70/70 - 0s - loss: 0.5946 - sparse_categorical_accuracy: 0.6724 - val_loss: 0.5844 - val_sparse_categorical_accuracy: 0.6781 - 186ms/epoch - 3ms/step\n",
            "Epoch 5/50\n",
            "70/70 - 0s - loss: 0.5811 - sparse_categorical_accuracy: 0.6720 - val_loss: 0.5565 - val_sparse_categorical_accuracy: 0.7057 - 151ms/epoch - 2ms/step\n",
            "Epoch 6/50\n",
            "70/70 - 0s - loss: 0.5420 - sparse_categorical_accuracy: 0.7153 - val_loss: 0.5452 - val_sparse_categorical_accuracy: 0.7347 - 152ms/epoch - 2ms/step\n",
            "Epoch 7/50\n",
            "70/70 - 0s - loss: 0.5167 - sparse_categorical_accuracy: 0.7400 - val_loss: 0.5137 - val_sparse_categorical_accuracy: 0.7502 - 177ms/epoch - 3ms/step\n",
            "Epoch 8/50\n",
            "70/70 - 0s - loss: 0.5066 - sparse_categorical_accuracy: 0.7474 - val_loss: 0.4942 - val_sparse_categorical_accuracy: 0.7488 - 140ms/epoch - 2ms/step\n",
            "Epoch 9/50\n",
            "70/70 - 0s - loss: 0.4848 - sparse_categorical_accuracy: 0.7616 - val_loss: 0.4882 - val_sparse_categorical_accuracy: 0.7818 - 181ms/epoch - 3ms/step\n",
            "Epoch 10/50\n",
            "70/70 - 0s - loss: 0.4607 - sparse_categorical_accuracy: 0.7820 - val_loss: 0.4603 - val_sparse_categorical_accuracy: 0.7818 - 142ms/epoch - 2ms/step\n",
            "Epoch 11/50\n",
            "70/70 - 0s - loss: 0.4542 - sparse_categorical_accuracy: 0.7840 - val_loss: 0.4684 - val_sparse_categorical_accuracy: 0.7778 - 179ms/epoch - 3ms/step\n",
            "Epoch 12/50\n",
            "70/70 - 0s - loss: 0.4499 - sparse_categorical_accuracy: 0.7939 - val_loss: 0.4499 - val_sparse_categorical_accuracy: 0.7966 - 175ms/epoch - 3ms/step\n",
            "Epoch 13/50\n",
            "70/70 - 0s - loss: 0.4391 - sparse_categorical_accuracy: 0.8015 - val_loss: 0.4452 - val_sparse_categorical_accuracy: 0.8027 - 147ms/epoch - 2ms/step\n",
            "Epoch 14/50\n",
            "70/70 - 0s - loss: 0.4311 - sparse_categorical_accuracy: 0.8042 - val_loss: 0.4419 - val_sparse_categorical_accuracy: 0.8047 - 150ms/epoch - 2ms/step\n",
            "Epoch 15/50\n",
            "70/70 - 0s - loss: 0.4407 - sparse_categorical_accuracy: 0.7995 - val_loss: 0.4760 - val_sparse_categorical_accuracy: 0.7946 - 148ms/epoch - 2ms/step\n",
            "Epoch 16/50\n",
            "70/70 - 0s - loss: 0.4327 - sparse_categorical_accuracy: 0.8065 - val_loss: 0.4513 - val_sparse_categorical_accuracy: 0.7939 - 168ms/epoch - 2ms/step\n",
            "Epoch 17/50\n",
            "70/70 - 0s - loss: 0.4271 - sparse_categorical_accuracy: 0.8065 - val_loss: 0.4477 - val_sparse_categorical_accuracy: 0.8141 - 147ms/epoch - 2ms/step\n",
            "Epoch 18/50\n",
            "70/70 - 0s - loss: 0.4241 - sparse_categorical_accuracy: 0.8065 - val_loss: 0.4417 - val_sparse_categorical_accuracy: 0.8027 - 174ms/epoch - 2ms/step\n",
            "Epoch 19/50\n",
            "70/70 - 0s - loss: 0.4207 - sparse_categorical_accuracy: 0.8130 - val_loss: 0.4382 - val_sparse_categorical_accuracy: 0.8148 - 145ms/epoch - 2ms/step\n",
            "Epoch 20/50\n",
            "70/70 - 0s - loss: 0.4213 - sparse_categorical_accuracy: 0.8069 - val_loss: 0.4388 - val_sparse_categorical_accuracy: 0.8081 - 174ms/epoch - 2ms/step\n",
            "Epoch 21/50\n",
            "70/70 - 0s - loss: 0.4187 - sparse_categorical_accuracy: 0.8114 - val_loss: 0.4364 - val_sparse_categorical_accuracy: 0.8121 - 143ms/epoch - 2ms/step\n",
            "Epoch 22/50\n",
            "70/70 - 0s - loss: 0.4143 - sparse_categorical_accuracy: 0.8154 - val_loss: 0.4332 - val_sparse_categorical_accuracy: 0.8094 - 186ms/epoch - 3ms/step\n",
            "Epoch 23/50\n",
            "70/70 - 0s - loss: 0.4140 - sparse_categorical_accuracy: 0.8065 - val_loss: 0.4410 - val_sparse_categorical_accuracy: 0.8081 - 140ms/epoch - 2ms/step\n",
            "Epoch 24/50\n",
            "70/70 - 0s - loss: 0.4313 - sparse_categorical_accuracy: 0.8044 - val_loss: 0.4847 - val_sparse_categorical_accuracy: 0.7791 - 201ms/epoch - 3ms/step\n",
            "Epoch 25/50\n",
            "70/70 - 0s - loss: 0.4169 - sparse_categorical_accuracy: 0.8020 - val_loss: 0.4496 - val_sparse_categorical_accuracy: 0.8013 - 179ms/epoch - 3ms/step\n",
            "Epoch 26/50\n",
            "70/70 - 0s - loss: 0.4069 - sparse_categorical_accuracy: 0.8114 - val_loss: 0.4340 - val_sparse_categorical_accuracy: 0.8040 - 182ms/epoch - 3ms/step\n",
            "Epoch 27/50\n",
            "70/70 - 0s - loss: 0.4062 - sparse_categorical_accuracy: 0.8132 - val_loss: 0.4334 - val_sparse_categorical_accuracy: 0.8121 - 178ms/epoch - 3ms/step\n",
            "Epoch 28/50\n",
            "70/70 - 0s - loss: 0.4146 - sparse_categorical_accuracy: 0.8087 - val_loss: 0.4430 - val_sparse_categorical_accuracy: 0.8040 - 189ms/epoch - 3ms/step\n",
            "Epoch 29/50\n",
            "70/70 - 0s - loss: 0.4063 - sparse_categorical_accuracy: 0.8163 - val_loss: 0.4294 - val_sparse_categorical_accuracy: 0.8135 - 185ms/epoch - 3ms/step\n",
            "Epoch 30/50\n",
            "70/70 - 0s - loss: 0.4081 - sparse_categorical_accuracy: 0.8137 - val_loss: 0.4346 - val_sparse_categorical_accuracy: 0.8094 - 138ms/epoch - 2ms/step\n",
            "Epoch 31/50\n",
            "70/70 - 0s - loss: 0.4037 - sparse_categorical_accuracy: 0.8123 - val_loss: 0.4354 - val_sparse_categorical_accuracy: 0.8000 - 180ms/epoch - 3ms/step\n",
            "Epoch 32/50\n",
            "70/70 - 0s - loss: 0.4122 - sparse_categorical_accuracy: 0.8067 - val_loss: 0.4304 - val_sparse_categorical_accuracy: 0.8054 - 149ms/epoch - 2ms/step\n",
            "Epoch 33/50\n",
            "70/70 - 0s - loss: 0.4090 - sparse_categorical_accuracy: 0.8150 - val_loss: 0.4262 - val_sparse_categorical_accuracy: 0.8121 - 152ms/epoch - 2ms/step\n",
            "Epoch 34/50\n",
            "70/70 - 0s - loss: 0.4027 - sparse_categorical_accuracy: 0.8134 - val_loss: 0.4289 - val_sparse_categorical_accuracy: 0.8067 - 136ms/epoch - 2ms/step\n",
            "Epoch 35/50\n",
            "70/70 - 0s - loss: 0.3990 - sparse_categorical_accuracy: 0.8215 - val_loss: 0.4276 - val_sparse_categorical_accuracy: 0.8034 - 138ms/epoch - 2ms/step\n",
            "Epoch 36/50\n",
            "70/70 - 0s - loss: 0.4092 - sparse_categorical_accuracy: 0.8116 - val_loss: 0.4308 - val_sparse_categorical_accuracy: 0.8121 - 141ms/epoch - 2ms/step\n",
            "Epoch 37/50\n",
            "70/70 - 0s - loss: 0.4010 - sparse_categorical_accuracy: 0.8137 - val_loss: 0.4218 - val_sparse_categorical_accuracy: 0.8168 - 145ms/epoch - 2ms/step\n",
            "Epoch 38/50\n",
            "70/70 - 0s - loss: 0.3948 - sparse_categorical_accuracy: 0.8208 - val_loss: 0.4310 - val_sparse_categorical_accuracy: 0.8121 - 143ms/epoch - 2ms/step\n",
            "Epoch 39/50\n",
            "70/70 - 0s - loss: 0.3956 - sparse_categorical_accuracy: 0.8193 - val_loss: 0.4556 - val_sparse_categorical_accuracy: 0.7973 - 175ms/epoch - 2ms/step\n",
            "Epoch 40/50\n",
            "70/70 - 0s - loss: 0.4277 - sparse_categorical_accuracy: 0.7982 - val_loss: 0.4246 - val_sparse_categorical_accuracy: 0.8094 - 156ms/epoch - 2ms/step\n",
            "Epoch 41/50\n",
            "70/70 - 0s - loss: 0.3937 - sparse_categorical_accuracy: 0.8211 - val_loss: 0.4193 - val_sparse_categorical_accuracy: 0.8128 - 143ms/epoch - 2ms/step\n",
            "Epoch 42/50\n",
            "70/70 - 0s - loss: 0.3940 - sparse_categorical_accuracy: 0.8204 - val_loss: 0.4235 - val_sparse_categorical_accuracy: 0.8101 - 142ms/epoch - 2ms/step\n",
            "Epoch 43/50\n",
            "70/70 - 0s - loss: 0.4024 - sparse_categorical_accuracy: 0.8134 - val_loss: 0.4190 - val_sparse_categorical_accuracy: 0.8148 - 174ms/epoch - 2ms/step\n",
            "Epoch 44/50\n",
            "70/70 - 0s - loss: 0.4030 - sparse_categorical_accuracy: 0.8119 - val_loss: 0.4192 - val_sparse_categorical_accuracy: 0.8168 - 181ms/epoch - 3ms/step\n",
            "Epoch 45/50\n",
            "70/70 - 0s - loss: 0.3972 - sparse_categorical_accuracy: 0.8184 - val_loss: 0.4252 - val_sparse_categorical_accuracy: 0.8121 - 179ms/epoch - 3ms/step\n",
            "Epoch 46/50\n",
            "70/70 - 0s - loss: 0.3962 - sparse_categorical_accuracy: 0.8168 - val_loss: 0.4252 - val_sparse_categorical_accuracy: 0.8081 - 184ms/epoch - 3ms/step\n",
            "Epoch 47/50\n",
            "70/70 - 0s - loss: 0.4014 - sparse_categorical_accuracy: 0.8172 - val_loss: 0.4386 - val_sparse_categorical_accuracy: 0.8040 - 139ms/epoch - 2ms/step\n",
            "Epoch 48/50\n",
            "70/70 - 0s - loss: 0.3943 - sparse_categorical_accuracy: 0.8199 - val_loss: 0.4495 - val_sparse_categorical_accuracy: 0.7973 - 143ms/epoch - 2ms/step\n",
            "Epoch 49/50\n",
            "70/70 - 0s - loss: 0.3907 - sparse_categorical_accuracy: 0.8240 - val_loss: 0.4207 - val_sparse_categorical_accuracy: 0.8135 - 153ms/epoch - 2ms/step\n",
            "Epoch 50/50\n",
            "70/70 - 0s - loss: 0.3918 - sparse_categorical_accuracy: 0.8195 - val_loss: 0.4239 - val_sparse_categorical_accuracy: 0.8027 - 184ms/epoch - 3ms/step\n"
          ]
        }
      ]
    },
    {
      "cell_type": "code",
      "source": [
        "# Plot the training and validation loss\n",
        "\n",
        "plt.plot(history.history['loss'])\n",
        "plt.plot(history.history['val_loss'])\n",
        "plt.title('Loss vs. epochs')\n",
        "plt.ylabel('Loss')\n",
        "plt.xlabel('Epoch')\n",
        "plt.legend(['Training', 'Validation'], loc='upper right')\n",
        "plt.show()"
      ],
      "metadata": {
        "colab": {
          "base_uri": "https://localhost:8080/",
          "height": 295
        },
        "outputId": "04c84a2c-8430-471c-fe34-0c4552001bc9",
        "id": "wTlaUl-Je4p8"
      },
      "execution_count": null,
      "outputs": [
        {
          "output_type": "display_data",
          "data": {
            "text/plain": [
              "<Figure size 432x288 with 1 Axes>"
            ],
            "image/png": "[encoded data removed]"
          },
          "metadata": {
            "needs_background": "light"
          }
        }
      ]
    },
    {
      "cell_type": "code",
      "metadata": {
        "colab": {
          "base_uri": "https://localhost:8080/"
        },
        "outputId": "84ecd4b2-77a3-4cba-fc43-26b78521553a",
        "id": "1EKuIqs2e4p8"
      },
      "source": [
        "train_loss, train_accuracy = model.evaluate(x_train, y_train)\n",
        "train_accuracy"
      ],
      "execution_count": null,
      "outputs": [
        {
          "output_type": "stream",
          "name": "stdout",
          "text": [
            "186/186 [==============================] - 0s 1ms/step - loss: 0.4450 - sparse_categorical_accuracy: 0.8176\n"
          ]
        },
        {
          "output_type": "execute_result",
          "data": {
            "text/plain": [
              "0.8176460862159729"
            ]
          },
          "metadata": {},
          "execution_count": 103
        }
      ]
    },
    {
      "cell_type": "code",
      "metadata": {
        "colab": {
          "base_uri": "https://localhost:8080/"
        },
        "outputId": "43ddb7cd-f4f3-4387-8773-a0c468688ae4",
        "id": "hISTXFxfe4p8"
      },
      "source": [
        "test_loss, test_accuracy = model.evaluate(x_test, y_test)\n",
        "test_accuracy"
      ],
      "execution_count": null,
      "outputs": [
        {
          "output_type": "stream",
          "name": "stdout",
          "text": [
            "47/47 [==============================] - 0s 1ms/step - loss: 0.4500 - sparse_categorical_accuracy: 0.8128\n"
          ]
        },
        {
          "output_type": "execute_result",
          "data": {
            "text/plain": [
              "0.8127946257591248"
            ]
          },
          "metadata": {},
          "execution_count": 104
        }
      ]
    },
    {
      "cell_type": "markdown",
      "source": [
        "# Initializers"
      ],
      "metadata": {
        "id": "SW4ArV2Jgjb8"
      }
    },
    {
      "cell_type": "markdown",
      "source": [
        "##With 1s"
      ],
      "metadata": {
        "id": "saKUbE1cgjb9"
      }
    },
    {
      "cell_type": "code",
      "source": [
        "model = Sequential([\n",
        "                    Dense(16, activation = 'relu', input_shape = (15,)),\n",
        "                    Dense(32, activation = 'relu'),\n",
        "                    Dense(64, activation = 'sigmoid')\n",
        "                   ])"
      ],
      "metadata": {
        "id": "3hrZcIgXgjb9"
      },
      "execution_count": null,
      "outputs": []
    },
    {
      "cell_type": "code",
      "source": [
        "# compile the model\n",
        "\n",
        "model.compile(optimizer = tf.keras.optimizers.Adam(learning_rate = 0.003),\n",
        "              loss='sparse_categorical_crossentropy', #Use this loss function when y labels are integers\n",
        "              metrics = [tf.keras.metrics.SparseCategoricalAccuracy()]) #use this accuracy when ylabels are integers"
      ],
      "metadata": {
        "id": "Dg1gFYF-gjb-"
      },
      "execution_count": null,
      "outputs": []
    },
    {
      "cell_type": "code",
      "source": [
        "kernel_initializer=tf.constant_initializer(np.ones((15, 5939)))"
      ],
      "metadata": {
        "id": "m73DXZ8VieSc"
      },
      "execution_count": null,
      "outputs": []
    },
    {
      "cell_type": "code",
      "source": [
        "# fit the model with validation set\n",
        "\n",
        "history = model.fit(x_train, y_train, epochs=20,batch_size=64, verbose = 2,validation_split = 0.25)"
      ],
      "metadata": {
        "colab": {
          "base_uri": "https://localhost:8080/"
        },
        "outputId": "151f94e0-93d0-4913-9640-c90c48fa3ce6",
        "id": "qybHBfkkgjb-"
      },
      "execution_count": null,
      "outputs": [
        {
          "output_type": "stream",
          "name": "stdout",
          "text": [
            "Epoch 1/20\n",
            "70/70 - 1s - loss: 8.0594 - sparse_categorical_accuracy: 0.5793 - val_loss: 0.6107 - val_sparse_categorical_accuracy: 0.7158 - 1s/epoch - 15ms/step\n",
            "Epoch 2/20\n",
            "70/70 - 0s - loss: 0.6034 - sparse_categorical_accuracy: 0.7203 - val_loss: 0.5034 - val_sparse_categorical_accuracy: 0.7785 - 255ms/epoch - 4ms/step\n",
            "Epoch 3/20\n",
            "70/70 - 0s - loss: 0.5487 - sparse_categorical_accuracy: 0.7499 - val_loss: 0.4826 - val_sparse_categorical_accuracy: 0.7906 - 221ms/epoch - 3ms/step\n",
            "Epoch 4/20\n",
            "70/70 - 0s - loss: 0.5747 - sparse_categorical_accuracy: 0.7503 - val_loss: 0.4803 - val_sparse_categorical_accuracy: 0.7811 - 241ms/epoch - 3ms/step\n",
            "Epoch 5/20\n",
            "70/70 - 0s - loss: 0.5008 - sparse_categorical_accuracy: 0.7735 - val_loss: 0.5812 - val_sparse_categorical_accuracy: 0.7758 - 260ms/epoch - 4ms/step\n",
            "Epoch 6/20\n",
            "70/70 - 0s - loss: 0.5251 - sparse_categorical_accuracy: 0.7656 - val_loss: 0.7495 - val_sparse_categorical_accuracy: 0.7340 - 265ms/epoch - 4ms/step\n",
            "Epoch 7/20\n",
            "70/70 - 0s - loss: 0.5063 - sparse_categorical_accuracy: 0.7802 - val_loss: 0.4530 - val_sparse_categorical_accuracy: 0.8054 - 263ms/epoch - 4ms/step\n",
            "Epoch 8/20\n",
            "70/70 - 0s - loss: 0.5128 - sparse_categorical_accuracy: 0.7777 - val_loss: 0.4467 - val_sparse_categorical_accuracy: 0.8034 - 240ms/epoch - 3ms/step\n",
            "Epoch 9/20\n",
            "70/70 - 0s - loss: 0.4743 - sparse_categorical_accuracy: 0.7887 - val_loss: 0.4809 - val_sparse_categorical_accuracy: 0.7616 - 243ms/epoch - 3ms/step\n",
            "Epoch 10/20\n",
            "70/70 - 0s - loss: 0.4422 - sparse_categorical_accuracy: 0.7988 - val_loss: 0.4995 - val_sparse_categorical_accuracy: 0.7987 - 254ms/epoch - 4ms/step\n",
            "Epoch 11/20\n",
            "70/70 - 0s - loss: 0.4502 - sparse_categorical_accuracy: 0.8013 - val_loss: 0.4356 - val_sparse_categorical_accuracy: 0.8040 - 248ms/epoch - 4ms/step\n",
            "Epoch 12/20\n",
            "70/70 - 0s - loss: 0.4870 - sparse_categorical_accuracy: 0.7818 - val_loss: 0.4444 - val_sparse_categorical_accuracy: 0.8155 - 259ms/epoch - 4ms/step\n",
            "Epoch 13/20\n",
            "70/70 - 0s - loss: 0.4574 - sparse_categorical_accuracy: 0.7937 - val_loss: 0.4447 - val_sparse_categorical_accuracy: 0.7919 - 255ms/epoch - 4ms/step\n",
            "Epoch 14/20\n",
            "70/70 - 0s - loss: 0.4707 - sparse_categorical_accuracy: 0.7883 - val_loss: 0.4361 - val_sparse_categorical_accuracy: 0.8162 - 244ms/epoch - 3ms/step\n",
            "Epoch 15/20\n",
            "70/70 - 0s - loss: 0.4539 - sparse_categorical_accuracy: 0.7995 - val_loss: 0.4352 - val_sparse_categorical_accuracy: 0.8020 - 239ms/epoch - 3ms/step\n",
            "Epoch 16/20\n",
            "70/70 - 0s - loss: 0.4440 - sparse_categorical_accuracy: 0.8056 - val_loss: 0.4607 - val_sparse_categorical_accuracy: 0.8141 - 243ms/epoch - 3ms/step\n",
            "Epoch 17/20\n",
            "70/70 - 0s - loss: 0.4608 - sparse_categorical_accuracy: 0.7946 - val_loss: 0.4389 - val_sparse_categorical_accuracy: 0.8175 - 325ms/epoch - 5ms/step\n",
            "Epoch 18/20\n",
            "70/70 - 0s - loss: 0.4490 - sparse_categorical_accuracy: 0.7948 - val_loss: 0.4396 - val_sparse_categorical_accuracy: 0.7912 - 280ms/epoch - 4ms/step\n",
            "Epoch 19/20\n",
            "70/70 - 0s - loss: 0.4688 - sparse_categorical_accuracy: 0.7928 - val_loss: 0.4611 - val_sparse_categorical_accuracy: 0.7852 - 257ms/epoch - 4ms/step\n",
            "Epoch 20/20\n",
            "70/70 - 0s - loss: 0.4580 - sparse_categorical_accuracy: 0.7995 - val_loss: 0.4982 - val_sparse_categorical_accuracy: 0.8088 - 261ms/epoch - 4ms/step\n"
          ]
        }
      ]
    },
    {
      "cell_type": "code",
      "source": [
        "# Plot the training and validation loss\n",
        "\n",
        "plt.plot(history.history['loss'])\n",
        "plt.plot(history.history['val_loss'])\n",
        "plt.title('Loss vs. epochs')\n",
        "plt.ylabel('Loss')\n",
        "plt.xlabel('Epoch')\n",
        "plt.legend(['Training', 'Validation'], loc='upper right')\n",
        "plt.show()"
      ],
      "metadata": {
        "colab": {
          "base_uri": "https://localhost:8080/",
          "height": 295
        },
        "outputId": "8ed016d4-d719-459b-b480-d1f62f834bbc",
        "id": "DlD--o21gjb-"
      },
      "execution_count": null,
      "outputs": [
        {
          "output_type": "display_data",
          "data": {
            "text/plain": [
              "<Figure size 432x288 with 1 Axes>"
            ],
            "image/png": "[encoded data removed]"
          },
          "metadata": {
            "needs_background": "light"
          }
        }
      ]
    },
    {
      "cell_type": "code",
      "metadata": {
        "colab": {
          "base_uri": "https://localhost:8080/"
        },
        "outputId": "8ac618e9-7a7e-4774-e7f5-86facb03aab3",
        "id": "76feNyMIgjb_"
      },
      "source": [
        "train_loss, train_accuracy = model.evaluate(x_train, y_train)\n",
        "train_accuracy"
      ],
      "execution_count": null,
      "outputs": [
        {
          "output_type": "stream",
          "name": "stdout",
          "text": [
            "186/186 [==============================] - 0s 1ms/step - loss: 0.4840 - sparse_categorical_accuracy: 0.8091\n"
          ]
        },
        {
          "output_type": "execute_result",
          "data": {
            "text/plain": [
              "0.8090587854385376"
            ]
          },
          "metadata": {},
          "execution_count": 112
        }
      ]
    },
    {
      "cell_type": "code",
      "metadata": {
        "colab": {
          "base_uri": "https://localhost:8080/"
        },
        "outputId": "ca65100c-44ca-4923-e622-494f6420a940",
        "id": "8XIaBFrfgjb_"
      },
      "source": [
        "test_loss, test_accuracy = model.evaluate(x_test, y_test)\n",
        "test_accuracy"
      ],
      "execution_count": null,
      "outputs": [
        {
          "output_type": "stream",
          "name": "stdout",
          "text": [
            "47/47 [==============================] - 0s 1ms/step - loss: 0.4835 - sparse_categorical_accuracy: 0.8074\n"
          ]
        },
        {
          "output_type": "execute_result",
          "data": {
            "text/plain": [
              "0.8074073791503906"
            ]
          },
          "metadata": {},
          "execution_count": 113
        }
      ]
    },
    {
      "cell_type": "markdown",
      "source": [
        "## With 0s"
      ],
      "metadata": {
        "id": "IOuqrwcRgjb_"
      }
    },
    {
      "cell_type": "code",
      "source": [
        "model = Sequential([\n",
        "                    Dense(16, activation = 'relu', input_shape = (15,)),\n",
        "                    Dense(32, activation = 'relu'),\n",
        "                    Dense(64, activation = 'sigmoid')\n",
        "                   ])"
      ],
      "metadata": {
        "id": "aXijtfKygjb_"
      },
      "execution_count": null,
      "outputs": []
    },
    {
      "cell_type": "code",
      "source": [
        "# compile the model\n",
        "\n",
        "model.compile(optimizer = tf.keras.optimizers.Adam(learning_rate = 0.003),\n",
        "              loss='sparse_categorical_crossentropy', #Use this loss function when y labels are integers\n",
        "              metrics = [tf.keras.metrics.SparseCategoricalAccuracy()]) #use this accuracy when ylabels are integers"
      ],
      "metadata": {
        "id": "nGSEnUOJgjb_"
      },
      "execution_count": null,
      "outputs": []
    },
    {
      "cell_type": "code",
      "source": [
        "kernel_initializer=tf.constant_initializer(np.zeros((15, 5939)))"
      ],
      "metadata": {
        "id": "Q7yUDV3OjmID"
      },
      "execution_count": null,
      "outputs": []
    },
    {
      "cell_type": "code",
      "source": [
        "# fit the model with validation set\n",
        "\n",
        "history = model.fit(x_train, y_train, epochs=20,batch_size=64, verbose = 2,validation_split = 0.25)"
      ],
      "metadata": {
        "colab": {
          "base_uri": "https://localhost:8080/"
        },
        "outputId": "4e029f14-4a17-420f-ca8b-0e088e1f7b0b",
        "id": "FPxVOXbYgjb_"
      },
      "execution_count": null,
      "outputs": [
        {
          "output_type": "stream",
          "name": "stdout",
          "text": [
            "Epoch 1/20\n",
            "70/70 - 2s - loss: 15.6571 - sparse_categorical_accuracy: 0.5368 - val_loss: 0.5817 - val_sparse_categorical_accuracy: 0.7461 - 2s/epoch - 23ms/step\n",
            "Epoch 2/20\n",
            "70/70 - 0s - loss: 0.4989 - sparse_categorical_accuracy: 0.7806 - val_loss: 0.4954 - val_sparse_categorical_accuracy: 0.7764 - 353ms/epoch - 5ms/step\n",
            "Epoch 3/20\n",
            "70/70 - 0s - loss: 0.4988 - sparse_categorical_accuracy: 0.7784 - val_loss: 0.4611 - val_sparse_categorical_accuracy: 0.7973 - 362ms/epoch - 5ms/step\n",
            "Epoch 4/20\n",
            "70/70 - 0s - loss: 0.4965 - sparse_categorical_accuracy: 0.7705 - val_loss: 0.4920 - val_sparse_categorical_accuracy: 0.7993 - 400ms/epoch - 6ms/step\n",
            "Epoch 5/20\n",
            "70/70 - 0s - loss: 0.5085 - sparse_categorical_accuracy: 0.7840 - val_loss: 0.5832 - val_sparse_categorical_accuracy: 0.7737 - 338ms/epoch - 5ms/step\n",
            "Epoch 6/20\n",
            "70/70 - 0s - loss: 0.4881 - sparse_categorical_accuracy: 0.7849 - val_loss: 0.4548 - val_sparse_categorical_accuracy: 0.7825 - 346ms/epoch - 5ms/step\n",
            "Epoch 7/20\n",
            "70/70 - 0s - loss: 0.5029 - sparse_categorical_accuracy: 0.7744 - val_loss: 0.4958 - val_sparse_categorical_accuracy: 0.8000 - 327ms/epoch - 5ms/step\n",
            "Epoch 8/20\n",
            "70/70 - 0s - loss: 0.4912 - sparse_categorical_accuracy: 0.7820 - val_loss: 0.8039 - val_sparse_categorical_accuracy: 0.7125 - 447ms/epoch - 6ms/step\n",
            "Epoch 9/20\n",
            "70/70 - 0s - loss: 0.5021 - sparse_categorical_accuracy: 0.7791 - val_loss: 0.4544 - val_sparse_categorical_accuracy: 0.7811 - 445ms/epoch - 6ms/step\n",
            "Epoch 10/20\n",
            "70/70 - 0s - loss: 0.4628 - sparse_categorical_accuracy: 0.7930 - val_loss: 0.5059 - val_sparse_categorical_accuracy: 0.7980 - 260ms/epoch - 4ms/step\n",
            "Epoch 11/20\n",
            "70/70 - 0s - loss: 0.5244 - sparse_categorical_accuracy: 0.7701 - val_loss: 0.4557 - val_sparse_categorical_accuracy: 0.7953 - 188ms/epoch - 3ms/step\n",
            "Epoch 12/20\n",
            "70/70 - 0s - loss: 0.4477 - sparse_categorical_accuracy: 0.8024 - val_loss: 0.4352 - val_sparse_categorical_accuracy: 0.8020 - 255ms/epoch - 4ms/step\n",
            "Epoch 13/20\n",
            "70/70 - 0s - loss: 0.4475 - sparse_categorical_accuracy: 0.7991 - val_loss: 0.4481 - val_sparse_categorical_accuracy: 0.8114 - 281ms/epoch - 4ms/step\n",
            "Epoch 14/20\n",
            "70/70 - 0s - loss: 0.4731 - sparse_categorical_accuracy: 0.7925 - val_loss: 0.4368 - val_sparse_categorical_accuracy: 0.7912 - 248ms/epoch - 4ms/step\n",
            "Epoch 15/20\n",
            "70/70 - 0s - loss: 0.4691 - sparse_categorical_accuracy: 0.7901 - val_loss: 0.4941 - val_sparse_categorical_accuracy: 0.7481 - 253ms/epoch - 4ms/step\n",
            "Epoch 16/20\n",
            "70/70 - 0s - loss: 0.4597 - sparse_categorical_accuracy: 0.7979 - val_loss: 0.5380 - val_sparse_categorical_accuracy: 0.7892 - 264ms/epoch - 4ms/step\n",
            "Epoch 17/20\n",
            "70/70 - 0s - loss: 0.5114 - sparse_categorical_accuracy: 0.7777 - val_loss: 0.5011 - val_sparse_categorical_accuracy: 0.8108 - 245ms/epoch - 3ms/step\n",
            "Epoch 18/20\n",
            "70/70 - 0s - loss: 0.5498 - sparse_categorical_accuracy: 0.7719 - val_loss: 0.4851 - val_sparse_categorical_accuracy: 0.8088 - 275ms/epoch - 4ms/step\n",
            "Epoch 19/20\n",
            "70/70 - 0s - loss: 0.5563 - sparse_categorical_accuracy: 0.7687 - val_loss: 0.6712 - val_sparse_categorical_accuracy: 0.7697 - 245ms/epoch - 4ms/step\n",
            "Epoch 20/20\n",
            "70/70 - 0s - loss: 0.4613 - sparse_categorical_accuracy: 0.8053 - val_loss: 0.4566 - val_sparse_categorical_accuracy: 0.8168 - 221ms/epoch - 3ms/step\n"
          ]
        }
      ]
    },
    {
      "cell_type": "code",
      "source": [
        "# Plot the training and validation loss\n",
        "\n",
        "plt.plot(history.history['loss'])\n",
        "plt.plot(history.history['val_loss'])\n",
        "plt.title('Loss vs. epochs')\n",
        "plt.ylabel('Loss')\n",
        "plt.xlabel('Epoch')\n",
        "plt.legend(['Training', 'Validation'], loc='upper right')\n",
        "plt.show()"
      ],
      "metadata": {
        "colab": {
          "base_uri": "https://localhost:8080/",
          "height": 295
        },
        "outputId": "1c732c80-d346-4a45-ecff-8429f7869acc",
        "id": "9oVC97f-gjcA"
      },
      "execution_count": null,
      "outputs": [
        {
          "output_type": "display_data",
          "data": {
            "text/plain": [
              "<Figure size 432x288 with 1 Axes>"
            ],
            "image/png": "[encoded data removed]"
          },
          "metadata": {
            "needs_background": "light"
          }
        }
      ]
    },
    {
      "cell_type": "code",
      "metadata": {
        "colab": {
          "base_uri": "https://localhost:8080/"
        },
        "outputId": "2c2114bb-c940-4c62-9ef3-1b832d0ad241",
        "id": "CsJbu4ZngjcA"
      },
      "source": [
        "train_loss, train_accuracy = model.evaluate(x_train, y_train)\n",
        "train_accuracy"
      ],
      "execution_count": null,
      "outputs": [
        {
          "output_type": "stream",
          "name": "stdout",
          "text": [
            "186/186 [==============================] - 0s 2ms/step - loss: 0.4426 - sparse_categorical_accuracy: 0.8163\n"
          ]
        },
        {
          "output_type": "execute_result",
          "data": {
            "text/plain": [
              "0.8162990212440491"
            ]
          },
          "metadata": {},
          "execution_count": 136
        }
      ]
    },
    {
      "cell_type": "code",
      "metadata": {
        "colab": {
          "base_uri": "https://localhost:8080/"
        },
        "outputId": "6b8a9294-c38c-4c28-e4b6-8dd053149618",
        "id": "gBb1WEnkgjcA"
      },
      "source": [
        "test_loss, test_accuracy = model.evaluate(x_test, y_test)\n",
        "test_accuracy"
      ],
      "execution_count": null,
      "outputs": [
        {
          "output_type": "stream",
          "name": "stdout",
          "text": [
            "47/47 [==============================] - 0s 2ms/step - loss: 0.4423 - sparse_categorical_accuracy: 0.8088\n"
          ]
        },
        {
          "output_type": "execute_result",
          "data": {
            "text/plain": [
              "0.8087542057037354"
            ]
          },
          "metadata": {},
          "execution_count": 137
        }
      ]
    },
    {
      "cell_type": "markdown",
      "source": [
        "## He Normal"
      ],
      "metadata": {
        "id": "wLLsTJFPgjcA"
      }
    },
    {
      "cell_type": "code",
      "source": [
        "model = Sequential([\n",
        "                    Dense(16, activation = 'relu', input_shape = (15,)),\n",
        "                    Dense(32, activation = 'relu'),\n",
        "                    Dense(64, activation = 'sigmoid')\n",
        "                   ])"
      ],
      "metadata": {
        "id": "KLY8AndpgjcB"
      },
      "execution_count": null,
      "outputs": []
    },
    {
      "cell_type": "code",
      "source": [
        "# compile the model\n",
        "\n",
        "model.compile(optimizer = tf.keras.optimizers.Adam(learning_rate = 0.003),\n",
        "              loss='sparse_categorical_crossentropy', #Use this loss function when y labels are integers\n",
        "              metrics = [tf.keras.metrics.SparseCategoricalAccuracy()]) #use this accuracy when ylabels are integers"
      ],
      "metadata": {
        "id": "7y-mP8ZcgjcB"
      },
      "execution_count": null,
      "outputs": []
    },
    {
      "cell_type": "code",
      "source": [
        "kernel_initializer=tf.keras.initializers.HeNormal()"
      ],
      "metadata": {
        "id": "MYDRZ7P_kL_M"
      },
      "execution_count": null,
      "outputs": []
    },
    {
      "cell_type": "code",
      "source": [
        "# fit the model with validation set\n",
        "\n",
        "history = model.fit(x_train, y_train, epochs=20,batch_size=64, verbose = 2,validation_split = 0.25)"
      ],
      "metadata": {
        "colab": {
          "base_uri": "https://localhost:8080/"
        },
        "outputId": "f9bde797-35aa-4e81-cea6-b5d26df91695",
        "id": "CQI_ISZngjcB"
      },
      "execution_count": null,
      "outputs": [
        {
          "output_type": "stream",
          "name": "stdout",
          "text": [
            "Epoch 1/20\n",
            "70/70 - 1s - loss: 5.6088 - sparse_categorical_accuracy: 0.5934 - val_loss: 0.6690 - val_sparse_categorical_accuracy: 0.7098 - 706ms/epoch - 10ms/step\n",
            "Epoch 2/20\n",
            "70/70 - 0s - loss: 0.5405 - sparse_categorical_accuracy: 0.7454 - val_loss: 0.4838 - val_sparse_categorical_accuracy: 0.7771 - 190ms/epoch - 3ms/step\n",
            "Epoch 3/20\n",
            "70/70 - 0s - loss: 0.5120 - sparse_categorical_accuracy: 0.7649 - val_loss: 0.5810 - val_sparse_categorical_accuracy: 0.7643 - 198ms/epoch - 3ms/step\n",
            "Epoch 4/20\n",
            "70/70 - 0s - loss: 0.4715 - sparse_categorical_accuracy: 0.7869 - val_loss: 0.5124 - val_sparse_categorical_accuracy: 0.7818 - 156ms/epoch - 2ms/step\n",
            "Epoch 5/20\n",
            "70/70 - 0s - loss: 0.4845 - sparse_categorical_accuracy: 0.7753 - val_loss: 0.4602 - val_sparse_categorical_accuracy: 0.7973 - 180ms/epoch - 3ms/step\n",
            "Epoch 6/20\n",
            "70/70 - 0s - loss: 0.4846 - sparse_categorical_accuracy: 0.7829 - val_loss: 0.4685 - val_sparse_categorical_accuracy: 0.8047 - 153ms/epoch - 2ms/step\n",
            "Epoch 7/20\n",
            "70/70 - 0s - loss: 0.4640 - sparse_categorical_accuracy: 0.7899 - val_loss: 0.4562 - val_sparse_categorical_accuracy: 0.7778 - 148ms/epoch - 2ms/step\n",
            "Epoch 8/20\n",
            "70/70 - 0s - loss: 0.4606 - sparse_categorical_accuracy: 0.7939 - val_loss: 0.5560 - val_sparse_categorical_accuracy: 0.7859 - 197ms/epoch - 3ms/step\n",
            "Epoch 9/20\n",
            "70/70 - 0s - loss: 0.4536 - sparse_categorical_accuracy: 0.7968 - val_loss: 0.4426 - val_sparse_categorical_accuracy: 0.8061 - 145ms/epoch - 2ms/step\n",
            "Epoch 10/20\n",
            "70/70 - 0s - loss: 0.4405 - sparse_categorical_accuracy: 0.7986 - val_loss: 0.4412 - val_sparse_categorical_accuracy: 0.8094 - 152ms/epoch - 2ms/step\n",
            "Epoch 11/20\n",
            "70/70 - 0s - loss: 0.4417 - sparse_categorical_accuracy: 0.8029 - val_loss: 0.4369 - val_sparse_categorical_accuracy: 0.8040 - 144ms/epoch - 2ms/step\n",
            "Epoch 12/20\n",
            "70/70 - 0s - loss: 0.4604 - sparse_categorical_accuracy: 0.7910 - val_loss: 0.4322 - val_sparse_categorical_accuracy: 0.7973 - 145ms/epoch - 2ms/step\n",
            "Epoch 13/20\n",
            "70/70 - 0s - loss: 0.4231 - sparse_categorical_accuracy: 0.8089 - val_loss: 0.4321 - val_sparse_categorical_accuracy: 0.8081 - 181ms/epoch - 3ms/step\n",
            "Epoch 14/20\n",
            "70/70 - 0s - loss: 0.4309 - sparse_categorical_accuracy: 0.8024 - val_loss: 0.4300 - val_sparse_categorical_accuracy: 0.8114 - 187ms/epoch - 3ms/step\n",
            "Epoch 15/20\n",
            "70/70 - 0s - loss: 0.4332 - sparse_categorical_accuracy: 0.8101 - val_loss: 0.4319 - val_sparse_categorical_accuracy: 0.7973 - 151ms/epoch - 2ms/step\n",
            "Epoch 16/20\n",
            "70/70 - 0s - loss: 0.4421 - sparse_categorical_accuracy: 0.8015 - val_loss: 0.4385 - val_sparse_categorical_accuracy: 0.8141 - 184ms/epoch - 3ms/step\n",
            "Epoch 17/20\n",
            "70/70 - 0s - loss: 0.4264 - sparse_categorical_accuracy: 0.8085 - val_loss: 0.4385 - val_sparse_categorical_accuracy: 0.7987 - 182ms/epoch - 3ms/step\n",
            "Epoch 18/20\n",
            "70/70 - 0s - loss: 0.4367 - sparse_categorical_accuracy: 0.8040 - val_loss: 0.4281 - val_sparse_categorical_accuracy: 0.8054 - 180ms/epoch - 3ms/step\n",
            "Epoch 19/20\n",
            "70/70 - 0s - loss: 0.4268 - sparse_categorical_accuracy: 0.8022 - val_loss: 0.4544 - val_sparse_categorical_accuracy: 0.8135 - 185ms/epoch - 3ms/step\n",
            "Epoch 20/20\n",
            "70/70 - 0s - loss: 0.4372 - sparse_categorical_accuracy: 0.8065 - val_loss: 0.4966 - val_sparse_categorical_accuracy: 0.7980 - 167ms/epoch - 2ms/step\n"
          ]
        }
      ]
    },
    {
      "cell_type": "code",
      "source": [
        "# Plot the training and validation loss\n",
        "\n",
        "plt.plot(history.history['loss'])\n",
        "plt.plot(history.history['val_loss'])\n",
        "plt.title('Loss vs. epochs')\n",
        "plt.ylabel('Loss')\n",
        "plt.xlabel('Epoch')\n",
        "plt.legend(['Training', 'Validation'], loc='upper right')\n",
        "plt.show()"
      ],
      "metadata": {
        "colab": {
          "base_uri": "https://localhost:8080/",
          "height": 295
        },
        "outputId": "8c1e22f0-c6ac-480b-a369-07ad20cd209c",
        "id": "89T2MMEtgjcB"
      },
      "execution_count": null,
      "outputs": [
        {
          "output_type": "display_data",
          "data": {
            "text/plain": [
              "<Figure size 432x288 with 1 Axes>"
            ],
            "image/png": "[encoded data removed]"
          },
          "metadata": {
            "needs_background": "light"
          }
        }
      ]
    },
    {
      "cell_type": "code",
      "metadata": {
        "colab": {
          "base_uri": "https://localhost:8080/"
        },
        "outputId": "9d546a42-564b-4b3f-be3f-9659e9cd7430",
        "id": "MPGQ1_nNgjcB"
      },
      "source": [
        "train_loss, train_accuracy = model.evaluate(x_train, y_train)\n",
        "train_accuracy"
      ],
      "execution_count": null,
      "outputs": [
        {
          "output_type": "stream",
          "name": "stdout",
          "text": [
            "186/186 [==============================] - 0s 1ms/step - loss: 0.4815 - sparse_categorical_accuracy: 0.8028\n"
          ]
        },
        {
          "output_type": "execute_result",
          "data": {
            "text/plain": [
              "0.8028287887573242"
            ]
          },
          "metadata": {},
          "execution_count": 143
        }
      ]
    },
    {
      "cell_type": "code",
      "metadata": {
        "colab": {
          "base_uri": "https://localhost:8080/"
        },
        "outputId": "08f8cd59-2969-4a03-8eb2-3efbffa84365",
        "id": "1f8b7Z4WgjcB"
      },
      "source": [
        "test_loss, test_accuracy = model.evaluate(x_test, y_test)\n",
        "test_accuracy"
      ],
      "execution_count": null,
      "outputs": [
        {
          "output_type": "stream",
          "name": "stdout",
          "text": [
            "47/47 [==============================] - 0s 2ms/step - loss: 0.4849 - sparse_categorical_accuracy: 0.8007\n"
          ]
        },
        {
          "output_type": "execute_result",
          "data": {
            "text/plain": [
              "0.8006734251976013"
            ]
          },
          "metadata": {},
          "execution_count": 144
        }
      ]
    },
    {
      "cell_type": "markdown",
      "source": [
        "## Default"
      ],
      "metadata": {
        "id": "g_Slop3enfp-"
      }
    },
    {
      "cell_type": "code",
      "source": [
        "model = Sequential([\n",
        "                    Dense(16, activation = 'relu', input_shape = (15,)),\n",
        "                    Dense(32, activation = 'relu'),\n",
        "                    Dense(64, activation = 'sigmoid')\n",
        "                   ])"
      ],
      "metadata": {
        "id": "3POaGr1Mnfp_"
      },
      "execution_count": null,
      "outputs": []
    },
    {
      "cell_type": "code",
      "source": [
        "# compile the model\n",
        "\n",
        "model.compile(optimizer = tf.keras.optimizers.Adam(learning_rate = 0.003),\n",
        "              loss='sparse_categorical_crossentropy', #Use this loss function when y labels are integers\n",
        "              metrics = [tf.keras.metrics.SparseCategoricalAccuracy()]) #use this accuracy when ylabels are integers"
      ],
      "metadata": {
        "id": "Saj28Pf-nfqA"
      },
      "execution_count": null,
      "outputs": []
    },
    {
      "cell_type": "code",
      "source": [
        "# fit the model with validation set\n",
        "\n",
        "history = model.fit(x_train, y_train, epochs=20,batch_size=64, verbose = 2,validation_split = 0.25)"
      ],
      "metadata": {
        "colab": {
          "base_uri": "https://localhost:8080/"
        },
        "outputId": "fae827bc-af58-4ac5-f247-9499e2b2cf39",
        "id": "WVCKU6jMnfqB"
      },
      "execution_count": null,
      "outputs": [
        {
          "output_type": "stream",
          "name": "stdout",
          "text": [
            "Epoch 1/20\n",
            "70/70 - 1s - loss: 5.0094 - sparse_categorical_accuracy: 0.6370 - val_loss: 0.5701 - val_sparse_categorical_accuracy: 0.7481 - 1s/epoch - 16ms/step\n",
            "Epoch 2/20\n",
            "70/70 - 0s - loss: 0.6030 - sparse_categorical_accuracy: 0.7425 - val_loss: 0.5035 - val_sparse_categorical_accuracy: 0.7852 - 243ms/epoch - 3ms/step\n",
            "Epoch 3/20\n",
            "70/70 - 0s - loss: 0.5377 - sparse_categorical_accuracy: 0.7647 - val_loss: 0.5357 - val_sparse_categorical_accuracy: 0.7178 - 250ms/epoch - 4ms/step\n",
            "Epoch 4/20\n",
            "70/70 - 0s - loss: 0.5103 - sparse_categorical_accuracy: 0.7759 - val_loss: 0.9356 - val_sparse_categorical_accuracy: 0.5899 - 254ms/epoch - 4ms/step\n",
            "Epoch 5/20\n",
            "70/70 - 0s - loss: 0.5707 - sparse_categorical_accuracy: 0.7602 - val_loss: 0.4615 - val_sparse_categorical_accuracy: 0.7980 - 254ms/epoch - 4ms/step\n",
            "Epoch 6/20\n",
            "70/70 - 0s - loss: 0.4876 - sparse_categorical_accuracy: 0.7793 - val_loss: 0.6373 - val_sparse_categorical_accuracy: 0.7805 - 261ms/epoch - 4ms/step\n",
            "Epoch 7/20\n",
            "70/70 - 0s - loss: 0.4682 - sparse_categorical_accuracy: 0.7959 - val_loss: 0.5662 - val_sparse_categorical_accuracy: 0.7879 - 256ms/epoch - 4ms/step\n",
            "Epoch 8/20\n",
            "70/70 - 0s - loss: 0.5318 - sparse_categorical_accuracy: 0.7744 - val_loss: 0.4365 - val_sparse_categorical_accuracy: 0.8094 - 284ms/epoch - 4ms/step\n",
            "Epoch 9/20\n",
            "70/70 - 0s - loss: 0.4451 - sparse_categorical_accuracy: 0.7955 - val_loss: 0.4349 - val_sparse_categorical_accuracy: 0.8101 - 247ms/epoch - 4ms/step\n",
            "Epoch 10/20\n",
            "70/70 - 0s - loss: 0.4407 - sparse_categorical_accuracy: 0.8009 - val_loss: 0.4433 - val_sparse_categorical_accuracy: 0.8162 - 275ms/epoch - 4ms/step\n",
            "Epoch 11/20\n",
            "70/70 - 0s - loss: 0.4365 - sparse_categorical_accuracy: 0.8020 - val_loss: 0.4413 - val_sparse_categorical_accuracy: 0.8121 - 271ms/epoch - 4ms/step\n",
            "Epoch 12/20\n",
            "70/70 - 0s - loss: 0.4515 - sparse_categorical_accuracy: 0.7970 - val_loss: 0.4370 - val_sparse_categorical_accuracy: 0.7933 - 260ms/epoch - 4ms/step\n",
            "Epoch 13/20\n",
            "70/70 - 0s - loss: 0.4194 - sparse_categorical_accuracy: 0.8139 - val_loss: 0.4393 - val_sparse_categorical_accuracy: 0.7933 - 280ms/epoch - 4ms/step\n",
            "Epoch 14/20\n",
            "70/70 - 0s - loss: 0.4317 - sparse_categorical_accuracy: 0.8031 - val_loss: 0.4441 - val_sparse_categorical_accuracy: 0.8155 - 251ms/epoch - 4ms/step\n",
            "Epoch 15/20\n",
            "70/70 - 0s - loss: 0.4348 - sparse_categorical_accuracy: 0.8024 - val_loss: 0.6911 - val_sparse_categorical_accuracy: 0.6013 - 241ms/epoch - 3ms/step\n",
            "Epoch 16/20\n",
            "70/70 - 0s - loss: 0.4365 - sparse_categorical_accuracy: 0.8078 - val_loss: 0.4403 - val_sparse_categorical_accuracy: 0.7960 - 245ms/epoch - 3ms/step\n",
            "Epoch 17/20\n",
            "70/70 - 0s - loss: 0.4249 - sparse_categorical_accuracy: 0.8062 - val_loss: 0.5202 - val_sparse_categorical_accuracy: 0.7192 - 233ms/epoch - 3ms/step\n",
            "Epoch 18/20\n",
            "70/70 - 0s - loss: 0.4322 - sparse_categorical_accuracy: 0.8033 - val_loss: 0.4448 - val_sparse_categorical_accuracy: 0.8141 - 278ms/epoch - 4ms/step\n",
            "Epoch 19/20\n",
            "70/70 - 0s - loss: 0.4304 - sparse_categorical_accuracy: 0.8062 - val_loss: 0.4308 - val_sparse_categorical_accuracy: 0.8135 - 219ms/epoch - 3ms/step\n",
            "Epoch 20/20\n",
            "70/70 - 0s - loss: 0.4405 - sparse_categorical_accuracy: 0.8085 - val_loss: 0.4275 - val_sparse_categorical_accuracy: 0.8135 - 239ms/epoch - 3ms/step\n"
          ]
        }
      ]
    },
    {
      "cell_type": "code",
      "source": [
        "# Plot the training and validation loss\n",
        "\n",
        "plt.plot(history.history['loss'])\n",
        "plt.plot(history.history['val_loss'])\n",
        "plt.title('Loss vs. epochs')\n",
        "plt.ylabel('Loss')\n",
        "plt.xlabel('Epoch')\n",
        "plt.legend(['Training', 'Validation'], loc='upper right')\n",
        "plt.show()"
      ],
      "metadata": {
        "colab": {
          "base_uri": "https://localhost:8080/",
          "height": 295
        },
        "outputId": "ee0b9fc1-adf2-4aa4-d5d2-107a392b58f2",
        "id": "Uh_8JR3PnfqC"
      },
      "execution_count": null,
      "outputs": [
        {
          "output_type": "display_data",
          "data": {
            "text/plain": [
              "<Figure size 432x288 with 1 Axes>"
            ],
            "image/png": "[encoded data removed]"
          },
          "metadata": {
            "needs_background": "light"
          }
        }
      ]
    },
    {
      "cell_type": "code",
      "metadata": {
        "colab": {
          "base_uri": "https://localhost:8080/"
        },
        "outputId": "ae319f41-f34a-4a73-bed4-3c39094cecec",
        "id": "RQpuq5OrnfqC"
      },
      "source": [
        "train_loss, train_accuracy = model.evaluate(x_train, y_train)\n",
        "train_accuracy"
      ],
      "execution_count": null,
      "outputs": [
        {
          "output_type": "stream",
          "name": "stdout",
          "text": [
            "186/186 [==============================] - 0s 1ms/step - loss: 0.4140 - sparse_categorical_accuracy: 0.8195\n"
          ]
        },
        {
          "output_type": "execute_result",
          "data": {
            "text/plain": [
              "0.8194982409477234"
            ]
          },
          "metadata": {},
          "execution_count": 179
        }
      ]
    },
    {
      "cell_type": "code",
      "metadata": {
        "colab": {
          "base_uri": "https://localhost:8080/"
        },
        "outputId": "778e34a4-a627-47e8-ebee-f4bd374b52cf",
        "id": "djm-7iLKnfqC"
      },
      "source": [
        "test_loss, test_accuracy = model.evaluate(x_test, y_test)\n",
        "test_accuracy"
      ],
      "execution_count": null,
      "outputs": [
        {
          "output_type": "stream",
          "name": "stdout",
          "text": [
            "47/47 [==============================] - 0s 1ms/step - loss: 0.4140 - sparse_categorical_accuracy: 0.8148\n"
          ]
        },
        {
          "output_type": "execute_result",
          "data": {
            "text/plain": [
              "0.8148148059844971"
            ]
          },
          "metadata": {},
          "execution_count": 180
        }
      ]
    },
    {
      "cell_type": "markdown",
      "source": [
        "# Best Model"
      ],
      "metadata": {
        "id": "NOgs0TIumKeP"
      }
    },
    {
      "cell_type": "code",
      "source": [
        "model = Sequential([\n",
        "                    Dense(16, activation = 'relu', input_shape = (15,)),\n",
        "                    Dense(32, activation = 'relu'),\n",
        "                    Dense(64, activation = 'sigmoid')\n",
        "                   ])"
      ],
      "metadata": {
        "id": "vjbY0GOSmKeV"
      },
      "execution_count": null,
      "outputs": []
    },
    {
      "cell_type": "code",
      "source": [
        "# compile the model\n",
        "\n",
        "model.compile(optimizer = tf.keras.optimizers.Adam(learning_rate = 0.005),\n",
        "              loss='sparse_categorical_crossentropy', #Use this loss function when y labels are integers\n",
        "              metrics = [tf.keras.metrics.SparseCategoricalAccuracy()]) #use this accuracy when ylabels are integers"
      ],
      "metadata": {
        "id": "QAGs-zrxmKeW"
      },
      "execution_count": null,
      "outputs": []
    },
    {
      "cell_type": "code",
      "source": [
        "# fit the model with validation set\n",
        "\n",
        "history = model.fit(x_train, y_train, epochs=20,batch_size=64, verbose = 2,validation_split = 0.25)"
      ],
      "metadata": {
        "colab": {
          "base_uri": "https://localhost:8080/"
        },
        "outputId": "fae827bc-af58-4ac5-f247-9499e2b2cf39",
        "id": "FIM939l8mKeW"
      },
      "execution_count": null,
      "outputs": [
        {
          "output_type": "stream",
          "name": "stdout",
          "text": [
            "Epoch 1/20\n",
            "70/70 - 1s - loss: 5.0094 - sparse_categorical_accuracy: 0.6370 - val_loss: 0.5701 - val_sparse_categorical_accuracy: 0.7481 - 1s/epoch - 16ms/step\n",
            "Epoch 2/20\n",
            "70/70 - 0s - loss: 0.6030 - sparse_categorical_accuracy: 0.7425 - val_loss: 0.5035 - val_sparse_categorical_accuracy: 0.7852 - 243ms/epoch - 3ms/step\n",
            "Epoch 3/20\n",
            "70/70 - 0s - loss: 0.5377 - sparse_categorical_accuracy: 0.7647 - val_loss: 0.5357 - val_sparse_categorical_accuracy: 0.7178 - 250ms/epoch - 4ms/step\n",
            "Epoch 4/20\n",
            "70/70 - 0s - loss: 0.5103 - sparse_categorical_accuracy: 0.7759 - val_loss: 0.9356 - val_sparse_categorical_accuracy: 0.5899 - 254ms/epoch - 4ms/step\n",
            "Epoch 5/20\n",
            "70/70 - 0s - loss: 0.5707 - sparse_categorical_accuracy: 0.7602 - val_loss: 0.4615 - val_sparse_categorical_accuracy: 0.7980 - 254ms/epoch - 4ms/step\n",
            "Epoch 6/20\n",
            "70/70 - 0s - loss: 0.4876 - sparse_categorical_accuracy: 0.7793 - val_loss: 0.6373 - val_sparse_categorical_accuracy: 0.7805 - 261ms/epoch - 4ms/step\n",
            "Epoch 7/20\n",
            "70/70 - 0s - loss: 0.4682 - sparse_categorical_accuracy: 0.7959 - val_loss: 0.5662 - val_sparse_categorical_accuracy: 0.7879 - 256ms/epoch - 4ms/step\n",
            "Epoch 8/20\n",
            "70/70 - 0s - loss: 0.5318 - sparse_categorical_accuracy: 0.7744 - val_loss: 0.4365 - val_sparse_categorical_accuracy: 0.8094 - 284ms/epoch - 4ms/step\n",
            "Epoch 9/20\n",
            "70/70 - 0s - loss: 0.4451 - sparse_categorical_accuracy: 0.7955 - val_loss: 0.4349 - val_sparse_categorical_accuracy: 0.8101 - 247ms/epoch - 4ms/step\n",
            "Epoch 10/20\n",
            "70/70 - 0s - loss: 0.4407 - sparse_categorical_accuracy: 0.8009 - val_loss: 0.4433 - val_sparse_categorical_accuracy: 0.8162 - 275ms/epoch - 4ms/step\n",
            "Epoch 11/20\n",
            "70/70 - 0s - loss: 0.4365 - sparse_categorical_accuracy: 0.8020 - val_loss: 0.4413 - val_sparse_categorical_accuracy: 0.8121 - 271ms/epoch - 4ms/step\n",
            "Epoch 12/20\n",
            "70/70 - 0s - loss: 0.4515 - sparse_categorical_accuracy: 0.7970 - val_loss: 0.4370 - val_sparse_categorical_accuracy: 0.7933 - 260ms/epoch - 4ms/step\n",
            "Epoch 13/20\n",
            "70/70 - 0s - loss: 0.4194 - sparse_categorical_accuracy: 0.8139 - val_loss: 0.4393 - val_sparse_categorical_accuracy: 0.7933 - 280ms/epoch - 4ms/step\n",
            "Epoch 14/20\n",
            "70/70 - 0s - loss: 0.4317 - sparse_categorical_accuracy: 0.8031 - val_loss: 0.4441 - val_sparse_categorical_accuracy: 0.8155 - 251ms/epoch - 4ms/step\n",
            "Epoch 15/20\n",
            "70/70 - 0s - loss: 0.4348 - sparse_categorical_accuracy: 0.8024 - val_loss: 0.6911 - val_sparse_categorical_accuracy: 0.6013 - 241ms/epoch - 3ms/step\n",
            "Epoch 16/20\n",
            "70/70 - 0s - loss: 0.4365 - sparse_categorical_accuracy: 0.8078 - val_loss: 0.4403 - val_sparse_categorical_accuracy: 0.7960 - 245ms/epoch - 3ms/step\n",
            "Epoch 17/20\n",
            "70/70 - 0s - loss: 0.4249 - sparse_categorical_accuracy: 0.8062 - val_loss: 0.5202 - val_sparse_categorical_accuracy: 0.7192 - 233ms/epoch - 3ms/step\n",
            "Epoch 18/20\n",
            "70/70 - 0s - loss: 0.4322 - sparse_categorical_accuracy: 0.8033 - val_loss: 0.4448 - val_sparse_categorical_accuracy: 0.8141 - 278ms/epoch - 4ms/step\n",
            "Epoch 19/20\n",
            "70/70 - 0s - loss: 0.4304 - sparse_categorical_accuracy: 0.8062 - val_loss: 0.4308 - val_sparse_categorical_accuracy: 0.8135 - 219ms/epoch - 3ms/step\n",
            "Epoch 20/20\n",
            "70/70 - 0s - loss: 0.4405 - sparse_categorical_accuracy: 0.8085 - val_loss: 0.4275 - val_sparse_categorical_accuracy: 0.8135 - 239ms/epoch - 3ms/step\n"
          ]
        }
      ]
    },
    {
      "cell_type": "code",
      "source": [
        "# Plot the training and validation loss\n",
        "\n",
        "plt.plot(history.history['loss'])\n",
        "plt.plot(history.history['val_loss'])\n",
        "plt.title('Loss vs. epochs')\n",
        "plt.ylabel('Loss')\n",
        "plt.xlabel('Epoch')\n",
        "plt.legend(['Training', 'Validation'], loc='upper right')\n",
        "plt.show()"
      ],
      "metadata": {
        "colab": {
          "base_uri": "https://localhost:8080/",
          "height": 295
        },
        "outputId": "ee0b9fc1-adf2-4aa4-d5d2-107a392b58f2",
        "id": "QXkUelNrmKeX"
      },
      "execution_count": null,
      "outputs": [
        {
          "output_type": "display_data",
          "data": {
            "text/plain": [
              "<Figure size 432x288 with 1 Axes>"
            ],
            "image/png": "[encoded data removed]"
          },
          "metadata": {
            "needs_background": "light"
          }
        }
      ]
    },
    {
      "cell_type": "code",
      "metadata": {
        "colab": {
          "base_uri": "https://localhost:8080/"
        },
        "outputId": "ae319f41-f34a-4a73-bed4-3c39094cecec",
        "id": "Bg416zMSmKeX"
      },
      "source": [
        "train_loss, train_accuracy = model.evaluate(x_train, y_train)\n",
        "train_accuracy"
      ],
      "execution_count": null,
      "outputs": [
        {
          "output_type": "stream",
          "name": "stdout",
          "text": [
            "186/186 [==============================] - 0s 1ms/step - loss: 0.4140 - sparse_categorical_accuracy: 0.8195\n"
          ]
        },
        {
          "output_type": "execute_result",
          "data": {
            "text/plain": [
              "0.8194982409477234"
            ]
          },
          "metadata": {},
          "execution_count": 179
        }
      ]
    },
    {
      "cell_type": "code",
      "metadata": {
        "colab": {
          "base_uri": "https://localhost:8080/"
        },
        "outputId": "778e34a4-a627-47e8-ebee-f4bd374b52cf",
        "id": "eP_SnkzvmKeY"
      },
      "source": [
        "test_loss, test_accuracy = model.evaluate(x_test, y_test)\n",
        "test_accuracy"
      ],
      "execution_count": null,
      "outputs": [
        {
          "output_type": "stream",
          "name": "stdout",
          "text": [
            "47/47 [==============================] - 0s 1ms/step - loss: 0.4140 - sparse_categorical_accuracy: 0.8148\n"
          ]
        },
        {
          "output_type": "execute_result",
          "data": {
            "text/plain": [
              "0.8148148059844971"
            ]
          },
          "metadata": {},
          "execution_count": 180
        }
      ]
    },
    {
      "cell_type": "code",
      "source": [
        "#Train metrics\n",
        "y_pred = model.predict(x_train)\n",
        "pred = tf.argmax(y_pred, axis=1)\n",
        "\n",
        "print('Train Confusion Matrix:\\n',confusion_matrix(pred,y_train))\n",
        "print('Train Classification Report:\\n',classification_report(pred,y_train))"
      ],
      "metadata": {
        "colab": {
          "base_uri": "https://localhost:8080/"
        },
        "id": "3lvIDDsPn1II",
        "outputId": "c969c130-b9fc-40a6-9f6b-650c8a36ef44"
      },
      "execution_count": null,
      "outputs": [
        {
          "output_type": "stream",
          "name": "stdout",
          "text": [
            "Train Confusion Matrix:\n",
            " [[2429  543]\n",
            " [ 529 2438]]\n",
            "Train Classification Report:\n",
            "               precision    recall  f1-score   support\n",
            "\n",
            "           0       0.82      0.82      0.82      2972\n",
            "           1       0.82      0.82      0.82      2967\n",
            "\n",
            "    accuracy                           0.82      5939\n",
            "   macro avg       0.82      0.82      0.82      5939\n",
            "weighted avg       0.82      0.82      0.82      5939\n",
            "\n"
          ]
        }
      ]
    },
    {
      "cell_type": "code",
      "source": [
        "#Test Metrics\n",
        "y_pred = model.predict(x_test)\n",
        "pred = tf.argmax(y_pred, axis=1)\n",
        "\n",
        "print('Test Confusion Matrix:\\n',confusion_matrix(pred,y_test))\n",
        "print('Test Classification Report:\\n',classification_report(pred,y_test))"
      ],
      "metadata": {
        "colab": {
          "base_uri": "https://localhost:8080/"
        },
        "id": "x2p2bwiGnQD1",
        "outputId": "ea61b79a-75fa-4c2e-c0d6-7597fdf033cf"
      },
      "execution_count": null,
      "outputs": [
        {
          "output_type": "stream",
          "name": "stdout",
          "text": [
            "Test Confusion Matrix:\n",
            " [[611 132]\n",
            " [143 599]]\n",
            "Test Classification Report:\n",
            "               precision    recall  f1-score   support\n",
            "\n",
            "           0       0.81      0.82      0.82       743\n",
            "           1       0.82      0.81      0.81       742\n",
            "\n",
            "    accuracy                           0.81      1485\n",
            "   macro avg       0.81      0.81      0.81      1485\n",
            "weighted avg       0.81      0.81      0.81      1485\n",
            "\n"
          ]
        }
      ]
    },
    {
      "cell_type": "markdown",
      "source": [
        "#Using L2 regularization to handle overfit"
      ],
      "metadata": {
        "id": "yEoqIapNzSk2"
      }
    },
    {
      "cell_type": "code",
      "source": [
        "x_train,x_valid,y_train,y_valid = train_test_split(x_train,y_train,\n",
        "                                                 test_size=0.25,\n",
        "                                                 random_state=42)"
      ],
      "metadata": {
        "id": "z04ujZLk3sns"
      },
      "execution_count": 125,
      "outputs": []
    },
    {
      "cell_type": "code",
      "source": [
        "model = Sequential([\n",
        "                    Dense(32, activation = 'relu', input_shape = (15,),kernel_regularizer = tf.keras.regularizers.l2(0.001)),\n",
        "                    Dense(10, activation = 'softmax',kernel_regularizer = tf.keras.regularizers.l2(0.001))])"
      ],
      "metadata": {
        "id": "IIHDctfnyVqt"
      },
      "execution_count": null,
      "outputs": []
    },
    {
      "cell_type": "code",
      "source": [
        "model.compile(optimizer = tf.keras.optimizers.Adam(learning_rate = 0.003),\n",
        "              loss='sparse_categorical_crossentropy', #Use this loss function when y labels are integers\n",
        "              metrics = [tf.keras.metrics.SparseCategoricalAccuracy()]) #use this accuracy when ylabels are integers"
      ],
      "metadata": {
        "id": "58GSxoPu12Zr"
      },
      "execution_count": null,
      "outputs": []
    },
    {
      "cell_type": "code",
      "source": [
        "history = model.fit(x_train, y_train, epochs=20,batch_size=64, verbose = 2)"
      ],
      "metadata": {
        "colab": {
          "base_uri": "https://localhost:8080/"
        },
        "id": "3ok1XZ8R3STk",
        "outputId": "68e6f748-ec1f-41a0-c6a8-38b5d1ad072b"
      },
      "execution_count": null,
      "outputs": [
        {
          "output_type": "stream",
          "name": "stdout",
          "text": [
            "Epoch 1/20\n",
            "70/70 - 0s - loss: 19.7836 - sparse_categorical_accuracy: 0.4960 - 442ms/epoch - 6ms/step\n",
            "Epoch 2/20\n",
            "70/70 - 0s - loss: 0.6270 - sparse_categorical_accuracy: 0.7259 - 85ms/epoch - 1ms/step\n",
            "Epoch 3/20\n",
            "70/70 - 0s - loss: 0.4988 - sparse_categorical_accuracy: 0.7791 - 100ms/epoch - 1ms/step\n",
            "Epoch 4/20\n",
            "70/70 - 0s - loss: 0.4918 - sparse_categorical_accuracy: 0.7878 - 98ms/epoch - 1ms/step\n",
            "Epoch 5/20\n",
            "70/70 - 0s - loss: 0.4765 - sparse_categorical_accuracy: 0.7934 - 93ms/epoch - 1ms/step\n",
            "Epoch 6/20\n",
            "70/70 - 0s - loss: 0.5077 - sparse_categorical_accuracy: 0.7795 - 87ms/epoch - 1ms/step\n",
            "Epoch 7/20\n",
            "70/70 - 0s - loss: 0.4915 - sparse_categorical_accuracy: 0.7847 - 96ms/epoch - 1ms/step\n",
            "Epoch 8/20\n",
            "70/70 - 0s - loss: 0.4990 - sparse_categorical_accuracy: 0.7777 - 89ms/epoch - 1ms/step\n",
            "Epoch 9/20\n",
            "70/70 - 0s - loss: 0.4792 - sparse_categorical_accuracy: 0.7903 - 86ms/epoch - 1ms/step\n",
            "Epoch 10/20\n",
            "70/70 - 0s - loss: 0.5068 - sparse_categorical_accuracy: 0.7845 - 101ms/epoch - 1ms/step\n",
            "Epoch 11/20\n",
            "70/70 - 0s - loss: 0.4885 - sparse_categorical_accuracy: 0.7887 - 87ms/epoch - 1ms/step\n",
            "Epoch 12/20\n",
            "70/70 - 0s - loss: 0.5336 - sparse_categorical_accuracy: 0.7764 - 87ms/epoch - 1ms/step\n",
            "Epoch 13/20\n",
            "70/70 - 0s - loss: 0.4854 - sparse_categorical_accuracy: 0.7863 - 97ms/epoch - 1ms/step\n",
            "Epoch 14/20\n",
            "70/70 - 0s - loss: 0.4803 - sparse_categorical_accuracy: 0.7885 - 104ms/epoch - 1ms/step\n",
            "Epoch 15/20\n",
            "70/70 - 0s - loss: 0.5413 - sparse_categorical_accuracy: 0.7759 - 86ms/epoch - 1ms/step\n",
            "Epoch 16/20\n",
            "70/70 - 0s - loss: 0.5095 - sparse_categorical_accuracy: 0.7847 - 84ms/epoch - 1ms/step\n",
            "Epoch 17/20\n",
            "70/70 - 0s - loss: 0.4709 - sparse_categorical_accuracy: 0.7930 - 87ms/epoch - 1ms/step\n",
            "Epoch 18/20\n",
            "70/70 - 0s - loss: 0.5084 - sparse_categorical_accuracy: 0.7831 - 91ms/epoch - 1ms/step\n",
            "Epoch 19/20\n",
            "70/70 - 0s - loss: 0.4652 - sparse_categorical_accuracy: 0.7959 - 92ms/epoch - 1ms/step\n",
            "Epoch 20/20\n",
            "70/70 - 0s - loss: 0.4938 - sparse_categorical_accuracy: 0.7829 - 89ms/epoch - 1ms/step\n"
          ]
        }
      ]
    },
    {
      "cell_type": "code",
      "source": [
        "valid_loss, valid_accuracy = model.evaluate(x_valid, y_valid)\n",
        "valid_accuracy"
      ],
      "metadata": {
        "colab": {
          "base_uri": "https://localhost:8080/"
        },
        "id": "GLU45vmk3a4p",
        "outputId": "e656b48c-ac6a-4801-9e70-ea633842ce6b"
      },
      "execution_count": null,
      "outputs": [
        {
          "output_type": "stream",
          "name": "stdout",
          "text": [
            "47/47 [==============================] - 0s 1ms/step - loss: 0.4482 - sparse_categorical_accuracy: 0.8269\n"
          ]
        },
        {
          "output_type": "execute_result",
          "data": {
            "text/plain": [
              "0.8269360065460205"
            ]
          },
          "metadata": {},
          "execution_count": 47
        }
      ]
    },
    {
      "cell_type": "markdown",
      "source": [
        "Changing the penalty to 0.005"
      ],
      "metadata": {
        "id": "hby20bdt4mUR"
      }
    },
    {
      "cell_type": "code",
      "source": [
        "model = Sequential([\n",
        "                    Dense(32, activation = 'relu', input_shape = (15,),kernel_regularizer = tf.keras.regularizers.l2(0.005)),\n",
        "                    Dense(10, activation = 'softmax',kernel_regularizer = tf.keras.regularizers.l2(0.001))])"
      ],
      "metadata": {
        "id": "I4wfiCsX4k8Q"
      },
      "execution_count": null,
      "outputs": []
    },
    {
      "cell_type": "code",
      "source": [
        "model.compile(optimizer = tf.keras.optimizers.Adam(learning_rate = 0.003),\n",
        "              loss='sparse_categorical_crossentropy', #Use this loss function when y labels are integers\n",
        "              metrics = [tf.keras.metrics.SparseCategoricalAccuracy()]) #use this accuracy when ylabels are integers"
      ],
      "metadata": {
        "id": "O9xCZSOn4k8R"
      },
      "execution_count": null,
      "outputs": []
    },
    {
      "cell_type": "code",
      "source": [
        "history = model.fit(x_train, y_train, epochs=20,batch_size=64, verbose = 2)"
      ],
      "metadata": {
        "colab": {
          "base_uri": "https://localhost:8080/"
        },
        "outputId": "a0063261-7658-4c96-c312-0e8ae1e631f8",
        "id": "iH684xBU4k8R"
      },
      "execution_count": null,
      "outputs": [
        {
          "output_type": "stream",
          "name": "stdout",
          "text": [
            "Epoch 1/20\n",
            "70/70 - 0s - loss: 8.0932 - sparse_categorical_accuracy: 0.5945 - 470ms/epoch - 7ms/step\n",
            "Epoch 2/20\n",
            "70/70 - 0s - loss: 0.6522 - sparse_categorical_accuracy: 0.7638 - 87ms/epoch - 1ms/step\n",
            "Epoch 3/20\n",
            "70/70 - 0s - loss: 0.5814 - sparse_categorical_accuracy: 0.7620 - 96ms/epoch - 1ms/step\n",
            "Epoch 4/20\n",
            "70/70 - 0s - loss: 0.5649 - sparse_categorical_accuracy: 0.7730 - 89ms/epoch - 1ms/step\n",
            "Epoch 5/20\n",
            "70/70 - 0s - loss: 0.5661 - sparse_categorical_accuracy: 0.7714 - 91ms/epoch - 1ms/step\n",
            "Epoch 6/20\n",
            "70/70 - 0s - loss: 0.6484 - sparse_categorical_accuracy: 0.7539 - 98ms/epoch - 1ms/step\n",
            "Epoch 7/20\n",
            "70/70 - 0s - loss: 0.5945 - sparse_categorical_accuracy: 0.7631 - 87ms/epoch - 1ms/step\n",
            "Epoch 8/20\n",
            "70/70 - 0s - loss: 0.5355 - sparse_categorical_accuracy: 0.7703 - 102ms/epoch - 1ms/step\n",
            "Epoch 9/20\n",
            "70/70 - 0s - loss: 0.5303 - sparse_categorical_accuracy: 0.7730 - 89ms/epoch - 1ms/step\n",
            "Epoch 10/20\n",
            "70/70 - 0s - loss: 0.5317 - sparse_categorical_accuracy: 0.7771 - 106ms/epoch - 2ms/step\n",
            "Epoch 11/20\n",
            "70/70 - 0s - loss: 0.5365 - sparse_categorical_accuracy: 0.7665 - 99ms/epoch - 1ms/step\n",
            "Epoch 12/20\n",
            "70/70 - 0s - loss: 0.5153 - sparse_categorical_accuracy: 0.7833 - 92ms/epoch - 1ms/step\n",
            "Epoch 13/20\n",
            "70/70 - 0s - loss: 0.5455 - sparse_categorical_accuracy: 0.7730 - 86ms/epoch - 1ms/step\n",
            "Epoch 14/20\n",
            "70/70 - 0s - loss: 0.5299 - sparse_categorical_accuracy: 0.7775 - 95ms/epoch - 1ms/step\n",
            "Epoch 15/20\n",
            "70/70 - 0s - loss: 0.5314 - sparse_categorical_accuracy: 0.7708 - 93ms/epoch - 1ms/step\n",
            "Epoch 16/20\n",
            "70/70 - 0s - loss: 0.5316 - sparse_categorical_accuracy: 0.7721 - 88ms/epoch - 1ms/step\n",
            "Epoch 17/20\n",
            "70/70 - 0s - loss: 0.5267 - sparse_categorical_accuracy: 0.7795 - 93ms/epoch - 1ms/step\n",
            "Epoch 18/20\n",
            "70/70 - 0s - loss: 0.5640 - sparse_categorical_accuracy: 0.7692 - 88ms/epoch - 1ms/step\n",
            "Epoch 19/20\n",
            "70/70 - 0s - loss: 0.5099 - sparse_categorical_accuracy: 0.7719 - 94ms/epoch - 1ms/step\n",
            "Epoch 20/20\n",
            "70/70 - 0s - loss: 0.5522 - sparse_categorical_accuracy: 0.7696 - 84ms/epoch - 1ms/step\n"
          ]
        }
      ]
    },
    {
      "cell_type": "code",
      "source": [
        "valid_loss, valid_accuracy = model.evaluate(x_valid, y_valid)\n",
        "valid_accuracy"
      ],
      "metadata": {
        "colab": {
          "base_uri": "https://localhost:8080/"
        },
        "outputId": "8411e251-cbf2-4436-ab97-0b5e11e9abe2",
        "id": "X41s07s-4k8S"
      },
      "execution_count": null,
      "outputs": [
        {
          "output_type": "stream",
          "name": "stdout",
          "text": [
            "47/47 [==============================] - 0s 1ms/step - loss: 0.7853 - sparse_categorical_accuracy: 0.6108\n"
          ]
        },
        {
          "output_type": "execute_result",
          "data": {
            "text/plain": [
              "0.6107743978500366"
            ]
          },
          "metadata": {},
          "execution_count": 51
        }
      ]
    },
    {
      "cell_type": "markdown",
      "source": [
        "Changing the penalty to 0.0005"
      ],
      "metadata": {
        "id": "cT-lAFZC5wDK"
      }
    },
    {
      "cell_type": "code",
      "source": [
        "model = Sequential([\n",
        "                    Dense(32, activation = 'relu', input_shape = (15,),kernel_regularizer = tf.keras.regularizers.l2(0.0005)),\n",
        "                    Dense(10, activation = 'softmax',kernel_regularizer = tf.keras.regularizers.l2(0.001))])"
      ],
      "metadata": {
        "id": "ItiqeYV25wDL"
      },
      "execution_count": null,
      "outputs": []
    },
    {
      "cell_type": "code",
      "source": [
        "model.compile(optimizer = tf.keras.optimizers.Adam(learning_rate = 0.003),\n",
        "              loss='sparse_categorical_crossentropy', #Use this loss function when y labels are integers\n",
        "              metrics = [tf.keras.metrics.SparseCategoricalAccuracy()]) #use this accuracy when ylabels are integers"
      ],
      "metadata": {
        "id": "BIw4YP-p5wDL"
      },
      "execution_count": null,
      "outputs": []
    },
    {
      "cell_type": "code",
      "source": [
        "history = model.fit(x_train, y_train, epochs=20,batch_size=64, verbose = 2)"
      ],
      "metadata": {
        "colab": {
          "base_uri": "https://localhost:8080/"
        },
        "outputId": "bf8c4a82-fe01-45b4-a15e-a037c039de7d",
        "id": "epKCEZHI5wDL"
      },
      "execution_count": null,
      "outputs": [
        {
          "output_type": "stream",
          "name": "stdout",
          "text": [
            "Epoch 1/20\n",
            "70/70 - 1s - loss: 18.8798 - sparse_categorical_accuracy: 0.4915 - 1s/epoch - 20ms/step\n",
            "Epoch 2/20\n",
            "70/70 - 0s - loss: 0.7762 - sparse_categorical_accuracy: 0.7214 - 226ms/epoch - 3ms/step\n",
            "Epoch 3/20\n",
            "70/70 - 0s - loss: 0.5518 - sparse_categorical_accuracy: 0.7584 - 170ms/epoch - 2ms/step\n",
            "Epoch 4/20\n",
            "70/70 - 0s - loss: 0.6088 - sparse_categorical_accuracy: 0.7537 - 158ms/epoch - 2ms/step\n",
            "Epoch 5/20\n",
            "70/70 - 0s - loss: 0.4942 - sparse_categorical_accuracy: 0.7730 - 183ms/epoch - 3ms/step\n",
            "Epoch 6/20\n",
            "70/70 - 0s - loss: 0.5496 - sparse_categorical_accuracy: 0.7627 - 164ms/epoch - 2ms/step\n",
            "Epoch 7/20\n",
            "70/70 - 0s - loss: 0.5213 - sparse_categorical_accuracy: 0.7755 - 171ms/epoch - 2ms/step\n",
            "Epoch 8/20\n",
            "70/70 - 0s - loss: 0.4801 - sparse_categorical_accuracy: 0.7806 - 199ms/epoch - 3ms/step\n",
            "Epoch 9/20\n",
            "70/70 - 0s - loss: 0.5177 - sparse_categorical_accuracy: 0.7708 - 212ms/epoch - 3ms/step\n",
            "Epoch 10/20\n",
            "70/70 - 0s - loss: 0.5340 - sparse_categorical_accuracy: 0.7773 - 187ms/epoch - 3ms/step\n",
            "Epoch 11/20\n",
            "70/70 - 0s - loss: 0.5929 - sparse_categorical_accuracy: 0.7667 - 132ms/epoch - 2ms/step\n",
            "Epoch 12/20\n",
            "70/70 - 0s - loss: 0.5457 - sparse_categorical_accuracy: 0.7699 - 138ms/epoch - 2ms/step\n",
            "Epoch 13/20\n",
            "70/70 - 0s - loss: 0.4897 - sparse_categorical_accuracy: 0.7818 - 196ms/epoch - 3ms/step\n",
            "Epoch 14/20\n",
            "70/70 - 0s - loss: 0.5034 - sparse_categorical_accuracy: 0.7876 - 173ms/epoch - 2ms/step\n",
            "Epoch 15/20\n",
            "70/70 - 0s - loss: 0.7088 - sparse_categorical_accuracy: 0.7537 - 197ms/epoch - 3ms/step\n",
            "Epoch 16/20\n",
            "70/70 - 0s - loss: 0.5434 - sparse_categorical_accuracy: 0.7744 - 217ms/epoch - 3ms/step\n",
            "Epoch 17/20\n",
            "70/70 - 0s - loss: 0.5370 - sparse_categorical_accuracy: 0.7649 - 289ms/epoch - 4ms/step\n",
            "Epoch 18/20\n",
            "70/70 - 0s - loss: 0.5844 - sparse_categorical_accuracy: 0.7687 - 336ms/epoch - 5ms/step\n",
            "Epoch 19/20\n",
            "70/70 - 0s - loss: 0.5293 - sparse_categorical_accuracy: 0.7726 - 302ms/epoch - 4ms/step\n",
            "Epoch 20/20\n",
            "70/70 - 0s - loss: 0.4826 - sparse_categorical_accuracy: 0.7881 - 292ms/epoch - 4ms/step\n"
          ]
        }
      ]
    },
    {
      "cell_type": "code",
      "source": [
        "valid_loss, valid_accuracy = model.evaluate(x_valid, y_valid)\n",
        "valid_accuracy"
      ],
      "metadata": {
        "colab": {
          "base_uri": "https://localhost:8080/"
        },
        "outputId": "9505502d-ebd9-4c9d-d6ae-16dfcdafb055",
        "id": "YM5AnMJj5wDL"
      },
      "execution_count": null,
      "outputs": [
        {
          "output_type": "stream",
          "name": "stdout",
          "text": [
            "47/47 [==============================] - 0s 1ms/step - loss: 0.3987 - sparse_categorical_accuracy: 0.8323\n"
          ]
        },
        {
          "output_type": "execute_result",
          "data": {
            "text/plain": [
              "0.8323232531547546"
            ]
          },
          "metadata": {},
          "execution_count": 55
        }
      ]
    },
    {
      "cell_type": "markdown",
      "source": [
        "Changing the penalty to 0.0003"
      ],
      "metadata": {
        "id": "Ei6MmhIi6Dm2"
      }
    },
    {
      "cell_type": "code",
      "source": [
        "model = Sequential([\n",
        "                    Dense(32, activation = 'relu', input_shape = (15,),kernel_regularizer = tf.keras.regularizers.l2(0.0003)),\n",
        "                    Dense(10, activation = 'softmax',kernel_regularizer = tf.keras.regularizers.l2(0.001))])"
      ],
      "metadata": {
        "id": "I22LIRG46Dm3"
      },
      "execution_count": null,
      "outputs": []
    },
    {
      "cell_type": "code",
      "source": [
        "model.compile(optimizer = tf.keras.optimizers.Adam(learning_rate = 0.003),\n",
        "              loss='sparse_categorical_crossentropy', #Use this loss function when y labels are integers\n",
        "              metrics = [tf.keras.metrics.SparseCategoricalAccuracy()]) #use this accuracy when ylabels are integers"
      ],
      "metadata": {
        "id": "ixunAaxa6Dm3"
      },
      "execution_count": null,
      "outputs": []
    },
    {
      "cell_type": "code",
      "source": [
        "history = model.fit(x_train, y_train, epochs=20,batch_size=64, verbose = 2)"
      ],
      "metadata": {
        "colab": {
          "base_uri": "https://localhost:8080/"
        },
        "outputId": "852e787d-fb56-487e-b806-8b0b816d07a1",
        "id": "JZs5_8H_6Dm3"
      },
      "execution_count": null,
      "outputs": [
        {
          "output_type": "stream",
          "name": "stdout",
          "text": [
            "Epoch 1/20\n",
            "70/70 - 1s - loss: 13.5635 - sparse_categorical_accuracy: 0.5564 - 749ms/epoch - 11ms/step\n",
            "Epoch 2/20\n",
            "70/70 - 0s - loss: 0.5237 - sparse_categorical_accuracy: 0.7542 - 119ms/epoch - 2ms/step\n",
            "Epoch 3/20\n",
            "70/70 - 0s - loss: 0.4781 - sparse_categorical_accuracy: 0.7757 - 120ms/epoch - 2ms/step\n",
            "Epoch 4/20\n",
            "70/70 - 0s - loss: 0.5417 - sparse_categorical_accuracy: 0.7638 - 142ms/epoch - 2ms/step\n",
            "Epoch 5/20\n",
            "70/70 - 0s - loss: 0.4837 - sparse_categorical_accuracy: 0.7797 - 148ms/epoch - 2ms/step\n",
            "Epoch 6/20\n",
            "70/70 - 0s - loss: 0.4833 - sparse_categorical_accuracy: 0.7771 - 147ms/epoch - 2ms/step\n",
            "Epoch 7/20\n",
            "70/70 - 0s - loss: 0.5135 - sparse_categorical_accuracy: 0.7717 - 137ms/epoch - 2ms/step\n",
            "Epoch 8/20\n",
            "70/70 - 0s - loss: 0.4738 - sparse_categorical_accuracy: 0.7874 - 115ms/epoch - 2ms/step\n",
            "Epoch 9/20\n",
            "70/70 - 0s - loss: 0.5838 - sparse_categorical_accuracy: 0.7584 - 142ms/epoch - 2ms/step\n",
            "Epoch 10/20\n",
            "70/70 - 0s - loss: 0.4758 - sparse_categorical_accuracy: 0.7833 - 143ms/epoch - 2ms/step\n",
            "Epoch 11/20\n",
            "70/70 - 0s - loss: 0.5653 - sparse_categorical_accuracy: 0.7692 - 139ms/epoch - 2ms/step\n",
            "Epoch 12/20\n",
            "70/70 - 0s - loss: 0.4743 - sparse_categorical_accuracy: 0.7860 - 166ms/epoch - 2ms/step\n",
            "Epoch 13/20\n",
            "70/70 - 0s - loss: 0.5060 - sparse_categorical_accuracy: 0.7737 - 129ms/epoch - 2ms/step\n",
            "Epoch 14/20\n",
            "70/70 - 0s - loss: 0.5606 - sparse_categorical_accuracy: 0.7676 - 129ms/epoch - 2ms/step\n",
            "Epoch 15/20\n",
            "70/70 - 0s - loss: 0.6379 - sparse_categorical_accuracy: 0.7521 - 126ms/epoch - 2ms/step\n",
            "Epoch 16/20\n",
            "70/70 - 0s - loss: 0.4794 - sparse_categorical_accuracy: 0.7829 - 128ms/epoch - 2ms/step\n",
            "Epoch 17/20\n",
            "70/70 - 0s - loss: 0.5616 - sparse_categorical_accuracy: 0.7559 - 141ms/epoch - 2ms/step\n",
            "Epoch 18/20\n",
            "70/70 - 0s - loss: 0.5070 - sparse_categorical_accuracy: 0.7797 - 122ms/epoch - 2ms/step\n",
            "Epoch 19/20\n",
            "70/70 - 0s - loss: 0.4834 - sparse_categorical_accuracy: 0.7860 - 120ms/epoch - 2ms/step\n",
            "Epoch 20/20\n",
            "70/70 - 0s - loss: 0.4879 - sparse_categorical_accuracy: 0.7784 - 125ms/epoch - 2ms/step\n"
          ]
        }
      ]
    },
    {
      "cell_type": "code",
      "source": [
        "valid_loss, valid_accuracy = model.evaluate(x_valid, y_valid)\n",
        "valid_accuracy"
      ],
      "metadata": {
        "colab": {
          "base_uri": "https://localhost:8080/"
        },
        "outputId": "50b872eb-49d4-4e6b-8cbb-84a4674938c5",
        "id": "JfVf4r5J6Dm3"
      },
      "execution_count": null,
      "outputs": [
        {
          "output_type": "stream",
          "name": "stdout",
          "text": [
            "47/47 [==============================] - 0s 1ms/step - loss: 0.4913 - sparse_categorical_accuracy: 0.7993\n"
          ]
        },
        {
          "output_type": "execute_result",
          "data": {
            "text/plain": [
              "0.7993265986442566"
            ]
          },
          "metadata": {},
          "execution_count": 59
        }
      ]
    },
    {
      "cell_type": "markdown",
      "source": [
        "Changing the penalty to 0.0008"
      ],
      "metadata": {
        "id": "HZcTP0ny6T-7"
      }
    },
    {
      "cell_type": "code",
      "source": [
        "model = Sequential([\n",
        "                    Dense(32, activation = 'relu', input_shape = (15,),kernel_regularizer = tf.keras.regularizers.l2(0.0008)),\n",
        "                    Dense(10, activation = 'softmax',kernel_regularizer = tf.keras.regularizers.l2(0.001))])"
      ],
      "metadata": {
        "id": "H9p7d1-k6T-8"
      },
      "execution_count": null,
      "outputs": []
    },
    {
      "cell_type": "code",
      "source": [
        "model.compile(optimizer = tf.keras.optimizers.Adam(learning_rate = 0.003),\n",
        "              loss='sparse_categorical_crossentropy', #Use this loss function when y labels are integers\n",
        "              metrics = [tf.keras.metrics.SparseCategoricalAccuracy()]) #use this accuracy when ylabels are integers"
      ],
      "metadata": {
        "id": "4FQJ1wTZ6T-8"
      },
      "execution_count": null,
      "outputs": []
    },
    {
      "cell_type": "code",
      "source": [
        "history = model.fit(x_train, y_train, epochs=20,batch_size=64, verbose = 2)"
      ],
      "metadata": {
        "colab": {
          "base_uri": "https://localhost:8080/"
        },
        "outputId": "98e50f83-0dca-4ec4-dbf2-7485475907de",
        "id": "M-CYWZ1D6T-8"
      },
      "execution_count": null,
      "outputs": [
        {
          "output_type": "stream",
          "name": "stdout",
          "text": [
            "Epoch 1/20\n",
            "70/70 - 1s - loss: 13.7830 - sparse_categorical_accuracy: 0.6181 - 797ms/epoch - 11ms/step\n",
            "Epoch 2/20\n",
            "70/70 - 0s - loss: 0.8078 - sparse_categorical_accuracy: 0.7364 - 150ms/epoch - 2ms/step\n",
            "Epoch 3/20\n",
            "70/70 - 0s - loss: 0.5098 - sparse_categorical_accuracy: 0.7768 - 142ms/epoch - 2ms/step\n",
            "Epoch 4/20\n",
            "70/70 - 0s - loss: 0.4817 - sparse_categorical_accuracy: 0.7815 - 147ms/epoch - 2ms/step\n",
            "Epoch 5/20\n",
            "70/70 - 0s - loss: 0.5180 - sparse_categorical_accuracy: 0.7744 - 140ms/epoch - 2ms/step\n",
            "Epoch 6/20\n",
            "70/70 - 0s - loss: 0.5687 - sparse_categorical_accuracy: 0.7589 - 144ms/epoch - 2ms/step\n",
            "Epoch 7/20\n",
            "70/70 - 0s - loss: 0.4891 - sparse_categorical_accuracy: 0.7874 - 135ms/epoch - 2ms/step\n",
            "Epoch 8/20\n",
            "70/70 - 0s - loss: 0.4844 - sparse_categorical_accuracy: 0.7887 - 132ms/epoch - 2ms/step\n",
            "Epoch 9/20\n",
            "70/70 - 0s - loss: 0.4691 - sparse_categorical_accuracy: 0.7885 - 133ms/epoch - 2ms/step\n",
            "Epoch 10/20\n",
            "70/70 - 0s - loss: 0.4658 - sparse_categorical_accuracy: 0.7878 - 140ms/epoch - 2ms/step\n",
            "Epoch 11/20\n",
            "70/70 - 0s - loss: 0.5062 - sparse_categorical_accuracy: 0.7710 - 141ms/epoch - 2ms/step\n",
            "Epoch 12/20\n",
            "70/70 - 0s - loss: 0.4777 - sparse_categorical_accuracy: 0.7811 - 133ms/epoch - 2ms/step\n",
            "Epoch 13/20\n",
            "70/70 - 0s - loss: 0.5009 - sparse_categorical_accuracy: 0.7728 - 151ms/epoch - 2ms/step\n",
            "Epoch 14/20\n",
            "70/70 - 0s - loss: 0.4999 - sparse_categorical_accuracy: 0.7759 - 131ms/epoch - 2ms/step\n",
            "Epoch 15/20\n",
            "70/70 - 0s - loss: 0.4752 - sparse_categorical_accuracy: 0.7878 - 131ms/epoch - 2ms/step\n",
            "Epoch 16/20\n",
            "70/70 - 0s - loss: 0.5730 - sparse_categorical_accuracy: 0.7595 - 130ms/epoch - 2ms/step\n",
            "Epoch 17/20\n",
            "70/70 - 0s - loss: 0.4719 - sparse_categorical_accuracy: 0.7822 - 136ms/epoch - 2ms/step\n",
            "Epoch 18/20\n",
            "70/70 - 0s - loss: 0.4898 - sparse_categorical_accuracy: 0.7773 - 133ms/epoch - 2ms/step\n",
            "Epoch 19/20\n",
            "70/70 - 0s - loss: 0.4622 - sparse_categorical_accuracy: 0.7973 - 130ms/epoch - 2ms/step\n",
            "Epoch 20/20\n",
            "70/70 - 0s - loss: 0.4884 - sparse_categorical_accuracy: 0.7820 - 129ms/epoch - 2ms/step\n"
          ]
        }
      ]
    },
    {
      "cell_type": "code",
      "source": [
        "valid_loss, valid_accuracy = model.evaluate(x_valid, y_valid)\n",
        "valid_accuracy"
      ],
      "metadata": {
        "colab": {
          "base_uri": "https://localhost:8080/"
        },
        "outputId": "bd5cd537-45d4-4550-db72-a60ac9bce77f",
        "id": "kIdWpGiV6T-8"
      },
      "execution_count": null,
      "outputs": [
        {
          "output_type": "stream",
          "name": "stdout",
          "text": [
            "47/47 [==============================] - 0s 2ms/step - loss: 0.4304 - sparse_categorical_accuracy: 0.8215\n"
          ]
        },
        {
          "output_type": "execute_result",
          "data": {
            "text/plain": [
              "0.8215488195419312"
            ]
          },
          "metadata": {},
          "execution_count": 63
        }
      ]
    },
    {
      "cell_type": "markdown",
      "source": [
        "#Dropout Regularization"
      ],
      "metadata": {
        "id": "X1BZ-N637DK3"
      }
    },
    {
      "cell_type": "markdown",
      "source": [
        "Dropout rate = 0.5"
      ],
      "metadata": {
        "id": "l_HAbasO7XV3"
      }
    },
    {
      "cell_type": "code",
      "source": [
        "model = Sequential([\n",
        "                    Dense(32, activation = 'relu', input_shape = (15,)),\n",
        "                    Dropout(0.5),\n",
        "                    Dense(10, activation = 'softmax')]) "
      ],
      "metadata": {
        "id": "5mRPbbXe7Ckt"
      },
      "execution_count": null,
      "outputs": []
    },
    {
      "cell_type": "code",
      "source": [
        "model.compile(optimizer = tf.keras.optimizers.Adam(learning_rate = 0.003),\n",
        "              loss='sparse_categorical_crossentropy', #Use this loss function when y labels are integers\n",
        "              metrics = [tf.keras.metrics.SparseCategoricalAccuracy()]) #use this accuracy when ylabels are integers"
      ],
      "metadata": {
        "id": "2Rx4kMIE7L8y"
      },
      "execution_count": null,
      "outputs": []
    },
    {
      "cell_type": "code",
      "source": [
        "history = model.fit(x_train, y_train, epochs=20,batch_size=64, verbose = 2)"
      ],
      "metadata": {
        "colab": {
          "base_uri": "https://localhost:8080/"
        },
        "id": "w1eD0RUO7Mz6",
        "outputId": "3a295e26-7946-4429-d315-4de5c891cace"
      },
      "execution_count": null,
      "outputs": [
        {
          "output_type": "stream",
          "name": "stdout",
          "text": [
            "Epoch 1/20\n",
            "70/70 - 1s - loss: 40.0594 - sparse_categorical_accuracy: 0.4499 - 779ms/epoch - 11ms/step\n",
            "Epoch 2/20\n",
            "70/70 - 0s - loss: 6.8898 - sparse_categorical_accuracy: 0.6423 - 165ms/epoch - 2ms/step\n",
            "Epoch 3/20\n",
            "70/70 - 0s - loss: 1.7661 - sparse_categorical_accuracy: 0.6686 - 149ms/epoch - 2ms/step\n",
            "Epoch 4/20\n",
            "70/70 - 0s - loss: 0.8588 - sparse_categorical_accuracy: 0.6515 - 131ms/epoch - 2ms/step\n",
            "Epoch 5/20\n",
            "70/70 - 0s - loss: 0.7178 - sparse_categorical_accuracy: 0.6753 - 142ms/epoch - 2ms/step\n",
            "Epoch 6/20\n",
            "70/70 - 0s - loss: 0.6480 - sparse_categorical_accuracy: 0.6803 - 126ms/epoch - 2ms/step\n",
            "Epoch 7/20\n",
            "70/70 - 0s - loss: 0.5933 - sparse_categorical_accuracy: 0.6980 - 148ms/epoch - 2ms/step\n",
            "Epoch 8/20\n",
            "70/70 - 0s - loss: 0.6095 - sparse_categorical_accuracy: 0.7034 - 134ms/epoch - 2ms/step\n",
            "Epoch 9/20\n",
            "70/70 - 0s - loss: 0.5771 - sparse_categorical_accuracy: 0.7149 - 157ms/epoch - 2ms/step\n",
            "Epoch 10/20\n",
            "70/70 - 0s - loss: 0.5866 - sparse_categorical_accuracy: 0.7140 - 142ms/epoch - 2ms/step\n",
            "Epoch 11/20\n",
            "70/70 - 0s - loss: 0.5565 - sparse_categorical_accuracy: 0.7207 - 152ms/epoch - 2ms/step\n",
            "Epoch 12/20\n",
            "70/70 - 0s - loss: 0.5413 - sparse_categorical_accuracy: 0.7342 - 128ms/epoch - 2ms/step\n",
            "Epoch 13/20\n",
            "70/70 - 0s - loss: 0.5609 - sparse_categorical_accuracy: 0.7292 - 140ms/epoch - 2ms/step\n",
            "Epoch 14/20\n",
            "70/70 - 0s - loss: 0.5566 - sparse_categorical_accuracy: 0.7263 - 151ms/epoch - 2ms/step\n",
            "Epoch 15/20\n",
            "70/70 - 0s - loss: 0.5692 - sparse_categorical_accuracy: 0.7205 - 144ms/epoch - 2ms/step\n",
            "Epoch 16/20\n",
            "70/70 - 0s - loss: 0.5578 - sparse_categorical_accuracy: 0.7169 - 145ms/epoch - 2ms/step\n",
            "Epoch 17/20\n",
            "70/70 - 0s - loss: 0.5552 - sparse_categorical_accuracy: 0.7346 - 118ms/epoch - 2ms/step\n",
            "Epoch 18/20\n",
            "70/70 - 0s - loss: 0.5495 - sparse_categorical_accuracy: 0.7387 - 139ms/epoch - 2ms/step\n",
            "Epoch 19/20\n",
            "70/70 - 0s - loss: 0.5492 - sparse_categorical_accuracy: 0.7265 - 132ms/epoch - 2ms/step\n",
            "Epoch 20/20\n",
            "70/70 - 0s - loss: 0.5264 - sparse_categorical_accuracy: 0.7409 - 135ms/epoch - 2ms/step\n"
          ]
        }
      ]
    },
    {
      "cell_type": "code",
      "source": [
        "valid_loss, valid_accuracy = model.evaluate(x_valid, y_valid)\n",
        "valid_accuracy"
      ],
      "metadata": {
        "colab": {
          "base_uri": "https://localhost:8080/"
        },
        "id": "4yOzN1b87T1p",
        "outputId": "7a09ff96-d697-442d-82d1-d7530e3aca65"
      },
      "execution_count": null,
      "outputs": [
        {
          "output_type": "stream",
          "name": "stdout",
          "text": [
            "47/47 [==============================] - 0s 2ms/step - loss: 0.4841 - sparse_categorical_accuracy: 0.8141\n"
          ]
        },
        {
          "output_type": "execute_result",
          "data": {
            "text/plain": [
              "0.8141413927078247"
            ]
          },
          "metadata": {},
          "execution_count": 68
        }
      ]
    },
    {
      "cell_type": "markdown",
      "source": [
        "Dropout rate = 0.25"
      ],
      "metadata": {
        "id": "nAZRakbs7fr2"
      }
    },
    {
      "cell_type": "code",
      "source": [
        "model = Sequential([\n",
        "                    Dense(32, activation = 'relu', input_shape = (15,)),\n",
        "                    Dropout(0.25),\n",
        "                    Dense(10, activation = 'softmax')]) "
      ],
      "metadata": {
        "id": "IzeXiOrK7fr2"
      },
      "execution_count": null,
      "outputs": []
    },
    {
      "cell_type": "code",
      "source": [
        "model.compile(optimizer = tf.keras.optimizers.Adam(learning_rate = 0.003),\n",
        "              loss='sparse_categorical_crossentropy', #Use this loss function when y labels are integers\n",
        "              metrics = [tf.keras.metrics.SparseCategoricalAccuracy()]) #use this accuracy when ylabels are integers"
      ],
      "metadata": {
        "id": "mXoztN7h7fr3"
      },
      "execution_count": null,
      "outputs": []
    },
    {
      "cell_type": "code",
      "source": [
        "history = model.fit(x_train, y_train, epochs=20,batch_size=64, verbose = 2)"
      ],
      "metadata": {
        "colab": {
          "base_uri": "https://localhost:8080/"
        },
        "outputId": "4e210a03-347a-4c82-c18d-9c572ab3d1b8",
        "id": "f-ANb6tk7fr3"
      },
      "execution_count": null,
      "outputs": [
        {
          "output_type": "stream",
          "name": "stdout",
          "text": [
            "Epoch 1/20\n",
            "70/70 - 1s - loss: 33.1619 - sparse_categorical_accuracy: 0.4982 - 750ms/epoch - 11ms/step\n",
            "Epoch 2/20\n",
            "70/70 - 0s - loss: 10.1143 - sparse_categorical_accuracy: 0.6709 - 153ms/epoch - 2ms/step\n",
            "Epoch 3/20\n",
            "70/70 - 0s - loss: 5.0213 - sparse_categorical_accuracy: 0.7133 - 156ms/epoch - 2ms/step\n",
            "Epoch 4/20\n",
            "70/70 - 0s - loss: 2.2285 - sparse_categorical_accuracy: 0.7021 - 131ms/epoch - 2ms/step\n",
            "Epoch 5/20\n",
            "70/70 - 0s - loss: 1.0510 - sparse_categorical_accuracy: 0.7142 - 174ms/epoch - 2ms/step\n",
            "Epoch 6/20\n",
            "70/70 - 0s - loss: 0.6865 - sparse_categorical_accuracy: 0.7319 - 134ms/epoch - 2ms/step\n",
            "Epoch 7/20\n",
            "70/70 - 0s - loss: 0.5665 - sparse_categorical_accuracy: 0.7434 - 151ms/epoch - 2ms/step\n",
            "Epoch 8/20\n",
            "70/70 - 0s - loss: 0.5115 - sparse_categorical_accuracy: 0.7604 - 146ms/epoch - 2ms/step\n",
            "Epoch 9/20\n",
            "70/70 - 0s - loss: 0.5010 - sparse_categorical_accuracy: 0.7690 - 133ms/epoch - 2ms/step\n",
            "Epoch 10/20\n",
            "70/70 - 0s - loss: 0.4856 - sparse_categorical_accuracy: 0.7757 - 164ms/epoch - 2ms/step\n",
            "Epoch 11/20\n",
            "70/70 - 0s - loss: 0.5023 - sparse_categorical_accuracy: 0.7604 - 153ms/epoch - 2ms/step\n",
            "Epoch 12/20\n",
            "70/70 - 0s - loss: 0.4901 - sparse_categorical_accuracy: 0.7737 - 164ms/epoch - 2ms/step\n",
            "Epoch 13/20\n",
            "70/70 - 0s - loss: 0.4849 - sparse_categorical_accuracy: 0.7768 - 163ms/epoch - 2ms/step\n",
            "Epoch 14/20\n",
            "70/70 - 0s - loss: 0.4732 - sparse_categorical_accuracy: 0.7822 - 130ms/epoch - 2ms/step\n",
            "Epoch 15/20\n",
            "70/70 - 0s - loss: 0.4697 - sparse_categorical_accuracy: 0.7878 - 159ms/epoch - 2ms/step\n",
            "Epoch 16/20\n",
            "70/70 - 0s - loss: 0.4714 - sparse_categorical_accuracy: 0.7806 - 143ms/epoch - 2ms/step\n",
            "Epoch 17/20\n",
            "70/70 - 0s - loss: 0.4715 - sparse_categorical_accuracy: 0.7815 - 126ms/epoch - 2ms/step\n",
            "Epoch 18/20\n",
            "70/70 - 0s - loss: 0.4570 - sparse_categorical_accuracy: 0.7961 - 185ms/epoch - 3ms/step\n",
            "Epoch 19/20\n",
            "70/70 - 0s - loss: 0.4621 - sparse_categorical_accuracy: 0.7885 - 181ms/epoch - 3ms/step\n",
            "Epoch 20/20\n",
            "70/70 - 0s - loss: 0.4669 - sparse_categorical_accuracy: 0.7842 - 151ms/epoch - 2ms/step\n"
          ]
        }
      ]
    },
    {
      "cell_type": "code",
      "source": [
        "valid_loss, valid_accuracy = model.evaluate(x_valid, y_valid)\n",
        "valid_accuracy"
      ],
      "metadata": {
        "colab": {
          "base_uri": "https://localhost:8080/"
        },
        "outputId": "09ca7e05-3c2e-458d-ed8d-6b8c80bee393",
        "id": "cCyt67x57fr3"
      },
      "execution_count": null,
      "outputs": [
        {
          "output_type": "stream",
          "name": "stdout",
          "text": [
            "47/47 [==============================] - 0s 1ms/step - loss: 0.4990 - sparse_categorical_accuracy: 0.6909\n"
          ]
        },
        {
          "output_type": "execute_result",
          "data": {
            "text/plain": [
              "0.6909090876579285"
            ]
          },
          "metadata": {},
          "execution_count": 72
        }
      ]
    },
    {
      "cell_type": "markdown",
      "source": [
        "Dropout rate = 0.6"
      ],
      "metadata": {
        "id": "vks1b-Op773A"
      }
    },
    {
      "cell_type": "code",
      "source": [
        "model = Sequential([\n",
        "                    Dense(32, activation = 'relu', input_shape = (15,)),\n",
        "                    Dropout(0.6),\n",
        "                    Dense(10, activation = 'softmax')]) "
      ],
      "metadata": {
        "id": "WSz7zjgZ773A"
      },
      "execution_count": null,
      "outputs": []
    },
    {
      "cell_type": "code",
      "source": [
        "model.compile(optimizer = tf.keras.optimizers.Adam(learning_rate = 0.003),\n",
        "              loss='sparse_categorical_crossentropy', #Use this loss function when y labels are integers\n",
        "              metrics = [tf.keras.metrics.SparseCategoricalAccuracy()]) #use this accuracy when ylabels are integers"
      ],
      "metadata": {
        "id": "p1b7Ne1X773A"
      },
      "execution_count": null,
      "outputs": []
    },
    {
      "cell_type": "code",
      "source": [
        "history = model.fit(x_train, y_train, epochs=20,batch_size=64, verbose = 2)"
      ],
      "metadata": {
        "colab": {
          "base_uri": "https://localhost:8080/"
        },
        "outputId": "72e169ed-8c15-468b-da38-6534cf3fe657",
        "id": "gxFC1Lx7773B"
      },
      "execution_count": null,
      "outputs": [
        {
          "output_type": "stream",
          "name": "stdout",
          "text": [
            "Epoch 1/20\n",
            "70/70 - 1s - loss: 43.0296 - sparse_categorical_accuracy: 0.4158 - 741ms/epoch - 11ms/step\n",
            "Epoch 2/20\n",
            "70/70 - 0s - loss: 6.7284 - sparse_categorical_accuracy: 0.5986 - 136ms/epoch - 2ms/step\n",
            "Epoch 3/20\n",
            "70/70 - 0s - loss: 1.5279 - sparse_categorical_accuracy: 0.6208 - 139ms/epoch - 2ms/step\n",
            "Epoch 4/20\n",
            "70/70 - 0s - loss: 0.8064 - sparse_categorical_accuracy: 0.6376 - 136ms/epoch - 2ms/step\n",
            "Epoch 5/20\n",
            "70/70 - 0s - loss: 0.6380 - sparse_categorical_accuracy: 0.6587 - 136ms/epoch - 2ms/step\n",
            "Epoch 6/20\n",
            "70/70 - 0s - loss: 0.6343 - sparse_categorical_accuracy: 0.6706 - 147ms/epoch - 2ms/step\n",
            "Epoch 7/20\n",
            "70/70 - 0s - loss: 0.6093 - sparse_categorical_accuracy: 0.6861 - 154ms/epoch - 2ms/step\n",
            "Epoch 8/20\n",
            "70/70 - 0s - loss: 0.6247 - sparse_categorical_accuracy: 0.6664 - 154ms/epoch - 2ms/step\n",
            "Epoch 9/20\n",
            "70/70 - 0s - loss: 0.6076 - sparse_categorical_accuracy: 0.6942 - 153ms/epoch - 2ms/step\n",
            "Epoch 10/20\n",
            "70/70 - 0s - loss: 0.6129 - sparse_categorical_accuracy: 0.6931 - 130ms/epoch - 2ms/step\n",
            "Epoch 11/20\n",
            "70/70 - 0s - loss: 0.6065 - sparse_categorical_accuracy: 0.6828 - 157ms/epoch - 2ms/step\n",
            "Epoch 12/20\n",
            "70/70 - 0s - loss: 0.5940 - sparse_categorical_accuracy: 0.7009 - 138ms/epoch - 2ms/step\n",
            "Epoch 13/20\n",
            "70/70 - 0s - loss: 0.5789 - sparse_categorical_accuracy: 0.7050 - 139ms/epoch - 2ms/step\n",
            "Epoch 14/20\n",
            "70/70 - 0s - loss: 0.5663 - sparse_categorical_accuracy: 0.7059 - 149ms/epoch - 2ms/step\n",
            "Epoch 15/20\n",
            "70/70 - 0s - loss: 0.5740 - sparse_categorical_accuracy: 0.7151 - 148ms/epoch - 2ms/step\n",
            "Epoch 16/20\n",
            "70/70 - 0s - loss: 0.5585 - sparse_categorical_accuracy: 0.7241 - 131ms/epoch - 2ms/step\n",
            "Epoch 17/20\n",
            "70/70 - 0s - loss: 0.5530 - sparse_categorical_accuracy: 0.7263 - 144ms/epoch - 2ms/step\n",
            "Epoch 18/20\n",
            "70/70 - 0s - loss: 0.5680 - sparse_categorical_accuracy: 0.7214 - 129ms/epoch - 2ms/step\n",
            "Epoch 19/20\n",
            "70/70 - 0s - loss: 0.5508 - sparse_categorical_accuracy: 0.7279 - 167ms/epoch - 2ms/step\n",
            "Epoch 20/20\n",
            "70/70 - 0s - loss: 0.5524 - sparse_categorical_accuracy: 0.7205 - 145ms/epoch - 2ms/step\n"
          ]
        }
      ]
    },
    {
      "cell_type": "code",
      "source": [
        "valid_loss, valid_accuracy = model.evaluate(x_valid, y_valid)\n",
        "valid_accuracy"
      ],
      "metadata": {
        "colab": {
          "base_uri": "https://localhost:8080/"
        },
        "outputId": "fde84c12-469c-447d-9815-58f077e2e468",
        "id": "35tp0sCj773B"
      },
      "execution_count": null,
      "outputs": [
        {
          "output_type": "stream",
          "name": "stdout",
          "text": [
            "47/47 [==============================] - 0s 1ms/step - loss: 0.4510 - sparse_categorical_accuracy: 0.7953\n"
          ]
        },
        {
          "output_type": "execute_result",
          "data": {
            "text/plain": [
              "0.7952861785888672"
            ]
          },
          "metadata": {},
          "execution_count": 76
        }
      ]
    },
    {
      "cell_type": "markdown",
      "source": [
        "Dropout rate = 0.8"
      ],
      "metadata": {
        "id": "VnVfYU0f8KVh"
      }
    },
    {
      "cell_type": "code",
      "source": [
        "model = Sequential([\n",
        "                    Dense(32, activation = 'relu', input_shape = (15,)),\n",
        "                    Dropout(0.8),\n",
        "                    Dense(10, activation = 'softmax')]) "
      ],
      "metadata": {
        "id": "wjiLvQOK8KVi"
      },
      "execution_count": null,
      "outputs": []
    },
    {
      "cell_type": "code",
      "source": [
        "model.compile(optimizer = tf.keras.optimizers.Adam(learning_rate = 0.003),\n",
        "              loss='sparse_categorical_crossentropy', #Use this loss function when y labels are integers\n",
        "              metrics = [tf.keras.metrics.SparseCategoricalAccuracy()]) #use this accuracy when ylabels are integers"
      ],
      "metadata": {
        "id": "AdtAjVEy8KVi"
      },
      "execution_count": null,
      "outputs": []
    },
    {
      "cell_type": "code",
      "source": [
        "history = model.fit(x_train, y_train, epochs=20,batch_size=64, verbose = 2)"
      ],
      "metadata": {
        "colab": {
          "base_uri": "https://localhost:8080/"
        },
        "outputId": "38a34dd0-0cd3-4838-81ea-d1f2241e4ee2",
        "id": "9APSX7Sn8KVi"
      },
      "execution_count": null,
      "outputs": [
        {
          "output_type": "stream",
          "name": "stdout",
          "text": [
            "Epoch 1/20\n",
            "70/70 - 0s - loss: 52.4520 - sparse_categorical_accuracy: 0.3696 - 425ms/epoch - 6ms/step\n",
            "Epoch 2/20\n",
            "70/70 - 0s - loss: 5.7231 - sparse_categorical_accuracy: 0.5251 - 91ms/epoch - 1ms/step\n",
            "Epoch 3/20\n",
            "70/70 - 0s - loss: 1.4315 - sparse_categorical_accuracy: 0.5999 - 93ms/epoch - 1ms/step\n",
            "Epoch 4/20\n",
            "70/70 - 0s - loss: 1.0537 - sparse_categorical_accuracy: 0.6197 - 101ms/epoch - 1ms/step\n",
            "Epoch 5/20\n",
            "70/70 - 0s - loss: 0.9292 - sparse_categorical_accuracy: 0.6244 - 90ms/epoch - 1ms/step\n",
            "Epoch 6/20\n",
            "70/70 - 0s - loss: 0.8127 - sparse_categorical_accuracy: 0.6217 - 95ms/epoch - 1ms/step\n",
            "Epoch 7/20\n",
            "70/70 - 0s - loss: 0.7950 - sparse_categorical_accuracy: 0.6286 - 95ms/epoch - 1ms/step\n",
            "Epoch 8/20\n",
            "70/70 - 0s - loss: 0.7894 - sparse_categorical_accuracy: 0.6358 - 92ms/epoch - 1ms/step\n",
            "Epoch 9/20\n",
            "70/70 - 0s - loss: 0.7308 - sparse_categorical_accuracy: 0.6486 - 90ms/epoch - 1ms/step\n",
            "Epoch 10/20\n",
            "70/70 - 0s - loss: 0.7147 - sparse_categorical_accuracy: 0.6621 - 98ms/epoch - 1ms/step\n",
            "Epoch 11/20\n",
            "70/70 - 0s - loss: 0.7164 - sparse_categorical_accuracy: 0.6590 - 100ms/epoch - 1ms/step\n",
            "Epoch 12/20\n",
            "70/70 - 0s - loss: 0.6999 - sparse_categorical_accuracy: 0.6630 - 98ms/epoch - 1ms/step\n",
            "Epoch 13/20\n",
            "70/70 - 0s - loss: 0.6652 - sparse_categorical_accuracy: 0.6744 - 96ms/epoch - 1ms/step\n",
            "Epoch 14/20\n",
            "70/70 - 0s - loss: 0.6523 - sparse_categorical_accuracy: 0.6747 - 114ms/epoch - 2ms/step\n",
            "Epoch 15/20\n",
            "70/70 - 0s - loss: 0.6957 - sparse_categorical_accuracy: 0.6594 - 97ms/epoch - 1ms/step\n",
            "Epoch 16/20\n",
            "70/70 - 0s - loss: 0.6499 - sparse_categorical_accuracy: 0.6711 - 99ms/epoch - 1ms/step\n",
            "Epoch 17/20\n",
            "70/70 - 0s - loss: 0.6534 - sparse_categorical_accuracy: 0.6747 - 96ms/epoch - 1ms/step\n",
            "Epoch 18/20\n",
            "70/70 - 0s - loss: 0.6361 - sparse_categorical_accuracy: 0.6794 - 87ms/epoch - 1ms/step\n",
            "Epoch 19/20\n",
            "70/70 - 0s - loss: 0.6203 - sparse_categorical_accuracy: 0.6841 - 89ms/epoch - 1ms/step\n",
            "Epoch 20/20\n",
            "70/70 - 0s - loss: 0.6247 - sparse_categorical_accuracy: 0.6861 - 93ms/epoch - 1ms/step\n"
          ]
        }
      ]
    },
    {
      "cell_type": "code",
      "source": [
        "valid_loss, valid_accuracy = model.evaluate(x_valid, y_valid)\n",
        "valid_accuracy"
      ],
      "metadata": {
        "colab": {
          "base_uri": "https://localhost:8080/"
        },
        "outputId": "1f429ee4-5555-461f-fe9f-3221ac194df4",
        "id": "KKJ1u7eT8KVj"
      },
      "execution_count": null,
      "outputs": [
        {
          "output_type": "stream",
          "name": "stdout",
          "text": [
            "47/47 [==============================] - 0s 1ms/step - loss: 0.4608 - sparse_categorical_accuracy: 0.7933\n"
          ]
        },
        {
          "output_type": "execute_result",
          "data": {
            "text/plain": [
              "0.7932659983634949"
            ]
          },
          "metadata": {},
          "execution_count": 80
        }
      ]
    },
    {
      "cell_type": "markdown",
      "source": [
        "Dropout rate = 0.4"
      ],
      "metadata": {
        "id": "tDxXMcIZ8cTU"
      }
    },
    {
      "cell_type": "code",
      "source": [
        "model = Sequential([\n",
        "                    Dense(32, activation = 'relu', input_shape = (15,)),\n",
        "                    Dropout(0.4),\n",
        "                    Dense(10, activation = 'softmax')]) "
      ],
      "metadata": {
        "id": "aKookZSl8cTV"
      },
      "execution_count": null,
      "outputs": []
    },
    {
      "cell_type": "code",
      "source": [
        "model.compile(optimizer = tf.keras.optimizers.Adam(learning_rate = 0.003),\n",
        "              loss='sparse_categorical_crossentropy', #Use this loss function when y labels are integers\n",
        "              metrics = [tf.keras.metrics.SparseCategoricalAccuracy()]) #use this accuracy when ylabels are integers"
      ],
      "metadata": {
        "id": "giOYQs4-8cTV"
      },
      "execution_count": null,
      "outputs": []
    },
    {
      "cell_type": "code",
      "source": [
        "history = model.fit(x_train, y_train, epochs=20,batch_size=64, verbose = 2)"
      ],
      "metadata": {
        "colab": {
          "base_uri": "https://localhost:8080/"
        },
        "outputId": "90b68cd6-aa4e-4d8d-d666-59f3bafde642",
        "id": "u_0gVPQn8cTV"
      },
      "execution_count": null,
      "outputs": [
        {
          "output_type": "stream",
          "name": "stdout",
          "text": [
            "Epoch 1/20\n",
            "70/70 - 1s - loss: 34.3167 - sparse_categorical_accuracy: 0.4385 - 683ms/epoch - 10ms/step\n",
            "Epoch 2/20\n",
            "70/70 - 0s - loss: 6.5428 - sparse_categorical_accuracy: 0.6430 - 126ms/epoch - 2ms/step\n",
            "Epoch 3/20\n",
            "70/70 - 0s - loss: 1.9133 - sparse_categorical_accuracy: 0.6529 - 149ms/epoch - 2ms/step\n",
            "Epoch 4/20\n",
            "70/70 - 0s - loss: 0.8069 - sparse_categorical_accuracy: 0.6956 - 142ms/epoch - 2ms/step\n",
            "Epoch 5/20\n",
            "70/70 - 0s - loss: 0.6629 - sparse_categorical_accuracy: 0.7084 - 128ms/epoch - 2ms/step\n",
            "Epoch 6/20\n",
            "70/70 - 0s - loss: 0.5779 - sparse_categorical_accuracy: 0.7330 - 140ms/epoch - 2ms/step\n",
            "Epoch 7/20\n",
            "70/70 - 0s - loss: 0.5620 - sparse_categorical_accuracy: 0.7360 - 128ms/epoch - 2ms/step\n",
            "Epoch 8/20\n",
            "70/70 - 0s - loss: 0.5296 - sparse_categorical_accuracy: 0.7452 - 147ms/epoch - 2ms/step\n",
            "Epoch 9/20\n",
            "70/70 - 0s - loss: 0.5332 - sparse_categorical_accuracy: 0.7418 - 136ms/epoch - 2ms/step\n",
            "Epoch 10/20\n",
            "70/70 - 0s - loss: 0.5227 - sparse_categorical_accuracy: 0.7548 - 156ms/epoch - 2ms/step\n",
            "Epoch 11/20\n",
            "70/70 - 0s - loss: 0.5085 - sparse_categorical_accuracy: 0.7573 - 133ms/epoch - 2ms/step\n",
            "Epoch 12/20\n",
            "70/70 - 0s - loss: 0.4927 - sparse_categorical_accuracy: 0.7687 - 141ms/epoch - 2ms/step\n",
            "Epoch 13/20\n",
            "70/70 - 0s - loss: 0.4966 - sparse_categorical_accuracy: 0.7674 - 149ms/epoch - 2ms/step\n",
            "Epoch 14/20\n",
            "70/70 - 0s - loss: 0.5028 - sparse_categorical_accuracy: 0.7721 - 142ms/epoch - 2ms/step\n",
            "Epoch 15/20\n",
            "70/70 - 0s - loss: 0.4978 - sparse_categorical_accuracy: 0.7611 - 150ms/epoch - 2ms/step\n",
            "Epoch 16/20\n",
            "70/70 - 0s - loss: 0.5020 - sparse_categorical_accuracy: 0.7602 - 135ms/epoch - 2ms/step\n",
            "Epoch 17/20\n",
            "70/70 - 0s - loss: 0.4883 - sparse_categorical_accuracy: 0.7670 - 148ms/epoch - 2ms/step\n",
            "Epoch 18/20\n",
            "70/70 - 0s - loss: 0.4809 - sparse_categorical_accuracy: 0.7723 - 138ms/epoch - 2ms/step\n",
            "Epoch 19/20\n",
            "70/70 - 0s - loss: 0.4797 - sparse_categorical_accuracy: 0.7759 - 119ms/epoch - 2ms/step\n",
            "Epoch 20/20\n",
            "70/70 - 0s - loss: 0.4842 - sparse_categorical_accuracy: 0.7656 - 124ms/epoch - 2ms/step\n"
          ]
        }
      ]
    },
    {
      "cell_type": "code",
      "source": [
        "valid_loss, valid_accuracy = model.evaluate(x_valid, y_valid)\n",
        "valid_accuracy"
      ],
      "metadata": {
        "colab": {
          "base_uri": "https://localhost:8080/"
        },
        "outputId": "53dae909-888d-49a0-b7ce-1a25995167ee",
        "id": "IEb0nXb18cTV"
      },
      "execution_count": null,
      "outputs": [
        {
          "output_type": "stream",
          "name": "stdout",
          "text": [
            "47/47 [==============================] - 0s 1ms/step - loss: 0.4158 - sparse_categorical_accuracy: 0.8135\n"
          ]
        },
        {
          "output_type": "execute_result",
          "data": {
            "text/plain": [
              "0.8134680390357971"
            ]
          },
          "metadata": {},
          "execution_count": 84
        }
      ]
    },
    {
      "cell_type": "markdown",
      "source": [
        "#Using both L2 regularization and dropout"
      ],
      "metadata": {
        "id": "sk9jN_Q_8yc8"
      }
    },
    {
      "cell_type": "markdown",
      "source": [
        "penalty = 0.001 Dropout = 0.5"
      ],
      "metadata": {
        "id": "LAFfSUJF_6K9"
      }
    },
    {
      "cell_type": "code",
      "source": [
        "model = Sequential([\n",
        "                    Dense(32, activation = 'relu', input_shape = (15,),kernel_regularizer = tf.keras.regularizers.l2(0.001)),\n",
        "                    Dropout(0.5),\n",
        "                    Dense(10, activation = 'softmax',kernel_regularizer = tf.keras.regularizers.l2(0.001))])"
      ],
      "metadata": {
        "id": "SaX9wHPL8xjC"
      },
      "execution_count": null,
      "outputs": []
    },
    {
      "cell_type": "code",
      "source": [
        "model.compile(optimizer = tf.keras.optimizers.Adam(learning_rate = 0.003),\n",
        "              loss='sparse_categorical_crossentropy', #Use this loss function when y labels are integers\n",
        "              metrics = [tf.keras.metrics.SparseCategoricalAccuracy()]) #use this accuracy when ylabels are integers"
      ],
      "metadata": {
        "id": "jDG_9aZH9FBc"
      },
      "execution_count": null,
      "outputs": []
    },
    {
      "cell_type": "code",
      "source": [
        "history = model.fit(x_train, y_train, epochs=20,batch_size=64, verbose = 2)"
      ],
      "metadata": {
        "colab": {
          "base_uri": "https://localhost:8080/"
        },
        "id": "ZlOfuGog9Ftu",
        "outputId": "a7dc984f-9d69-4676-b47b-b9657aaa29c1"
      },
      "execution_count": null,
      "outputs": [
        {
          "output_type": "stream",
          "name": "stdout",
          "text": [
            "Epoch 1/20\n",
            "70/70 - 1s - loss: 28.1832 - sparse_categorical_accuracy: 0.4827 - 762ms/epoch - 11ms/step\n",
            "Epoch 2/20\n",
            "70/70 - 0s - loss: 4.1076 - sparse_categorical_accuracy: 0.6367 - 150ms/epoch - 2ms/step\n",
            "Epoch 3/20\n",
            "70/70 - 0s - loss: 1.0877 - sparse_categorical_accuracy: 0.6711 - 152ms/epoch - 2ms/step\n",
            "Epoch 4/20\n",
            "70/70 - 0s - loss: 0.7010 - sparse_categorical_accuracy: 0.7016 - 112ms/epoch - 2ms/step\n",
            "Epoch 5/20\n",
            "70/70 - 0s - loss: 0.6258 - sparse_categorical_accuracy: 0.7326 - 147ms/epoch - 2ms/step\n",
            "Epoch 6/20\n",
            "70/70 - 0s - loss: 0.6068 - sparse_categorical_accuracy: 0.7261 - 153ms/epoch - 2ms/step\n",
            "Epoch 7/20\n",
            "70/70 - 0s - loss: 0.5808 - sparse_categorical_accuracy: 0.7355 - 141ms/epoch - 2ms/step\n",
            "Epoch 8/20\n",
            "70/70 - 0s - loss: 0.5824 - sparse_categorical_accuracy: 0.7353 - 141ms/epoch - 2ms/step\n",
            "Epoch 9/20\n",
            "70/70 - 0s - loss: 0.5718 - sparse_categorical_accuracy: 0.7405 - 139ms/epoch - 2ms/step\n",
            "Epoch 10/20\n",
            "70/70 - 0s - loss: 0.5696 - sparse_categorical_accuracy: 0.7454 - 142ms/epoch - 2ms/step\n",
            "Epoch 11/20\n",
            "70/70 - 0s - loss: 0.5454 - sparse_categorical_accuracy: 0.7575 - 137ms/epoch - 2ms/step\n",
            "Epoch 12/20\n",
            "70/70 - 0s - loss: 0.5531 - sparse_categorical_accuracy: 0.7551 - 149ms/epoch - 2ms/step\n",
            "Epoch 13/20\n",
            "70/70 - 0s - loss: 0.5401 - sparse_categorical_accuracy: 0.7598 - 136ms/epoch - 2ms/step\n",
            "Epoch 14/20\n",
            "70/70 - 0s - loss: 0.5403 - sparse_categorical_accuracy: 0.7542 - 139ms/epoch - 2ms/step\n",
            "Epoch 15/20\n",
            "70/70 - 0s - loss: 0.5323 - sparse_categorical_accuracy: 0.7562 - 141ms/epoch - 2ms/step\n",
            "Epoch 16/20\n",
            "70/70 - 0s - loss: 0.5397 - sparse_categorical_accuracy: 0.7510 - 140ms/epoch - 2ms/step\n",
            "Epoch 17/20\n",
            "70/70 - 0s - loss: 0.5229 - sparse_categorical_accuracy: 0.7553 - 142ms/epoch - 2ms/step\n",
            "Epoch 18/20\n",
            "70/70 - 0s - loss: 0.5228 - sparse_categorical_accuracy: 0.7652 - 156ms/epoch - 2ms/step\n",
            "Epoch 19/20\n",
            "70/70 - 0s - loss: 0.5395 - sparse_categorical_accuracy: 0.7562 - 161ms/epoch - 2ms/step\n",
            "Epoch 20/20\n",
            "70/70 - 0s - loss: 0.5239 - sparse_categorical_accuracy: 0.7631 - 150ms/epoch - 2ms/step\n"
          ]
        }
      ]
    },
    {
      "cell_type": "code",
      "source": [
        "valid_loss, valid_accuracy = model.evaluate(x_valid, y_valid)\n",
        "valid_accuracy"
      ],
      "metadata": {
        "colab": {
          "base_uri": "https://localhost:8080/"
        },
        "id": "gfX8FFIX9Kxi",
        "outputId": "69aae649-e281-4777-a07c-548ea4ed4c22"
      },
      "execution_count": null,
      "outputs": [
        {
          "output_type": "stream",
          "name": "stdout",
          "text": [
            "47/47 [==============================] - 0s 3ms/step - loss: 0.4493 - sparse_categorical_accuracy: 0.8189\n"
          ]
        },
        {
          "output_type": "execute_result",
          "data": {
            "text/plain": [
              "0.8188552260398865"
            ]
          },
          "metadata": {},
          "execution_count": 88
        }
      ]
    },
    {
      "cell_type": "markdown",
      "source": [
        "penalty = 0.0005 Dropout = 0.5"
      ],
      "metadata": {
        "id": "N-2QjbEW_9Gr"
      }
    },
    {
      "cell_type": "code",
      "source": [
        "model = Sequential([\n",
        "                    Dense(32, activation = 'relu', input_shape = (15,),kernel_regularizer = tf.keras.regularizers.l2(0.0005)),\n",
        "                    Dropout(0.5),\n",
        "                    Dense(10, activation = 'softmax',kernel_regularizer = tf.keras.regularizers.l2(0.001))])"
      ],
      "metadata": {
        "id": "TFkI8RRx_9Gs"
      },
      "execution_count": null,
      "outputs": []
    },
    {
      "cell_type": "code",
      "source": [
        "model.compile(optimizer = tf.keras.optimizers.Adam(learning_rate = 0.003),\n",
        "              loss='sparse_categorical_crossentropy', #Use this loss function when y labels are integers\n",
        "              metrics = [tf.keras.metrics.SparseCategoricalAccuracy()]) #use this accuracy when ylabels are integers"
      ],
      "metadata": {
        "id": "Wjnrv9l-_9Gs"
      },
      "execution_count": null,
      "outputs": []
    },
    {
      "cell_type": "code",
      "source": [
        "history = model.fit(x_train, y_train, epochs=20,batch_size=64, verbose = 2)"
      ],
      "metadata": {
        "colab": {
          "base_uri": "https://localhost:8080/"
        },
        "outputId": "992809c0-4535-48cc-e6b0-b5c0cf755a34",
        "id": "8sltShx-_9Gs"
      },
      "execution_count": null,
      "outputs": [
        {
          "output_type": "stream",
          "name": "stdout",
          "text": [
            "Epoch 1/20\n",
            "70/70 - 2s - loss: 35.0940 - sparse_categorical_accuracy: 0.4466 - 2s/epoch - 24ms/step\n",
            "Epoch 2/20\n",
            "70/70 - 0s - loss: 4.6627 - sparse_categorical_accuracy: 0.6356 - 209ms/epoch - 3ms/step\n",
            "Epoch 3/20\n",
            "70/70 - 0s - loss: 1.2300 - sparse_categorical_accuracy: 0.6646 - 237ms/epoch - 3ms/step\n",
            "Epoch 4/20\n",
            "70/70 - 0s - loss: 0.7512 - sparse_categorical_accuracy: 0.6796 - 187ms/epoch - 3ms/step\n",
            "Epoch 5/20\n",
            "70/70 - 0s - loss: 0.7425 - sparse_categorical_accuracy: 0.6870 - 179ms/epoch - 3ms/step\n",
            "Epoch 6/20\n",
            "70/70 - 0s - loss: 0.7070 - sparse_categorical_accuracy: 0.6837 - 192ms/epoch - 3ms/step\n",
            "Epoch 7/20\n",
            "70/70 - 0s - loss: 0.7274 - sparse_categorical_accuracy: 0.6949 - 154ms/epoch - 2ms/step\n",
            "Epoch 8/20\n",
            "70/70 - 0s - loss: 0.6537 - sparse_categorical_accuracy: 0.7104 - 246ms/epoch - 4ms/step\n",
            "Epoch 9/20\n",
            "70/70 - 0s - loss: 0.6446 - sparse_categorical_accuracy: 0.7149 - 232ms/epoch - 3ms/step\n",
            "Epoch 10/20\n",
            "70/70 - 0s - loss: 0.6404 - sparse_categorical_accuracy: 0.7164 - 208ms/epoch - 3ms/step\n",
            "Epoch 11/20\n",
            "70/70 - 0s - loss: 0.6675 - sparse_categorical_accuracy: 0.7027 - 135ms/epoch - 2ms/step\n",
            "Epoch 12/20\n",
            "70/70 - 0s - loss: 0.6178 - sparse_categorical_accuracy: 0.7151 - 136ms/epoch - 2ms/step\n",
            "Epoch 13/20\n",
            "70/70 - 0s - loss: 0.6110 - sparse_categorical_accuracy: 0.7180 - 210ms/epoch - 3ms/step\n",
            "Epoch 14/20\n",
            "70/70 - 0s - loss: 0.6052 - sparse_categorical_accuracy: 0.7256 - 151ms/epoch - 2ms/step\n",
            "Epoch 15/20\n",
            "70/70 - 0s - loss: 0.5886 - sparse_categorical_accuracy: 0.7339 - 148ms/epoch - 2ms/step\n",
            "Epoch 16/20\n",
            "70/70 - 0s - loss: 0.5803 - sparse_categorical_accuracy: 0.7322 - 180ms/epoch - 3ms/step\n",
            "Epoch 17/20\n",
            "70/70 - 0s - loss: 0.5690 - sparse_categorical_accuracy: 0.7330 - 173ms/epoch - 2ms/step\n",
            "Epoch 18/20\n",
            "70/70 - 0s - loss: 0.5583 - sparse_categorical_accuracy: 0.7382 - 170ms/epoch - 2ms/step\n",
            "Epoch 19/20\n",
            "70/70 - 0s - loss: 0.6483 - sparse_categorical_accuracy: 0.7059 - 228ms/epoch - 3ms/step\n",
            "Epoch 20/20\n",
            "70/70 - 0s - loss: 0.5829 - sparse_categorical_accuracy: 0.7299 - 258ms/epoch - 4ms/step\n"
          ]
        }
      ]
    },
    {
      "cell_type": "code",
      "source": [
        "valid_loss, valid_accuracy = model.evaluate(x_valid, y_valid)\n",
        "valid_accuracy"
      ],
      "metadata": {
        "colab": {
          "base_uri": "https://localhost:8080/"
        },
        "outputId": "9bed796c-f2dd-48e4-e770-35f8b9b3932a",
        "id": "Fpm5fiwu_9Gs"
      },
      "execution_count": null,
      "outputs": [
        {
          "output_type": "stream",
          "name": "stdout",
          "text": [
            "47/47 [==============================] - 0s 2ms/step - loss: 0.4482 - sparse_categorical_accuracy: 0.8175\n"
          ]
        },
        {
          "output_type": "execute_result",
          "data": {
            "text/plain": [
              "0.8175083994865417"
            ]
          },
          "metadata": {},
          "execution_count": 92
        }
      ]
    },
    {
      "cell_type": "markdown",
      "source": [
        "penalty = 0.0007 Dropout = 0.4"
      ],
      "metadata": {
        "id": "k1rAIRObAVdl"
      }
    },
    {
      "cell_type": "code",
      "source": [
        "model = Sequential([\n",
        "                    Dense(32, activation = 'relu', input_shape = (15,),kernel_regularizer = tf.keras.regularizers.l2(0.0007)),\n",
        "                    Dropout(0.4),\n",
        "                    Dense(10, activation = 'softmax',kernel_regularizer = tf.keras.regularizers.l2(0.001))])"
      ],
      "metadata": {
        "id": "JlkO2pCxAVdl"
      },
      "execution_count": null,
      "outputs": []
    },
    {
      "cell_type": "code",
      "source": [
        "model.compile(optimizer = tf.keras.optimizers.Adam(learning_rate = 0.003),\n",
        "              loss='sparse_categorical_crossentropy', #Use this loss function when y labels are integers\n",
        "              metrics = [tf.keras.metrics.SparseCategoricalAccuracy()]) #use this accuracy when ylabels are integers"
      ],
      "metadata": {
        "id": "C48pFi-MAVdm"
      },
      "execution_count": null,
      "outputs": []
    },
    {
      "cell_type": "code",
      "source": [
        "history = model.fit(x_train, y_train, epochs=20,batch_size=64, verbose = 2)"
      ],
      "metadata": {
        "colab": {
          "base_uri": "https://localhost:8080/"
        },
        "outputId": "f5d22e77-083b-4a00-d66c-0ad3b81dbb87",
        "id": "lFRNS5GdAVdm"
      },
      "execution_count": null,
      "outputs": [
        {
          "output_type": "stream",
          "name": "stdout",
          "text": [
            "Epoch 1/20\n",
            "70/70 - 1s - loss: 38.3923 - sparse_categorical_accuracy: 0.4189 - 1s/epoch - 18ms/step\n",
            "Epoch 2/20\n",
            "70/70 - 0s - loss: 6.2632 - sparse_categorical_accuracy: 0.6300 - 136ms/epoch - 2ms/step\n",
            "Epoch 3/20\n",
            "70/70 - 0s - loss: 1.5114 - sparse_categorical_accuracy: 0.6639 - 140ms/epoch - 2ms/step\n",
            "Epoch 4/20\n",
            "70/70 - 0s - loss: 0.7153 - sparse_categorical_accuracy: 0.6816 - 134ms/epoch - 2ms/step\n",
            "Epoch 5/20\n",
            "70/70 - 0s - loss: 0.6341 - sparse_categorical_accuracy: 0.6962 - 127ms/epoch - 2ms/step\n",
            "Epoch 6/20\n",
            "70/70 - 0s - loss: 0.5896 - sparse_categorical_accuracy: 0.7162 - 170ms/epoch - 2ms/step\n",
            "Epoch 7/20\n",
            "70/70 - 0s - loss: 0.5840 - sparse_categorical_accuracy: 0.7243 - 141ms/epoch - 2ms/step\n",
            "Epoch 8/20\n",
            "70/70 - 0s - loss: 0.5817 - sparse_categorical_accuracy: 0.7241 - 126ms/epoch - 2ms/step\n",
            "Epoch 9/20\n",
            "70/70 - 0s - loss: 0.5705 - sparse_categorical_accuracy: 0.7369 - 138ms/epoch - 2ms/step\n",
            "Epoch 10/20\n",
            "70/70 - 0s - loss: 0.5582 - sparse_categorical_accuracy: 0.7447 - 176ms/epoch - 3ms/step\n",
            "Epoch 11/20\n",
            "70/70 - 0s - loss: 0.5562 - sparse_categorical_accuracy: 0.7369 - 123ms/epoch - 2ms/step\n",
            "Epoch 12/20\n",
            "70/70 - 0s - loss: 0.5485 - sparse_categorical_accuracy: 0.7407 - 154ms/epoch - 2ms/step\n",
            "Epoch 13/20\n",
            "70/70 - 0s - loss: 0.5630 - sparse_categorical_accuracy: 0.7313 - 167ms/epoch - 2ms/step\n",
            "Epoch 14/20\n",
            "70/70 - 0s - loss: 0.5440 - sparse_categorical_accuracy: 0.7438 - 138ms/epoch - 2ms/step\n",
            "Epoch 15/20\n",
            "70/70 - 0s - loss: 0.5407 - sparse_categorical_accuracy: 0.7326 - 150ms/epoch - 2ms/step\n",
            "Epoch 16/20\n",
            "70/70 - 0s - loss: 0.5280 - sparse_categorical_accuracy: 0.7595 - 158ms/epoch - 2ms/step\n",
            "Epoch 17/20\n",
            "70/70 - 0s - loss: 0.5243 - sparse_categorical_accuracy: 0.7526 - 146ms/epoch - 2ms/step\n",
            "Epoch 18/20\n",
            "70/70 - 0s - loss: 0.5290 - sparse_categorical_accuracy: 0.7604 - 148ms/epoch - 2ms/step\n",
            "Epoch 19/20\n",
            "70/70 - 0s - loss: 0.5358 - sparse_categorical_accuracy: 0.7519 - 245ms/epoch - 4ms/step\n",
            "Epoch 20/20\n",
            "70/70 - 0s - loss: 0.5148 - sparse_categorical_accuracy: 0.7631 - 139ms/epoch - 2ms/step\n"
          ]
        }
      ]
    },
    {
      "cell_type": "code",
      "source": [
        "valid_loss, valid_accuracy = model.evaluate(x_valid, y_valid)\n",
        "valid_accuracy"
      ],
      "metadata": {
        "colab": {
          "base_uri": "https://localhost:8080/"
        },
        "outputId": "facf5c10-8133-4426-9238-3d3917fe38fb",
        "id": "JDOR09gGAVdm"
      },
      "execution_count": null,
      "outputs": [
        {
          "output_type": "stream",
          "name": "stdout",
          "text": [
            "47/47 [==============================] - 0s 2ms/step - loss: 0.4888 - sparse_categorical_accuracy: 0.7731\n"
          ]
        },
        {
          "output_type": "execute_result",
          "data": {
            "text/plain": [
              "0.7730639576911926"
            ]
          },
          "metadata": {},
          "execution_count": 112
        }
      ]
    },
    {
      "cell_type": "markdown",
      "source": [
        "penalty = 0.0005 Dropout = 0.3"
      ],
      "metadata": {
        "id": "DWicy2wQAmHd"
      }
    },
    {
      "cell_type": "code",
      "source": [
        "model = Sequential([\n",
        "                    Dense(32, activation = 'relu', input_shape = (15,),kernel_regularizer = tf.keras.regularizers.l2(0.0005)),\n",
        "                    Dropout(0.3),\n",
        "                    Dense(10, activation = 'softmax',kernel_regularizer = tf.keras.regularizers.l2(0.001))])"
      ],
      "metadata": {
        "id": "4AWEfXLOAmHe"
      },
      "execution_count": null,
      "outputs": []
    },
    {
      "cell_type": "code",
      "source": [
        "model.compile(optimizer = tf.keras.optimizers.Adam(learning_rate = 0.003),\n",
        "              loss='sparse_categorical_crossentropy', #Use this loss function when y labels are integers\n",
        "              metrics = [tf.keras.metrics.SparseCategoricalAccuracy()]) #use this accuracy when ylabels are integers"
      ],
      "metadata": {
        "id": "5smsC6joAmHe"
      },
      "execution_count": null,
      "outputs": []
    },
    {
      "cell_type": "code",
      "source": [
        "history = model.fit(x_train, y_train, epochs=20,batch_size=64, verbose = 2)"
      ],
      "metadata": {
        "colab": {
          "base_uri": "https://localhost:8080/"
        },
        "outputId": "042c28dc-a2f0-438c-ec92-d224bf43c878",
        "id": "8V-Q6SjIAmHe"
      },
      "execution_count": null,
      "outputs": [
        {
          "output_type": "stream",
          "name": "stdout",
          "text": [
            "Epoch 1/20\n",
            "70/70 - 1s - loss: 20.3733 - sparse_categorical_accuracy: 0.5680 - 777ms/epoch - 11ms/step\n",
            "Epoch 2/20\n",
            "70/70 - 0s - loss: 5.1332 - sparse_categorical_accuracy: 0.6816 - 171ms/epoch - 2ms/step\n",
            "Epoch 3/20\n",
            "70/70 - 0s - loss: 1.6410 - sparse_categorical_accuracy: 0.7128 - 137ms/epoch - 2ms/step\n",
            "Epoch 4/20\n",
            "70/70 - 0s - loss: 0.6862 - sparse_categorical_accuracy: 0.7400 - 131ms/epoch - 2ms/step\n",
            "Epoch 5/20\n",
            "70/70 - 0s - loss: 0.6236 - sparse_categorical_accuracy: 0.7220 - 127ms/epoch - 2ms/step\n",
            "Epoch 6/20\n",
            "70/70 - 0s - loss: 0.5586 - sparse_categorical_accuracy: 0.7515 - 123ms/epoch - 2ms/step\n",
            "Epoch 7/20\n",
            "70/70 - 0s - loss: 0.5337 - sparse_categorical_accuracy: 0.7591 - 135ms/epoch - 2ms/step\n",
            "Epoch 8/20\n",
            "70/70 - 0s - loss: 0.5310 - sparse_categorical_accuracy: 0.7618 - 125ms/epoch - 2ms/step\n",
            "Epoch 9/20\n",
            "70/70 - 0s - loss: 0.5296 - sparse_categorical_accuracy: 0.7499 - 150ms/epoch - 2ms/step\n",
            "Epoch 10/20\n",
            "70/70 - 0s - loss: 0.5135 - sparse_categorical_accuracy: 0.7703 - 156ms/epoch - 2ms/step\n",
            "Epoch 11/20\n",
            "70/70 - 0s - loss: 0.5221 - sparse_categorical_accuracy: 0.7622 - 148ms/epoch - 2ms/step\n",
            "Epoch 12/20\n",
            "70/70 - 0s - loss: 0.5039 - sparse_categorical_accuracy: 0.7773 - 163ms/epoch - 2ms/step\n",
            "Epoch 13/20\n",
            "70/70 - 0s - loss: 0.4961 - sparse_categorical_accuracy: 0.7757 - 144ms/epoch - 2ms/step\n",
            "Epoch 14/20\n",
            "70/70 - 0s - loss: 0.4934 - sparse_categorical_accuracy: 0.7759 - 148ms/epoch - 2ms/step\n",
            "Epoch 15/20\n",
            "70/70 - 0s - loss: 0.4920 - sparse_categorical_accuracy: 0.7784 - 158ms/epoch - 2ms/step\n",
            "Epoch 16/20\n",
            "70/70 - 0s - loss: 0.4984 - sparse_categorical_accuracy: 0.7755 - 133ms/epoch - 2ms/step\n",
            "Epoch 17/20\n",
            "70/70 - 0s - loss: 0.4903 - sparse_categorical_accuracy: 0.7860 - 140ms/epoch - 2ms/step\n",
            "Epoch 18/20\n",
            "70/70 - 0s - loss: 0.5127 - sparse_categorical_accuracy: 0.7685 - 142ms/epoch - 2ms/step\n",
            "Epoch 19/20\n",
            "70/70 - 0s - loss: 0.5243 - sparse_categorical_accuracy: 0.7591 - 172ms/epoch - 2ms/step\n",
            "Epoch 20/20\n",
            "70/70 - 0s - loss: 0.4931 - sparse_categorical_accuracy: 0.7797 - 130ms/epoch - 2ms/step\n"
          ]
        }
      ]
    },
    {
      "cell_type": "code",
      "source": [
        "valid_loss, valid_accuracy = model.evaluate(x_valid, y_valid)\n",
        "valid_accuracy"
      ],
      "metadata": {
        "colab": {
          "base_uri": "https://localhost:8080/"
        },
        "outputId": "37d42a78-7ba9-4bf6-e6d7-35721cdab4e2",
        "id": "JadveTpJAmHf"
      },
      "execution_count": null,
      "outputs": [
        {
          "output_type": "stream",
          "name": "stdout",
          "text": [
            "47/47 [==============================] - 0s 1ms/step - loss: 0.4243 - sparse_categorical_accuracy: 0.8141\n"
          ]
        },
        {
          "output_type": "execute_result",
          "data": {
            "text/plain": [
              "0.8141413927078247"
            ]
          },
          "metadata": {},
          "execution_count": 100
        }
      ]
    },
    {
      "cell_type": "markdown",
      "source": [
        "penalty = 0.0005 Dropout = 0.7"
      ],
      "metadata": {
        "id": "YSTc-BZlA5LE"
      }
    },
    {
      "cell_type": "code",
      "source": [
        "model = Sequential([\n",
        "                    Dense(32, activation = 'relu', input_shape = (15,),kernel_regularizer = tf.keras.regularizers.l2(0.0005)),\n",
        "                    Dropout(0.7),\n",
        "                    Dense(10, activation = 'softmax',kernel_regularizer = tf.keras.regularizers.l2(0.001))])"
      ],
      "metadata": {
        "id": "XcO7fNdXA5LE"
      },
      "execution_count": null,
      "outputs": []
    },
    {
      "cell_type": "code",
      "source": [
        "model.compile(optimizer = tf.keras.optimizers.Adam(learning_rate = 0.003),\n",
        "              loss='sparse_categorical_crossentropy', #Use this loss function when y labels are integers\n",
        "              metrics = [tf.keras.metrics.SparseCategoricalAccuracy()]) #use this accuracy when ylabels are integers"
      ],
      "metadata": {
        "id": "pTSQqq2lA5LF"
      },
      "execution_count": null,
      "outputs": []
    },
    {
      "cell_type": "code",
      "source": [
        "history = model.fit(x_train, y_train, epochs=20,batch_size=64, verbose = 2)"
      ],
      "metadata": {
        "colab": {
          "base_uri": "https://localhost:8080/"
        },
        "outputId": "88b8a1da-3614-490d-cdae-eb7ca1e6c275",
        "id": "30iDjPkAA5LF"
      },
      "execution_count": null,
      "outputs": [
        {
          "output_type": "stream",
          "name": "stdout",
          "text": [
            "Epoch 1/20\n",
            "70/70 - 1s - loss: 83.4936 - sparse_categorical_accuracy: 0.2663 - 783ms/epoch - 11ms/step\n",
            "Epoch 2/20\n",
            "70/70 - 0s - loss: 7.2693 - sparse_categorical_accuracy: 0.5137 - 122ms/epoch - 2ms/step\n",
            "Epoch 3/20\n",
            "70/70 - 0s - loss: 1.6790 - sparse_categorical_accuracy: 0.6091 - 155ms/epoch - 2ms/step\n",
            "Epoch 4/20\n",
            "70/70 - 0s - loss: 1.1263 - sparse_categorical_accuracy: 0.6147 - 139ms/epoch - 2ms/step\n",
            "Epoch 5/20\n",
            "70/70 - 0s - loss: 0.9006 - sparse_categorical_accuracy: 0.6466 - 133ms/epoch - 2ms/step\n",
            "Epoch 6/20\n",
            "70/70 - 0s - loss: 0.9042 - sparse_categorical_accuracy: 0.6551 - 147ms/epoch - 2ms/step\n",
            "Epoch 7/20\n",
            "70/70 - 0s - loss: 0.7483 - sparse_categorical_accuracy: 0.6605 - 161ms/epoch - 2ms/step\n",
            "Epoch 8/20\n",
            "70/70 - 0s - loss: 0.7466 - sparse_categorical_accuracy: 0.6736 - 130ms/epoch - 2ms/step\n",
            "Epoch 9/20\n",
            "70/70 - 0s - loss: 0.7151 - sparse_categorical_accuracy: 0.6715 - 121ms/epoch - 2ms/step\n",
            "Epoch 10/20\n",
            "70/70 - 0s - loss: 0.6748 - sparse_categorical_accuracy: 0.6805 - 148ms/epoch - 2ms/step\n",
            "Epoch 11/20\n",
            "70/70 - 0s - loss: 0.6598 - sparse_categorical_accuracy: 0.6753 - 142ms/epoch - 2ms/step\n",
            "Epoch 12/20\n",
            "70/70 - 0s - loss: 0.6466 - sparse_categorical_accuracy: 0.6848 - 147ms/epoch - 2ms/step\n",
            "Epoch 13/20\n",
            "70/70 - 0s - loss: 0.6283 - sparse_categorical_accuracy: 0.6913 - 124ms/epoch - 2ms/step\n",
            "Epoch 14/20\n",
            "70/70 - 0s - loss: 0.6159 - sparse_categorical_accuracy: 0.6922 - 136ms/epoch - 2ms/step\n",
            "Epoch 15/20\n",
            "70/70 - 0s - loss: 0.6170 - sparse_categorical_accuracy: 0.6998 - 139ms/epoch - 2ms/step\n",
            "Epoch 16/20\n",
            "70/70 - 0s - loss: 0.5952 - sparse_categorical_accuracy: 0.7205 - 163ms/epoch - 2ms/step\n",
            "Epoch 17/20\n",
            "70/70 - 0s - loss: 0.5842 - sparse_categorical_accuracy: 0.7194 - 150ms/epoch - 2ms/step\n",
            "Epoch 18/20\n",
            "70/70 - 0s - loss: 0.5976 - sparse_categorical_accuracy: 0.7191 - 139ms/epoch - 2ms/step\n",
            "Epoch 19/20\n",
            "70/70 - 0s - loss: 0.5987 - sparse_categorical_accuracy: 0.7084 - 168ms/epoch - 2ms/step\n",
            "Epoch 20/20\n",
            "70/70 - 0s - loss: 0.6013 - sparse_categorical_accuracy: 0.7191 - 142ms/epoch - 2ms/step\n"
          ]
        }
      ]
    },
    {
      "cell_type": "code",
      "source": [
        "valid_loss, valid_accuracy = model.evaluate(x_valid, y_valid)\n",
        "valid_accuracy"
      ],
      "metadata": {
        "colab": {
          "base_uri": "https://localhost:8080/"
        },
        "outputId": "dd86c989-4092-4be9-a664-6ff535ed8165",
        "id": "0POALxyOA5LF"
      },
      "execution_count": null,
      "outputs": [
        {
          "output_type": "stream",
          "name": "stdout",
          "text": [
            "47/47 [==============================] - 0s 1ms/step - loss: 0.4542 - sparse_categorical_accuracy: 0.8229\n"
          ]
        },
        {
          "output_type": "execute_result",
          "data": {
            "text/plain": [
              "0.8228956460952759"
            ]
          },
          "metadata": {},
          "execution_count": 108
        }
      ]
    },
    {
      "cell_type": "markdown",
      "source": [
        "#Standard Batch Normalization"
      ],
      "metadata": {
        "id": "SXqTG2gTB6xA"
      }
    },
    {
      "cell_type": "code",
      "source": [
        "from tensorflow.keras.layers import Dense, BatchNormalization, Dropout"
      ],
      "metadata": {
        "id": "WhEq8ylXB-e9"
      },
      "execution_count": 117,
      "outputs": []
    },
    {
      "cell_type": "code",
      "source": [
        "model = Sequential([\n",
        "    Dense(64, input_shape=[x_train.shape[1],], activation=\"relu\"),\n",
        "    BatchNormalization(),  # <- Batch normalization layer 1\n",
        "    Dropout(0.5),\n",
        "    Dense(256, activation='relu'),\n",
        "    BatchNormalization(),  # <- Batch normalization layer 2\n",
        "    Dense(1)\n",
        "])"
      ],
      "metadata": {
        "id": "U-VFBVSwCAoi"
      },
      "execution_count": null,
      "outputs": []
    },
    {
      "cell_type": "code",
      "source": [
        "model.compile(optimizer='adam',\n",
        "              loss='mse',\n",
        "              metrics=['accuracy'])"
      ],
      "metadata": {
        "id": "pRl-AZLkCDNf"
      },
      "execution_count": null,
      "outputs": []
    },
    {
      "cell_type": "code",
      "source": [
        "# Train the model\n",
        "\n",
        "history = model.fit(x_train, y_train, epochs=100, batch_size=64,verbose=2)"
      ],
      "metadata": {
        "colab": {
          "base_uri": "https://localhost:8080/"
        },
        "id": "WBfFILs2CHF9",
        "outputId": "384898dd-1001-4baa-8d4b-acbb1f27c338"
      },
      "execution_count": null,
      "outputs": [
        {
          "output_type": "stream",
          "name": "stdout",
          "text": [
            "Epoch 1/100\n",
            "70/70 - 2s - loss: 0.1387 - accuracy: 0.8096 - 2s/epoch - 22ms/step\n",
            "Epoch 2/100\n",
            "70/70 - 0s - loss: 0.1367 - accuracy: 0.8101 - 208ms/epoch - 3ms/step\n",
            "Epoch 3/100\n",
            "70/70 - 0s - loss: 0.1376 - accuracy: 0.8125 - 242ms/epoch - 3ms/step\n",
            "Epoch 4/100\n",
            "70/70 - 0s - loss: 0.1396 - accuracy: 0.8071 - 217ms/epoch - 3ms/step\n",
            "Epoch 5/100\n",
            "70/70 - 0s - loss: 0.1378 - accuracy: 0.8134 - 241ms/epoch - 3ms/step\n",
            "Epoch 6/100\n",
            "70/70 - 0s - loss: 0.1365 - accuracy: 0.8116 - 209ms/epoch - 3ms/step\n",
            "Epoch 7/100\n",
            "70/70 - 0s - loss: 0.1384 - accuracy: 0.8094 - 202ms/epoch - 3ms/step\n",
            "Epoch 8/100\n",
            "70/70 - 0s - loss: 0.1383 - accuracy: 0.8143 - 225ms/epoch - 3ms/step\n",
            "Epoch 9/100\n",
            "70/70 - 0s - loss: 0.1396 - accuracy: 0.8112 - 213ms/epoch - 3ms/step\n",
            "Epoch 10/100\n",
            "70/70 - 0s - loss: 0.1377 - accuracy: 0.8139 - 226ms/epoch - 3ms/step\n",
            "Epoch 11/100\n",
            "70/70 - 0s - loss: 0.1367 - accuracy: 0.8112 - 168ms/epoch - 2ms/step\n",
            "Epoch 12/100\n",
            "70/70 - 0s - loss: 0.1386 - accuracy: 0.8094 - 210ms/epoch - 3ms/step\n",
            "Epoch 13/100\n",
            "70/70 - 0s - loss: 0.1365 - accuracy: 0.8154 - 227ms/epoch - 3ms/step\n",
            "Epoch 14/100\n",
            "70/70 - 0s - loss: 0.1370 - accuracy: 0.8163 - 226ms/epoch - 3ms/step\n",
            "Epoch 15/100\n",
            "70/70 - 0s - loss: 0.1376 - accuracy: 0.8101 - 227ms/epoch - 3ms/step\n",
            "Epoch 16/100\n",
            "70/70 - 0s - loss: 0.1363 - accuracy: 0.8089 - 219ms/epoch - 3ms/step\n",
            "Epoch 17/100\n",
            "70/70 - 0s - loss: 0.1358 - accuracy: 0.8154 - 215ms/epoch - 3ms/step\n",
            "Epoch 18/100\n",
            "70/70 - 0s - loss: 0.1373 - accuracy: 0.8157 - 217ms/epoch - 3ms/step\n",
            "Epoch 19/100\n",
            "70/70 - 0s - loss: 0.1377 - accuracy: 0.8161 - 233ms/epoch - 3ms/step\n",
            "Epoch 20/100\n",
            "70/70 - 0s - loss: 0.1348 - accuracy: 0.8096 - 211ms/epoch - 3ms/step\n",
            "Epoch 21/100\n",
            "70/70 - 0s - loss: 0.1371 - accuracy: 0.8092 - 323ms/epoch - 5ms/step\n",
            "Epoch 22/100\n",
            "70/70 - 0s - loss: 0.1373 - accuracy: 0.8143 - 410ms/epoch - 6ms/step\n",
            "Epoch 23/100\n",
            "70/70 - 0s - loss: 0.1377 - accuracy: 0.8101 - 347ms/epoch - 5ms/step\n",
            "Epoch 24/100\n",
            "70/70 - 0s - loss: 0.1375 - accuracy: 0.8098 - 280ms/epoch - 4ms/step\n",
            "Epoch 25/100\n",
            "70/70 - 0s - loss: 0.1371 - accuracy: 0.8101 - 286ms/epoch - 4ms/step\n",
            "Epoch 26/100\n",
            "70/70 - 0s - loss: 0.1363 - accuracy: 0.8195 - 270ms/epoch - 4ms/step\n",
            "Epoch 27/100\n",
            "70/70 - 0s - loss: 0.1338 - accuracy: 0.8168 - 207ms/epoch - 3ms/step\n",
            "Epoch 28/100\n",
            "70/70 - 0s - loss: 0.1370 - accuracy: 0.8128 - 205ms/epoch - 3ms/step\n",
            "Epoch 29/100\n",
            "70/70 - 0s - loss: 0.1371 - accuracy: 0.8132 - 208ms/epoch - 3ms/step\n",
            "Epoch 30/100\n",
            "70/70 - 0s - loss: 0.1374 - accuracy: 0.8110 - 210ms/epoch - 3ms/step\n",
            "Epoch 31/100\n",
            "70/70 - 0s - loss: 0.1343 - accuracy: 0.8130 - 202ms/epoch - 3ms/step\n",
            "Epoch 32/100\n",
            "70/70 - 0s - loss: 0.1374 - accuracy: 0.8067 - 205ms/epoch - 3ms/step\n",
            "Epoch 33/100\n",
            "70/70 - 0s - loss: 0.1349 - accuracy: 0.8184 - 206ms/epoch - 3ms/step\n",
            "Epoch 34/100\n",
            "70/70 - 0s - loss: 0.1353 - accuracy: 0.8134 - 210ms/epoch - 3ms/step\n",
            "Epoch 35/100\n",
            "70/70 - 0s - loss: 0.1359 - accuracy: 0.8107 - 202ms/epoch - 3ms/step\n",
            "Epoch 36/100\n",
            "70/70 - 0s - loss: 0.1382 - accuracy: 0.8058 - 201ms/epoch - 3ms/step\n",
            "Epoch 37/100\n",
            "70/70 - 0s - loss: 0.1381 - accuracy: 0.8062 - 205ms/epoch - 3ms/step\n",
            "Epoch 38/100\n",
            "70/70 - 0s - loss: 0.1356 - accuracy: 0.8148 - 197ms/epoch - 3ms/step\n",
            "Epoch 39/100\n",
            "70/70 - 0s - loss: 0.1355 - accuracy: 0.8121 - 144ms/epoch - 2ms/step\n",
            "Epoch 40/100\n",
            "70/70 - 0s - loss: 0.1367 - accuracy: 0.8121 - 141ms/epoch - 2ms/step\n",
            "Epoch 41/100\n",
            "70/70 - 0s - loss: 0.1349 - accuracy: 0.8137 - 144ms/epoch - 2ms/step\n",
            "Epoch 42/100\n",
            "70/70 - 0s - loss: 0.1365 - accuracy: 0.8089 - 142ms/epoch - 2ms/step\n",
            "Epoch 43/100\n",
            "70/70 - 0s - loss: 0.1383 - accuracy: 0.8083 - 137ms/epoch - 2ms/step\n",
            "Epoch 44/100\n",
            "70/70 - 0s - loss: 0.1357 - accuracy: 0.8148 - 137ms/epoch - 2ms/step\n",
            "Epoch 45/100\n",
            "70/70 - 0s - loss: 0.1359 - accuracy: 0.8139 - 137ms/epoch - 2ms/step\n",
            "Epoch 46/100\n",
            "70/70 - 0s - loss: 0.1352 - accuracy: 0.8161 - 144ms/epoch - 2ms/step\n",
            "Epoch 47/100\n",
            "70/70 - 0s - loss: 0.1377 - accuracy: 0.8094 - 159ms/epoch - 2ms/step\n",
            "Epoch 48/100\n",
            "70/70 - 0s - loss: 0.1369 - accuracy: 0.8085 - 168ms/epoch - 2ms/step\n",
            "Epoch 49/100\n",
            "70/70 - 0s - loss: 0.1360 - accuracy: 0.8134 - 153ms/epoch - 2ms/step\n",
            "Epoch 50/100\n",
            "70/70 - 0s - loss: 0.1353 - accuracy: 0.8154 - 154ms/epoch - 2ms/step\n",
            "Epoch 51/100\n",
            "70/70 - 0s - loss: 0.1385 - accuracy: 0.8065 - 139ms/epoch - 2ms/step\n",
            "Epoch 52/100\n",
            "70/70 - 0s - loss: 0.1377 - accuracy: 0.8121 - 147ms/epoch - 2ms/step\n",
            "Epoch 53/100\n",
            "70/70 - 0s - loss: 0.1343 - accuracy: 0.8163 - 158ms/epoch - 2ms/step\n",
            "Epoch 54/100\n",
            "70/70 - 0s - loss: 0.1372 - accuracy: 0.8143 - 162ms/epoch - 2ms/step\n",
            "Epoch 55/100\n",
            "70/70 - 0s - loss: 0.1352 - accuracy: 0.8157 - 160ms/epoch - 2ms/step\n",
            "Epoch 56/100\n",
            "70/70 - 0s - loss: 0.1349 - accuracy: 0.8154 - 158ms/epoch - 2ms/step\n",
            "Epoch 57/100\n",
            "70/70 - 0s - loss: 0.1349 - accuracy: 0.8145 - 144ms/epoch - 2ms/step\n",
            "Epoch 58/100\n",
            "70/70 - 0s - loss: 0.1330 - accuracy: 0.8161 - 148ms/epoch - 2ms/step\n",
            "Epoch 59/100\n",
            "70/70 - 0s - loss: 0.1359 - accuracy: 0.8145 - 144ms/epoch - 2ms/step\n",
            "Epoch 60/100\n",
            "70/70 - 0s - loss: 0.1362 - accuracy: 0.8112 - 137ms/epoch - 2ms/step\n",
            "Epoch 61/100\n",
            "70/70 - 0s - loss: 0.1349 - accuracy: 0.8143 - 145ms/epoch - 2ms/step\n",
            "Epoch 62/100\n",
            "70/70 - 0s - loss: 0.1357 - accuracy: 0.8195 - 134ms/epoch - 2ms/step\n",
            "Epoch 63/100\n",
            "70/70 - 0s - loss: 0.1381 - accuracy: 0.8103 - 132ms/epoch - 2ms/step\n",
            "Epoch 64/100\n",
            "70/70 - 0s - loss: 0.1349 - accuracy: 0.8184 - 144ms/epoch - 2ms/step\n",
            "Epoch 65/100\n",
            "70/70 - 0s - loss: 0.1346 - accuracy: 0.8166 - 153ms/epoch - 2ms/step\n",
            "Epoch 66/100\n",
            "70/70 - 0s - loss: 0.1355 - accuracy: 0.8179 - 139ms/epoch - 2ms/step\n",
            "Epoch 67/100\n",
            "70/70 - 0s - loss: 0.1352 - accuracy: 0.8114 - 140ms/epoch - 2ms/step\n",
            "Epoch 68/100\n",
            "70/70 - 0s - loss: 0.1336 - accuracy: 0.8208 - 150ms/epoch - 2ms/step\n",
            "Epoch 69/100\n",
            "70/70 - 0s - loss: 0.1332 - accuracy: 0.8161 - 137ms/epoch - 2ms/step\n",
            "Epoch 70/100\n",
            "70/70 - 0s - loss: 0.1352 - accuracy: 0.8154 - 129ms/epoch - 2ms/step\n",
            "Epoch 71/100\n",
            "70/70 - 0s - loss: 0.1351 - accuracy: 0.8071 - 134ms/epoch - 2ms/step\n",
            "Epoch 72/100\n",
            "70/70 - 0s - loss: 0.1345 - accuracy: 0.8166 - 158ms/epoch - 2ms/step\n",
            "Epoch 73/100\n",
            "70/70 - 0s - loss: 0.1333 - accuracy: 0.8190 - 146ms/epoch - 2ms/step\n",
            "Epoch 74/100\n",
            "70/70 - 0s - loss: 0.1359 - accuracy: 0.8148 - 137ms/epoch - 2ms/step\n",
            "Epoch 75/100\n",
            "70/70 - 0s - loss: 0.1336 - accuracy: 0.8141 - 147ms/epoch - 2ms/step\n",
            "Epoch 76/100\n",
            "70/70 - 0s - loss: 0.1351 - accuracy: 0.8163 - 138ms/epoch - 2ms/step\n",
            "Epoch 77/100\n",
            "70/70 - 0s - loss: 0.1348 - accuracy: 0.8172 - 144ms/epoch - 2ms/step\n",
            "Epoch 78/100\n",
            "70/70 - 0s - loss: 0.1359 - accuracy: 0.8143 - 139ms/epoch - 2ms/step\n",
            "Epoch 79/100\n",
            "70/70 - 0s - loss: 0.1339 - accuracy: 0.8125 - 143ms/epoch - 2ms/step\n",
            "Epoch 80/100\n",
            "70/70 - 0s - loss: 0.1357 - accuracy: 0.8150 - 146ms/epoch - 2ms/step\n",
            "Epoch 81/100\n",
            "70/70 - 0s - loss: 0.1353 - accuracy: 0.8134 - 144ms/epoch - 2ms/step\n",
            "Epoch 82/100\n",
            "70/70 - 0s - loss: 0.1351 - accuracy: 0.8123 - 150ms/epoch - 2ms/step\n",
            "Epoch 83/100\n",
            "70/70 - 0s - loss: 0.1328 - accuracy: 0.8199 - 138ms/epoch - 2ms/step\n",
            "Epoch 84/100\n",
            "70/70 - 0s - loss: 0.1353 - accuracy: 0.8168 - 143ms/epoch - 2ms/step\n",
            "Epoch 85/100\n",
            "70/70 - 0s - loss: 0.1351 - accuracy: 0.8154 - 138ms/epoch - 2ms/step\n",
            "Epoch 86/100\n",
            "70/70 - 0s - loss: 0.1332 - accuracy: 0.8181 - 143ms/epoch - 2ms/step\n",
            "Epoch 87/100\n",
            "70/70 - 0s - loss: 0.1366 - accuracy: 0.8094 - 143ms/epoch - 2ms/step\n",
            "Epoch 88/100\n",
            "70/70 - 0s - loss: 0.1379 - accuracy: 0.8080 - 138ms/epoch - 2ms/step\n",
            "Epoch 89/100\n",
            "70/70 - 0s - loss: 0.1370 - accuracy: 0.8087 - 146ms/epoch - 2ms/step\n",
            "Epoch 90/100\n",
            "70/70 - 0s - loss: 0.1370 - accuracy: 0.8105 - 138ms/epoch - 2ms/step\n",
            "Epoch 91/100\n",
            "70/70 - 0s - loss: 0.1356 - accuracy: 0.8130 - 144ms/epoch - 2ms/step\n",
            "Epoch 92/100\n",
            "70/70 - 0s - loss: 0.1349 - accuracy: 0.8154 - 134ms/epoch - 2ms/step\n",
            "Epoch 93/100\n",
            "70/70 - 0s - loss: 0.1340 - accuracy: 0.8121 - 136ms/epoch - 2ms/step\n",
            "Epoch 94/100\n",
            "70/70 - 0s - loss: 0.1375 - accuracy: 0.8152 - 136ms/epoch - 2ms/step\n",
            "Epoch 95/100\n",
            "70/70 - 0s - loss: 0.1360 - accuracy: 0.8125 - 138ms/epoch - 2ms/step\n",
            "Epoch 96/100\n",
            "70/70 - 0s - loss: 0.1342 - accuracy: 0.8119 - 151ms/epoch - 2ms/step\n",
            "Epoch 97/100\n",
            "70/70 - 0s - loss: 0.1349 - accuracy: 0.8134 - 139ms/epoch - 2ms/step\n",
            "Epoch 98/100\n",
            "70/70 - 0s - loss: 0.1347 - accuracy: 0.8103 - 151ms/epoch - 2ms/step\n",
            "Epoch 99/100\n",
            "70/70 - 0s - loss: 0.1357 - accuracy: 0.8145 - 152ms/epoch - 2ms/step\n",
            "Epoch 100/100\n",
            "70/70 - 0s - loss: 0.1340 - accuracy: 0.8161 - 140ms/epoch - 2ms/step\n"
          ]
        }
      ]
    },
    {
      "cell_type": "code",
      "source": [
        "valid_loss, valid_accuracy = model.evaluate(x_valid, y_valid)\n",
        "valid_accuracy"
      ],
      "metadata": {
        "colab": {
          "base_uri": "https://localhost:8080/"
        },
        "id": "BWi8MYrkCVRd",
        "outputId": "27ea0cac-a3cf-45f0-a6b3-9d1f40bbf2cf"
      },
      "execution_count": null,
      "outputs": [
        {
          "output_type": "stream",
          "name": "stdout",
          "text": [
            "47/47 [==============================] - 0s 1ms/step - loss: 0.1180 - accuracy: 0.8377\n"
          ]
        },
        {
          "output_type": "execute_result",
          "data": {
            "text/plain": [
              "0.837710440158844"
            ]
          },
          "metadata": {},
          "execution_count": 123
        }
      ]
    },
    {
      "cell_type": "markdown",
      "source": [
        "Batch Normalization custom model 1"
      ],
      "metadata": {
        "id": "zMCaijHeDYDF"
      }
    },
    {
      "cell_type": "code",
      "source": [
        "model = Sequential([\n",
        "    Dense(64, input_shape=[x_train.shape[1],], activation=\"relu\"),\n",
        "    BatchNormalization(),  # <- Batch normalization layer 1\n",
        "    Dropout(0.5),\n",
        "    Dense(256, activation='relu'),\n",
        "])"
      ],
      "metadata": {
        "id": "GNSBD6wb3j9-"
      },
      "execution_count": null,
      "outputs": []
    },
    {
      "cell_type": "code",
      "source": [
        "# Add a customised batch normalization layer 2\n",
        "\n",
        "model.add(tf.keras.layers.BatchNormalization(\n",
        "    momentum=0.95, # default is 0.99\n",
        "    epsilon=0.005, #default is 0.001\n",
        "    axis = -1, #default is -1\n",
        "    beta_initializer=tf.keras.initializers.RandomNormal(mean=0.0, stddev=0.05), # default is beta_initializer='zeros'\n",
        "    gamma_initializer=tf.keras.initializers.Constant(value=0.9) # default is gamma_initializer='ones'\n",
        "))"
      ],
      "metadata": {
        "id": "wVj2HiYO4IE-"
      },
      "execution_count": null,
      "outputs": []
    },
    {
      "cell_type": "code",
      "source": [
        "# Add the output layer\n",
        "\n",
        "model.add(Dense(1))"
      ],
      "metadata": {
        "id": "YKX6BCPR4KkE"
      },
      "execution_count": null,
      "outputs": []
    },
    {
      "cell_type": "code",
      "source": [
        "# Compile the model\n",
        "\n",
        "model.compile(optimizer='adam',\n",
        "              loss='mse',\n",
        "              metrics=['accuracy'])"
      ],
      "metadata": {
        "id": "GduPmdXD4Nvk"
      },
      "execution_count": null,
      "outputs": []
    },
    {
      "cell_type": "code",
      "source": [
        "# Train the model\n",
        "\n",
        "history = model.fit(x_train, y_train, epochs=100, batch_size=64,verbose=2)"
      ],
      "metadata": {
        "colab": {
          "base_uri": "https://localhost:8080/"
        },
        "id": "vSD2o3Tc4P6i",
        "outputId": "d6a8a1e7-d2f8-4a7c-ab9b-c6fd5c6a79a1"
      },
      "execution_count": null,
      "outputs": [
        {
          "output_type": "stream",
          "name": "stdout",
          "text": [
            "Epoch 1/100\n",
            "70/70 - 2s - loss: 0.5242 - accuracy: 0.6071 - 2s/epoch - 22ms/step\n",
            "Epoch 2/100\n",
            "70/70 - 0s - loss: 0.2938 - accuracy: 0.6504 - 207ms/epoch - 3ms/step\n",
            "Epoch 3/100\n",
            "70/70 - 0s - loss: 0.2508 - accuracy: 0.6810 - 229ms/epoch - 3ms/step\n",
            "Epoch 4/100\n",
            "70/70 - 0s - loss: 0.2263 - accuracy: 0.7036 - 205ms/epoch - 3ms/step\n",
            "Epoch 5/100\n",
            "70/70 - 0s - loss: 0.2066 - accuracy: 0.7272 - 242ms/epoch - 3ms/step\n",
            "Epoch 6/100\n",
            "70/70 - 0s - loss: 0.1970 - accuracy: 0.7339 - 222ms/epoch - 3ms/step\n",
            "Epoch 7/100\n",
            "70/70 - 0s - loss: 0.1898 - accuracy: 0.7441 - 208ms/epoch - 3ms/step\n",
            "Epoch 8/100\n",
            "70/70 - 0s - loss: 0.1894 - accuracy: 0.7499 - 209ms/epoch - 3ms/step\n",
            "Epoch 9/100\n",
            "70/70 - 0s - loss: 0.1823 - accuracy: 0.7510 - 218ms/epoch - 3ms/step\n",
            "Epoch 10/100\n",
            "70/70 - 0s - loss: 0.1781 - accuracy: 0.7678 - 199ms/epoch - 3ms/step\n",
            "Epoch 11/100\n",
            "70/70 - 0s - loss: 0.1707 - accuracy: 0.7710 - 205ms/epoch - 3ms/step\n",
            "Epoch 12/100\n",
            "70/70 - 0s - loss: 0.1706 - accuracy: 0.7694 - 190ms/epoch - 3ms/step\n",
            "Epoch 13/100\n",
            "70/70 - 0s - loss: 0.1678 - accuracy: 0.7766 - 226ms/epoch - 3ms/step\n",
            "Epoch 14/100\n",
            "70/70 - 0s - loss: 0.1651 - accuracy: 0.7755 - 228ms/epoch - 3ms/step\n",
            "Epoch 15/100\n",
            "70/70 - 0s - loss: 0.1661 - accuracy: 0.7759 - 224ms/epoch - 3ms/step\n",
            "Epoch 16/100\n",
            "70/70 - 0s - loss: 0.1658 - accuracy: 0.7762 - 240ms/epoch - 3ms/step\n",
            "Epoch 17/100\n",
            "70/70 - 0s - loss: 0.1655 - accuracy: 0.7797 - 230ms/epoch - 3ms/step\n",
            "Epoch 18/100\n",
            "70/70 - 0s - loss: 0.1592 - accuracy: 0.7860 - 225ms/epoch - 3ms/step\n",
            "Epoch 19/100\n",
            "70/70 - 0s - loss: 0.1645 - accuracy: 0.7809 - 224ms/epoch - 3ms/step\n",
            "Epoch 20/100\n",
            "70/70 - 0s - loss: 0.1591 - accuracy: 0.7952 - 196ms/epoch - 3ms/step\n",
            "Epoch 21/100\n",
            "70/70 - 0s - loss: 0.1612 - accuracy: 0.7842 - 141ms/epoch - 2ms/step\n",
            "Epoch 22/100\n",
            "70/70 - 0s - loss: 0.1605 - accuracy: 0.7905 - 135ms/epoch - 2ms/step\n",
            "Epoch 23/100\n",
            "70/70 - 0s - loss: 0.1629 - accuracy: 0.7829 - 134ms/epoch - 2ms/step\n",
            "Epoch 24/100\n",
            "70/70 - 0s - loss: 0.1591 - accuracy: 0.7842 - 148ms/epoch - 2ms/step\n",
            "Epoch 25/100\n",
            "70/70 - 0s - loss: 0.1598 - accuracy: 0.7892 - 135ms/epoch - 2ms/step\n",
            "Epoch 26/100\n",
            "70/70 - 0s - loss: 0.1565 - accuracy: 0.7919 - 136ms/epoch - 2ms/step\n",
            "Epoch 27/100\n",
            "70/70 - 0s - loss: 0.1538 - accuracy: 0.7979 - 139ms/epoch - 2ms/step\n",
            "Epoch 28/100\n",
            "70/70 - 0s - loss: 0.1528 - accuracy: 0.7970 - 205ms/epoch - 3ms/step\n",
            "Epoch 29/100\n",
            "70/70 - 0s - loss: 0.1530 - accuracy: 0.7921 - 234ms/epoch - 3ms/step\n",
            "Epoch 30/100\n",
            "70/70 - 0s - loss: 0.1536 - accuracy: 0.7925 - 241ms/epoch - 3ms/step\n",
            "Epoch 31/100\n",
            "70/70 - 0s - loss: 0.1575 - accuracy: 0.7836 - 198ms/epoch - 3ms/step\n",
            "Epoch 32/100\n",
            "70/70 - 0s - loss: 0.1546 - accuracy: 0.7957 - 264ms/epoch - 4ms/step\n",
            "Epoch 33/100\n",
            "70/70 - 0s - loss: 0.1533 - accuracy: 0.7975 - 233ms/epoch - 3ms/step\n",
            "Epoch 34/100\n",
            "70/70 - 0s - loss: 0.1542 - accuracy: 0.7914 - 262ms/epoch - 4ms/step\n",
            "Epoch 35/100\n",
            "70/70 - 0s - loss: 0.1537 - accuracy: 0.7982 - 343ms/epoch - 5ms/step\n",
            "Epoch 36/100\n",
            "70/70 - 0s - loss: 0.1501 - accuracy: 0.7970 - 325ms/epoch - 5ms/step\n",
            "Epoch 37/100\n",
            "70/70 - 0s - loss: 0.1496 - accuracy: 0.7973 - 266ms/epoch - 4ms/step\n",
            "Epoch 38/100\n",
            "70/70 - 0s - loss: 0.1524 - accuracy: 0.7968 - 239ms/epoch - 3ms/step\n",
            "Epoch 39/100\n",
            "70/70 - 0s - loss: 0.1496 - accuracy: 0.7995 - 254ms/epoch - 4ms/step\n",
            "Epoch 40/100\n",
            "70/70 - 0s - loss: 0.1516 - accuracy: 0.7984 - 226ms/epoch - 3ms/step\n",
            "Epoch 41/100\n",
            "70/70 - 0s - loss: 0.1484 - accuracy: 0.7979 - 245ms/epoch - 4ms/step\n",
            "Epoch 42/100\n",
            "70/70 - 0s - loss: 0.1496 - accuracy: 0.7955 - 304ms/epoch - 4ms/step\n",
            "Epoch 43/100\n",
            "70/70 - 0s - loss: 0.1477 - accuracy: 0.8038 - 252ms/epoch - 4ms/step\n",
            "Epoch 44/100\n",
            "70/70 - 0s - loss: 0.1501 - accuracy: 0.8002 - 276ms/epoch - 4ms/step\n",
            "Epoch 45/100\n",
            "70/70 - 0s - loss: 0.1477 - accuracy: 0.7988 - 262ms/epoch - 4ms/step\n",
            "Epoch 46/100\n",
            "70/70 - 0s - loss: 0.1515 - accuracy: 0.7957 - 225ms/epoch - 3ms/step\n",
            "Epoch 47/100\n",
            "70/70 - 0s - loss: 0.1462 - accuracy: 0.8053 - 211ms/epoch - 3ms/step\n",
            "Epoch 48/100\n",
            "70/70 - 0s - loss: 0.1478 - accuracy: 0.8006 - 243ms/epoch - 3ms/step\n",
            "Epoch 49/100\n",
            "70/70 - 0s - loss: 0.1494 - accuracy: 0.7988 - 209ms/epoch - 3ms/step\n",
            "Epoch 50/100\n",
            "70/70 - 0s - loss: 0.1487 - accuracy: 0.7970 - 221ms/epoch - 3ms/step\n",
            "Epoch 51/100\n",
            "70/70 - 0s - loss: 0.1458 - accuracy: 0.8022 - 210ms/epoch - 3ms/step\n",
            "Epoch 52/100\n",
            "70/70 - 0s - loss: 0.1462 - accuracy: 0.8083 - 230ms/epoch - 3ms/step\n",
            "Epoch 53/100\n",
            "70/70 - 0s - loss: 0.1464 - accuracy: 0.8080 - 234ms/epoch - 3ms/step\n",
            "Epoch 54/100\n",
            "70/70 - 0s - loss: 0.1480 - accuracy: 0.8060 - 225ms/epoch - 3ms/step\n",
            "Epoch 55/100\n",
            "70/70 - 0s - loss: 0.1465 - accuracy: 0.7997 - 211ms/epoch - 3ms/step\n",
            "Epoch 56/100\n",
            "70/70 - 0s - loss: 0.1442 - accuracy: 0.8033 - 231ms/epoch - 3ms/step\n",
            "Epoch 57/100\n",
            "70/70 - 0s - loss: 0.1433 - accuracy: 0.8035 - 221ms/epoch - 3ms/step\n",
            "Epoch 58/100\n",
            "70/70 - 0s - loss: 0.1448 - accuracy: 0.8083 - 211ms/epoch - 3ms/step\n",
            "Epoch 59/100\n",
            "70/70 - 0s - loss: 0.1469 - accuracy: 0.8085 - 211ms/epoch - 3ms/step\n",
            "Epoch 60/100\n",
            "70/70 - 0s - loss: 0.1453 - accuracy: 0.8042 - 259ms/epoch - 4ms/step\n",
            "Epoch 61/100\n",
            "70/70 - 0s - loss: 0.1439 - accuracy: 0.8087 - 207ms/epoch - 3ms/step\n",
            "Epoch 62/100\n",
            "70/70 - 0s - loss: 0.1431 - accuracy: 0.8044 - 213ms/epoch - 3ms/step\n",
            "Epoch 63/100\n",
            "70/70 - 0s - loss: 0.1436 - accuracy: 0.8080 - 219ms/epoch - 3ms/step\n",
            "Epoch 64/100\n",
            "70/70 - 0s - loss: 0.1420 - accuracy: 0.8096 - 277ms/epoch - 4ms/step\n",
            "Epoch 65/100\n",
            "70/70 - 0s - loss: 0.1459 - accuracy: 0.8074 - 371ms/epoch - 5ms/step\n",
            "Epoch 66/100\n",
            "70/70 - 0s - loss: 0.1469 - accuracy: 0.8035 - 442ms/epoch - 6ms/step\n",
            "Epoch 67/100\n",
            "70/70 - 0s - loss: 0.1434 - accuracy: 0.8053 - 429ms/epoch - 6ms/step\n",
            "Epoch 68/100\n",
            "70/70 - 0s - loss: 0.1452 - accuracy: 0.8047 - 232ms/epoch - 3ms/step\n",
            "Epoch 69/100\n",
            "70/70 - 0s - loss: 0.1413 - accuracy: 0.8114 - 219ms/epoch - 3ms/step\n",
            "Epoch 70/100\n",
            "70/70 - 0s - loss: 0.1396 - accuracy: 0.8101 - 190ms/epoch - 3ms/step\n",
            "Epoch 71/100\n",
            "70/70 - 0s - loss: 0.1420 - accuracy: 0.8051 - 213ms/epoch - 3ms/step\n",
            "Epoch 72/100\n",
            "70/70 - 0s - loss: 0.1455 - accuracy: 0.8029 - 216ms/epoch - 3ms/step\n",
            "Epoch 73/100\n",
            "70/70 - 0s - loss: 0.1458 - accuracy: 0.8033 - 221ms/epoch - 3ms/step\n",
            "Epoch 74/100\n",
            "70/70 - 0s - loss: 0.1433 - accuracy: 0.8042 - 227ms/epoch - 3ms/step\n",
            "Epoch 75/100\n",
            "70/70 - 0s - loss: 0.1430 - accuracy: 0.8060 - 220ms/epoch - 3ms/step\n",
            "Epoch 76/100\n",
            "70/70 - 0s - loss: 0.1439 - accuracy: 0.8069 - 213ms/epoch - 3ms/step\n",
            "Epoch 77/100\n",
            "70/70 - 0s - loss: 0.1414 - accuracy: 0.8040 - 218ms/epoch - 3ms/step\n",
            "Epoch 78/100\n",
            "70/70 - 0s - loss: 0.1422 - accuracy: 0.8035 - 198ms/epoch - 3ms/step\n",
            "Epoch 79/100\n",
            "70/70 - 0s - loss: 0.1422 - accuracy: 0.8065 - 214ms/epoch - 3ms/step\n",
            "Epoch 80/100\n",
            "70/70 - 0s - loss: 0.1415 - accuracy: 0.8087 - 219ms/epoch - 3ms/step\n",
            "Epoch 81/100\n",
            "70/70 - 0s - loss: 0.1443 - accuracy: 0.8065 - 214ms/epoch - 3ms/step\n",
            "Epoch 82/100\n",
            "70/70 - 0s - loss: 0.1416 - accuracy: 0.8040 - 275ms/epoch - 4ms/step\n",
            "Epoch 83/100\n",
            "70/70 - 0s - loss: 0.1402 - accuracy: 0.8098 - 241ms/epoch - 3ms/step\n",
            "Epoch 84/100\n",
            "70/70 - 0s - loss: 0.1423 - accuracy: 0.8089 - 247ms/epoch - 4ms/step\n",
            "Epoch 85/100\n",
            "70/70 - 0s - loss: 0.1419 - accuracy: 0.8098 - 239ms/epoch - 3ms/step\n",
            "Epoch 86/100\n",
            "70/70 - 0s - loss: 0.1432 - accuracy: 0.8094 - 263ms/epoch - 4ms/step\n",
            "Epoch 87/100\n",
            "70/70 - 0s - loss: 0.1397 - accuracy: 0.8159 - 382ms/epoch - 5ms/step\n",
            "Epoch 88/100\n",
            "70/70 - 0s - loss: 0.1425 - accuracy: 0.8074 - 324ms/epoch - 5ms/step\n",
            "Epoch 89/100\n",
            "70/70 - 0s - loss: 0.1439 - accuracy: 0.8020 - 254ms/epoch - 4ms/step\n",
            "Epoch 90/100\n",
            "70/70 - 0s - loss: 0.1440 - accuracy: 0.8009 - 294ms/epoch - 4ms/step\n",
            "Epoch 91/100\n",
            "70/70 - 0s - loss: 0.1405 - accuracy: 0.8069 - 240ms/epoch - 3ms/step\n",
            "Epoch 92/100\n",
            "70/70 - 0s - loss: 0.1406 - accuracy: 0.8013 - 226ms/epoch - 3ms/step\n",
            "Epoch 93/100\n",
            "70/70 - 0s - loss: 0.1423 - accuracy: 0.8062 - 233ms/epoch - 3ms/step\n",
            "Epoch 94/100\n",
            "70/70 - 0s - loss: 0.1423 - accuracy: 0.8031 - 252ms/epoch - 4ms/step\n",
            "Epoch 95/100\n",
            "70/70 - 0s - loss: 0.1428 - accuracy: 0.8076 - 231ms/epoch - 3ms/step\n",
            "Epoch 96/100\n",
            "70/70 - 0s - loss: 0.1433 - accuracy: 0.8033 - 310ms/epoch - 4ms/step\n",
            "Epoch 97/100\n",
            "70/70 - 0s - loss: 0.1398 - accuracy: 0.8085 - 247ms/epoch - 4ms/step\n",
            "Epoch 98/100\n",
            "70/70 - 0s - loss: 0.1395 - accuracy: 0.8123 - 276ms/epoch - 4ms/step\n",
            "Epoch 99/100\n",
            "70/70 - 0s - loss: 0.1392 - accuracy: 0.8053 - 281ms/epoch - 4ms/step\n",
            "Epoch 100/100\n",
            "70/70 - 0s - loss: 0.1402 - accuracy: 0.8128 - 272ms/epoch - 4ms/step\n"
          ]
        }
      ]
    },
    {
      "cell_type": "code",
      "source": [
        "valid_loss, valid_accuracy = model.evaluate(x_valid, y_valid)\n",
        "valid_accuracy"
      ],
      "metadata": {
        "colab": {
          "base_uri": "https://localhost:8080/"
        },
        "id": "CBxSxj7WDdpd",
        "outputId": "1321594a-ca32-49af-8424-307a32d72f8d"
      },
      "execution_count": null,
      "outputs": [
        {
          "output_type": "stream",
          "name": "stdout",
          "text": [
            "47/47 [==============================] - 0s 1ms/step - loss: 0.1190 - accuracy: 0.8370\n"
          ]
        },
        {
          "output_type": "execute_result",
          "data": {
            "text/plain": [
              "0.8370370268821716"
            ]
          },
          "metadata": {},
          "execution_count": 130
        }
      ]
    },
    {
      "cell_type": "markdown",
      "source": [
        "Batch Normalization custom model 2"
      ],
      "metadata": {
        "id": "Kh5kwiff5T4v"
      }
    },
    {
      "cell_type": "code",
      "source": [
        "model = Sequential([\n",
        "    Dense(64, input_shape=[x_train.shape[1],], activation=\"relu\"),\n",
        "    BatchNormalization(),  # <- Batch normalization layer 1\n",
        "    Dropout(0.5),\n",
        "    Dense(256, activation='relu'),\n",
        "])"
      ],
      "metadata": {
        "id": "qHerBahD5T4v"
      },
      "execution_count": null,
      "outputs": []
    },
    {
      "cell_type": "code",
      "source": [
        "# Add a customised batch normalization layer 2\n",
        "\n",
        "model.add(tf.keras.layers.BatchNormalization(\n",
        "    momentum=0.90, # default is 0.99\n",
        "    epsilon=0.003, #default is 0.001\n",
        "    axis = -1, #default is -1\n",
        "    beta_initializer=tf.keras.initializers.RandomNormal(mean=0.0, stddev=0.07), # default is beta_initializer='zeros'\n",
        "    gamma_initializer=tf.keras.initializers.Constant(value=0.7) # default is gamma_initializer='ones'\n",
        "))"
      ],
      "metadata": {
        "id": "bA7HwUxg5T4w"
      },
      "execution_count": null,
      "outputs": []
    },
    {
      "cell_type": "code",
      "source": [
        "# Add the output layer\n",
        "\n",
        "model.add(Dense(1))"
      ],
      "metadata": {
        "id": "9BNO2MtZ5T4w"
      },
      "execution_count": null,
      "outputs": []
    },
    {
      "cell_type": "code",
      "source": [
        "# Compile the model\n",
        "\n",
        "model.compile(optimizer='adam',\n",
        "              loss='mse',\n",
        "              metrics=['accuracy'])"
      ],
      "metadata": {
        "id": "Gcv2eNh05T4w"
      },
      "execution_count": null,
      "outputs": []
    },
    {
      "cell_type": "code",
      "source": [
        "# Train the model\n",
        "\n",
        "history = model.fit(x_train, y_train, epochs=100, validation_split=0.15, batch_size=64,verbose=2)"
      ],
      "metadata": {
        "colab": {
          "base_uri": "https://localhost:8080/"
        },
        "outputId": "4511bba5-bbcf-4982-d14d-984838d5ead0",
        "id": "r6u-Clbg5T4w"
      },
      "execution_count": null,
      "outputs": [
        {
          "output_type": "stream",
          "name": "stdout",
          "text": [
            "Epoch 1/100\n",
            "60/60 - 2s - loss: 0.4523 - accuracy: 0.6283 - val_loss: 0.5121 - val_accuracy: 0.6323 - 2s/epoch - 30ms/step\n",
            "Epoch 2/100\n",
            "60/60 - 0s - loss: 0.2606 - accuracy: 0.6719 - val_loss: 0.1867 - val_accuracy: 0.7324 - 244ms/epoch - 4ms/step\n",
            "Epoch 3/100\n",
            "60/60 - 0s - loss: 0.2328 - accuracy: 0.7030 - val_loss: 0.1581 - val_accuracy: 0.7698 - 267ms/epoch - 4ms/step\n",
            "Epoch 4/100\n",
            "60/60 - 0s - loss: 0.2153 - accuracy: 0.7178 - val_loss: 0.1620 - val_accuracy: 0.7728 - 270ms/epoch - 5ms/step\n",
            "Epoch 5/100\n",
            "60/60 - 0s - loss: 0.2090 - accuracy: 0.7247 - val_loss: 0.1622 - val_accuracy: 0.7608 - 246ms/epoch - 4ms/step\n",
            "Epoch 6/100\n",
            "60/60 - 0s - loss: 0.1977 - accuracy: 0.7435 - val_loss: 0.1590 - val_accuracy: 0.7728 - 243ms/epoch - 4ms/step\n",
            "Epoch 7/100\n",
            "60/60 - 0s - loss: 0.1891 - accuracy: 0.7445 - val_loss: 0.1554 - val_accuracy: 0.7683 - 249ms/epoch - 4ms/step\n",
            "Epoch 8/100\n",
            "60/60 - 0s - loss: 0.1821 - accuracy: 0.7540 - val_loss: 0.1622 - val_accuracy: 0.7728 - 257ms/epoch - 4ms/step\n",
            "Epoch 9/100\n",
            "60/60 - 0s - loss: 0.1759 - accuracy: 0.7664 - val_loss: 0.1534 - val_accuracy: 0.7803 - 324ms/epoch - 5ms/step\n",
            "Epoch 10/100\n",
            "60/60 - 0s - loss: 0.1816 - accuracy: 0.7517 - val_loss: 0.1526 - val_accuracy: 0.7788 - 288ms/epoch - 5ms/step\n",
            "Epoch 11/100\n",
            "60/60 - 0s - loss: 0.1703 - accuracy: 0.7749 - val_loss: 0.1604 - val_accuracy: 0.7758 - 239ms/epoch - 4ms/step\n",
            "Epoch 12/100\n",
            "60/60 - 0s - loss: 0.1763 - accuracy: 0.7699 - val_loss: 0.1496 - val_accuracy: 0.7713 - 225ms/epoch - 4ms/step\n",
            "Epoch 13/100\n",
            "60/60 - 0s - loss: 0.1712 - accuracy: 0.7715 - val_loss: 0.1647 - val_accuracy: 0.7907 - 237ms/epoch - 4ms/step\n",
            "Epoch 14/100\n",
            "60/60 - 0s - loss: 0.1671 - accuracy: 0.7804 - val_loss: 0.1494 - val_accuracy: 0.7818 - 248ms/epoch - 4ms/step\n",
            "Epoch 15/100\n",
            "60/60 - 0s - loss: 0.1668 - accuracy: 0.7810 - val_loss: 0.1474 - val_accuracy: 0.7803 - 253ms/epoch - 4ms/step\n",
            "Epoch 16/100\n",
            "60/60 - 0s - loss: 0.1647 - accuracy: 0.7749 - val_loss: 0.1469 - val_accuracy: 0.7952 - 248ms/epoch - 4ms/step\n",
            "Epoch 17/100\n",
            "60/60 - 0s - loss: 0.1618 - accuracy: 0.7834 - val_loss: 0.1566 - val_accuracy: 0.7848 - 221ms/epoch - 4ms/step\n",
            "Epoch 18/100\n",
            "60/60 - 0s - loss: 0.1605 - accuracy: 0.7863 - val_loss: 0.1590 - val_accuracy: 0.7892 - 232ms/epoch - 4ms/step\n",
            "Epoch 19/100\n",
            "60/60 - 0s - loss: 0.1620 - accuracy: 0.7865 - val_loss: 0.1700 - val_accuracy: 0.7818 - 242ms/epoch - 4ms/step\n",
            "Epoch 20/100\n",
            "60/60 - 0s - loss: 0.1621 - accuracy: 0.7876 - val_loss: 0.1431 - val_accuracy: 0.8042 - 226ms/epoch - 4ms/step\n",
            "Epoch 21/100\n",
            "60/60 - 0s - loss: 0.1593 - accuracy: 0.7839 - val_loss: 0.1408 - val_accuracy: 0.7922 - 219ms/epoch - 4ms/step\n",
            "Epoch 22/100\n",
            "60/60 - 0s - loss: 0.1583 - accuracy: 0.7960 - val_loss: 0.1498 - val_accuracy: 0.7922 - 302ms/epoch - 5ms/step\n",
            "Epoch 23/100\n",
            "60/60 - 0s - loss: 0.1604 - accuracy: 0.7807 - val_loss: 0.1524 - val_accuracy: 0.7967 - 332ms/epoch - 6ms/step\n",
            "Epoch 24/100\n",
            "60/60 - 0s - loss: 0.1574 - accuracy: 0.7897 - val_loss: 0.1512 - val_accuracy: 0.7922 - 306ms/epoch - 5ms/step\n",
            "Epoch 25/100\n",
            "60/60 - 0s - loss: 0.1583 - accuracy: 0.7791 - val_loss: 0.1451 - val_accuracy: 0.7848 - 314ms/epoch - 5ms/step\n",
            "Epoch 26/100\n",
            "60/60 - 0s - loss: 0.1563 - accuracy: 0.7910 - val_loss: 0.1457 - val_accuracy: 0.7967 - 291ms/epoch - 5ms/step\n",
            "Epoch 27/100\n",
            "60/60 - 0s - loss: 0.1531 - accuracy: 0.7989 - val_loss: 0.1386 - val_accuracy: 0.7997 - 283ms/epoch - 5ms/step\n",
            "Epoch 28/100\n",
            "60/60 - 0s - loss: 0.1538 - accuracy: 0.7960 - val_loss: 0.1425 - val_accuracy: 0.7967 - 277ms/epoch - 5ms/step\n",
            "Epoch 29/100\n",
            "60/60 - 0s - loss: 0.1540 - accuracy: 0.7968 - val_loss: 0.1386 - val_accuracy: 0.7922 - 287ms/epoch - 5ms/step\n",
            "Epoch 30/100\n",
            "60/60 - 0s - loss: 0.1534 - accuracy: 0.7960 - val_loss: 0.1368 - val_accuracy: 0.7952 - 313ms/epoch - 5ms/step\n",
            "Epoch 31/100\n",
            "60/60 - 0s - loss: 0.1522 - accuracy: 0.7929 - val_loss: 0.1448 - val_accuracy: 0.7997 - 257ms/epoch - 4ms/step\n",
            "Epoch 32/100\n",
            "60/60 - 0s - loss: 0.1489 - accuracy: 0.7997 - val_loss: 0.1497 - val_accuracy: 0.7862 - 290ms/epoch - 5ms/step\n",
            "Epoch 33/100\n",
            "60/60 - 0s - loss: 0.1534 - accuracy: 0.7974 - val_loss: 0.1440 - val_accuracy: 0.8027 - 327ms/epoch - 5ms/step\n",
            "Epoch 34/100\n",
            "60/60 - 0s - loss: 0.1510 - accuracy: 0.8026 - val_loss: 0.1382 - val_accuracy: 0.7967 - 283ms/epoch - 5ms/step\n",
            "Epoch 35/100\n",
            "60/60 - 0s - loss: 0.1527 - accuracy: 0.7947 - val_loss: 0.1416 - val_accuracy: 0.7952 - 276ms/epoch - 5ms/step\n",
            "Epoch 36/100\n",
            "60/60 - 0s - loss: 0.1525 - accuracy: 0.7950 - val_loss: 0.1478 - val_accuracy: 0.7997 - 295ms/epoch - 5ms/step\n",
            "Epoch 37/100\n",
            "60/60 - 0s - loss: 0.1495 - accuracy: 0.8024 - val_loss: 0.1423 - val_accuracy: 0.8012 - 280ms/epoch - 5ms/step\n",
            "Epoch 38/100\n",
            "60/60 - 0s - loss: 0.1499 - accuracy: 0.8029 - val_loss: 0.1483 - val_accuracy: 0.8072 - 313ms/epoch - 5ms/step\n",
            "Epoch 39/100\n",
            "60/60 - 0s - loss: 0.1497 - accuracy: 0.8011 - val_loss: 0.1443 - val_accuracy: 0.8012 - 268ms/epoch - 4ms/step\n",
            "Epoch 40/100\n",
            "60/60 - 0s - loss: 0.1523 - accuracy: 0.7963 - val_loss: 0.1404 - val_accuracy: 0.8102 - 287ms/epoch - 5ms/step\n",
            "Epoch 41/100\n",
            "60/60 - 0s - loss: 0.1478 - accuracy: 0.8005 - val_loss: 0.1415 - val_accuracy: 0.8012 - 256ms/epoch - 4ms/step\n",
            "Epoch 42/100\n",
            "60/60 - 0s - loss: 0.1474 - accuracy: 0.8018 - val_loss: 0.1379 - val_accuracy: 0.7967 - 246ms/epoch - 4ms/step\n",
            "Epoch 43/100\n",
            "60/60 - 0s - loss: 0.1471 - accuracy: 0.8048 - val_loss: 0.1498 - val_accuracy: 0.8042 - 190ms/epoch - 3ms/step\n",
            "Epoch 44/100\n",
            "60/60 - 0s - loss: 0.1511 - accuracy: 0.7918 - val_loss: 0.1385 - val_accuracy: 0.8057 - 179ms/epoch - 3ms/step\n",
            "Epoch 45/100\n",
            "60/60 - 0s - loss: 0.1492 - accuracy: 0.8026 - val_loss: 0.1394 - val_accuracy: 0.8012 - 159ms/epoch - 3ms/step\n",
            "Epoch 46/100\n",
            "60/60 - 0s - loss: 0.1490 - accuracy: 0.8026 - val_loss: 0.1356 - val_accuracy: 0.8072 - 150ms/epoch - 3ms/step\n",
            "Epoch 47/100\n",
            "60/60 - 0s - loss: 0.1431 - accuracy: 0.8050 - val_loss: 0.1378 - val_accuracy: 0.8057 - 149ms/epoch - 2ms/step\n",
            "Epoch 48/100\n",
            "60/60 - 0s - loss: 0.1449 - accuracy: 0.8050 - val_loss: 0.1365 - val_accuracy: 0.8042 - 152ms/epoch - 3ms/step\n",
            "Epoch 49/100\n",
            "60/60 - 0s - loss: 0.1460 - accuracy: 0.8053 - val_loss: 0.1377 - val_accuracy: 0.8042 - 152ms/epoch - 3ms/step\n",
            "Epoch 50/100\n",
            "60/60 - 0s - loss: 0.1492 - accuracy: 0.8024 - val_loss: 0.1426 - val_accuracy: 0.7997 - 168ms/epoch - 3ms/step\n",
            "Epoch 51/100\n",
            "60/60 - 0s - loss: 0.1448 - accuracy: 0.8034 - val_loss: 0.1416 - val_accuracy: 0.8087 - 161ms/epoch - 3ms/step\n",
            "Epoch 52/100\n",
            "60/60 - 0s - loss: 0.1444 - accuracy: 0.8063 - val_loss: 0.1372 - val_accuracy: 0.8027 - 147ms/epoch - 2ms/step\n",
            "Epoch 53/100\n",
            "60/60 - 0s - loss: 0.1483 - accuracy: 0.8003 - val_loss: 0.1353 - val_accuracy: 0.8072 - 157ms/epoch - 3ms/step\n",
            "Epoch 54/100\n",
            "60/60 - 0s - loss: 0.1462 - accuracy: 0.8018 - val_loss: 0.1349 - val_accuracy: 0.8027 - 162ms/epoch - 3ms/step\n",
            "Epoch 55/100\n",
            "60/60 - 0s - loss: 0.1457 - accuracy: 0.8074 - val_loss: 0.1364 - val_accuracy: 0.8072 - 156ms/epoch - 3ms/step\n",
            "Epoch 56/100\n",
            "60/60 - 0s - loss: 0.1448 - accuracy: 0.7995 - val_loss: 0.1389 - val_accuracy: 0.8102 - 157ms/epoch - 3ms/step\n",
            "Epoch 57/100\n",
            "60/60 - 0s - loss: 0.1454 - accuracy: 0.8069 - val_loss: 0.1370 - val_accuracy: 0.8012 - 217ms/epoch - 4ms/step\n",
            "Epoch 58/100\n",
            "60/60 - 0s - loss: 0.1453 - accuracy: 0.8092 - val_loss: 0.1373 - val_accuracy: 0.7982 - 211ms/epoch - 4ms/step\n",
            "Epoch 59/100\n",
            "60/60 - 0s - loss: 0.1425 - accuracy: 0.8071 - val_loss: 0.1363 - val_accuracy: 0.8072 - 195ms/epoch - 3ms/step\n",
            "Epoch 60/100\n",
            "60/60 - 0s - loss: 0.1441 - accuracy: 0.8024 - val_loss: 0.1372 - val_accuracy: 0.8057 - 282ms/epoch - 5ms/step\n",
            "Epoch 61/100\n",
            "60/60 - 0s - loss: 0.1447 - accuracy: 0.8013 - val_loss: 0.1394 - val_accuracy: 0.8102 - 157ms/epoch - 3ms/step\n",
            "Epoch 62/100\n",
            "60/60 - 0s - loss: 0.1443 - accuracy: 0.8053 - val_loss: 0.1360 - val_accuracy: 0.8027 - 245ms/epoch - 4ms/step\n",
            "Epoch 63/100\n",
            "60/60 - 0s - loss: 0.1464 - accuracy: 0.8063 - val_loss: 0.1389 - val_accuracy: 0.8117 - 204ms/epoch - 3ms/step\n",
            "Epoch 64/100\n",
            "60/60 - 0s - loss: 0.1446 - accuracy: 0.8069 - val_loss: 0.1370 - val_accuracy: 0.8087 - 197ms/epoch - 3ms/step\n",
            "Epoch 65/100\n",
            "60/60 - 0s - loss: 0.1418 - accuracy: 0.8082 - val_loss: 0.1354 - val_accuracy: 0.8012 - 211ms/epoch - 4ms/step\n",
            "Epoch 66/100\n",
            "60/60 - 0s - loss: 0.1449 - accuracy: 0.8069 - val_loss: 0.1388 - val_accuracy: 0.8042 - 240ms/epoch - 4ms/step\n",
            "Epoch 67/100\n",
            "60/60 - 0s - loss: 0.1450 - accuracy: 0.8024 - val_loss: 0.1352 - val_accuracy: 0.8072 - 244ms/epoch - 4ms/step\n",
            "Epoch 68/100\n",
            "60/60 - 0s - loss: 0.1448 - accuracy: 0.8013 - val_loss: 0.1335 - val_accuracy: 0.8072 - 227ms/epoch - 4ms/step\n",
            "Epoch 69/100\n",
            "60/60 - 0s - loss: 0.1440 - accuracy: 0.8074 - val_loss: 0.1394 - val_accuracy: 0.8176 - 269ms/epoch - 4ms/step\n",
            "Epoch 70/100\n",
            "60/60 - 0s - loss: 0.1439 - accuracy: 0.8024 - val_loss: 0.1413 - val_accuracy: 0.8132 - 278ms/epoch - 5ms/step\n",
            "Epoch 71/100\n",
            "60/60 - 0s - loss: 0.1426 - accuracy: 0.8074 - val_loss: 0.1340 - val_accuracy: 0.8072 - 223ms/epoch - 4ms/step\n",
            "Epoch 72/100\n",
            "60/60 - 0s - loss: 0.1423 - accuracy: 0.8085 - val_loss: 0.1355 - val_accuracy: 0.8057 - 208ms/epoch - 3ms/step\n",
            "Epoch 73/100\n",
            "60/60 - 0s - loss: 0.1406 - accuracy: 0.8092 - val_loss: 0.1357 - val_accuracy: 0.8102 - 220ms/epoch - 4ms/step\n",
            "Epoch 74/100\n",
            "60/60 - 0s - loss: 0.1425 - accuracy: 0.8100 - val_loss: 0.1324 - val_accuracy: 0.8042 - 270ms/epoch - 5ms/step\n",
            "Epoch 75/100\n",
            "60/60 - 0s - loss: 0.1427 - accuracy: 0.8048 - val_loss: 0.1344 - val_accuracy: 0.8087 - 263ms/epoch - 4ms/step\n",
            "Epoch 76/100\n",
            "60/60 - 0s - loss: 0.1423 - accuracy: 0.8098 - val_loss: 0.1355 - val_accuracy: 0.8117 - 197ms/epoch - 3ms/step\n",
            "Epoch 77/100\n",
            "60/60 - 0s - loss: 0.1415 - accuracy: 0.8042 - val_loss: 0.1331 - val_accuracy: 0.8042 - 238ms/epoch - 4ms/step\n",
            "Epoch 78/100\n",
            "60/60 - 0s - loss: 0.1405 - accuracy: 0.8119 - val_loss: 0.1336 - val_accuracy: 0.8057 - 201ms/epoch - 3ms/step\n",
            "Epoch 79/100\n",
            "60/60 - 0s - loss: 0.1437 - accuracy: 0.8082 - val_loss: 0.1366 - val_accuracy: 0.8102 - 283ms/epoch - 5ms/step\n",
            "Epoch 80/100\n",
            "60/60 - 0s - loss: 0.1402 - accuracy: 0.8066 - val_loss: 0.1360 - val_accuracy: 0.8117 - 259ms/epoch - 4ms/step\n",
            "Epoch 81/100\n",
            "60/60 - 0s - loss: 0.1427 - accuracy: 0.8082 - val_loss: 0.1344 - val_accuracy: 0.8072 - 197ms/epoch - 3ms/step\n",
            "Epoch 82/100\n",
            "60/60 - 0s - loss: 0.1425 - accuracy: 0.8040 - val_loss: 0.1352 - val_accuracy: 0.8042 - 207ms/epoch - 3ms/step\n",
            "Epoch 83/100\n",
            "60/60 - 0s - loss: 0.1471 - accuracy: 0.7987 - val_loss: 0.1359 - val_accuracy: 0.7997 - 263ms/epoch - 4ms/step\n",
            "Epoch 84/100\n",
            "60/60 - 0s - loss: 0.1396 - accuracy: 0.8116 - val_loss: 0.1344 - val_accuracy: 0.8117 - 212ms/epoch - 4ms/step\n",
            "Epoch 85/100\n",
            "60/60 - 0s - loss: 0.1396 - accuracy: 0.8095 - val_loss: 0.1354 - val_accuracy: 0.8087 - 234ms/epoch - 4ms/step\n",
            "Epoch 86/100\n",
            "60/60 - 0s - loss: 0.1417 - accuracy: 0.8071 - val_loss: 0.1350 - val_accuracy: 0.8117 - 234ms/epoch - 4ms/step\n",
            "Epoch 87/100\n",
            "60/60 - 0s - loss: 0.1395 - accuracy: 0.8090 - val_loss: 0.1366 - val_accuracy: 0.8102 - 270ms/epoch - 4ms/step\n",
            "Epoch 88/100\n",
            "60/60 - 0s - loss: 0.1393 - accuracy: 0.8111 - val_loss: 0.1370 - val_accuracy: 0.8087 - 237ms/epoch - 4ms/step\n",
            "Epoch 89/100\n",
            "60/60 - 0s - loss: 0.1391 - accuracy: 0.8159 - val_loss: 0.1359 - val_accuracy: 0.8042 - 238ms/epoch - 4ms/step\n",
            "Epoch 90/100\n",
            "60/60 - 0s - loss: 0.1378 - accuracy: 0.8143 - val_loss: 0.1437 - val_accuracy: 0.8027 - 267ms/epoch - 4ms/step\n",
            "Epoch 91/100\n",
            "60/60 - 0s - loss: 0.1389 - accuracy: 0.8077 - val_loss: 0.1377 - val_accuracy: 0.8117 - 234ms/epoch - 4ms/step\n",
            "Epoch 92/100\n",
            "60/60 - 0s - loss: 0.1415 - accuracy: 0.8092 - val_loss: 0.1332 - val_accuracy: 0.8102 - 217ms/epoch - 4ms/step\n",
            "Epoch 93/100\n",
            "60/60 - 0s - loss: 0.1396 - accuracy: 0.8122 - val_loss: 0.1385 - val_accuracy: 0.8087 - 267ms/epoch - 4ms/step\n",
            "Epoch 94/100\n",
            "60/60 - 0s - loss: 0.1402 - accuracy: 0.8095 - val_loss: 0.1349 - val_accuracy: 0.8102 - 232ms/epoch - 4ms/step\n",
            "Epoch 95/100\n",
            "60/60 - 0s - loss: 0.1414 - accuracy: 0.8016 - val_loss: 0.1365 - val_accuracy: 0.8072 - 272ms/epoch - 5ms/step\n",
            "Epoch 96/100\n",
            "60/60 - 0s - loss: 0.1409 - accuracy: 0.8063 - val_loss: 0.1383 - val_accuracy: 0.8012 - 219ms/epoch - 4ms/step\n",
            "Epoch 97/100\n",
            "60/60 - 0s - loss: 0.1392 - accuracy: 0.8100 - val_loss: 0.1350 - val_accuracy: 0.8146 - 239ms/epoch - 4ms/step\n",
            "Epoch 98/100\n",
            "60/60 - 0s - loss: 0.1381 - accuracy: 0.8124 - val_loss: 0.1435 - val_accuracy: 0.8102 - 199ms/epoch - 3ms/step\n",
            "Epoch 99/100\n",
            "60/60 - 0s - loss: 0.1407 - accuracy: 0.8048 - val_loss: 0.1357 - val_accuracy: 0.8072 - 194ms/epoch - 3ms/step\n",
            "Epoch 100/100\n",
            "60/60 - 0s - loss: 0.1395 - accuracy: 0.8087 - val_loss: 0.1354 - val_accuracy: 0.8057 - 252ms/epoch - 4ms/step\n"
          ]
        }
      ]
    },
    {
      "cell_type": "code",
      "source": [
        "valid_loss, valid_accuracy = model.evaluate(x_valid, y_valid)\n",
        "valid_accuracy"
      ],
      "metadata": {
        "colab": {
          "base_uri": "https://localhost:8080/"
        },
        "id": "tMd328nuEmYx",
        "outputId": "7d5bbeec-a1ca-4eef-d8a2-7b664b67721c"
      },
      "execution_count": null,
      "outputs": [
        {
          "output_type": "stream",
          "name": "stdout",
          "text": [
            "47/47 [==============================] - 0s 1ms/step - loss: 0.1196 - accuracy: 0.8330\n"
          ]
        },
        {
          "output_type": "execute_result",
          "data": {
            "text/plain": [
              "0.8329966068267822"
            ]
          },
          "metadata": {},
          "execution_count": 138
        }
      ]
    },
    {
      "cell_type": "markdown",
      "source": [
        "Batch Normalization custom model 3"
      ],
      "metadata": {
        "id": "5ocOqXoLE4wr"
      }
    },
    {
      "cell_type": "code",
      "source": [
        "model = Sequential([\n",
        "    Dense(64, input_shape=[x_train.shape[1],], activation=\"relu\"),\n",
        "    BatchNormalization(),  # <- Batch normalization layer 1\n",
        "    Dropout(0.5),\n",
        "    Dense(256, activation='relu'),\n",
        "])"
      ],
      "metadata": {
        "id": "uwKz4jL6E4ws"
      },
      "execution_count": null,
      "outputs": []
    },
    {
      "cell_type": "code",
      "source": [
        "# Add a customised batch normalization layer 2\n",
        "\n",
        "model.add(tf.keras.layers.BatchNormalization(\n",
        "    momentum=0.95, # default is 0.99\n",
        "    epsilon=0.003, #default is 0.001\n",
        "    axis = -1, #default is -1\n",
        "    beta_initializer=tf.keras.initializers.RandomNormal(mean=0.0, stddev=0.07), # default is beta_initializer='zeros'\n",
        "    gamma_initializer=tf.keras.initializers.Constant(value=0.7) # default is gamma_initializer='ones'\n",
        "))"
      ],
      "metadata": {
        "id": "vXjTq_A2E4ws"
      },
      "execution_count": null,
      "outputs": []
    },
    {
      "cell_type": "code",
      "source": [
        "# Add the output layer\n",
        "\n",
        "model.add(Dense(1))"
      ],
      "metadata": {
        "id": "H_vy8R3OE4ws"
      },
      "execution_count": null,
      "outputs": []
    },
    {
      "cell_type": "code",
      "source": [
        "# Compile the model\n",
        "\n",
        "model.compile(optimizer='adam',\n",
        "              loss='mse',\n",
        "              metrics=['accuracy'])"
      ],
      "metadata": {
        "id": "AanS0e6ZE4ws"
      },
      "execution_count": null,
      "outputs": []
    },
    {
      "cell_type": "code",
      "source": [
        "# Train the model\n",
        "\n",
        "history = model.fit(x_train, y_train, epochs=100, validation_split=0.15, batch_size=64,verbose=2)"
      ],
      "metadata": {
        "colab": {
          "base_uri": "https://localhost:8080/"
        },
        "outputId": "3ab643b4-6fbe-4c29-a7e4-c2fc1d328dfe",
        "id": "0JU0q30dE4ws"
      },
      "execution_count": null,
      "outputs": [
        {
          "output_type": "stream",
          "name": "stdout",
          "text": [
            "Epoch 1/100\n",
            "60/60 - 1s - loss: 0.5373 - accuracy: 0.6124 - val_loss: 0.2511 - val_accuracy: 0.5471 - 1s/epoch - 18ms/step\n",
            "Epoch 2/100\n",
            "60/60 - 0s - loss: 0.2779 - accuracy: 0.6616 - val_loss: 0.1666 - val_accuracy: 0.7638 - 154ms/epoch - 3ms/step\n",
            "Epoch 3/100\n",
            "60/60 - 0s - loss: 0.2494 - accuracy: 0.6814 - val_loss: 0.1638 - val_accuracy: 0.7668 - 158ms/epoch - 3ms/step\n",
            "Epoch 4/100\n",
            "60/60 - 0s - loss: 0.2281 - accuracy: 0.7062 - val_loss: 0.1579 - val_accuracy: 0.7833 - 159ms/epoch - 3ms/step\n",
            "Epoch 5/100\n",
            "60/60 - 0s - loss: 0.2103 - accuracy: 0.7178 - val_loss: 0.1552 - val_accuracy: 0.7713 - 156ms/epoch - 3ms/step\n",
            "Epoch 6/100\n",
            "60/60 - 0s - loss: 0.2008 - accuracy: 0.7260 - val_loss: 0.1709 - val_accuracy: 0.7833 - 159ms/epoch - 3ms/step\n",
            "Epoch 7/100\n",
            "60/60 - 0s - loss: 0.1888 - accuracy: 0.7406 - val_loss: 0.1608 - val_accuracy: 0.7743 - 163ms/epoch - 3ms/step\n",
            "Epoch 8/100\n",
            "60/60 - 0s - loss: 0.1867 - accuracy: 0.7395 - val_loss: 0.1712 - val_accuracy: 0.7773 - 168ms/epoch - 3ms/step\n",
            "Epoch 9/100\n",
            "60/60 - 0s - loss: 0.1920 - accuracy: 0.7432 - val_loss: 0.1609 - val_accuracy: 0.7818 - 150ms/epoch - 3ms/step\n",
            "Epoch 10/100\n",
            "60/60 - 0s - loss: 0.1825 - accuracy: 0.7522 - val_loss: 0.1488 - val_accuracy: 0.7982 - 149ms/epoch - 2ms/step\n",
            "Epoch 11/100\n",
            "60/60 - 0s - loss: 0.1765 - accuracy: 0.7627 - val_loss: 0.1524 - val_accuracy: 0.7818 - 158ms/epoch - 3ms/step\n",
            "Epoch 12/100\n",
            "60/60 - 0s - loss: 0.1731 - accuracy: 0.7680 - val_loss: 0.1646 - val_accuracy: 0.7892 - 160ms/epoch - 3ms/step\n",
            "Epoch 13/100\n",
            "60/60 - 0s - loss: 0.1724 - accuracy: 0.7662 - val_loss: 0.1526 - val_accuracy: 0.7907 - 152ms/epoch - 3ms/step\n",
            "Epoch 14/100\n",
            "60/60 - 0s - loss: 0.1675 - accuracy: 0.7807 - val_loss: 0.1481 - val_accuracy: 0.7773 - 154ms/epoch - 3ms/step\n",
            "Epoch 15/100\n",
            "60/60 - 0s - loss: 0.1700 - accuracy: 0.7752 - val_loss: 0.1570 - val_accuracy: 0.7862 - 151ms/epoch - 3ms/step\n",
            "Epoch 16/100\n",
            "60/60 - 0s - loss: 0.1629 - accuracy: 0.7834 - val_loss: 0.1463 - val_accuracy: 0.7967 - 158ms/epoch - 3ms/step\n",
            "Epoch 17/100\n",
            "60/60 - 0s - loss: 0.1646 - accuracy: 0.7820 - val_loss: 0.1502 - val_accuracy: 0.7803 - 150ms/epoch - 3ms/step\n",
            "Epoch 18/100\n",
            "60/60 - 0s - loss: 0.1634 - accuracy: 0.7844 - val_loss: 0.1463 - val_accuracy: 0.7743 - 146ms/epoch - 2ms/step\n",
            "Epoch 19/100\n",
            "60/60 - 0s - loss: 0.1637 - accuracy: 0.7752 - val_loss: 0.1501 - val_accuracy: 0.7833 - 177ms/epoch - 3ms/step\n",
            "Epoch 20/100\n",
            "60/60 - 0s - loss: 0.1643 - accuracy: 0.7815 - val_loss: 0.1442 - val_accuracy: 0.7743 - 156ms/epoch - 3ms/step\n",
            "Epoch 21/100\n",
            "60/60 - 0s - loss: 0.1603 - accuracy: 0.7868 - val_loss: 0.1473 - val_accuracy: 0.7892 - 151ms/epoch - 3ms/step\n",
            "Epoch 22/100\n",
            "60/60 - 0s - loss: 0.1588 - accuracy: 0.7892 - val_loss: 0.1448 - val_accuracy: 0.7833 - 152ms/epoch - 3ms/step\n",
            "Epoch 23/100\n",
            "60/60 - 0s - loss: 0.1594 - accuracy: 0.7852 - val_loss: 0.1423 - val_accuracy: 0.7833 - 148ms/epoch - 2ms/step\n",
            "Epoch 24/100\n",
            "60/60 - 0s - loss: 0.1573 - accuracy: 0.7910 - val_loss: 0.1464 - val_accuracy: 0.7907 - 147ms/epoch - 2ms/step\n",
            "Epoch 25/100\n",
            "60/60 - 0s - loss: 0.1599 - accuracy: 0.7876 - val_loss: 0.1409 - val_accuracy: 0.8072 - 171ms/epoch - 3ms/step\n",
            "Epoch 26/100\n",
            "60/60 - 0s - loss: 0.1577 - accuracy: 0.7860 - val_loss: 0.1466 - val_accuracy: 0.7967 - 172ms/epoch - 3ms/step\n",
            "Epoch 27/100\n",
            "60/60 - 0s - loss: 0.1560 - accuracy: 0.7857 - val_loss: 0.1455 - val_accuracy: 0.7803 - 151ms/epoch - 3ms/step\n",
            "Epoch 28/100\n",
            "60/60 - 0s - loss: 0.1546 - accuracy: 0.7950 - val_loss: 0.1516 - val_accuracy: 0.7937 - 150ms/epoch - 2ms/step\n",
            "Epoch 29/100\n",
            "60/60 - 0s - loss: 0.1541 - accuracy: 0.7947 - val_loss: 0.1433 - val_accuracy: 0.7952 - 163ms/epoch - 3ms/step\n",
            "Epoch 30/100\n",
            "60/60 - 0s - loss: 0.1596 - accuracy: 0.7849 - val_loss: 0.1422 - val_accuracy: 0.7848 - 152ms/epoch - 3ms/step\n",
            "Epoch 31/100\n",
            "60/60 - 0s - loss: 0.1523 - accuracy: 0.7931 - val_loss: 0.1456 - val_accuracy: 0.8042 - 162ms/epoch - 3ms/step\n",
            "Epoch 32/100\n",
            "60/60 - 0s - loss: 0.1548 - accuracy: 0.7921 - val_loss: 0.1391 - val_accuracy: 0.7922 - 174ms/epoch - 3ms/step\n",
            "Epoch 33/100\n",
            "60/60 - 0s - loss: 0.1527 - accuracy: 0.7915 - val_loss: 0.1431 - val_accuracy: 0.7892 - 167ms/epoch - 3ms/step\n",
            "Epoch 34/100\n",
            "60/60 - 0s - loss: 0.1516 - accuracy: 0.7984 - val_loss: 0.1426 - val_accuracy: 0.8012 - 148ms/epoch - 2ms/step\n",
            "Epoch 35/100\n",
            "60/60 - 0s - loss: 0.1544 - accuracy: 0.7931 - val_loss: 0.1435 - val_accuracy: 0.8027 - 158ms/epoch - 3ms/step\n",
            "Epoch 36/100\n",
            "60/60 - 0s - loss: 0.1508 - accuracy: 0.7952 - val_loss: 0.1391 - val_accuracy: 0.8072 - 145ms/epoch - 2ms/step\n",
            "Epoch 37/100\n",
            "60/60 - 0s - loss: 0.1496 - accuracy: 0.7921 - val_loss: 0.1388 - val_accuracy: 0.7922 - 153ms/epoch - 3ms/step\n",
            "Epoch 38/100\n",
            "60/60 - 0s - loss: 0.1518 - accuracy: 0.7947 - val_loss: 0.1373 - val_accuracy: 0.8027 - 166ms/epoch - 3ms/step\n",
            "Epoch 39/100\n",
            "60/60 - 0s - loss: 0.1486 - accuracy: 0.7979 - val_loss: 0.1407 - val_accuracy: 0.7982 - 151ms/epoch - 3ms/step\n",
            "Epoch 40/100\n",
            "60/60 - 0s - loss: 0.1490 - accuracy: 0.8008 - val_loss: 0.1380 - val_accuracy: 0.8012 - 161ms/epoch - 3ms/step\n",
            "Epoch 41/100\n",
            "60/60 - 0s - loss: 0.1478 - accuracy: 0.7987 - val_loss: 0.1358 - val_accuracy: 0.8027 - 151ms/epoch - 3ms/step\n",
            "Epoch 42/100\n",
            "60/60 - 0s - loss: 0.1511 - accuracy: 0.8008 - val_loss: 0.1495 - val_accuracy: 0.7997 - 155ms/epoch - 3ms/step\n",
            "Epoch 43/100\n",
            "60/60 - 0s - loss: 0.1519 - accuracy: 0.7995 - val_loss: 0.1425 - val_accuracy: 0.8012 - 164ms/epoch - 3ms/step\n",
            "Epoch 44/100\n",
            "60/60 - 0s - loss: 0.1537 - accuracy: 0.7902 - val_loss: 0.1432 - val_accuracy: 0.8012 - 164ms/epoch - 3ms/step\n",
            "Epoch 45/100\n",
            "60/60 - 0s - loss: 0.1480 - accuracy: 0.8024 - val_loss: 0.1383 - val_accuracy: 0.7982 - 157ms/epoch - 3ms/step\n",
            "Epoch 46/100\n",
            "60/60 - 0s - loss: 0.1483 - accuracy: 0.7958 - val_loss: 0.1392 - val_accuracy: 0.8057 - 159ms/epoch - 3ms/step\n",
            "Epoch 47/100\n",
            "60/60 - 0s - loss: 0.1521 - accuracy: 0.8021 - val_loss: 0.1365 - val_accuracy: 0.7952 - 165ms/epoch - 3ms/step\n",
            "Epoch 48/100\n",
            "60/60 - 0s - loss: 0.1447 - accuracy: 0.8018 - val_loss: 0.1369 - val_accuracy: 0.8102 - 154ms/epoch - 3ms/step\n",
            "Epoch 49/100\n",
            "60/60 - 0s - loss: 0.1501 - accuracy: 0.7982 - val_loss: 0.1416 - val_accuracy: 0.8102 - 150ms/epoch - 3ms/step\n",
            "Epoch 50/100\n",
            "60/60 - 0s - loss: 0.1481 - accuracy: 0.7923 - val_loss: 0.1330 - val_accuracy: 0.8057 - 162ms/epoch - 3ms/step\n",
            "Epoch 51/100\n",
            "60/60 - 0s - loss: 0.1477 - accuracy: 0.8055 - val_loss: 0.1369 - val_accuracy: 0.7997 - 164ms/epoch - 3ms/step\n",
            "Epoch 52/100\n",
            "60/60 - 0s - loss: 0.1434 - accuracy: 0.8085 - val_loss: 0.1369 - val_accuracy: 0.8117 - 154ms/epoch - 3ms/step\n",
            "Epoch 53/100\n",
            "60/60 - 0s - loss: 0.1467 - accuracy: 0.8045 - val_loss: 0.1369 - val_accuracy: 0.8146 - 157ms/epoch - 3ms/step\n",
            "Epoch 54/100\n",
            "60/60 - 0s - loss: 0.1463 - accuracy: 0.8008 - val_loss: 0.1361 - val_accuracy: 0.8087 - 148ms/epoch - 2ms/step\n",
            "Epoch 55/100\n",
            "60/60 - 0s - loss: 0.1477 - accuracy: 0.8000 - val_loss: 0.1375 - val_accuracy: 0.8072 - 157ms/epoch - 3ms/step\n",
            "Epoch 56/100\n",
            "60/60 - 0s - loss: 0.1482 - accuracy: 0.7952 - val_loss: 0.1363 - val_accuracy: 0.8042 - 146ms/epoch - 2ms/step\n",
            "Epoch 57/100\n",
            "60/60 - 0s - loss: 0.1494 - accuracy: 0.7976 - val_loss: 0.1351 - val_accuracy: 0.8146 - 167ms/epoch - 3ms/step\n",
            "Epoch 58/100\n",
            "60/60 - 0s - loss: 0.1436 - accuracy: 0.8045 - val_loss: 0.1351 - val_accuracy: 0.8027 - 155ms/epoch - 3ms/step\n",
            "Epoch 59/100\n",
            "60/60 - 0s - loss: 0.1475 - accuracy: 0.8008 - val_loss: 0.1349 - val_accuracy: 0.7997 - 147ms/epoch - 2ms/step\n",
            "Epoch 60/100\n",
            "60/60 - 0s - loss: 0.1448 - accuracy: 0.8053 - val_loss: 0.1356 - val_accuracy: 0.8132 - 163ms/epoch - 3ms/step\n",
            "Epoch 61/100\n",
            "60/60 - 0s - loss: 0.1421 - accuracy: 0.8092 - val_loss: 0.1351 - val_accuracy: 0.8072 - 166ms/epoch - 3ms/step\n",
            "Epoch 62/100\n",
            "60/60 - 0s - loss: 0.1465 - accuracy: 0.8050 - val_loss: 0.1389 - val_accuracy: 0.8027 - 155ms/epoch - 3ms/step\n",
            "Epoch 63/100\n",
            "60/60 - 0s - loss: 0.1446 - accuracy: 0.8034 - val_loss: 0.1342 - val_accuracy: 0.8057 - 158ms/epoch - 3ms/step\n",
            "Epoch 64/100\n",
            "60/60 - 0s - loss: 0.1421 - accuracy: 0.8055 - val_loss: 0.1318 - val_accuracy: 0.8072 - 146ms/epoch - 2ms/step\n",
            "Epoch 65/100\n",
            "60/60 - 0s - loss: 0.1460 - accuracy: 0.7995 - val_loss: 0.1417 - val_accuracy: 0.8102 - 147ms/epoch - 2ms/step\n",
            "Epoch 66/100\n",
            "60/60 - 0s - loss: 0.1437 - accuracy: 0.8055 - val_loss: 0.1313 - val_accuracy: 0.8117 - 151ms/epoch - 3ms/step\n",
            "Epoch 67/100\n",
            "60/60 - 0s - loss: 0.1404 - accuracy: 0.8079 - val_loss: 0.1388 - val_accuracy: 0.8087 - 152ms/epoch - 3ms/step\n",
            "Epoch 68/100\n",
            "60/60 - 0s - loss: 0.1430 - accuracy: 0.8037 - val_loss: 0.1351 - val_accuracy: 0.8117 - 166ms/epoch - 3ms/step\n",
            "Epoch 69/100\n",
            "60/60 - 0s - loss: 0.1456 - accuracy: 0.8024 - val_loss: 0.1392 - val_accuracy: 0.8027 - 168ms/epoch - 3ms/step\n",
            "Epoch 70/100\n",
            "60/60 - 0s - loss: 0.1426 - accuracy: 0.8063 - val_loss: 0.1372 - val_accuracy: 0.8042 - 153ms/epoch - 3ms/step\n",
            "Epoch 71/100\n",
            "60/60 - 0s - loss: 0.1430 - accuracy: 0.8042 - val_loss: 0.1395 - val_accuracy: 0.8027 - 199ms/epoch - 3ms/step\n",
            "Epoch 72/100\n",
            "60/60 - 0s - loss: 0.1414 - accuracy: 0.8098 - val_loss: 0.1364 - val_accuracy: 0.8042 - 149ms/epoch - 2ms/step\n",
            "Epoch 73/100\n",
            "60/60 - 0s - loss: 0.1461 - accuracy: 0.8042 - val_loss: 0.1434 - val_accuracy: 0.8087 - 159ms/epoch - 3ms/step\n",
            "Epoch 74/100\n",
            "60/60 - 0s - loss: 0.1427 - accuracy: 0.8092 - val_loss: 0.1400 - val_accuracy: 0.8042 - 148ms/epoch - 2ms/step\n",
            "Epoch 75/100\n",
            "60/60 - 0s - loss: 0.1423 - accuracy: 0.8108 - val_loss: 0.1351 - val_accuracy: 0.8042 - 166ms/epoch - 3ms/step\n",
            "Epoch 76/100\n",
            "60/60 - 0s - loss: 0.1453 - accuracy: 0.8066 - val_loss: 0.1367 - val_accuracy: 0.7982 - 156ms/epoch - 3ms/step\n",
            "Epoch 77/100\n",
            "60/60 - 0s - loss: 0.1446 - accuracy: 0.8040 - val_loss: 0.1358 - val_accuracy: 0.8027 - 154ms/epoch - 3ms/step\n",
            "Epoch 78/100\n",
            "60/60 - 0s - loss: 0.1388 - accuracy: 0.8177 - val_loss: 0.1340 - val_accuracy: 0.8087 - 152ms/epoch - 3ms/step\n",
            "Epoch 79/100\n",
            "60/60 - 0s - loss: 0.1424 - accuracy: 0.8079 - val_loss: 0.1390 - val_accuracy: 0.8132 - 148ms/epoch - 2ms/step\n",
            "Epoch 80/100\n",
            "60/60 - 0s - loss: 0.1420 - accuracy: 0.8018 - val_loss: 0.1385 - val_accuracy: 0.8146 - 157ms/epoch - 3ms/step\n",
            "Epoch 81/100\n",
            "60/60 - 0s - loss: 0.1416 - accuracy: 0.8095 - val_loss: 0.1354 - val_accuracy: 0.8057 - 152ms/epoch - 3ms/step\n",
            "Epoch 82/100\n",
            "60/60 - 0s - loss: 0.1438 - accuracy: 0.8077 - val_loss: 0.1370 - val_accuracy: 0.8146 - 161ms/epoch - 3ms/step\n",
            "Epoch 83/100\n",
            "60/60 - 0s - loss: 0.1414 - accuracy: 0.8100 - val_loss: 0.1361 - val_accuracy: 0.8027 - 157ms/epoch - 3ms/step\n",
            "Epoch 84/100\n",
            "60/60 - 0s - loss: 0.1439 - accuracy: 0.8042 - val_loss: 0.1339 - val_accuracy: 0.8087 - 157ms/epoch - 3ms/step\n",
            "Epoch 85/100\n",
            "60/60 - 0s - loss: 0.1434 - accuracy: 0.8074 - val_loss: 0.1356 - val_accuracy: 0.8146 - 158ms/epoch - 3ms/step\n",
            "Epoch 86/100\n",
            "60/60 - 0s - loss: 0.1444 - accuracy: 0.8032 - val_loss: 0.1385 - val_accuracy: 0.8117 - 151ms/epoch - 3ms/step\n",
            "Epoch 87/100\n",
            "60/60 - 0s - loss: 0.1396 - accuracy: 0.8108 - val_loss: 0.1356 - val_accuracy: 0.8072 - 149ms/epoch - 2ms/step\n",
            "Epoch 88/100\n",
            "60/60 - 0s - loss: 0.1412 - accuracy: 0.8079 - val_loss: 0.1367 - val_accuracy: 0.8132 - 160ms/epoch - 3ms/step\n",
            "Epoch 89/100\n",
            "60/60 - 0s - loss: 0.1432 - accuracy: 0.8092 - val_loss: 0.1345 - val_accuracy: 0.8057 - 160ms/epoch - 3ms/step\n",
            "Epoch 90/100\n",
            "60/60 - 0s - loss: 0.1423 - accuracy: 0.8103 - val_loss: 0.1355 - val_accuracy: 0.8012 - 152ms/epoch - 3ms/step\n",
            "Epoch 91/100\n",
            "60/60 - 0s - loss: 0.1418 - accuracy: 0.8098 - val_loss: 0.1365 - val_accuracy: 0.8132 - 150ms/epoch - 2ms/step\n",
            "Epoch 92/100\n",
            "60/60 - 0s - loss: 0.1405 - accuracy: 0.8092 - val_loss: 0.1368 - val_accuracy: 0.8117 - 155ms/epoch - 3ms/step\n",
            "Epoch 93/100\n",
            "60/60 - 0s - loss: 0.1426 - accuracy: 0.8074 - val_loss: 0.1358 - val_accuracy: 0.8072 - 146ms/epoch - 2ms/step\n",
            "Epoch 94/100\n",
            "60/60 - 0s - loss: 0.1405 - accuracy: 0.8119 - val_loss: 0.1396 - val_accuracy: 0.7952 - 166ms/epoch - 3ms/step\n",
            "Epoch 95/100\n",
            "60/60 - 0s - loss: 0.1405 - accuracy: 0.8061 - val_loss: 0.1357 - val_accuracy: 0.8102 - 153ms/epoch - 3ms/step\n",
            "Epoch 96/100\n",
            "60/60 - 0s - loss: 0.1424 - accuracy: 0.8082 - val_loss: 0.1380 - val_accuracy: 0.8042 - 165ms/epoch - 3ms/step\n",
            "Epoch 97/100\n",
            "60/60 - 0s - loss: 0.1412 - accuracy: 0.8074 - val_loss: 0.1389 - val_accuracy: 0.8102 - 154ms/epoch - 3ms/step\n",
            "Epoch 98/100\n",
            "60/60 - 0s - loss: 0.1386 - accuracy: 0.8135 - val_loss: 0.1383 - val_accuracy: 0.8012 - 158ms/epoch - 3ms/step\n",
            "Epoch 99/100\n",
            "60/60 - 0s - loss: 0.1409 - accuracy: 0.8090 - val_loss: 0.1335 - val_accuracy: 0.8087 - 155ms/epoch - 3ms/step\n",
            "Epoch 100/100\n",
            "60/60 - 0s - loss: 0.1397 - accuracy: 0.8103 - val_loss: 0.1362 - val_accuracy: 0.8087 - 147ms/epoch - 2ms/step\n"
          ]
        }
      ]
    },
    {
      "cell_type": "code",
      "source": [
        "valid_loss, valid_accuracy = model.evaluate(x_valid, y_valid)\n",
        "valid_accuracy"
      ],
      "metadata": {
        "colab": {
          "base_uri": "https://localhost:8080/"
        },
        "outputId": "6d9d7d23-bdbd-4db8-8177-64beee0cf490",
        "id": "2Lc1ea_rE4wt"
      },
      "execution_count": null,
      "outputs": [
        {
          "output_type": "stream",
          "name": "stdout",
          "text": [
            "47/47 [==============================] - 0s 1ms/step - loss: 0.1196 - accuracy: 0.8343\n"
          ]
        },
        {
          "output_type": "execute_result",
          "data": {
            "text/plain": [
              "0.834343433380127"
            ]
          },
          "metadata": {},
          "execution_count": 149
        }
      ]
    },
    {
      "cell_type": "markdown",
      "source": [
        "Batch Normalization custom model 4"
      ],
      "metadata": {
        "id": "7rQI5eJ1FeKh"
      }
    },
    {
      "cell_type": "code",
      "source": [
        "model = Sequential([\n",
        "    Dense(64, input_shape=[x_train.shape[1],], activation=\"relu\"),\n",
        "    BatchNormalization(),  # <- Batch normalization layer 1\n",
        "    Dropout(0.5),\n",
        "    Dense(256, activation='relu'),\n",
        "])"
      ],
      "metadata": {
        "id": "kltuk2jiFeKh"
      },
      "execution_count": null,
      "outputs": []
    },
    {
      "cell_type": "code",
      "source": [
        "# Add a customised batch normalization layer 2\n",
        "\n",
        "model.add(tf.keras.layers.BatchNormalization(\n",
        "    momentum=0.95, # default is 0.99\n",
        "    epsilon=0.003, #default is 0.001\n",
        "    axis = -1, #default is -1\n",
        "    beta_initializer=tf.keras.initializers.RandomNormal(mean=0.0, stddev=0.07), # default is beta_initializer='zeros'\n",
        "    gamma_initializer=tf.keras.initializers.Constant(value=0.9) # default is gamma_initializer='ones'\n",
        "))"
      ],
      "metadata": {
        "id": "OBlPLQRsFeKi"
      },
      "execution_count": null,
      "outputs": []
    },
    {
      "cell_type": "code",
      "source": [
        "# Add the output layer\n",
        "\n",
        "model.add(Dense(1))"
      ],
      "metadata": {
        "id": "QykoA1SGFeKi"
      },
      "execution_count": null,
      "outputs": []
    },
    {
      "cell_type": "code",
      "source": [
        "# Compile the model\n",
        "\n",
        "model.compile(optimizer='adam',\n",
        "              loss='mse',\n",
        "              metrics=['accuracy'])"
      ],
      "metadata": {
        "id": "IS0rfbGkFeKi"
      },
      "execution_count": null,
      "outputs": []
    },
    {
      "cell_type": "code",
      "source": [
        "# Train the model\n",
        "\n",
        "history = model.fit(x_train, y_train, epochs=100, validation_split=0.15, batch_size=64,verbose=2)"
      ],
      "metadata": {
        "colab": {
          "base_uri": "https://localhost:8080/"
        },
        "outputId": "4370b5a1-19f7-417c-c272-a67d5452adf3",
        "id": "Of0eXQudFeKi"
      },
      "execution_count": null,
      "outputs": [
        {
          "output_type": "stream",
          "name": "stdout",
          "text": [
            "Epoch 1/100\n",
            "60/60 - 1s - loss: 0.5539 - accuracy: 0.6029 - val_loss: 0.3244 - val_accuracy: 0.5321 - 1s/epoch - 17ms/step\n",
            "Epoch 2/100\n",
            "60/60 - 0s - loss: 0.3249 - accuracy: 0.6679 - val_loss: 0.3010 - val_accuracy: 0.5635 - 148ms/epoch - 2ms/step\n",
            "Epoch 3/100\n",
            "60/60 - 0s - loss: 0.2807 - accuracy: 0.6631 - val_loss: 0.1848 - val_accuracy: 0.7414 - 167ms/epoch - 3ms/step\n",
            "Epoch 4/100\n",
            "60/60 - 0s - loss: 0.2410 - accuracy: 0.6919 - val_loss: 0.1662 - val_accuracy: 0.7564 - 154ms/epoch - 3ms/step\n",
            "Epoch 5/100\n",
            "60/60 - 0s - loss: 0.2317 - accuracy: 0.6980 - val_loss: 0.1746 - val_accuracy: 0.7638 - 169ms/epoch - 3ms/step\n",
            "Epoch 6/100\n",
            "60/60 - 0s - loss: 0.2295 - accuracy: 0.7065 - val_loss: 0.1729 - val_accuracy: 0.7803 - 166ms/epoch - 3ms/step\n",
            "Epoch 7/100\n",
            "60/60 - 0s - loss: 0.2084 - accuracy: 0.7300 - val_loss: 0.1658 - val_accuracy: 0.7758 - 161ms/epoch - 3ms/step\n",
            "Epoch 8/100\n",
            "60/60 - 0s - loss: 0.2131 - accuracy: 0.7239 - val_loss: 0.1702 - val_accuracy: 0.7818 - 149ms/epoch - 2ms/step\n",
            "Epoch 9/100\n",
            "60/60 - 0s - loss: 0.1982 - accuracy: 0.7358 - val_loss: 0.1689 - val_accuracy: 0.7638 - 157ms/epoch - 3ms/step\n",
            "Epoch 10/100\n",
            "60/60 - 0s - loss: 0.1847 - accuracy: 0.7456 - val_loss: 0.1574 - val_accuracy: 0.7773 - 159ms/epoch - 3ms/step\n",
            "Epoch 11/100\n",
            "60/60 - 0s - loss: 0.1850 - accuracy: 0.7575 - val_loss: 0.1516 - val_accuracy: 0.7877 - 159ms/epoch - 3ms/step\n",
            "Epoch 12/100\n",
            "60/60 - 0s - loss: 0.1778 - accuracy: 0.7622 - val_loss: 0.1669 - val_accuracy: 0.7758 - 151ms/epoch - 3ms/step\n",
            "Epoch 13/100\n",
            "60/60 - 0s - loss: 0.1848 - accuracy: 0.7509 - val_loss: 0.1732 - val_accuracy: 0.7952 - 159ms/epoch - 3ms/step\n",
            "Epoch 14/100\n",
            "60/60 - 0s - loss: 0.1717 - accuracy: 0.7694 - val_loss: 0.1654 - val_accuracy: 0.7713 - 153ms/epoch - 3ms/step\n",
            "Epoch 15/100\n",
            "60/60 - 0s - loss: 0.1773 - accuracy: 0.7633 - val_loss: 0.1531 - val_accuracy: 0.7892 - 156ms/epoch - 3ms/step\n",
            "Epoch 16/100\n",
            "60/60 - 0s - loss: 0.1742 - accuracy: 0.7691 - val_loss: 0.1487 - val_accuracy: 0.7952 - 155ms/epoch - 3ms/step\n",
            "Epoch 17/100\n",
            "60/60 - 0s - loss: 0.1721 - accuracy: 0.7678 - val_loss: 0.1523 - val_accuracy: 0.7907 - 158ms/epoch - 3ms/step\n",
            "Epoch 18/100\n",
            "60/60 - 0s - loss: 0.1695 - accuracy: 0.7672 - val_loss: 0.1441 - val_accuracy: 0.7982 - 157ms/epoch - 3ms/step\n",
            "Epoch 19/100\n",
            "60/60 - 0s - loss: 0.1697 - accuracy: 0.7701 - val_loss: 0.1494 - val_accuracy: 0.7877 - 164ms/epoch - 3ms/step\n",
            "Epoch 20/100\n",
            "60/60 - 0s - loss: 0.1723 - accuracy: 0.7678 - val_loss: 0.1576 - val_accuracy: 0.7877 - 145ms/epoch - 2ms/step\n",
            "Epoch 21/100\n",
            "60/60 - 0s - loss: 0.1677 - accuracy: 0.7773 - val_loss: 0.1503 - val_accuracy: 0.7922 - 161ms/epoch - 3ms/step\n",
            "Epoch 22/100\n",
            "60/60 - 0s - loss: 0.1625 - accuracy: 0.7844 - val_loss: 0.1499 - val_accuracy: 0.7833 - 169ms/epoch - 3ms/step\n",
            "Epoch 23/100\n",
            "60/60 - 0s - loss: 0.1651 - accuracy: 0.7775 - val_loss: 0.1497 - val_accuracy: 0.8012 - 152ms/epoch - 3ms/step\n",
            "Epoch 24/100\n",
            "60/60 - 0s - loss: 0.1654 - accuracy: 0.7760 - val_loss: 0.1537 - val_accuracy: 0.8042 - 167ms/epoch - 3ms/step\n",
            "Epoch 25/100\n",
            "60/60 - 0s - loss: 0.1613 - accuracy: 0.7868 - val_loss: 0.1789 - val_accuracy: 0.8027 - 160ms/epoch - 3ms/step\n",
            "Epoch 26/100\n",
            "60/60 - 0s - loss: 0.1610 - accuracy: 0.7905 - val_loss: 0.1598 - val_accuracy: 0.8087 - 162ms/epoch - 3ms/step\n",
            "Epoch 27/100\n",
            "60/60 - 0s - loss: 0.1604 - accuracy: 0.7820 - val_loss: 0.1472 - val_accuracy: 0.7982 - 154ms/epoch - 3ms/step\n",
            "Epoch 28/100\n",
            "60/60 - 0s - loss: 0.1591 - accuracy: 0.7892 - val_loss: 0.1493 - val_accuracy: 0.8027 - 167ms/epoch - 3ms/step\n",
            "Epoch 29/100\n",
            "60/60 - 0s - loss: 0.1586 - accuracy: 0.7884 - val_loss: 0.1503 - val_accuracy: 0.8057 - 151ms/epoch - 3ms/step\n",
            "Epoch 30/100\n",
            "60/60 - 0s - loss: 0.1564 - accuracy: 0.7894 - val_loss: 0.1388 - val_accuracy: 0.7937 - 152ms/epoch - 3ms/step\n",
            "Epoch 31/100\n",
            "60/60 - 0s - loss: 0.1593 - accuracy: 0.7921 - val_loss: 0.1454 - val_accuracy: 0.7967 - 155ms/epoch - 3ms/step\n",
            "Epoch 32/100\n",
            "60/60 - 0s - loss: 0.1593 - accuracy: 0.7857 - val_loss: 0.1404 - val_accuracy: 0.7997 - 153ms/epoch - 3ms/step\n",
            "Epoch 33/100\n",
            "60/60 - 0s - loss: 0.1574 - accuracy: 0.7960 - val_loss: 0.1448 - val_accuracy: 0.7952 - 153ms/epoch - 3ms/step\n",
            "Epoch 34/100\n",
            "60/60 - 0s - loss: 0.1541 - accuracy: 0.7997 - val_loss: 0.1403 - val_accuracy: 0.8042 - 144ms/epoch - 2ms/step\n",
            "Epoch 35/100\n",
            "60/60 - 0s - loss: 0.1567 - accuracy: 0.7937 - val_loss: 0.1458 - val_accuracy: 0.7937 - 145ms/epoch - 2ms/step\n",
            "Epoch 36/100\n",
            "60/60 - 0s - loss: 0.1540 - accuracy: 0.7974 - val_loss: 0.1492 - val_accuracy: 0.8027 - 162ms/epoch - 3ms/step\n",
            "Epoch 37/100\n",
            "60/60 - 0s - loss: 0.1561 - accuracy: 0.7923 - val_loss: 0.1453 - val_accuracy: 0.7937 - 149ms/epoch - 2ms/step\n",
            "Epoch 38/100\n",
            "60/60 - 0s - loss: 0.1517 - accuracy: 0.7976 - val_loss: 0.1558 - val_accuracy: 0.7922 - 161ms/epoch - 3ms/step\n",
            "Epoch 39/100\n",
            "60/60 - 0s - loss: 0.1522 - accuracy: 0.8018 - val_loss: 0.1403 - val_accuracy: 0.8087 - 156ms/epoch - 3ms/step\n",
            "Epoch 40/100\n",
            "60/60 - 0s - loss: 0.1504 - accuracy: 0.8000 - val_loss: 0.1373 - val_accuracy: 0.8012 - 155ms/epoch - 3ms/step\n",
            "Epoch 41/100\n",
            "60/60 - 0s - loss: 0.1518 - accuracy: 0.7976 - val_loss: 0.1382 - val_accuracy: 0.7937 - 155ms/epoch - 3ms/step\n",
            "Epoch 42/100\n",
            "60/60 - 0s - loss: 0.1508 - accuracy: 0.7984 - val_loss: 0.1400 - val_accuracy: 0.7997 - 164ms/epoch - 3ms/step\n",
            "Epoch 43/100\n",
            "60/60 - 0s - loss: 0.1494 - accuracy: 0.8045 - val_loss: 0.1384 - val_accuracy: 0.8012 - 174ms/epoch - 3ms/step\n",
            "Epoch 44/100\n",
            "60/60 - 0s - loss: 0.1493 - accuracy: 0.7929 - val_loss: 0.1510 - val_accuracy: 0.7982 - 155ms/epoch - 3ms/step\n",
            "Epoch 45/100\n",
            "60/60 - 0s - loss: 0.1492 - accuracy: 0.8050 - val_loss: 0.1424 - val_accuracy: 0.8072 - 172ms/epoch - 3ms/step\n",
            "Epoch 46/100\n",
            "60/60 - 0s - loss: 0.1518 - accuracy: 0.7987 - val_loss: 0.1442 - val_accuracy: 0.8057 - 158ms/epoch - 3ms/step\n",
            "Epoch 47/100\n",
            "60/60 - 0s - loss: 0.1466 - accuracy: 0.8087 - val_loss: 0.1381 - val_accuracy: 0.7997 - 149ms/epoch - 2ms/step\n",
            "Epoch 48/100\n",
            "60/60 - 0s - loss: 0.1496 - accuracy: 0.8026 - val_loss: 0.1462 - val_accuracy: 0.8012 - 157ms/epoch - 3ms/step\n",
            "Epoch 49/100\n",
            "60/60 - 0s - loss: 0.1480 - accuracy: 0.8061 - val_loss: 0.1398 - val_accuracy: 0.7937 - 154ms/epoch - 3ms/step\n",
            "Epoch 50/100\n",
            "60/60 - 0s - loss: 0.1483 - accuracy: 0.8000 - val_loss: 0.1429 - val_accuracy: 0.8072 - 158ms/epoch - 3ms/step\n",
            "Epoch 51/100\n",
            "60/60 - 0s - loss: 0.1524 - accuracy: 0.7968 - val_loss: 0.1417 - val_accuracy: 0.8102 - 162ms/epoch - 3ms/step\n",
            "Epoch 52/100\n",
            "60/60 - 0s - loss: 0.1541 - accuracy: 0.7995 - val_loss: 0.1427 - val_accuracy: 0.7997 - 150ms/epoch - 2ms/step\n",
            "Epoch 53/100\n",
            "60/60 - 0s - loss: 0.1476 - accuracy: 0.8077 - val_loss: 0.1474 - val_accuracy: 0.8087 - 149ms/epoch - 2ms/step\n",
            "Epoch 54/100\n",
            "60/60 - 0s - loss: 0.1475 - accuracy: 0.8003 - val_loss: 0.1444 - val_accuracy: 0.8087 - 155ms/epoch - 3ms/step\n",
            "Epoch 55/100\n",
            "60/60 - 0s - loss: 0.1453 - accuracy: 0.8048 - val_loss: 0.1378 - val_accuracy: 0.8087 - 157ms/epoch - 3ms/step\n",
            "Epoch 56/100\n",
            "60/60 - 0s - loss: 0.1450 - accuracy: 0.8119 - val_loss: 0.1483 - val_accuracy: 0.8027 - 155ms/epoch - 3ms/step\n",
            "Epoch 57/100\n",
            "60/60 - 0s - loss: 0.1461 - accuracy: 0.8042 - val_loss: 0.1401 - val_accuracy: 0.8057 - 160ms/epoch - 3ms/step\n",
            "Epoch 58/100\n",
            "60/60 - 0s - loss: 0.1430 - accuracy: 0.8114 - val_loss: 0.1548 - val_accuracy: 0.8027 - 153ms/epoch - 3ms/step\n",
            "Epoch 59/100\n",
            "60/60 - 0s - loss: 0.1495 - accuracy: 0.8016 - val_loss: 0.1481 - val_accuracy: 0.7967 - 148ms/epoch - 2ms/step\n",
            "Epoch 60/100\n",
            "60/60 - 0s - loss: 0.1471 - accuracy: 0.8016 - val_loss: 0.1413 - val_accuracy: 0.8042 - 161ms/epoch - 3ms/step\n",
            "Epoch 61/100\n",
            "60/60 - 0s - loss: 0.1474 - accuracy: 0.8013 - val_loss: 0.1411 - val_accuracy: 0.8042 - 151ms/epoch - 3ms/step\n",
            "Epoch 62/100\n",
            "60/60 - 0s - loss: 0.1429 - accuracy: 0.8127 - val_loss: 0.1369 - val_accuracy: 0.8102 - 151ms/epoch - 3ms/step\n",
            "Epoch 63/100\n",
            "60/60 - 0s - loss: 0.1471 - accuracy: 0.8055 - val_loss: 0.1402 - val_accuracy: 0.8176 - 169ms/epoch - 3ms/step\n",
            "Epoch 64/100\n",
            "60/60 - 0s - loss: 0.1466 - accuracy: 0.8066 - val_loss: 0.1363 - val_accuracy: 0.8042 - 152ms/epoch - 3ms/step\n",
            "Epoch 65/100\n",
            "60/60 - 0s - loss: 0.1453 - accuracy: 0.8037 - val_loss: 0.1383 - val_accuracy: 0.7997 - 146ms/epoch - 2ms/step\n",
            "Epoch 66/100\n",
            "60/60 - 0s - loss: 0.1456 - accuracy: 0.8034 - val_loss: 0.1411 - val_accuracy: 0.7982 - 151ms/epoch - 3ms/step\n",
            "Epoch 67/100\n",
            "60/60 - 0s - loss: 0.1502 - accuracy: 0.8021 - val_loss: 0.1380 - val_accuracy: 0.8042 - 150ms/epoch - 2ms/step\n",
            "Epoch 68/100\n",
            "60/60 - 0s - loss: 0.1454 - accuracy: 0.8124 - val_loss: 0.1452 - val_accuracy: 0.7952 - 155ms/epoch - 3ms/step\n",
            "Epoch 69/100\n",
            "60/60 - 0s - loss: 0.1444 - accuracy: 0.8071 - val_loss: 0.1470 - val_accuracy: 0.8146 - 153ms/epoch - 3ms/step\n",
            "Epoch 70/100\n",
            "60/60 - 0s - loss: 0.1463 - accuracy: 0.8021 - val_loss: 0.1366 - val_accuracy: 0.8057 - 167ms/epoch - 3ms/step\n",
            "Epoch 71/100\n",
            "60/60 - 0s - loss: 0.1453 - accuracy: 0.8074 - val_loss: 0.1372 - val_accuracy: 0.8087 - 168ms/epoch - 3ms/step\n",
            "Epoch 72/100\n",
            "60/60 - 0s - loss: 0.1461 - accuracy: 0.8037 - val_loss: 0.1355 - val_accuracy: 0.7952 - 173ms/epoch - 3ms/step\n",
            "Epoch 73/100\n",
            "60/60 - 0s - loss: 0.1458 - accuracy: 0.8024 - val_loss: 0.1390 - val_accuracy: 0.8146 - 158ms/epoch - 3ms/step\n",
            "Epoch 74/100\n",
            "60/60 - 0s - loss: 0.1457 - accuracy: 0.8066 - val_loss: 0.1519 - val_accuracy: 0.8132 - 159ms/epoch - 3ms/step\n",
            "Epoch 75/100\n",
            "60/60 - 0s - loss: 0.1441 - accuracy: 0.8037 - val_loss: 0.1360 - val_accuracy: 0.8072 - 156ms/epoch - 3ms/step\n",
            "Epoch 76/100\n",
            "60/60 - 0s - loss: 0.1458 - accuracy: 0.8069 - val_loss: 0.1367 - val_accuracy: 0.8072 - 163ms/epoch - 3ms/step\n",
            "Epoch 77/100\n",
            "60/60 - 0s - loss: 0.1441 - accuracy: 0.8111 - val_loss: 0.1346 - val_accuracy: 0.8057 - 157ms/epoch - 3ms/step\n",
            "Epoch 78/100\n",
            "60/60 - 0s - loss: 0.1459 - accuracy: 0.8092 - val_loss: 0.1447 - val_accuracy: 0.8027 - 155ms/epoch - 3ms/step\n",
            "Epoch 79/100\n",
            "60/60 - 0s - loss: 0.1452 - accuracy: 0.7982 - val_loss: 0.1347 - val_accuracy: 0.8087 - 153ms/epoch - 3ms/step\n",
            "Epoch 80/100\n",
            "60/60 - 0s - loss: 0.1419 - accuracy: 0.8098 - val_loss: 0.1413 - val_accuracy: 0.8072 - 146ms/epoch - 2ms/step\n",
            "Epoch 81/100\n",
            "60/60 - 0s - loss: 0.1438 - accuracy: 0.8042 - val_loss: 0.1372 - val_accuracy: 0.8057 - 157ms/epoch - 3ms/step\n",
            "Epoch 82/100\n",
            "60/60 - 0s - loss: 0.1423 - accuracy: 0.8111 - val_loss: 0.1407 - val_accuracy: 0.8132 - 165ms/epoch - 3ms/step\n",
            "Epoch 83/100\n",
            "60/60 - 0s - loss: 0.1396 - accuracy: 0.8140 - val_loss: 0.1404 - val_accuracy: 0.8072 - 159ms/epoch - 3ms/step\n",
            "Epoch 84/100\n",
            "60/60 - 0s - loss: 0.1433 - accuracy: 0.8077 - val_loss: 0.1409 - val_accuracy: 0.8102 - 151ms/epoch - 3ms/step\n",
            "Epoch 85/100\n",
            "60/60 - 0s - loss: 0.1408 - accuracy: 0.8063 - val_loss: 0.1366 - val_accuracy: 0.8102 - 158ms/epoch - 3ms/step\n",
            "Epoch 86/100\n",
            "60/60 - 0s - loss: 0.1388 - accuracy: 0.8148 - val_loss: 0.1393 - val_accuracy: 0.8087 - 149ms/epoch - 2ms/step\n",
            "Epoch 87/100\n",
            "60/60 - 0s - loss: 0.1413 - accuracy: 0.8108 - val_loss: 0.1366 - val_accuracy: 0.8012 - 158ms/epoch - 3ms/step\n",
            "Epoch 88/100\n",
            "60/60 - 0s - loss: 0.1415 - accuracy: 0.8021 - val_loss: 0.1398 - val_accuracy: 0.8072 - 156ms/epoch - 3ms/step\n",
            "Epoch 89/100\n",
            "60/60 - 0s - loss: 0.1401 - accuracy: 0.8166 - val_loss: 0.1378 - val_accuracy: 0.7997 - 152ms/epoch - 3ms/step\n",
            "Epoch 90/100\n",
            "60/60 - 0s - loss: 0.1436 - accuracy: 0.8055 - val_loss: 0.1392 - val_accuracy: 0.7997 - 152ms/epoch - 3ms/step\n",
            "Epoch 91/100\n",
            "60/60 - 0s - loss: 0.1427 - accuracy: 0.8050 - val_loss: 0.1445 - val_accuracy: 0.8027 - 183ms/epoch - 3ms/step\n",
            "Epoch 92/100\n",
            "60/60 - 0s - loss: 0.1450 - accuracy: 0.8050 - val_loss: 0.1364 - val_accuracy: 0.8057 - 170ms/epoch - 3ms/step\n",
            "Epoch 93/100\n",
            "60/60 - 0s - loss: 0.1404 - accuracy: 0.8137 - val_loss: 0.1371 - val_accuracy: 0.8042 - 180ms/epoch - 3ms/step\n",
            "Epoch 94/100\n",
            "60/60 - 0s - loss: 0.1424 - accuracy: 0.8071 - val_loss: 0.1336 - val_accuracy: 0.8102 - 156ms/epoch - 3ms/step\n",
            "Epoch 95/100\n",
            "60/60 - 0s - loss: 0.1420 - accuracy: 0.8106 - val_loss: 0.1366 - val_accuracy: 0.8132 - 146ms/epoch - 2ms/step\n",
            "Epoch 96/100\n",
            "60/60 - 0s - loss: 0.1426 - accuracy: 0.8127 - val_loss: 0.1411 - val_accuracy: 0.8102 - 154ms/epoch - 3ms/step\n",
            "Epoch 97/100\n",
            "60/60 - 0s - loss: 0.1434 - accuracy: 0.8032 - val_loss: 0.1428 - val_accuracy: 0.7952 - 162ms/epoch - 3ms/step\n",
            "Epoch 98/100\n",
            "60/60 - 0s - loss: 0.1431 - accuracy: 0.8029 - val_loss: 0.1419 - val_accuracy: 0.8087 - 164ms/epoch - 3ms/step\n",
            "Epoch 99/100\n",
            "60/60 - 0s - loss: 0.1424 - accuracy: 0.8077 - val_loss: 0.1390 - val_accuracy: 0.8072 - 153ms/epoch - 3ms/step\n",
            "Epoch 100/100\n",
            "60/60 - 0s - loss: 0.1418 - accuracy: 0.8082 - val_loss: 0.1419 - val_accuracy: 0.7982 - 153ms/epoch - 3ms/step\n"
          ]
        }
      ]
    },
    {
      "cell_type": "code",
      "source": [
        "valid_loss, valid_accuracy = model.evaluate(x_valid, y_valid)\n",
        "valid_accuracy"
      ],
      "metadata": {
        "colab": {
          "base_uri": "https://localhost:8080/"
        },
        "outputId": "bd43c2d9-fe76-4e68-fde7-5e8fe208e4ce",
        "id": "T98VJOK0FeKi"
      },
      "execution_count": null,
      "outputs": [
        {
          "output_type": "stream",
          "name": "stdout",
          "text": [
            "47/47 [==============================] - 0s 4ms/step - loss: 0.1259 - accuracy: 0.8364\n"
          ]
        },
        {
          "output_type": "execute_result",
          "data": {
            "text/plain": [
              "0.8363636136054993"
            ]
          },
          "metadata": {},
          "execution_count": 156
        }
      ]
    },
    {
      "cell_type": "markdown",
      "source": [
        "#Batch Normalization and Dropout rate"
      ],
      "metadata": {
        "id": "XWp2SETOPdUF"
      }
    },
    {
      "cell_type": "markdown",
      "source": [
        "Batch Normalization custom model and Dropout rate = 0.5"
      ],
      "metadata": {
        "id": "3tT0EWzFPiTx"
      }
    },
    {
      "cell_type": "code",
      "source": [
        "model = Sequential([\n",
        "    Dense(64, input_shape=[x_train.shape[1],], activation=\"relu\"),\n",
        "    BatchNormalization(),  # <- Batch normalization layer 1\n",
        "    Dropout(0.5),\n",
        "    Dense(256, activation='relu'),\n",
        "])"
      ],
      "metadata": {
        "id": "VmlRj3e5PiTx"
      },
      "execution_count": null,
      "outputs": []
    },
    {
      "cell_type": "code",
      "source": [
        "# Add a customised batch normalization layer 2\n",
        "\n",
        "model.add(tf.keras.layers.BatchNormalization(\n",
        "    momentum=0.95, # default is 0.99\n",
        "    epsilon=0.003, #default is 0.001\n",
        "    axis = -1, #default is -1\n",
        "    beta_initializer=tf.keras.initializers.RandomNormal(mean=0.0, stddev=0.07), # default is beta_initializer='zeros'\n",
        "    gamma_initializer=tf.keras.initializers.Constant(value=0.9) # default is gamma_initializer='ones'\n",
        "))"
      ],
      "metadata": {
        "id": "-eUH0AukPiTy"
      },
      "execution_count": null,
      "outputs": []
    },
    {
      "cell_type": "code",
      "source": [
        "# Add the output layer\n",
        "\n",
        "model.add(Dense(1))"
      ],
      "metadata": {
        "id": "-idAvzQgPiTy"
      },
      "execution_count": null,
      "outputs": []
    },
    {
      "cell_type": "code",
      "source": [
        "# Compile the model\n",
        "\n",
        "model.compile(optimizer='adam',\n",
        "              loss='mse',\n",
        "              metrics=['accuracy'])"
      ],
      "metadata": {
        "id": "-NdTfugEPiTy"
      },
      "execution_count": null,
      "outputs": []
    },
    {
      "cell_type": "code",
      "source": [
        "# Train the model\n",
        "\n",
        "history = model.fit(x_train, y_train, epochs=100, validation_split=0.15, batch_size=64,verbose=2)"
      ],
      "metadata": {
        "colab": {
          "base_uri": "https://localhost:8080/"
        },
        "outputId": "f54a25fd-bb6b-4f1a-c636-8a940cefe3a1",
        "id": "0F-6RmmVPiTy"
      },
      "execution_count": null,
      "outputs": [
        {
          "output_type": "stream",
          "name": "stdout",
          "text": [
            "Epoch 1/100\n",
            "60/60 - 2s - loss: 0.9783 - accuracy: 0.5894 - val_loss: 0.4091 - val_accuracy: 0.3767 - 2s/epoch - 27ms/step\n",
            "Epoch 2/100\n",
            "60/60 - 0s - loss: 0.3532 - accuracy: 0.6386 - val_loss: 0.2491 - val_accuracy: 0.5859 - 166ms/epoch - 3ms/step\n",
            "Epoch 3/100\n",
            "60/60 - 0s - loss: 0.3133 - accuracy: 0.6526 - val_loss: 0.1854 - val_accuracy: 0.7743 - 149ms/epoch - 2ms/step\n",
            "Epoch 4/100\n",
            "60/60 - 0s - loss: 0.2828 - accuracy: 0.6666 - val_loss: 0.1646 - val_accuracy: 0.7758 - 153ms/epoch - 3ms/step\n",
            "Epoch 5/100\n",
            "60/60 - 0s - loss: 0.2613 - accuracy: 0.6822 - val_loss: 0.1920 - val_accuracy: 0.7399 - 172ms/epoch - 3ms/step\n",
            "Epoch 6/100\n",
            "60/60 - 0s - loss: 0.2330 - accuracy: 0.7094 - val_loss: 0.1742 - val_accuracy: 0.7668 - 149ms/epoch - 2ms/step\n",
            "Epoch 7/100\n",
            "60/60 - 0s - loss: 0.2286 - accuracy: 0.7046 - val_loss: 0.1746 - val_accuracy: 0.7668 - 164ms/epoch - 3ms/step\n",
            "Epoch 8/100\n",
            "60/60 - 0s - loss: 0.2252 - accuracy: 0.7107 - val_loss: 0.1572 - val_accuracy: 0.7803 - 154ms/epoch - 3ms/step\n",
            "Epoch 9/100\n",
            "60/60 - 0s - loss: 0.2053 - accuracy: 0.7231 - val_loss: 0.1486 - val_accuracy: 0.7877 - 166ms/epoch - 3ms/step\n",
            "Epoch 10/100\n",
            "60/60 - 0s - loss: 0.1954 - accuracy: 0.7461 - val_loss: 0.1559 - val_accuracy: 0.7833 - 161ms/epoch - 3ms/step\n",
            "Epoch 11/100\n",
            "60/60 - 0s - loss: 0.1917 - accuracy: 0.7413 - val_loss: 0.1641 - val_accuracy: 0.7803 - 166ms/epoch - 3ms/step\n",
            "Epoch 12/100\n",
            "60/60 - 0s - loss: 0.1919 - accuracy: 0.7448 - val_loss: 0.1536 - val_accuracy: 0.7848 - 149ms/epoch - 2ms/step\n",
            "Epoch 13/100\n",
            "60/60 - 0s - loss: 0.1885 - accuracy: 0.7559 - val_loss: 0.1644 - val_accuracy: 0.7803 - 163ms/epoch - 3ms/step\n",
            "Epoch 14/100\n",
            "60/60 - 0s - loss: 0.1841 - accuracy: 0.7569 - val_loss: 0.1580 - val_accuracy: 0.7788 - 159ms/epoch - 3ms/step\n",
            "Epoch 15/100\n",
            "60/60 - 0s - loss: 0.1777 - accuracy: 0.7672 - val_loss: 0.1551 - val_accuracy: 0.7833 - 153ms/epoch - 3ms/step\n",
            "Epoch 16/100\n",
            "60/60 - 0s - loss: 0.1839 - accuracy: 0.7572 - val_loss: 0.1537 - val_accuracy: 0.7818 - 157ms/epoch - 3ms/step\n",
            "Epoch 17/100\n",
            "60/60 - 0s - loss: 0.1757 - accuracy: 0.7667 - val_loss: 0.1556 - val_accuracy: 0.7833 - 166ms/epoch - 3ms/step\n",
            "Epoch 18/100\n",
            "60/60 - 0s - loss: 0.1725 - accuracy: 0.7757 - val_loss: 0.1540 - val_accuracy: 0.7862 - 156ms/epoch - 3ms/step\n",
            "Epoch 19/100\n",
            "60/60 - 0s - loss: 0.1735 - accuracy: 0.7723 - val_loss: 0.1479 - val_accuracy: 0.7862 - 158ms/epoch - 3ms/step\n",
            "Epoch 20/100\n",
            "60/60 - 0s - loss: 0.1688 - accuracy: 0.7783 - val_loss: 0.1494 - val_accuracy: 0.7848 - 166ms/epoch - 3ms/step\n",
            "Epoch 21/100\n",
            "60/60 - 0s - loss: 0.1697 - accuracy: 0.7717 - val_loss: 0.1643 - val_accuracy: 0.7952 - 176ms/epoch - 3ms/step\n",
            "Epoch 22/100\n",
            "60/60 - 0s - loss: 0.1694 - accuracy: 0.7810 - val_loss: 0.1504 - val_accuracy: 0.7967 - 165ms/epoch - 3ms/step\n",
            "Epoch 23/100\n",
            "60/60 - 0s - loss: 0.1706 - accuracy: 0.7701 - val_loss: 0.1618 - val_accuracy: 0.7833 - 181ms/epoch - 3ms/step\n",
            "Epoch 24/100\n",
            "60/60 - 0s - loss: 0.1680 - accuracy: 0.7791 - val_loss: 0.1464 - val_accuracy: 0.8012 - 161ms/epoch - 3ms/step\n",
            "Epoch 25/100\n",
            "60/60 - 0s - loss: 0.1635 - accuracy: 0.7802 - val_loss: 0.1458 - val_accuracy: 0.7818 - 168ms/epoch - 3ms/step\n",
            "Epoch 26/100\n",
            "60/60 - 0s - loss: 0.1615 - accuracy: 0.7831 - val_loss: 0.1451 - val_accuracy: 0.7997 - 167ms/epoch - 3ms/step\n",
            "Epoch 27/100\n",
            "60/60 - 0s - loss: 0.1608 - accuracy: 0.7886 - val_loss: 0.1547 - val_accuracy: 0.7922 - 173ms/epoch - 3ms/step\n",
            "Epoch 28/100\n",
            "60/60 - 0s - loss: 0.1588 - accuracy: 0.7839 - val_loss: 0.1526 - val_accuracy: 0.7877 - 176ms/epoch - 3ms/step\n",
            "Epoch 29/100\n",
            "60/60 - 0s - loss: 0.1614 - accuracy: 0.7892 - val_loss: 0.1476 - val_accuracy: 0.7937 - 171ms/epoch - 3ms/step\n",
            "Epoch 30/100\n",
            "60/60 - 0s - loss: 0.1599 - accuracy: 0.7939 - val_loss: 0.1472 - val_accuracy: 0.7997 - 153ms/epoch - 3ms/step\n",
            "Epoch 31/100\n",
            "60/60 - 0s - loss: 0.1572 - accuracy: 0.7955 - val_loss: 0.1455 - val_accuracy: 0.8072 - 150ms/epoch - 3ms/step\n",
            "Epoch 32/100\n",
            "60/60 - 0s - loss: 0.1593 - accuracy: 0.7873 - val_loss: 0.1412 - val_accuracy: 0.8027 - 144ms/epoch - 2ms/step\n",
            "Epoch 33/100\n",
            "60/60 - 0s - loss: 0.1578 - accuracy: 0.7926 - val_loss: 0.1549 - val_accuracy: 0.7967 - 154ms/epoch - 3ms/step\n",
            "Epoch 34/100\n",
            "60/60 - 0s - loss: 0.1587 - accuracy: 0.7926 - val_loss: 0.1409 - val_accuracy: 0.8072 - 159ms/epoch - 3ms/step\n",
            "Epoch 35/100\n",
            "60/60 - 0s - loss: 0.1546 - accuracy: 0.7915 - val_loss: 0.1609 - val_accuracy: 0.8042 - 151ms/epoch - 3ms/step\n",
            "Epoch 36/100\n",
            "60/60 - 0s - loss: 0.1539 - accuracy: 0.7968 - val_loss: 0.1462 - val_accuracy: 0.7997 - 164ms/epoch - 3ms/step\n",
            "Epoch 37/100\n",
            "60/60 - 0s - loss: 0.1545 - accuracy: 0.7982 - val_loss: 0.1456 - val_accuracy: 0.8012 - 151ms/epoch - 3ms/step\n",
            "Epoch 38/100\n",
            "60/60 - 0s - loss: 0.1514 - accuracy: 0.8011 - val_loss: 0.1440 - val_accuracy: 0.7997 - 148ms/epoch - 2ms/step\n",
            "Epoch 39/100\n",
            "60/60 - 0s - loss: 0.1560 - accuracy: 0.7939 - val_loss: 0.1421 - val_accuracy: 0.7997 - 145ms/epoch - 2ms/step\n",
            "Epoch 40/100\n",
            "60/60 - 0s - loss: 0.1512 - accuracy: 0.7989 - val_loss: 0.1439 - val_accuracy: 0.8057 - 160ms/epoch - 3ms/step\n",
            "Epoch 41/100\n",
            "60/60 - 0s - loss: 0.1516 - accuracy: 0.7992 - val_loss: 0.1462 - val_accuracy: 0.8072 - 153ms/epoch - 3ms/step\n",
            "Epoch 42/100\n",
            "60/60 - 0s - loss: 0.1535 - accuracy: 0.7908 - val_loss: 0.1407 - val_accuracy: 0.8012 - 182ms/epoch - 3ms/step\n",
            "Epoch 43/100\n",
            "60/60 - 0s - loss: 0.1564 - accuracy: 0.7905 - val_loss: 0.1411 - val_accuracy: 0.8057 - 165ms/epoch - 3ms/step\n",
            "Epoch 44/100\n",
            "60/60 - 0s - loss: 0.1514 - accuracy: 0.7929 - val_loss: 0.1420 - val_accuracy: 0.8042 - 179ms/epoch - 3ms/step\n",
            "Epoch 45/100\n",
            "60/60 - 0s - loss: 0.1538 - accuracy: 0.7989 - val_loss: 0.1369 - val_accuracy: 0.8042 - 169ms/epoch - 3ms/step\n",
            "Epoch 46/100\n",
            "60/60 - 0s - loss: 0.1517 - accuracy: 0.7995 - val_loss: 0.1438 - val_accuracy: 0.8057 - 157ms/epoch - 3ms/step\n",
            "Epoch 47/100\n",
            "60/60 - 0s - loss: 0.1523 - accuracy: 0.7992 - val_loss: 0.1379 - val_accuracy: 0.8012 - 159ms/epoch - 3ms/step\n",
            "Epoch 48/100\n",
            "60/60 - 0s - loss: 0.1540 - accuracy: 0.7913 - val_loss: 0.1380 - val_accuracy: 0.8027 - 170ms/epoch - 3ms/step\n",
            "Epoch 49/100\n",
            "60/60 - 0s - loss: 0.1517 - accuracy: 0.7989 - val_loss: 0.1442 - val_accuracy: 0.8117 - 152ms/epoch - 3ms/step\n",
            "Epoch 50/100\n",
            "60/60 - 0s - loss: 0.1499 - accuracy: 0.8034 - val_loss: 0.1458 - val_accuracy: 0.8042 - 161ms/epoch - 3ms/step\n",
            "Epoch 51/100\n",
            "60/60 - 0s - loss: 0.1522 - accuracy: 0.7923 - val_loss: 0.1398 - val_accuracy: 0.8102 - 153ms/epoch - 3ms/step\n",
            "Epoch 52/100\n",
            "60/60 - 0s - loss: 0.1490 - accuracy: 0.8008 - val_loss: 0.1484 - val_accuracy: 0.8087 - 147ms/epoch - 2ms/step\n",
            "Epoch 53/100\n",
            "60/60 - 0s - loss: 0.1547 - accuracy: 0.7971 - val_loss: 0.1369 - val_accuracy: 0.8087 - 172ms/epoch - 3ms/step\n",
            "Epoch 54/100\n",
            "60/60 - 0s - loss: 0.1491 - accuracy: 0.8005 - val_loss: 0.1369 - val_accuracy: 0.8012 - 170ms/epoch - 3ms/step\n",
            "Epoch 55/100\n",
            "60/60 - 0s - loss: 0.1449 - accuracy: 0.8079 - val_loss: 0.1377 - val_accuracy: 0.8012 - 160ms/epoch - 3ms/step\n",
            "Epoch 56/100\n",
            "60/60 - 0s - loss: 0.1499 - accuracy: 0.8000 - val_loss: 0.1351 - val_accuracy: 0.8072 - 166ms/epoch - 3ms/step\n",
            "Epoch 57/100\n",
            "60/60 - 0s - loss: 0.1460 - accuracy: 0.8111 - val_loss: 0.1353 - val_accuracy: 0.7997 - 150ms/epoch - 3ms/step\n",
            "Epoch 58/100\n",
            "60/60 - 0s - loss: 0.1519 - accuracy: 0.7979 - val_loss: 0.1347 - val_accuracy: 0.8102 - 160ms/epoch - 3ms/step\n",
            "Epoch 59/100\n",
            "60/60 - 0s - loss: 0.1513 - accuracy: 0.7989 - val_loss: 0.1393 - val_accuracy: 0.8072 - 162ms/epoch - 3ms/step\n",
            "Epoch 60/100\n",
            "60/60 - 0s - loss: 0.1517 - accuracy: 0.8003 - val_loss: 0.1362 - val_accuracy: 0.8087 - 172ms/epoch - 3ms/step\n",
            "Epoch 61/100\n",
            "60/60 - 0s - loss: 0.1467 - accuracy: 0.8040 - val_loss: 0.1412 - val_accuracy: 0.7952 - 177ms/epoch - 3ms/step\n",
            "Epoch 62/100\n",
            "60/60 - 0s - loss: 0.1461 - accuracy: 0.8061 - val_loss: 0.1417 - val_accuracy: 0.8012 - 170ms/epoch - 3ms/step\n",
            "Epoch 63/100\n",
            "60/60 - 0s - loss: 0.1489 - accuracy: 0.8090 - val_loss: 0.1459 - val_accuracy: 0.8027 - 159ms/epoch - 3ms/step\n",
            "Epoch 64/100\n",
            "60/60 - 0s - loss: 0.1543 - accuracy: 0.7923 - val_loss: 0.1394 - val_accuracy: 0.8042 - 153ms/epoch - 3ms/step\n",
            "Epoch 65/100\n",
            "60/60 - 0s - loss: 0.1499 - accuracy: 0.7984 - val_loss: 0.1396 - val_accuracy: 0.8102 - 149ms/epoch - 2ms/step\n",
            "Epoch 66/100\n",
            "60/60 - 0s - loss: 0.1467 - accuracy: 0.8032 - val_loss: 0.1581 - val_accuracy: 0.8027 - 163ms/epoch - 3ms/step\n",
            "Epoch 67/100\n",
            "60/60 - 0s - loss: 0.1459 - accuracy: 0.8026 - val_loss: 0.1404 - val_accuracy: 0.7952 - 177ms/epoch - 3ms/step\n",
            "Epoch 68/100\n",
            "60/60 - 0s - loss: 0.1493 - accuracy: 0.8011 - val_loss: 0.1361 - val_accuracy: 0.8117 - 174ms/epoch - 3ms/step\n",
            "Epoch 69/100\n",
            "60/60 - 0s - loss: 0.1470 - accuracy: 0.8069 - val_loss: 0.1382 - val_accuracy: 0.8117 - 162ms/epoch - 3ms/step\n",
            "Epoch 70/100\n",
            "60/60 - 0s - loss: 0.1469 - accuracy: 0.8071 - val_loss: 0.1401 - val_accuracy: 0.8042 - 161ms/epoch - 3ms/step\n",
            "Epoch 71/100\n",
            "60/60 - 0s - loss: 0.1471 - accuracy: 0.8048 - val_loss: 0.1337 - val_accuracy: 0.8057 - 150ms/epoch - 3ms/step\n",
            "Epoch 72/100\n",
            "60/60 - 0s - loss: 0.1497 - accuracy: 0.8029 - val_loss: 0.1406 - val_accuracy: 0.8102 - 155ms/epoch - 3ms/step\n",
            "Epoch 73/100\n",
            "60/60 - 0s - loss: 0.1464 - accuracy: 0.8029 - val_loss: 0.1416 - val_accuracy: 0.8132 - 155ms/epoch - 3ms/step\n",
            "Epoch 74/100\n",
            "60/60 - 0s - loss: 0.1502 - accuracy: 0.7979 - val_loss: 0.1401 - val_accuracy: 0.8042 - 159ms/epoch - 3ms/step\n",
            "Epoch 75/100\n",
            "60/60 - 0s - loss: 0.1467 - accuracy: 0.7979 - val_loss: 0.1405 - val_accuracy: 0.8057 - 147ms/epoch - 2ms/step\n",
            "Epoch 76/100\n",
            "60/60 - 0s - loss: 0.1473 - accuracy: 0.7979 - val_loss: 0.1351 - val_accuracy: 0.8102 - 158ms/epoch - 3ms/step\n",
            "Epoch 77/100\n",
            "60/60 - 0s - loss: 0.1449 - accuracy: 0.8018 - val_loss: 0.1432 - val_accuracy: 0.8102 - 153ms/epoch - 3ms/step\n",
            "Epoch 78/100\n",
            "60/60 - 0s - loss: 0.1447 - accuracy: 0.8045 - val_loss: 0.1423 - val_accuracy: 0.8012 - 150ms/epoch - 3ms/step\n",
            "Epoch 79/100\n",
            "60/60 - 0s - loss: 0.1449 - accuracy: 0.8116 - val_loss: 0.1450 - val_accuracy: 0.8087 - 163ms/epoch - 3ms/step\n",
            "Epoch 80/100\n",
            "60/60 - 0s - loss: 0.1460 - accuracy: 0.8063 - val_loss: 0.1348 - val_accuracy: 0.8087 - 149ms/epoch - 2ms/step\n",
            "Epoch 81/100\n",
            "60/60 - 0s - loss: 0.1449 - accuracy: 0.8077 - val_loss: 0.1358 - val_accuracy: 0.8072 - 161ms/epoch - 3ms/step\n",
            "Epoch 82/100\n",
            "60/60 - 0s - loss: 0.1436 - accuracy: 0.8079 - val_loss: 0.1354 - val_accuracy: 0.8087 - 158ms/epoch - 3ms/step\n",
            "Epoch 83/100\n",
            "60/60 - 0s - loss: 0.1501 - accuracy: 0.8013 - val_loss: 0.1337 - val_accuracy: 0.8102 - 162ms/epoch - 3ms/step\n",
            "Epoch 84/100\n",
            "60/60 - 0s - loss: 0.1460 - accuracy: 0.8074 - val_loss: 0.1420 - val_accuracy: 0.8072 - 172ms/epoch - 3ms/step\n",
            "Epoch 85/100\n",
            "60/60 - 0s - loss: 0.1454 - accuracy: 0.8018 - val_loss: 0.1351 - val_accuracy: 0.8042 - 160ms/epoch - 3ms/step\n",
            "Epoch 86/100\n",
            "60/60 - 0s - loss: 0.1455 - accuracy: 0.8029 - val_loss: 0.1348 - val_accuracy: 0.8132 - 150ms/epoch - 2ms/step\n",
            "Epoch 87/100\n",
            "60/60 - 0s - loss: 0.1449 - accuracy: 0.8037 - val_loss: 0.1346 - val_accuracy: 0.8042 - 149ms/epoch - 2ms/step\n",
            "Epoch 88/100\n",
            "60/60 - 0s - loss: 0.1422 - accuracy: 0.8071 - val_loss: 0.1383 - val_accuracy: 0.8072 - 152ms/epoch - 3ms/step\n",
            "Epoch 89/100\n",
            "60/60 - 0s - loss: 0.1425 - accuracy: 0.8098 - val_loss: 0.1337 - val_accuracy: 0.8072 - 154ms/epoch - 3ms/step\n",
            "Epoch 90/100\n",
            "60/60 - 0s - loss: 0.1468 - accuracy: 0.8011 - val_loss: 0.1398 - val_accuracy: 0.8042 - 151ms/epoch - 3ms/step\n",
            "Epoch 91/100\n",
            "60/60 - 0s - loss: 0.1428 - accuracy: 0.8135 - val_loss: 0.1349 - val_accuracy: 0.8042 - 152ms/epoch - 3ms/step\n",
            "Epoch 92/100\n",
            "60/60 - 0s - loss: 0.1429 - accuracy: 0.8122 - val_loss: 0.1365 - val_accuracy: 0.8072 - 157ms/epoch - 3ms/step\n",
            "Epoch 93/100\n",
            "60/60 - 0s - loss: 0.1467 - accuracy: 0.7997 - val_loss: 0.1376 - val_accuracy: 0.8042 - 148ms/epoch - 2ms/step\n",
            "Epoch 94/100\n",
            "60/60 - 0s - loss: 0.1464 - accuracy: 0.8045 - val_loss: 0.1335 - val_accuracy: 0.8087 - 157ms/epoch - 3ms/step\n",
            "Epoch 95/100\n",
            "60/60 - 0s - loss: 0.1439 - accuracy: 0.8026 - val_loss: 0.1355 - val_accuracy: 0.8057 - 157ms/epoch - 3ms/step\n",
            "Epoch 96/100\n",
            "60/60 - 0s - loss: 0.1426 - accuracy: 0.8132 - val_loss: 0.1354 - val_accuracy: 0.8072 - 150ms/epoch - 3ms/step\n",
            "Epoch 97/100\n",
            "60/60 - 0s - loss: 0.1454 - accuracy: 0.8042 - val_loss: 0.1360 - val_accuracy: 0.8057 - 155ms/epoch - 3ms/step\n",
            "Epoch 98/100\n",
            "60/60 - 0s - loss: 0.1442 - accuracy: 0.8053 - val_loss: 0.1359 - val_accuracy: 0.8102 - 169ms/epoch - 3ms/step\n",
            "Epoch 99/100\n",
            "60/60 - 0s - loss: 0.1433 - accuracy: 0.8100 - val_loss: 0.1346 - val_accuracy: 0.8072 - 146ms/epoch - 2ms/step\n",
            "Epoch 100/100\n",
            "60/60 - 0s - loss: 0.1467 - accuracy: 0.8013 - val_loss: 0.1344 - val_accuracy: 0.8117 - 158ms/epoch - 3ms/step\n"
          ]
        }
      ]
    },
    {
      "cell_type": "code",
      "source": [
        "valid_loss, valid_accuracy = model.evaluate(x_valid, y_valid)\n",
        "valid_accuracy"
      ],
      "metadata": {
        "colab": {
          "base_uri": "https://localhost:8080/"
        },
        "outputId": "cfebade6-b929-4d07-f945-f3670e518935",
        "id": "1Y-mxdXoPiTy"
      },
      "execution_count": null,
      "outputs": [
        {
          "output_type": "stream",
          "name": "stdout",
          "text": [
            "47/47 [==============================] - 0s 2ms/step - loss: 0.1193 - accuracy: 0.8303\n"
          ]
        },
        {
          "output_type": "execute_result",
          "data": {
            "text/plain": [
              "0.8303030133247375"
            ]
          },
          "metadata": {},
          "execution_count": 162
        }
      ]
    },
    {
      "cell_type": "markdown",
      "source": [
        "Batch Normalization custom model and Dropout rate = 0.4"
      ],
      "metadata": {
        "id": "U6soHU8eQPI5"
      }
    },
    {
      "cell_type": "code",
      "source": [
        "model = Sequential([\n",
        "    Dense(64, input_shape=[x_train.shape[1],], activation=\"relu\"),\n",
        "    BatchNormalization(),  # <- Batch normalization layer 1\n",
        "    Dropout(0.4),\n",
        "    Dense(256, activation='relu'),\n",
        "])"
      ],
      "metadata": {
        "id": "6WF9AhcgQPI6"
      },
      "execution_count": null,
      "outputs": []
    },
    {
      "cell_type": "code",
      "source": [
        "# Add a customised batch normalization layer 2\n",
        "\n",
        "model.add(tf.keras.layers.BatchNormalization(\n",
        "    momentum=0.95, # default is 0.99\n",
        "    epsilon=0.005, #default is 0.001\n",
        "    axis = -1, #default is -1\n",
        "    beta_initializer=tf.keras.initializers.RandomNormal(mean=0.0, stddev=0.07), # default is beta_initializer='zeros'\n",
        "    gamma_initializer=tf.keras.initializers.Constant(value=0.9) # default is gamma_initializer='ones'\n",
        "))"
      ],
      "metadata": {
        "id": "jiY9GhJaQPI6"
      },
      "execution_count": null,
      "outputs": []
    },
    {
      "cell_type": "code",
      "source": [
        "# Add the output layer\n",
        "\n",
        "model.add(Dense(1))"
      ],
      "metadata": {
        "id": "P-kzBhIBQPI7"
      },
      "execution_count": null,
      "outputs": []
    },
    {
      "cell_type": "code",
      "source": [
        "# Compile the model\n",
        "\n",
        "model.compile(optimizer='adam',\n",
        "              loss='mse',\n",
        "              metrics=['accuracy'])"
      ],
      "metadata": {
        "id": "x93tu_x3QPI7"
      },
      "execution_count": null,
      "outputs": []
    },
    {
      "cell_type": "code",
      "source": [
        "# Train the model\n",
        "\n",
        "history = model.fit(x_train, y_train, epochs=100, validation_split=0.15, batch_size=64,verbose=2)"
      ],
      "metadata": {
        "colab": {
          "base_uri": "https://localhost:8080/"
        },
        "outputId": "e3ce8d5a-1fb7-402f-c5e1-06043993c360",
        "id": "B9BP3FNrQPI7"
      },
      "execution_count": null,
      "outputs": [
        {
          "output_type": "stream",
          "name": "stdout",
          "text": [
            "Epoch 1/100\n",
            "60/60 - 1s - loss: 0.5798 - accuracy: 0.6040 - val_loss: 0.2595 - val_accuracy: 0.6353 - 1s/epoch - 19ms/step\n",
            "Epoch 2/100\n",
            "60/60 - 0s - loss: 0.2913 - accuracy: 0.6613 - val_loss: 0.2011 - val_accuracy: 0.7235 - 180ms/epoch - 3ms/step\n",
            "Epoch 3/100\n",
            "60/60 - 0s - loss: 0.2746 - accuracy: 0.6856 - val_loss: 0.1918 - val_accuracy: 0.7653 - 180ms/epoch - 3ms/step\n",
            "Epoch 4/100\n",
            "60/60 - 0s - loss: 0.2596 - accuracy: 0.6904 - val_loss: 0.1704 - val_accuracy: 0.7773 - 180ms/epoch - 3ms/step\n",
            "Epoch 5/100\n",
            "60/60 - 0s - loss: 0.2368 - accuracy: 0.6967 - val_loss: 0.1680 - val_accuracy: 0.7668 - 150ms/epoch - 3ms/step\n",
            "Epoch 6/100\n",
            "60/60 - 0s - loss: 0.2231 - accuracy: 0.7215 - val_loss: 0.1607 - val_accuracy: 0.7773 - 161ms/epoch - 3ms/step\n",
            "Epoch 7/100\n",
            "60/60 - 0s - loss: 0.2060 - accuracy: 0.7324 - val_loss: 0.1690 - val_accuracy: 0.7758 - 171ms/epoch - 3ms/step\n",
            "Epoch 8/100\n",
            "60/60 - 0s - loss: 0.1954 - accuracy: 0.7485 - val_loss: 0.1552 - val_accuracy: 0.7713 - 152ms/epoch - 3ms/step\n",
            "Epoch 9/100\n",
            "60/60 - 0s - loss: 0.1950 - accuracy: 0.7411 - val_loss: 0.1544 - val_accuracy: 0.7818 - 155ms/epoch - 3ms/step\n",
            "Epoch 10/100\n",
            "60/60 - 0s - loss: 0.1949 - accuracy: 0.7448 - val_loss: 0.1530 - val_accuracy: 0.7892 - 164ms/epoch - 3ms/step\n",
            "Epoch 11/100\n",
            "60/60 - 0s - loss: 0.1857 - accuracy: 0.7564 - val_loss: 0.1522 - val_accuracy: 0.7937 - 164ms/epoch - 3ms/step\n",
            "Epoch 12/100\n",
            "60/60 - 0s - loss: 0.1821 - accuracy: 0.7564 - val_loss: 0.1514 - val_accuracy: 0.7937 - 156ms/epoch - 3ms/step\n",
            "Epoch 13/100\n",
            "60/60 - 0s - loss: 0.1787 - accuracy: 0.7617 - val_loss: 0.1618 - val_accuracy: 0.7773 - 148ms/epoch - 2ms/step\n",
            "Epoch 14/100\n",
            "60/60 - 0s - loss: 0.1821 - accuracy: 0.7641 - val_loss: 0.1519 - val_accuracy: 0.7892 - 152ms/epoch - 3ms/step\n",
            "Epoch 15/100\n",
            "60/60 - 0s - loss: 0.1747 - accuracy: 0.7701 - val_loss: 0.1903 - val_accuracy: 0.7818 - 157ms/epoch - 3ms/step\n",
            "Epoch 16/100\n",
            "60/60 - 0s - loss: 0.1745 - accuracy: 0.7717 - val_loss: 0.1485 - val_accuracy: 0.7997 - 169ms/epoch - 3ms/step\n",
            "Epoch 17/100\n",
            "60/60 - 0s - loss: 0.1701 - accuracy: 0.7738 - val_loss: 0.1492 - val_accuracy: 0.7952 - 161ms/epoch - 3ms/step\n",
            "Epoch 18/100\n",
            "60/60 - 0s - loss: 0.1671 - accuracy: 0.7794 - val_loss: 0.1548 - val_accuracy: 0.7907 - 162ms/epoch - 3ms/step\n",
            "Epoch 19/100\n",
            "60/60 - 0s - loss: 0.1637 - accuracy: 0.7902 - val_loss: 0.1532 - val_accuracy: 0.7877 - 163ms/epoch - 3ms/step\n",
            "Epoch 20/100\n",
            "60/60 - 0s - loss: 0.1633 - accuracy: 0.7831 - val_loss: 0.1566 - val_accuracy: 0.7937 - 161ms/epoch - 3ms/step\n",
            "Epoch 21/100\n",
            "60/60 - 0s - loss: 0.1612 - accuracy: 0.7860 - val_loss: 0.1521 - val_accuracy: 0.7952 - 153ms/epoch - 3ms/step\n",
            "Epoch 22/100\n",
            "60/60 - 0s - loss: 0.1618 - accuracy: 0.7852 - val_loss: 0.1426 - val_accuracy: 0.8042 - 162ms/epoch - 3ms/step\n",
            "Epoch 23/100\n",
            "60/60 - 0s - loss: 0.1586 - accuracy: 0.7886 - val_loss: 0.1503 - val_accuracy: 0.8042 - 164ms/epoch - 3ms/step\n",
            "Epoch 24/100\n",
            "60/60 - 0s - loss: 0.1608 - accuracy: 0.7863 - val_loss: 0.1498 - val_accuracy: 0.8117 - 163ms/epoch - 3ms/step\n",
            "Epoch 25/100\n",
            "60/60 - 0s - loss: 0.1573 - accuracy: 0.7937 - val_loss: 0.1684 - val_accuracy: 0.8012 - 180ms/epoch - 3ms/step\n",
            "Epoch 26/100\n",
            "60/60 - 0s - loss: 0.1544 - accuracy: 0.7968 - val_loss: 0.1548 - val_accuracy: 0.7877 - 149ms/epoch - 2ms/step\n",
            "Epoch 27/100\n",
            "60/60 - 0s - loss: 0.1533 - accuracy: 0.7894 - val_loss: 0.1621 - val_accuracy: 0.8012 - 156ms/epoch - 3ms/step\n",
            "Epoch 28/100\n",
            "60/60 - 0s - loss: 0.1520 - accuracy: 0.7955 - val_loss: 0.1988 - val_accuracy: 0.7967 - 160ms/epoch - 3ms/step\n",
            "Epoch 29/100\n",
            "60/60 - 0s - loss: 0.1567 - accuracy: 0.7878 - val_loss: 0.1750 - val_accuracy: 0.8117 - 154ms/epoch - 3ms/step\n",
            "Epoch 30/100\n",
            "60/60 - 0s - loss: 0.1498 - accuracy: 0.7960 - val_loss: 0.1647 - val_accuracy: 0.8012 - 156ms/epoch - 3ms/step\n",
            "Epoch 31/100\n",
            "60/60 - 0s - loss: 0.1551 - accuracy: 0.7934 - val_loss: 0.1641 - val_accuracy: 0.7967 - 159ms/epoch - 3ms/step\n",
            "Epoch 32/100\n",
            "60/60 - 0s - loss: 0.1544 - accuracy: 0.7929 - val_loss: 0.1468 - val_accuracy: 0.8087 - 157ms/epoch - 3ms/step\n",
            "Epoch 33/100\n",
            "60/60 - 0s - loss: 0.1492 - accuracy: 0.8024 - val_loss: 0.1410 - val_accuracy: 0.8012 - 150ms/epoch - 3ms/step\n",
            "Epoch 34/100\n",
            "60/60 - 0s - loss: 0.1516 - accuracy: 0.7955 - val_loss: 0.1459 - val_accuracy: 0.7952 - 153ms/epoch - 3ms/step\n",
            "Epoch 35/100\n",
            "60/60 - 0s - loss: 0.1506 - accuracy: 0.7947 - val_loss: 0.1364 - val_accuracy: 0.8012 - 178ms/epoch - 3ms/step\n",
            "Epoch 36/100\n",
            "60/60 - 0s - loss: 0.1528 - accuracy: 0.8003 - val_loss: 0.1524 - val_accuracy: 0.8027 - 161ms/epoch - 3ms/step\n",
            "Epoch 37/100\n",
            "60/60 - 0s - loss: 0.1497 - accuracy: 0.8024 - val_loss: 0.1806 - val_accuracy: 0.8117 - 154ms/epoch - 3ms/step\n",
            "Epoch 38/100\n",
            "60/60 - 0s - loss: 0.1591 - accuracy: 0.7881 - val_loss: 0.1683 - val_accuracy: 0.8072 - 156ms/epoch - 3ms/step\n",
            "Epoch 39/100\n",
            "60/60 - 0s - loss: 0.1480 - accuracy: 0.7997 - val_loss: 0.1433 - val_accuracy: 0.7997 - 158ms/epoch - 3ms/step\n",
            "Epoch 40/100\n",
            "60/60 - 0s - loss: 0.1502 - accuracy: 0.8074 - val_loss: 0.1434 - val_accuracy: 0.8102 - 159ms/epoch - 3ms/step\n",
            "Epoch 41/100\n",
            "60/60 - 0s - loss: 0.1513 - accuracy: 0.7937 - val_loss: 0.1410 - val_accuracy: 0.7907 - 218ms/epoch - 4ms/step\n",
            "Epoch 42/100\n",
            "60/60 - 0s - loss: 0.1497 - accuracy: 0.7997 - val_loss: 0.1416 - val_accuracy: 0.7997 - 152ms/epoch - 3ms/step\n",
            "Epoch 43/100\n",
            "60/60 - 0s - loss: 0.1471 - accuracy: 0.8050 - val_loss: 0.1398 - val_accuracy: 0.8161 - 151ms/epoch - 3ms/step\n",
            "Epoch 44/100\n",
            "60/60 - 0s - loss: 0.1470 - accuracy: 0.7987 - val_loss: 0.1473 - val_accuracy: 0.8102 - 159ms/epoch - 3ms/step\n",
            "Epoch 45/100\n",
            "60/60 - 0s - loss: 0.1480 - accuracy: 0.8037 - val_loss: 0.1453 - val_accuracy: 0.7997 - 149ms/epoch - 2ms/step\n",
            "Epoch 46/100\n",
            "60/60 - 0s - loss: 0.1477 - accuracy: 0.8048 - val_loss: 0.1419 - val_accuracy: 0.8042 - 149ms/epoch - 2ms/step\n",
            "Epoch 47/100\n",
            "60/60 - 0s - loss: 0.1481 - accuracy: 0.8048 - val_loss: 0.1412 - val_accuracy: 0.8117 - 167ms/epoch - 3ms/step\n",
            "Epoch 48/100\n",
            "60/60 - 0s - loss: 0.1467 - accuracy: 0.7984 - val_loss: 0.1410 - val_accuracy: 0.7997 - 148ms/epoch - 2ms/step\n",
            "Epoch 49/100\n",
            "60/60 - 0s - loss: 0.1456 - accuracy: 0.8074 - val_loss: 0.1399 - val_accuracy: 0.8042 - 168ms/epoch - 3ms/step\n",
            "Epoch 50/100\n",
            "60/60 - 0s - loss: 0.1471 - accuracy: 0.8011 - val_loss: 0.1378 - val_accuracy: 0.8087 - 176ms/epoch - 3ms/step\n",
            "Epoch 51/100\n",
            "60/60 - 0s - loss: 0.1469 - accuracy: 0.8077 - val_loss: 0.1387 - val_accuracy: 0.8057 - 176ms/epoch - 3ms/step\n",
            "Epoch 52/100\n",
            "60/60 - 0s - loss: 0.1482 - accuracy: 0.7995 - val_loss: 0.1366 - val_accuracy: 0.8012 - 167ms/epoch - 3ms/step\n",
            "Epoch 53/100\n",
            "60/60 - 0s - loss: 0.1443 - accuracy: 0.8021 - val_loss: 0.1408 - val_accuracy: 0.8057 - 186ms/epoch - 3ms/step\n",
            "Epoch 54/100\n",
            "60/60 - 0s - loss: 0.1460 - accuracy: 0.8058 - val_loss: 0.1393 - val_accuracy: 0.8042 - 179ms/epoch - 3ms/step\n",
            "Epoch 55/100\n",
            "60/60 - 0s - loss: 0.1481 - accuracy: 0.8034 - val_loss: 0.1377 - val_accuracy: 0.8057 - 170ms/epoch - 3ms/step\n",
            "Epoch 56/100\n",
            "60/60 - 0s - loss: 0.1453 - accuracy: 0.8071 - val_loss: 0.1360 - val_accuracy: 0.8057 - 165ms/epoch - 3ms/step\n",
            "Epoch 57/100\n",
            "60/60 - 0s - loss: 0.1481 - accuracy: 0.7960 - val_loss: 0.1394 - val_accuracy: 0.8027 - 167ms/epoch - 3ms/step\n",
            "Epoch 58/100\n",
            "60/60 - 0s - loss: 0.1481 - accuracy: 0.7968 - val_loss: 0.1444 - val_accuracy: 0.8057 - 155ms/epoch - 3ms/step\n",
            "Epoch 59/100\n",
            "60/60 - 0s - loss: 0.1458 - accuracy: 0.8079 - val_loss: 0.1371 - val_accuracy: 0.8027 - 178ms/epoch - 3ms/step\n",
            "Epoch 60/100\n",
            "60/60 - 0s - loss: 0.1442 - accuracy: 0.8063 - val_loss: 0.1430 - val_accuracy: 0.8117 - 150ms/epoch - 3ms/step\n",
            "Epoch 61/100\n",
            "60/60 - 0s - loss: 0.1441 - accuracy: 0.8048 - val_loss: 0.1429 - val_accuracy: 0.8012 - 165ms/epoch - 3ms/step\n",
            "Epoch 62/100\n",
            "60/60 - 0s - loss: 0.1452 - accuracy: 0.8082 - val_loss: 0.1413 - val_accuracy: 0.7967 - 156ms/epoch - 3ms/step\n",
            "Epoch 63/100\n",
            "60/60 - 0s - loss: 0.1469 - accuracy: 0.8018 - val_loss: 0.1494 - val_accuracy: 0.7982 - 152ms/epoch - 3ms/step\n",
            "Epoch 64/100\n",
            "60/60 - 0s - loss: 0.1428 - accuracy: 0.8082 - val_loss: 0.1588 - val_accuracy: 0.8102 - 150ms/epoch - 3ms/step\n",
            "Epoch 65/100\n",
            "60/60 - 0s - loss: 0.1422 - accuracy: 0.8077 - val_loss: 0.1523 - val_accuracy: 0.8042 - 169ms/epoch - 3ms/step\n",
            "Epoch 66/100\n",
            "60/60 - 0s - loss: 0.1424 - accuracy: 0.8053 - val_loss: 0.1484 - val_accuracy: 0.8027 - 158ms/epoch - 3ms/step\n",
            "Epoch 67/100\n",
            "60/60 - 0s - loss: 0.1423 - accuracy: 0.8087 - val_loss: 0.1424 - val_accuracy: 0.8027 - 163ms/epoch - 3ms/step\n",
            "Epoch 68/100\n",
            "60/60 - 0s - loss: 0.1449 - accuracy: 0.8055 - val_loss: 0.1394 - val_accuracy: 0.7997 - 168ms/epoch - 3ms/step\n",
            "Epoch 69/100\n",
            "60/60 - 0s - loss: 0.1432 - accuracy: 0.8122 - val_loss: 0.1407 - val_accuracy: 0.8012 - 149ms/epoch - 2ms/step\n",
            "Epoch 70/100\n",
            "60/60 - 0s - loss: 0.1432 - accuracy: 0.8061 - val_loss: 0.1357 - val_accuracy: 0.8042 - 150ms/epoch - 3ms/step\n",
            "Epoch 71/100\n",
            "60/60 - 0s - loss: 0.1477 - accuracy: 0.8018 - val_loss: 0.1371 - val_accuracy: 0.8072 - 164ms/epoch - 3ms/step\n",
            "Epoch 72/100\n",
            "60/60 - 0s - loss: 0.1453 - accuracy: 0.8066 - val_loss: 0.1378 - val_accuracy: 0.8042 - 161ms/epoch - 3ms/step\n",
            "Epoch 73/100\n",
            "60/60 - 0s - loss: 0.1426 - accuracy: 0.8087 - val_loss: 0.1376 - val_accuracy: 0.8027 - 154ms/epoch - 3ms/step\n",
            "Epoch 74/100\n",
            "60/60 - 0s - loss: 0.1424 - accuracy: 0.8029 - val_loss: 0.1434 - val_accuracy: 0.8012 - 149ms/epoch - 2ms/step\n",
            "Epoch 75/100\n",
            "60/60 - 0s - loss: 0.1423 - accuracy: 0.8143 - val_loss: 0.1370 - val_accuracy: 0.8161 - 162ms/epoch - 3ms/step\n",
            "Epoch 76/100\n",
            "60/60 - 0s - loss: 0.1442 - accuracy: 0.8016 - val_loss: 0.1401 - val_accuracy: 0.7967 - 165ms/epoch - 3ms/step\n",
            "Epoch 77/100\n",
            "60/60 - 0s - loss: 0.1460 - accuracy: 0.8021 - val_loss: 0.1374 - val_accuracy: 0.8102 - 179ms/epoch - 3ms/step\n",
            "Epoch 78/100\n",
            "60/60 - 0s - loss: 0.1445 - accuracy: 0.8061 - val_loss: 0.1365 - val_accuracy: 0.8087 - 172ms/epoch - 3ms/step\n",
            "Epoch 79/100\n",
            "60/60 - 0s - loss: 0.1421 - accuracy: 0.8092 - val_loss: 0.1392 - val_accuracy: 0.7982 - 160ms/epoch - 3ms/step\n",
            "Epoch 80/100\n",
            "60/60 - 0s - loss: 0.1418 - accuracy: 0.8082 - val_loss: 0.1376 - val_accuracy: 0.8012 - 141ms/epoch - 2ms/step\n",
            "Epoch 81/100\n",
            "60/60 - 0s - loss: 0.1410 - accuracy: 0.8077 - val_loss: 0.1420 - val_accuracy: 0.8117 - 153ms/epoch - 3ms/step\n",
            "Epoch 82/100\n",
            "60/60 - 0s - loss: 0.1405 - accuracy: 0.8085 - val_loss: 0.1379 - val_accuracy: 0.8012 - 157ms/epoch - 3ms/step\n",
            "Epoch 83/100\n",
            "60/60 - 0s - loss: 0.1428 - accuracy: 0.8066 - val_loss: 0.1441 - val_accuracy: 0.7952 - 166ms/epoch - 3ms/step\n",
            "Epoch 84/100\n",
            "60/60 - 0s - loss: 0.1426 - accuracy: 0.8092 - val_loss: 0.1412 - val_accuracy: 0.8087 - 152ms/epoch - 3ms/step\n",
            "Epoch 85/100\n",
            "60/60 - 0s - loss: 0.1421 - accuracy: 0.8069 - val_loss: 0.1414 - val_accuracy: 0.7967 - 150ms/epoch - 3ms/step\n",
            "Epoch 86/100\n",
            "60/60 - 0s - loss: 0.1403 - accuracy: 0.8132 - val_loss: 0.1408 - val_accuracy: 0.8027 - 150ms/epoch - 2ms/step\n",
            "Epoch 87/100\n",
            "60/60 - 0s - loss: 0.1416 - accuracy: 0.8103 - val_loss: 0.1422 - val_accuracy: 0.8117 - 149ms/epoch - 2ms/step\n",
            "Epoch 88/100\n",
            "60/60 - 0s - loss: 0.1407 - accuracy: 0.8071 - val_loss: 0.1413 - val_accuracy: 0.8087 - 150ms/epoch - 3ms/step\n",
            "Epoch 89/100\n",
            "60/60 - 0s - loss: 0.1440 - accuracy: 0.8026 - val_loss: 0.1359 - val_accuracy: 0.8102 - 155ms/epoch - 3ms/step\n",
            "Epoch 90/100\n",
            "60/60 - 0s - loss: 0.1434 - accuracy: 0.8148 - val_loss: 0.1620 - val_accuracy: 0.7877 - 178ms/epoch - 3ms/step\n",
            "Epoch 91/100\n",
            "60/60 - 0s - loss: 0.1472 - accuracy: 0.8026 - val_loss: 0.1361 - val_accuracy: 0.8057 - 149ms/epoch - 2ms/step\n",
            "Epoch 92/100\n",
            "60/60 - 0s - loss: 0.1412 - accuracy: 0.8100 - val_loss: 0.1379 - val_accuracy: 0.8057 - 149ms/epoch - 2ms/step\n",
            "Epoch 93/100\n",
            "60/60 - 0s - loss: 0.1423 - accuracy: 0.8079 - val_loss: 0.1394 - val_accuracy: 0.8012 - 147ms/epoch - 2ms/step\n",
            "Epoch 94/100\n",
            "60/60 - 0s - loss: 0.1456 - accuracy: 0.8050 - val_loss: 0.1336 - val_accuracy: 0.8117 - 150ms/epoch - 3ms/step\n",
            "Epoch 95/100\n",
            "60/60 - 0s - loss: 0.1391 - accuracy: 0.8116 - val_loss: 0.1354 - val_accuracy: 0.8102 - 158ms/epoch - 3ms/step\n",
            "Epoch 96/100\n",
            "60/60 - 0s - loss: 0.1415 - accuracy: 0.8116 - val_loss: 0.1323 - val_accuracy: 0.8087 - 167ms/epoch - 3ms/step\n",
            "Epoch 97/100\n",
            "60/60 - 0s - loss: 0.1428 - accuracy: 0.8050 - val_loss: 0.1399 - val_accuracy: 0.8102 - 153ms/epoch - 3ms/step\n",
            "Epoch 98/100\n",
            "60/60 - 0s - loss: 0.1429 - accuracy: 0.8011 - val_loss: 0.1419 - val_accuracy: 0.8057 - 157ms/epoch - 3ms/step\n",
            "Epoch 99/100\n",
            "60/60 - 0s - loss: 0.1405 - accuracy: 0.8029 - val_loss: 0.1594 - val_accuracy: 0.8027 - 155ms/epoch - 3ms/step\n",
            "Epoch 100/100\n",
            "60/60 - 0s - loss: 0.1431 - accuracy: 0.8071 - val_loss: 0.1535 - val_accuracy: 0.8072 - 156ms/epoch - 3ms/step\n"
          ]
        }
      ]
    },
    {
      "cell_type": "code",
      "source": [
        "valid_loss, valid_accuracy = model.evaluate(x_valid, y_valid)\n",
        "valid_accuracy"
      ],
      "metadata": {
        "colab": {
          "base_uri": "https://localhost:8080/"
        },
        "outputId": "a950898c-ca36-4fad-ba3c-81dc96810a5e",
        "id": "1k_ckWhKQPI7"
      },
      "execution_count": null,
      "outputs": [
        {
          "output_type": "stream",
          "name": "stdout",
          "text": [
            "47/47 [==============================] - 0s 2ms/step - loss: 0.1258 - accuracy: 0.8418\n"
          ]
        },
        {
          "output_type": "execute_result",
          "data": {
            "text/plain": [
              "0.8417508602142334"
            ]
          },
          "metadata": {},
          "execution_count": 168
        }
      ]
    },
    {
      "cell_type": "markdown",
      "source": [
        "Batch Normalization custom model and Dropout rate = 0.4"
      ],
      "metadata": {
        "id": "X1GRqCsDQt5f"
      }
    },
    {
      "cell_type": "code",
      "source": [
        "model = Sequential([\n",
        "    Dense(64, input_shape=[x_train.shape[1],], activation=\"relu\"),\n",
        "    BatchNormalization(),  # <- Batch normalization layer 1\n",
        "    Dropout(0.4),\n",
        "    Dense(256, activation='relu'),\n",
        "])"
      ],
      "metadata": {
        "id": "_cjrh1SIQt5g"
      },
      "execution_count": null,
      "outputs": []
    },
    {
      "cell_type": "code",
      "source": [
        "# Add a customised batch normalization layer 2\n",
        "\n",
        "model.add(tf.keras.layers.BatchNormalization(\n",
        "    momentum=0.90, # default is 0.99\n",
        "    epsilon=0.002, #default is 0.001\n",
        "    axis = -1, #default is -1\n",
        "    beta_initializer=tf.keras.initializers.RandomNormal(mean=0.0, stddev=0.07), # default is beta_initializer='zeros'\n",
        "    gamma_initializer=tf.keras.initializers.Constant(value=0.9) # default is gamma_initializer='ones'\n",
        "))"
      ],
      "metadata": {
        "id": "hnSVCVNBQt5g"
      },
      "execution_count": null,
      "outputs": []
    },
    {
      "cell_type": "code",
      "source": [
        "# Add the output layer\n",
        "\n",
        "model.add(Dense(1))"
      ],
      "metadata": {
        "id": "n4tSQuwaQt5g"
      },
      "execution_count": null,
      "outputs": []
    },
    {
      "cell_type": "code",
      "source": [
        "# Compile the model\n",
        "\n",
        "model.compile(optimizer='adam',\n",
        "              loss='mse',\n",
        "              metrics=['accuracy'])"
      ],
      "metadata": {
        "id": "7VygZzzFQt5g"
      },
      "execution_count": null,
      "outputs": []
    },
    {
      "cell_type": "code",
      "source": [
        "# Train the model\n",
        "\n",
        "history = model.fit(x_train, y_train, epochs=100, validation_split=0.15, batch_size=64,verbose=2)"
      ],
      "metadata": {
        "colab": {
          "base_uri": "https://localhost:8080/"
        },
        "outputId": "94747db7-ac14-4534-a131-4fc0930da070",
        "id": "z5UeIwYcQt5g"
      },
      "execution_count": null,
      "outputs": [
        {
          "output_type": "stream",
          "name": "stdout",
          "text": [
            "Epoch 1/100\n",
            "60/60 - 1s - loss: 0.5372 - accuracy: 0.6114 - val_loss: 0.2378 - val_accuracy: 0.6248 - 1s/epoch - 18ms/step\n",
            "Epoch 2/100\n",
            "60/60 - 0s - loss: 0.3046 - accuracy: 0.6658 - val_loss: 0.1797 - val_accuracy: 0.7100 - 153ms/epoch - 3ms/step\n",
            "Epoch 3/100\n",
            "60/60 - 0s - loss: 0.2423 - accuracy: 0.6975 - val_loss: 0.1607 - val_accuracy: 0.7743 - 151ms/epoch - 3ms/step\n",
            "Epoch 4/100\n",
            "60/60 - 0s - loss: 0.2238 - accuracy: 0.7149 - val_loss: 0.1745 - val_accuracy: 0.7593 - 158ms/epoch - 3ms/step\n",
            "Epoch 5/100\n",
            "60/60 - 0s - loss: 0.2062 - accuracy: 0.7355 - val_loss: 0.1738 - val_accuracy: 0.7683 - 153ms/epoch - 3ms/step\n",
            "Epoch 6/100\n",
            "60/60 - 0s - loss: 0.1973 - accuracy: 0.7427 - val_loss: 0.1774 - val_accuracy: 0.7608 - 158ms/epoch - 3ms/step\n",
            "Epoch 7/100\n",
            "60/60 - 0s - loss: 0.1890 - accuracy: 0.7506 - val_loss: 0.1538 - val_accuracy: 0.7758 - 162ms/epoch - 3ms/step\n",
            "Epoch 8/100\n",
            "60/60 - 0s - loss: 0.1859 - accuracy: 0.7551 - val_loss: 0.1587 - val_accuracy: 0.7713 - 152ms/epoch - 3ms/step\n",
            "Epoch 9/100\n",
            "60/60 - 0s - loss: 0.1756 - accuracy: 0.7654 - val_loss: 0.1749 - val_accuracy: 0.7683 - 163ms/epoch - 3ms/step\n",
            "Epoch 10/100\n",
            "60/60 - 0s - loss: 0.1787 - accuracy: 0.7604 - val_loss: 0.1723 - val_accuracy: 0.7818 - 152ms/epoch - 3ms/step\n",
            "Epoch 11/100\n",
            "60/60 - 0s - loss: 0.1761 - accuracy: 0.7641 - val_loss: 0.1781 - val_accuracy: 0.7848 - 156ms/epoch - 3ms/step\n",
            "Epoch 12/100\n",
            "60/60 - 0s - loss: 0.1755 - accuracy: 0.7683 - val_loss: 0.1792 - val_accuracy: 0.7848 - 149ms/epoch - 2ms/step\n",
            "Epoch 13/100\n",
            "60/60 - 0s - loss: 0.1728 - accuracy: 0.7752 - val_loss: 0.1632 - val_accuracy: 0.7818 - 163ms/epoch - 3ms/step\n",
            "Epoch 14/100\n",
            "60/60 - 0s - loss: 0.1751 - accuracy: 0.7754 - val_loss: 0.1522 - val_accuracy: 0.7818 - 146ms/epoch - 2ms/step\n",
            "Epoch 15/100\n",
            "60/60 - 0s - loss: 0.1645 - accuracy: 0.7871 - val_loss: 0.1466 - val_accuracy: 0.7862 - 150ms/epoch - 3ms/step\n",
            "Epoch 16/100\n",
            "60/60 - 0s - loss: 0.1656 - accuracy: 0.7828 - val_loss: 0.1689 - val_accuracy: 0.7982 - 151ms/epoch - 3ms/step\n",
            "Epoch 17/100\n",
            "60/60 - 0s - loss: 0.1636 - accuracy: 0.7812 - val_loss: 0.1466 - val_accuracy: 0.7788 - 151ms/epoch - 3ms/step\n",
            "Epoch 18/100\n",
            "60/60 - 0s - loss: 0.1606 - accuracy: 0.7852 - val_loss: 0.1544 - val_accuracy: 0.7922 - 154ms/epoch - 3ms/step\n",
            "Epoch 19/100\n",
            "60/60 - 0s - loss: 0.1632 - accuracy: 0.7783 - val_loss: 0.1566 - val_accuracy: 0.7862 - 151ms/epoch - 3ms/step\n",
            "Epoch 20/100\n",
            "60/60 - 0s - loss: 0.1647 - accuracy: 0.7818 - val_loss: 0.1497 - val_accuracy: 0.7892 - 164ms/epoch - 3ms/step\n",
            "Epoch 21/100\n",
            "60/60 - 0s - loss: 0.1566 - accuracy: 0.7876 - val_loss: 0.1462 - val_accuracy: 0.7952 - 167ms/epoch - 3ms/step\n",
            "Epoch 22/100\n",
            "60/60 - 0s - loss: 0.1570 - accuracy: 0.7945 - val_loss: 0.1504 - val_accuracy: 0.7937 - 153ms/epoch - 3ms/step\n",
            "Epoch 23/100\n",
            "60/60 - 0s - loss: 0.1620 - accuracy: 0.7828 - val_loss: 0.1529 - val_accuracy: 0.7862 - 147ms/epoch - 2ms/step\n",
            "Epoch 24/100\n",
            "60/60 - 0s - loss: 0.1573 - accuracy: 0.7884 - val_loss: 0.1508 - val_accuracy: 0.7892 - 154ms/epoch - 3ms/step\n",
            "Epoch 25/100\n",
            "60/60 - 0s - loss: 0.1615 - accuracy: 0.7826 - val_loss: 0.1485 - val_accuracy: 0.7967 - 153ms/epoch - 3ms/step\n",
            "Epoch 26/100\n",
            "60/60 - 0s - loss: 0.1561 - accuracy: 0.7913 - val_loss: 0.1510 - val_accuracy: 0.7982 - 162ms/epoch - 3ms/step\n",
            "Epoch 27/100\n",
            "60/60 - 0s - loss: 0.1567 - accuracy: 0.7844 - val_loss: 0.1628 - val_accuracy: 0.7982 - 151ms/epoch - 3ms/step\n",
            "Epoch 28/100\n",
            "60/60 - 0s - loss: 0.1561 - accuracy: 0.7881 - val_loss: 0.1389 - val_accuracy: 0.7937 - 155ms/epoch - 3ms/step\n",
            "Epoch 29/100\n",
            "60/60 - 0s - loss: 0.1512 - accuracy: 0.7982 - val_loss: 0.1413 - val_accuracy: 0.7997 - 167ms/epoch - 3ms/step\n",
            "Epoch 30/100\n",
            "60/60 - 0s - loss: 0.1555 - accuracy: 0.7958 - val_loss: 0.1426 - val_accuracy: 0.7922 - 154ms/epoch - 3ms/step\n",
            "Epoch 31/100\n",
            "60/60 - 0s - loss: 0.1551 - accuracy: 0.7958 - val_loss: 0.1435 - val_accuracy: 0.7937 - 153ms/epoch - 3ms/step\n",
            "Epoch 32/100\n",
            "60/60 - 0s - loss: 0.1547 - accuracy: 0.7931 - val_loss: 0.1413 - val_accuracy: 0.8027 - 161ms/epoch - 3ms/step\n",
            "Epoch 33/100\n",
            "60/60 - 0s - loss: 0.1501 - accuracy: 0.7955 - val_loss: 0.1407 - val_accuracy: 0.8012 - 153ms/epoch - 3ms/step\n",
            "Epoch 34/100\n",
            "60/60 - 0s - loss: 0.1546 - accuracy: 0.7934 - val_loss: 0.1402 - val_accuracy: 0.7982 - 166ms/epoch - 3ms/step\n",
            "Epoch 35/100\n",
            "60/60 - 0s - loss: 0.1519 - accuracy: 0.7963 - val_loss: 0.1398 - val_accuracy: 0.8072 - 148ms/epoch - 2ms/step\n",
            "Epoch 36/100\n",
            "60/60 - 0s - loss: 0.1521 - accuracy: 0.8013 - val_loss: 0.1476 - val_accuracy: 0.7907 - 160ms/epoch - 3ms/step\n",
            "Epoch 37/100\n",
            "60/60 - 0s - loss: 0.1543 - accuracy: 0.7987 - val_loss: 0.1450 - val_accuracy: 0.8102 - 177ms/epoch - 3ms/step\n",
            "Epoch 38/100\n",
            "60/60 - 0s - loss: 0.1546 - accuracy: 0.7939 - val_loss: 0.1368 - val_accuracy: 0.7997 - 172ms/epoch - 3ms/step\n",
            "Epoch 39/100\n",
            "60/60 - 0s - loss: 0.1511 - accuracy: 0.7968 - val_loss: 0.1424 - val_accuracy: 0.7997 - 177ms/epoch - 3ms/step\n",
            "Epoch 40/100\n",
            "60/60 - 0s - loss: 0.1547 - accuracy: 0.7934 - val_loss: 0.1392 - val_accuracy: 0.8087 - 169ms/epoch - 3ms/step\n",
            "Epoch 41/100\n",
            "60/60 - 0s - loss: 0.1547 - accuracy: 0.7963 - val_loss: 0.1505 - val_accuracy: 0.8012 - 155ms/epoch - 3ms/step\n",
            "Epoch 42/100\n",
            "60/60 - 0s - loss: 0.1533 - accuracy: 0.7913 - val_loss: 0.1432 - val_accuracy: 0.7937 - 155ms/epoch - 3ms/step\n",
            "Epoch 43/100\n",
            "60/60 - 0s - loss: 0.1500 - accuracy: 0.8026 - val_loss: 0.1362 - val_accuracy: 0.7997 - 155ms/epoch - 3ms/step\n",
            "Epoch 44/100\n",
            "60/60 - 0s - loss: 0.1497 - accuracy: 0.8034 - val_loss: 0.1384 - val_accuracy: 0.8102 - 152ms/epoch - 3ms/step\n",
            "Epoch 45/100\n",
            "60/60 - 0s - loss: 0.1479 - accuracy: 0.7976 - val_loss: 0.1429 - val_accuracy: 0.7952 - 160ms/epoch - 3ms/step\n",
            "Epoch 46/100\n",
            "60/60 - 0s - loss: 0.1489 - accuracy: 0.8005 - val_loss: 0.1423 - val_accuracy: 0.8042 - 151ms/epoch - 3ms/step\n",
            "Epoch 47/100\n",
            "60/60 - 0s - loss: 0.1532 - accuracy: 0.7955 - val_loss: 0.1429 - val_accuracy: 0.8042 - 164ms/epoch - 3ms/step\n",
            "Epoch 48/100\n",
            "60/60 - 0s - loss: 0.1491 - accuracy: 0.8040 - val_loss: 0.1372 - val_accuracy: 0.8117 - 156ms/epoch - 3ms/step\n",
            "Epoch 49/100\n",
            "60/60 - 0s - loss: 0.1491 - accuracy: 0.7908 - val_loss: 0.1392 - val_accuracy: 0.8027 - 150ms/epoch - 3ms/step\n",
            "Epoch 50/100\n",
            "60/60 - 0s - loss: 0.1465 - accuracy: 0.7968 - val_loss: 0.1425 - val_accuracy: 0.8027 - 152ms/epoch - 3ms/step\n",
            "Epoch 51/100\n",
            "60/60 - 0s - loss: 0.1558 - accuracy: 0.7937 - val_loss: 0.1481 - val_accuracy: 0.7997 - 161ms/epoch - 3ms/step\n",
            "Epoch 52/100\n",
            "60/60 - 0s - loss: 0.1506 - accuracy: 0.8037 - val_loss: 0.1359 - val_accuracy: 0.8057 - 150ms/epoch - 2ms/step\n",
            "Epoch 53/100\n",
            "60/60 - 0s - loss: 0.1501 - accuracy: 0.8037 - val_loss: 0.1516 - val_accuracy: 0.8012 - 150ms/epoch - 3ms/step\n",
            "Epoch 54/100\n",
            "60/60 - 0s - loss: 0.1503 - accuracy: 0.7963 - val_loss: 0.1379 - val_accuracy: 0.8191 - 167ms/epoch - 3ms/step\n",
            "Epoch 55/100\n",
            "60/60 - 0s - loss: 0.1433 - accuracy: 0.8050 - val_loss: 0.1364 - val_accuracy: 0.8102 - 164ms/epoch - 3ms/step\n",
            "Epoch 56/100\n",
            "60/60 - 0s - loss: 0.1471 - accuracy: 0.8077 - val_loss: 0.1356 - val_accuracy: 0.8042 - 159ms/epoch - 3ms/step\n",
            "Epoch 57/100\n",
            "60/60 - 0s - loss: 0.1470 - accuracy: 0.8050 - val_loss: 0.1517 - val_accuracy: 0.8012 - 167ms/epoch - 3ms/step\n",
            "Epoch 58/100\n",
            "60/60 - 0s - loss: 0.1473 - accuracy: 0.8040 - val_loss: 0.1398 - val_accuracy: 0.8176 - 169ms/epoch - 3ms/step\n",
            "Epoch 59/100\n",
            "60/60 - 0s - loss: 0.1452 - accuracy: 0.8069 - val_loss: 0.1486 - val_accuracy: 0.8117 - 153ms/epoch - 3ms/step\n",
            "Epoch 60/100\n",
            "60/60 - 0s - loss: 0.1519 - accuracy: 0.8018 - val_loss: 0.1403 - val_accuracy: 0.8012 - 151ms/epoch - 3ms/step\n",
            "Epoch 61/100\n",
            "60/60 - 0s - loss: 0.1495 - accuracy: 0.8008 - val_loss: 0.1441 - val_accuracy: 0.8012 - 162ms/epoch - 3ms/step\n",
            "Epoch 62/100\n",
            "60/60 - 0s - loss: 0.1448 - accuracy: 0.8037 - val_loss: 0.1379 - val_accuracy: 0.8102 - 157ms/epoch - 3ms/step\n",
            "Epoch 63/100\n",
            "60/60 - 0s - loss: 0.1439 - accuracy: 0.8103 - val_loss: 0.1355 - val_accuracy: 0.7997 - 149ms/epoch - 2ms/step\n",
            "Epoch 64/100\n",
            "60/60 - 0s - loss: 0.1426 - accuracy: 0.8042 - val_loss: 0.1363 - val_accuracy: 0.8027 - 162ms/epoch - 3ms/step\n",
            "Epoch 65/100\n",
            "60/60 - 0s - loss: 0.1451 - accuracy: 0.8074 - val_loss: 0.1365 - val_accuracy: 0.8012 - 161ms/epoch - 3ms/step\n",
            "Epoch 66/100\n",
            "60/60 - 0s - loss: 0.1459 - accuracy: 0.8079 - val_loss: 0.1400 - val_accuracy: 0.8057 - 157ms/epoch - 3ms/step\n",
            "Epoch 67/100\n",
            "60/60 - 0s - loss: 0.1459 - accuracy: 0.8111 - val_loss: 0.1357 - val_accuracy: 0.7997 - 155ms/epoch - 3ms/step\n",
            "Epoch 68/100\n",
            "60/60 - 0s - loss: 0.1430 - accuracy: 0.8090 - val_loss: 0.1393 - val_accuracy: 0.8042 - 161ms/epoch - 3ms/step\n",
            "Epoch 69/100\n",
            "60/60 - 0s - loss: 0.1447 - accuracy: 0.7997 - val_loss: 0.1354 - val_accuracy: 0.8161 - 160ms/epoch - 3ms/step\n",
            "Epoch 70/100\n",
            "60/60 - 0s - loss: 0.1419 - accuracy: 0.8058 - val_loss: 0.1425 - val_accuracy: 0.8117 - 178ms/epoch - 3ms/step\n",
            "Epoch 71/100\n",
            "60/60 - 0s - loss: 0.1452 - accuracy: 0.8082 - val_loss: 0.1332 - val_accuracy: 0.7982 - 167ms/epoch - 3ms/step\n",
            "Epoch 72/100\n",
            "60/60 - 0s - loss: 0.1437 - accuracy: 0.8079 - val_loss: 0.1366 - val_accuracy: 0.8027 - 173ms/epoch - 3ms/step\n",
            "Epoch 73/100\n",
            "60/60 - 0s - loss: 0.1412 - accuracy: 0.8137 - val_loss: 0.1364 - val_accuracy: 0.8042 - 155ms/epoch - 3ms/step\n",
            "Epoch 74/100\n",
            "60/60 - 0s - loss: 0.1427 - accuracy: 0.8098 - val_loss: 0.1377 - val_accuracy: 0.8117 - 155ms/epoch - 3ms/step\n",
            "Epoch 75/100\n",
            "60/60 - 0s - loss: 0.1416 - accuracy: 0.8153 - val_loss: 0.1351 - val_accuracy: 0.7982 - 155ms/epoch - 3ms/step\n",
            "Epoch 76/100\n",
            "60/60 - 0s - loss: 0.1453 - accuracy: 0.8042 - val_loss: 0.1346 - val_accuracy: 0.7982 - 169ms/epoch - 3ms/step\n",
            "Epoch 77/100\n",
            "60/60 - 0s - loss: 0.1449 - accuracy: 0.8018 - val_loss: 0.1557 - val_accuracy: 0.7907 - 178ms/epoch - 3ms/step\n",
            "Epoch 78/100\n",
            "60/60 - 0s - loss: 0.1511 - accuracy: 0.7989 - val_loss: 0.1411 - val_accuracy: 0.7967 - 151ms/epoch - 3ms/step\n",
            "Epoch 79/100\n",
            "60/60 - 0s - loss: 0.1448 - accuracy: 0.8166 - val_loss: 0.1379 - val_accuracy: 0.8102 - 154ms/epoch - 3ms/step\n",
            "Epoch 80/100\n",
            "60/60 - 0s - loss: 0.1430 - accuracy: 0.8090 - val_loss: 0.1394 - val_accuracy: 0.7982 - 158ms/epoch - 3ms/step\n",
            "Epoch 81/100\n",
            "60/60 - 0s - loss: 0.1438 - accuracy: 0.8077 - val_loss: 0.1362 - val_accuracy: 0.7967 - 157ms/epoch - 3ms/step\n",
            "Epoch 82/100\n",
            "60/60 - 0s - loss: 0.1431 - accuracy: 0.8087 - val_loss: 0.1443 - val_accuracy: 0.8072 - 177ms/epoch - 3ms/step\n",
            "Epoch 83/100\n",
            "60/60 - 0s - loss: 0.1408 - accuracy: 0.8066 - val_loss: 0.1359 - val_accuracy: 0.7937 - 201ms/epoch - 3ms/step\n",
            "Epoch 84/100\n",
            "60/60 - 0s - loss: 0.1419 - accuracy: 0.8122 - val_loss: 0.1346 - val_accuracy: 0.7997 - 149ms/epoch - 2ms/step\n",
            "Epoch 85/100\n",
            "60/60 - 0s - loss: 0.1457 - accuracy: 0.8032 - val_loss: 0.1416 - val_accuracy: 0.8072 - 149ms/epoch - 2ms/step\n",
            "Epoch 86/100\n",
            "60/60 - 0s - loss: 0.1436 - accuracy: 0.8045 - val_loss: 0.1365 - val_accuracy: 0.8042 - 149ms/epoch - 2ms/step\n",
            "Epoch 87/100\n",
            "60/60 - 0s - loss: 0.1432 - accuracy: 0.8082 - val_loss: 0.1364 - val_accuracy: 0.7937 - 159ms/epoch - 3ms/step\n",
            "Epoch 88/100\n",
            "60/60 - 0s - loss: 0.1418 - accuracy: 0.8061 - val_loss: 0.1358 - val_accuracy: 0.8012 - 168ms/epoch - 3ms/step\n",
            "Epoch 89/100\n",
            "60/60 - 0s - loss: 0.1391 - accuracy: 0.8137 - val_loss: 0.1366 - val_accuracy: 0.7967 - 171ms/epoch - 3ms/step\n",
            "Epoch 90/100\n",
            "60/60 - 0s - loss: 0.1439 - accuracy: 0.8085 - val_loss: 0.1376 - val_accuracy: 0.8027 - 175ms/epoch - 3ms/step\n",
            "Epoch 91/100\n",
            "60/60 - 0s - loss: 0.1421 - accuracy: 0.8079 - val_loss: 0.1456 - val_accuracy: 0.8027 - 149ms/epoch - 2ms/step\n",
            "Epoch 92/100\n",
            "60/60 - 0s - loss: 0.1459 - accuracy: 0.8032 - val_loss: 0.1389 - val_accuracy: 0.8027 - 158ms/epoch - 3ms/step\n",
            "Epoch 93/100\n",
            "60/60 - 0s - loss: 0.1404 - accuracy: 0.8090 - val_loss: 0.1350 - val_accuracy: 0.8087 - 159ms/epoch - 3ms/step\n",
            "Epoch 94/100\n",
            "60/60 - 0s - loss: 0.1412 - accuracy: 0.8074 - val_loss: 0.1343 - val_accuracy: 0.8117 - 167ms/epoch - 3ms/step\n",
            "Epoch 95/100\n",
            "60/60 - 0s - loss: 0.1455 - accuracy: 0.8011 - val_loss: 0.1354 - val_accuracy: 0.8027 - 159ms/epoch - 3ms/step\n",
            "Epoch 96/100\n",
            "60/60 - 0s - loss: 0.1401 - accuracy: 0.8045 - val_loss: 0.1356 - val_accuracy: 0.8087 - 167ms/epoch - 3ms/step\n",
            "Epoch 97/100\n",
            "60/60 - 0s - loss: 0.1465 - accuracy: 0.8085 - val_loss: 0.1458 - val_accuracy: 0.8132 - 164ms/epoch - 3ms/step\n",
            "Epoch 98/100\n",
            "60/60 - 0s - loss: 0.1440 - accuracy: 0.8103 - val_loss: 0.1345 - val_accuracy: 0.8102 - 171ms/epoch - 3ms/step\n",
            "Epoch 99/100\n",
            "60/60 - 0s - loss: 0.1398 - accuracy: 0.8103 - val_loss: 0.1341 - val_accuracy: 0.8057 - 150ms/epoch - 3ms/step\n",
            "Epoch 100/100\n",
            "60/60 - 0s - loss: 0.1411 - accuracy: 0.8034 - val_loss: 0.1374 - val_accuracy: 0.8027 - 162ms/epoch - 3ms/step\n"
          ]
        }
      ]
    },
    {
      "cell_type": "code",
      "source": [
        "valid_loss, valid_accuracy = model.evaluate(x_valid, y_valid)\n",
        "valid_accuracy"
      ],
      "metadata": {
        "colab": {
          "base_uri": "https://localhost:8080/"
        },
        "outputId": "06f58db6-cdc1-4229-b70b-72599e707de4",
        "id": "OfdVlAByQt5g"
      },
      "execution_count": null,
      "outputs": [
        {
          "output_type": "stream",
          "name": "stdout",
          "text": [
            "47/47 [==============================] - 0s 2ms/step - loss: 0.1234 - accuracy: 0.8377\n"
          ]
        },
        {
          "output_type": "execute_result",
          "data": {
            "text/plain": [
              "0.837710440158844"
            ]
          },
          "metadata": {},
          "execution_count": 174
        }
      ]
    },
    {
      "cell_type": "markdown",
      "source": [
        "Batch Normalization custom model and Dropout rate = 0.3"
      ],
      "metadata": {
        "id": "jXTS2RQxRDmS"
      }
    },
    {
      "cell_type": "code",
      "source": [
        "model = Sequential([\n",
        "    Dense(64, input_shape=[x_train.shape[1],], activation=\"relu\"),\n",
        "    BatchNormalization(),  # <- Batch normalization layer 1\n",
        "    Dropout(0.3),\n",
        "    Dense(256, activation='relu'),\n",
        "])"
      ],
      "metadata": {
        "id": "BMez4teURDmS"
      },
      "execution_count": null,
      "outputs": []
    },
    {
      "cell_type": "code",
      "source": [
        "# Add a customised batch normalization layer 2\n",
        "\n",
        "model.add(tf.keras.layers.BatchNormalization(\n",
        "    momentum=0.95, # default is 0.99\n",
        "    epsilon=0.005, #default is 0.001\n",
        "    axis = -1, #default is -1\n",
        "    beta_initializer=tf.keras.initializers.RandomNormal(mean=0.0, stddev=0.07), # default is beta_initializer='zeros'\n",
        "    gamma_initializer=tf.keras.initializers.Constant(value=0.7) # default is gamma_initializer='ones'\n",
        "))"
      ],
      "metadata": {
        "id": "xn8u0tfmRDmT"
      },
      "execution_count": null,
      "outputs": []
    },
    {
      "cell_type": "code",
      "source": [
        "# Add the output layer\n",
        "\n",
        "model.add(Dense(1))"
      ],
      "metadata": {
        "id": "3aff9OfSRDmT"
      },
      "execution_count": null,
      "outputs": []
    },
    {
      "cell_type": "code",
      "source": [
        "# Compile the model\n",
        "\n",
        "model.compile(optimizer='adam',\n",
        "              loss='mse',\n",
        "              metrics=['accuracy'])"
      ],
      "metadata": {
        "id": "mJpPCSoSRDmT"
      },
      "execution_count": null,
      "outputs": []
    },
    {
      "cell_type": "code",
      "source": [
        "# Train the model\n",
        "\n",
        "history = model.fit(x_train, y_train, epochs=100, validation_split=0.15, batch_size=64,verbose=2)"
      ],
      "metadata": {
        "colab": {
          "base_uri": "https://localhost:8080/"
        },
        "outputId": "0d809f0a-3e34-4fed-b324-d89ba27fea6e",
        "id": "IEzh8JyERDmT"
      },
      "execution_count": null,
      "outputs": [
        {
          "output_type": "stream",
          "name": "stdout",
          "text": [
            "Epoch 1/100\n",
            "60/60 - 1s - loss: 0.3898 - accuracy: 0.6449 - val_loss: 0.2016 - val_accuracy: 0.6906 - 1s/epoch - 18ms/step\n",
            "Epoch 2/100\n",
            "60/60 - 0s - loss: 0.2278 - accuracy: 0.7096 - val_loss: 0.1622 - val_accuracy: 0.7713 - 149ms/epoch - 2ms/step\n",
            "Epoch 3/100\n",
            "60/60 - 0s - loss: 0.2103 - accuracy: 0.7318 - val_loss: 0.2367 - val_accuracy: 0.6143 - 153ms/epoch - 3ms/step\n",
            "Epoch 4/100\n",
            "60/60 - 0s - loss: 0.2019 - accuracy: 0.7361 - val_loss: 0.1644 - val_accuracy: 0.7803 - 166ms/epoch - 3ms/step\n",
            "Epoch 5/100\n",
            "60/60 - 0s - loss: 0.1875 - accuracy: 0.7569 - val_loss: 0.1543 - val_accuracy: 0.7713 - 158ms/epoch - 3ms/step\n",
            "Epoch 6/100\n",
            "60/60 - 0s - loss: 0.1834 - accuracy: 0.7554 - val_loss: 0.1661 - val_accuracy: 0.7698 - 146ms/epoch - 2ms/step\n",
            "Epoch 7/100\n",
            "60/60 - 0s - loss: 0.1743 - accuracy: 0.7712 - val_loss: 0.1487 - val_accuracy: 0.7818 - 154ms/epoch - 3ms/step\n",
            "Epoch 8/100\n",
            "60/60 - 0s - loss: 0.1711 - accuracy: 0.7754 - val_loss: 0.1580 - val_accuracy: 0.7862 - 165ms/epoch - 3ms/step\n",
            "Epoch 9/100\n",
            "60/60 - 0s - loss: 0.1663 - accuracy: 0.7802 - val_loss: 0.1522 - val_accuracy: 0.8012 - 168ms/epoch - 3ms/step\n",
            "Epoch 10/100\n",
            "60/60 - 0s - loss: 0.1687 - accuracy: 0.7675 - val_loss: 0.1499 - val_accuracy: 0.7952 - 181ms/epoch - 3ms/step\n",
            "Epoch 11/100\n",
            "60/60 - 0s - loss: 0.1604 - accuracy: 0.7881 - val_loss: 0.1445 - val_accuracy: 0.7862 - 172ms/epoch - 3ms/step\n",
            "Epoch 12/100\n",
            "60/60 - 0s - loss: 0.1604 - accuracy: 0.7884 - val_loss: 0.1438 - val_accuracy: 0.7877 - 173ms/epoch - 3ms/step\n",
            "Epoch 13/100\n",
            "60/60 - 0s - loss: 0.1611 - accuracy: 0.7886 - val_loss: 0.1535 - val_accuracy: 0.7937 - 152ms/epoch - 3ms/step\n",
            "Epoch 14/100\n",
            "60/60 - 0s - loss: 0.1610 - accuracy: 0.7873 - val_loss: 0.1512 - val_accuracy: 0.8012 - 160ms/epoch - 3ms/step\n",
            "Epoch 15/100\n",
            "60/60 - 0s - loss: 0.1583 - accuracy: 0.7863 - val_loss: 0.1421 - val_accuracy: 0.7803 - 166ms/epoch - 3ms/step\n",
            "Epoch 16/100\n",
            "60/60 - 0s - loss: 0.1527 - accuracy: 0.7947 - val_loss: 0.1414 - val_accuracy: 0.7892 - 173ms/epoch - 3ms/step\n",
            "Epoch 17/100\n",
            "60/60 - 0s - loss: 0.1536 - accuracy: 0.7947 - val_loss: 0.1543 - val_accuracy: 0.7907 - 155ms/epoch - 3ms/step\n",
            "Epoch 18/100\n",
            "60/60 - 0s - loss: 0.1567 - accuracy: 0.7865 - val_loss: 0.1474 - val_accuracy: 0.8102 - 160ms/epoch - 3ms/step\n",
            "Epoch 19/100\n",
            "60/60 - 0s - loss: 0.1544 - accuracy: 0.7852 - val_loss: 0.1461 - val_accuracy: 0.8012 - 145ms/epoch - 2ms/step\n",
            "Epoch 20/100\n",
            "60/60 - 0s - loss: 0.1560 - accuracy: 0.7923 - val_loss: 0.1469 - val_accuracy: 0.7967 - 158ms/epoch - 3ms/step\n",
            "Epoch 21/100\n",
            "60/60 - 0s - loss: 0.1564 - accuracy: 0.7900 - val_loss: 0.1466 - val_accuracy: 0.7982 - 153ms/epoch - 3ms/step\n",
            "Epoch 22/100\n",
            "60/60 - 0s - loss: 0.1575 - accuracy: 0.7868 - val_loss: 0.1408 - val_accuracy: 0.8057 - 176ms/epoch - 3ms/step\n",
            "Epoch 23/100\n",
            "60/60 - 0s - loss: 0.1514 - accuracy: 0.7952 - val_loss: 0.1417 - val_accuracy: 0.8132 - 169ms/epoch - 3ms/step\n",
            "Epoch 24/100\n",
            "60/60 - 0s - loss: 0.1504 - accuracy: 0.7942 - val_loss: 0.1419 - val_accuracy: 0.7862 - 171ms/epoch - 3ms/step\n",
            "Epoch 25/100\n",
            "60/60 - 0s - loss: 0.1514 - accuracy: 0.7976 - val_loss: 0.1399 - val_accuracy: 0.8057 - 157ms/epoch - 3ms/step\n",
            "Epoch 26/100\n",
            "60/60 - 0s - loss: 0.1520 - accuracy: 0.7987 - val_loss: 0.1396 - val_accuracy: 0.7892 - 153ms/epoch - 3ms/step\n",
            "Epoch 27/100\n",
            "60/60 - 0s - loss: 0.1487 - accuracy: 0.7979 - val_loss: 0.1510 - val_accuracy: 0.8117 - 163ms/epoch - 3ms/step\n",
            "Epoch 28/100\n",
            "60/60 - 0s - loss: 0.1508 - accuracy: 0.7984 - val_loss: 0.1405 - val_accuracy: 0.8027 - 172ms/epoch - 3ms/step\n",
            "Epoch 29/100\n",
            "60/60 - 0s - loss: 0.1509 - accuracy: 0.7934 - val_loss: 0.1392 - val_accuracy: 0.8042 - 155ms/epoch - 3ms/step\n",
            "Epoch 30/100\n",
            "60/60 - 0s - loss: 0.1482 - accuracy: 0.8034 - val_loss: 0.1372 - val_accuracy: 0.8057 - 156ms/epoch - 3ms/step\n",
            "Epoch 31/100\n",
            "60/60 - 0s - loss: 0.1462 - accuracy: 0.8021 - val_loss: 0.1354 - val_accuracy: 0.7952 - 145ms/epoch - 2ms/step\n",
            "Epoch 32/100\n",
            "60/60 - 0s - loss: 0.1478 - accuracy: 0.7982 - val_loss: 0.1367 - val_accuracy: 0.8012 - 155ms/epoch - 3ms/step\n",
            "Epoch 33/100\n",
            "60/60 - 0s - loss: 0.1469 - accuracy: 0.8016 - val_loss: 0.1370 - val_accuracy: 0.8057 - 168ms/epoch - 3ms/step\n",
            "Epoch 34/100\n",
            "60/60 - 0s - loss: 0.1459 - accuracy: 0.8061 - val_loss: 0.1463 - val_accuracy: 0.7982 - 161ms/epoch - 3ms/step\n",
            "Epoch 35/100\n",
            "60/60 - 0s - loss: 0.1458 - accuracy: 0.8053 - val_loss: 0.1366 - val_accuracy: 0.8072 - 158ms/epoch - 3ms/step\n",
            "Epoch 36/100\n",
            "60/60 - 0s - loss: 0.1478 - accuracy: 0.8013 - val_loss: 0.1413 - val_accuracy: 0.8087 - 149ms/epoch - 2ms/step\n",
            "Epoch 37/100\n",
            "60/60 - 0s - loss: 0.1448 - accuracy: 0.7982 - val_loss: 0.1369 - val_accuracy: 0.8057 - 159ms/epoch - 3ms/step\n",
            "Epoch 38/100\n",
            "60/60 - 0s - loss: 0.1440 - accuracy: 0.8058 - val_loss: 0.1415 - val_accuracy: 0.8027 - 179ms/epoch - 3ms/step\n",
            "Epoch 39/100\n",
            "60/60 - 0s - loss: 0.1440 - accuracy: 0.8074 - val_loss: 0.1352 - val_accuracy: 0.8102 - 155ms/epoch - 3ms/step\n",
            "Epoch 40/100\n",
            "60/60 - 0s - loss: 0.1445 - accuracy: 0.8040 - val_loss: 0.1406 - val_accuracy: 0.8117 - 155ms/epoch - 3ms/step\n",
            "Epoch 41/100\n",
            "60/60 - 0s - loss: 0.1441 - accuracy: 0.8077 - val_loss: 0.1513 - val_accuracy: 0.7862 - 154ms/epoch - 3ms/step\n",
            "Epoch 42/100\n",
            "60/60 - 0s - loss: 0.1435 - accuracy: 0.8069 - val_loss: 0.1375 - val_accuracy: 0.8027 - 157ms/epoch - 3ms/step\n",
            "Epoch 43/100\n",
            "60/60 - 0s - loss: 0.1475 - accuracy: 0.8011 - val_loss: 0.1355 - val_accuracy: 0.8072 - 206ms/epoch - 3ms/step\n",
            "Epoch 44/100\n",
            "60/60 - 0s - loss: 0.1468 - accuracy: 0.8011 - val_loss: 0.1401 - val_accuracy: 0.8072 - 148ms/epoch - 2ms/step\n",
            "Epoch 45/100\n",
            "60/60 - 0s - loss: 0.1464 - accuracy: 0.8021 - val_loss: 0.1377 - val_accuracy: 0.7997 - 177ms/epoch - 3ms/step\n",
            "Epoch 46/100\n",
            "60/60 - 0s - loss: 0.1454 - accuracy: 0.7989 - val_loss: 0.1349 - val_accuracy: 0.8012 - 163ms/epoch - 3ms/step\n",
            "Epoch 47/100\n",
            "60/60 - 0s - loss: 0.1437 - accuracy: 0.8074 - val_loss: 0.1347 - val_accuracy: 0.8072 - 152ms/epoch - 3ms/step\n",
            "Epoch 48/100\n",
            "60/60 - 0s - loss: 0.1423 - accuracy: 0.8045 - val_loss: 0.1403 - val_accuracy: 0.8027 - 161ms/epoch - 3ms/step\n",
            "Epoch 49/100\n",
            "60/60 - 0s - loss: 0.1437 - accuracy: 0.8053 - val_loss: 0.1401 - val_accuracy: 0.8161 - 155ms/epoch - 3ms/step\n",
            "Epoch 50/100\n",
            "60/60 - 0s - loss: 0.1472 - accuracy: 0.8000 - val_loss: 0.1532 - val_accuracy: 0.8012 - 150ms/epoch - 3ms/step\n",
            "Epoch 51/100\n",
            "60/60 - 0s - loss: 0.1423 - accuracy: 0.8042 - val_loss: 0.1356 - val_accuracy: 0.8042 - 149ms/epoch - 2ms/step\n",
            "Epoch 52/100\n",
            "60/60 - 0s - loss: 0.1439 - accuracy: 0.8034 - val_loss: 0.1470 - val_accuracy: 0.8072 - 148ms/epoch - 2ms/step\n",
            "Epoch 53/100\n",
            "60/60 - 0s - loss: 0.1478 - accuracy: 0.8032 - val_loss: 0.1400 - val_accuracy: 0.7922 - 157ms/epoch - 3ms/step\n",
            "Epoch 54/100\n",
            "60/60 - 0s - loss: 0.1413 - accuracy: 0.8100 - val_loss: 0.1346 - val_accuracy: 0.8042 - 152ms/epoch - 3ms/step\n",
            "Epoch 55/100\n",
            "60/60 - 0s - loss: 0.1432 - accuracy: 0.8100 - val_loss: 0.1334 - val_accuracy: 0.8042 - 154ms/epoch - 3ms/step\n",
            "Epoch 56/100\n",
            "60/60 - 0s - loss: 0.1447 - accuracy: 0.7987 - val_loss: 0.1520 - val_accuracy: 0.7922 - 155ms/epoch - 3ms/step\n",
            "Epoch 57/100\n",
            "60/60 - 0s - loss: 0.1438 - accuracy: 0.8132 - val_loss: 0.1349 - val_accuracy: 0.7997 - 158ms/epoch - 3ms/step\n",
            "Epoch 58/100\n",
            "60/60 - 0s - loss: 0.1430 - accuracy: 0.8045 - val_loss: 0.1348 - val_accuracy: 0.8057 - 151ms/epoch - 3ms/step\n",
            "Epoch 59/100\n",
            "60/60 - 0s - loss: 0.1407 - accuracy: 0.8058 - val_loss: 0.1372 - val_accuracy: 0.8012 - 163ms/epoch - 3ms/step\n",
            "Epoch 60/100\n",
            "60/60 - 0s - loss: 0.1411 - accuracy: 0.8085 - val_loss: 0.1385 - val_accuracy: 0.8072 - 153ms/epoch - 3ms/step\n",
            "Epoch 61/100\n",
            "60/60 - 0s - loss: 0.1422 - accuracy: 0.8063 - val_loss: 0.1362 - val_accuracy: 0.8117 - 163ms/epoch - 3ms/step\n",
            "Epoch 62/100\n",
            "60/60 - 0s - loss: 0.1447 - accuracy: 0.8011 - val_loss: 0.1407 - val_accuracy: 0.8027 - 146ms/epoch - 2ms/step\n",
            "Epoch 63/100\n",
            "60/60 - 0s - loss: 0.1413 - accuracy: 0.8077 - val_loss: 0.1349 - val_accuracy: 0.8087 - 155ms/epoch - 3ms/step\n",
            "Epoch 64/100\n",
            "60/60 - 0s - loss: 0.1411 - accuracy: 0.8119 - val_loss: 0.1475 - val_accuracy: 0.8057 - 158ms/epoch - 3ms/step\n",
            "Epoch 65/100\n",
            "60/60 - 0s - loss: 0.1442 - accuracy: 0.8042 - val_loss: 0.1331 - val_accuracy: 0.8057 - 155ms/epoch - 3ms/step\n",
            "Epoch 66/100\n",
            "60/60 - 0s - loss: 0.1395 - accuracy: 0.8040 - val_loss: 0.1381 - val_accuracy: 0.8012 - 165ms/epoch - 3ms/step\n",
            "Epoch 67/100\n",
            "60/60 - 0s - loss: 0.1397 - accuracy: 0.8127 - val_loss: 0.1348 - val_accuracy: 0.8027 - 164ms/epoch - 3ms/step\n",
            "Epoch 68/100\n",
            "60/60 - 0s - loss: 0.1392 - accuracy: 0.8108 - val_loss: 0.1322 - val_accuracy: 0.8206 - 154ms/epoch - 3ms/step\n",
            "Epoch 69/100\n",
            "60/60 - 0s - loss: 0.1385 - accuracy: 0.8140 - val_loss: 0.1377 - val_accuracy: 0.8027 - 166ms/epoch - 3ms/step\n",
            "Epoch 70/100\n",
            "60/60 - 0s - loss: 0.1375 - accuracy: 0.8140 - val_loss: 0.1368 - val_accuracy: 0.8057 - 153ms/epoch - 3ms/step\n",
            "Epoch 71/100\n",
            "60/60 - 0s - loss: 0.1418 - accuracy: 0.8069 - val_loss: 0.1355 - val_accuracy: 0.8057 - 147ms/epoch - 2ms/step\n",
            "Epoch 72/100\n",
            "60/60 - 0s - loss: 0.1434 - accuracy: 0.8061 - val_loss: 0.1393 - val_accuracy: 0.7982 - 167ms/epoch - 3ms/step\n",
            "Epoch 73/100\n",
            "60/60 - 0s - loss: 0.1362 - accuracy: 0.8151 - val_loss: 0.1333 - val_accuracy: 0.8072 - 162ms/epoch - 3ms/step\n",
            "Epoch 74/100\n",
            "60/60 - 0s - loss: 0.1379 - accuracy: 0.8100 - val_loss: 0.1325 - val_accuracy: 0.8072 - 163ms/epoch - 3ms/step\n",
            "Epoch 75/100\n",
            "60/60 - 0s - loss: 0.1424 - accuracy: 0.8026 - val_loss: 0.1354 - val_accuracy: 0.8117 - 152ms/epoch - 3ms/step\n",
            "Epoch 76/100\n",
            "60/60 - 0s - loss: 0.1390 - accuracy: 0.8085 - val_loss: 0.1345 - val_accuracy: 0.7997 - 158ms/epoch - 3ms/step\n",
            "Epoch 77/100\n",
            "60/60 - 0s - loss: 0.1405 - accuracy: 0.8119 - val_loss: 0.1333 - val_accuracy: 0.8042 - 154ms/epoch - 3ms/step\n",
            "Epoch 78/100\n",
            "60/60 - 0s - loss: 0.1406 - accuracy: 0.8063 - val_loss: 0.1373 - val_accuracy: 0.8042 - 170ms/epoch - 3ms/step\n",
            "Epoch 79/100\n",
            "60/60 - 0s - loss: 0.1411 - accuracy: 0.8087 - val_loss: 0.1376 - val_accuracy: 0.7952 - 158ms/epoch - 3ms/step\n",
            "Epoch 80/100\n",
            "60/60 - 0s - loss: 0.1407 - accuracy: 0.7995 - val_loss: 0.1362 - val_accuracy: 0.8042 - 155ms/epoch - 3ms/step\n",
            "Epoch 81/100\n",
            "60/60 - 0s - loss: 0.1434 - accuracy: 0.8114 - val_loss: 0.1361 - val_accuracy: 0.8012 - 152ms/epoch - 3ms/step\n",
            "Epoch 82/100\n",
            "60/60 - 0s - loss: 0.1398 - accuracy: 0.8124 - val_loss: 0.1404 - val_accuracy: 0.8057 - 158ms/epoch - 3ms/step\n",
            "Epoch 83/100\n",
            "60/60 - 0s - loss: 0.1378 - accuracy: 0.8122 - val_loss: 0.1389 - val_accuracy: 0.7997 - 153ms/epoch - 3ms/step\n",
            "Epoch 84/100\n",
            "60/60 - 0s - loss: 0.1375 - accuracy: 0.8087 - val_loss: 0.1347 - val_accuracy: 0.8117 - 163ms/epoch - 3ms/step\n",
            "Epoch 85/100\n",
            "60/60 - 0s - loss: 0.1419 - accuracy: 0.8037 - val_loss: 0.1370 - val_accuracy: 0.8117 - 160ms/epoch - 3ms/step\n",
            "Epoch 86/100\n",
            "60/60 - 0s - loss: 0.1396 - accuracy: 0.8111 - val_loss: 0.1438 - val_accuracy: 0.8102 - 161ms/epoch - 3ms/step\n",
            "Epoch 87/100\n",
            "60/60 - 0s - loss: 0.1374 - accuracy: 0.8137 - val_loss: 0.1361 - val_accuracy: 0.8087 - 163ms/epoch - 3ms/step\n",
            "Epoch 88/100\n",
            "60/60 - 0s - loss: 0.1369 - accuracy: 0.8169 - val_loss: 0.1340 - val_accuracy: 0.8087 - 152ms/epoch - 3ms/step\n",
            "Epoch 89/100\n",
            "60/60 - 0s - loss: 0.1385 - accuracy: 0.8092 - val_loss: 0.1393 - val_accuracy: 0.8132 - 152ms/epoch - 3ms/step\n",
            "Epoch 90/100\n",
            "60/60 - 0s - loss: 0.1383 - accuracy: 0.8098 - val_loss: 0.1331 - val_accuracy: 0.8027 - 156ms/epoch - 3ms/step\n",
            "Epoch 91/100\n",
            "60/60 - 0s - loss: 0.1357 - accuracy: 0.8156 - val_loss: 0.1347 - val_accuracy: 0.8087 - 171ms/epoch - 3ms/step\n",
            "Epoch 92/100\n",
            "60/60 - 0s - loss: 0.1378 - accuracy: 0.8145 - val_loss: 0.1385 - val_accuracy: 0.7997 - 153ms/epoch - 3ms/step\n",
            "Epoch 93/100\n",
            "60/60 - 0s - loss: 0.1379 - accuracy: 0.8140 - val_loss: 0.1335 - val_accuracy: 0.8072 - 163ms/epoch - 3ms/step\n",
            "Epoch 94/100\n",
            "60/60 - 0s - loss: 0.1356 - accuracy: 0.8124 - val_loss: 0.1351 - val_accuracy: 0.8027 - 172ms/epoch - 3ms/step\n",
            "Epoch 95/100\n",
            "60/60 - 0s - loss: 0.1370 - accuracy: 0.8203 - val_loss: 0.1396 - val_accuracy: 0.8221 - 159ms/epoch - 3ms/step\n",
            "Epoch 96/100\n",
            "60/60 - 0s - loss: 0.1371 - accuracy: 0.8090 - val_loss: 0.1408 - val_accuracy: 0.8042 - 157ms/epoch - 3ms/step\n",
            "Epoch 97/100\n",
            "60/60 - 0s - loss: 0.1357 - accuracy: 0.8103 - val_loss: 0.1407 - val_accuracy: 0.7997 - 159ms/epoch - 3ms/step\n",
            "Epoch 98/100\n",
            "60/60 - 0s - loss: 0.1356 - accuracy: 0.8151 - val_loss: 0.1334 - val_accuracy: 0.8027 - 159ms/epoch - 3ms/step\n",
            "Epoch 99/100\n",
            "60/60 - 0s - loss: 0.1400 - accuracy: 0.8098 - val_loss: 0.1416 - val_accuracy: 0.8072 - 148ms/epoch - 2ms/step\n",
            "Epoch 100/100\n",
            "60/60 - 0s - loss: 0.1374 - accuracy: 0.8140 - val_loss: 0.1378 - val_accuracy: 0.8102 - 165ms/epoch - 3ms/step\n"
          ]
        }
      ]
    },
    {
      "cell_type": "code",
      "source": [
        "valid_loss, valid_accuracy = model.evaluate(x_valid, y_valid)\n",
        "valid_accuracy"
      ],
      "metadata": {
        "colab": {
          "base_uri": "https://localhost:8080/"
        },
        "outputId": "ecbf39f1-ed24-412c-dfba-b4992505f836",
        "id": "Xb154g0YRDmU"
      },
      "execution_count": null,
      "outputs": [
        {
          "output_type": "stream",
          "name": "stdout",
          "text": [
            "47/47 [==============================] - 0s 2ms/step - loss: 0.1423 - accuracy: 0.8323\n"
          ]
        },
        {
          "output_type": "execute_result",
          "data": {
            "text/plain": [
              "0.8323232531547546"
            ]
          },
          "metadata": {},
          "execution_count": 180
        }
      ]
    },
    {
      "cell_type": "markdown",
      "source": [
        "Batch Normalization custom model and Dropout rate = 0."
      ],
      "metadata": {
        "id": "5bMyyEPZRZn1"
      }
    },
    {
      "cell_type": "code",
      "source": [
        "model = Sequential([\n",
        "    Dense(64, input_shape=[x_train.shape[1],], activation=\"relu\"),\n",
        "    BatchNormalization(),  # <- Batch normalization layer 1\n",
        "    Dropout(0.5),\n",
        "    Dense(256, activation='relu'),\n",
        "])"
      ],
      "metadata": {
        "id": "Y7N8pUZURZn1"
      },
      "execution_count": null,
      "outputs": []
    },
    {
      "cell_type": "code",
      "source": [
        "# Add a customised batch normalization layer 2\n",
        "\n",
        "model.add(tf.keras.layers.BatchNormalization(\n",
        "    momentum=0.95, # default is 0.99\n",
        "    epsilon=0.003, #default is 0.001\n",
        "    axis = -1, #default is -1\n",
        "    beta_initializer=tf.keras.initializers.RandomNormal(mean=0.0, stddev=0.07), # default is beta_initializer='zeros'\n",
        "    gamma_initializer=tf.keras.initializers.Constant(value=0.9) # default is gamma_initializer='ones'\n",
        "))"
      ],
      "metadata": {
        "id": "fSP7BPexRZn2"
      },
      "execution_count": null,
      "outputs": []
    },
    {
      "cell_type": "code",
      "source": [
        "# Add the output layer\n",
        "\n",
        "model.add(Dense(1))"
      ],
      "metadata": {
        "id": "fdLkDqIcRZn2"
      },
      "execution_count": null,
      "outputs": []
    },
    {
      "cell_type": "code",
      "source": [
        "# Compile the model\n",
        "\n",
        "model.compile(optimizer='adam',\n",
        "              loss='mse',\n",
        "              metrics=['accuracy'])"
      ],
      "metadata": {
        "id": "dqjIVx_PRZn2"
      },
      "execution_count": null,
      "outputs": []
    },
    {
      "cell_type": "code",
      "source": [
        "# Train the model\n",
        "\n",
        "history = model.fit(x_train, y_train, epochs=100, validation_split=0.15, batch_size=64,verbose=2)"
      ],
      "metadata": {
        "colab": {
          "base_uri": "https://localhost:8080/"
        },
        "outputId": "cd463a2f-8753-43f1-8ef1-73ff7b1ce7f3",
        "id": "qRQ1O62eRZn2"
      },
      "execution_count": null,
      "outputs": [
        {
          "output_type": "stream",
          "name": "stdout",
          "text": [
            "Epoch 1/100\n",
            "60/60 - 2s - loss: 0.8825 - accuracy: 0.5709 - val_loss: 0.4167 - val_accuracy: 0.4245 - 2s/epoch - 31ms/step\n",
            "Epoch 2/100\n",
            "60/60 - 0s - loss: 0.3443 - accuracy: 0.6328 - val_loss: 0.1851 - val_accuracy: 0.7309 - 300ms/epoch - 5ms/step\n",
            "Epoch 3/100\n",
            "60/60 - 0s - loss: 0.2922 - accuracy: 0.6505 - val_loss: 0.1713 - val_accuracy: 0.7564 - 234ms/epoch - 4ms/step\n",
            "Epoch 4/100\n",
            "60/60 - 0s - loss: 0.2611 - accuracy: 0.6737 - val_loss: 0.1654 - val_accuracy: 0.7593 - 299ms/epoch - 5ms/step\n",
            "Epoch 5/100\n",
            "60/60 - 0s - loss: 0.2539 - accuracy: 0.6769 - val_loss: 0.1785 - val_accuracy: 0.7459 - 298ms/epoch - 5ms/step\n",
            "Epoch 6/100\n",
            "60/60 - 0s - loss: 0.2296 - accuracy: 0.7141 - val_loss: 0.1719 - val_accuracy: 0.7623 - 242ms/epoch - 4ms/step\n",
            "Epoch 7/100\n",
            "60/60 - 0s - loss: 0.2146 - accuracy: 0.7266 - val_loss: 0.1675 - val_accuracy: 0.7578 - 246ms/epoch - 4ms/step\n",
            "Epoch 8/100\n",
            "60/60 - 0s - loss: 0.2080 - accuracy: 0.7199 - val_loss: 0.1664 - val_accuracy: 0.7638 - 229ms/epoch - 4ms/step\n",
            "Epoch 9/100\n",
            "60/60 - 0s - loss: 0.2006 - accuracy: 0.7371 - val_loss: 0.1661 - val_accuracy: 0.7788 - 280ms/epoch - 5ms/step\n",
            "Epoch 10/100\n",
            "60/60 - 0s - loss: 0.1934 - accuracy: 0.7469 - val_loss: 0.1662 - val_accuracy: 0.7668 - 240ms/epoch - 4ms/step\n",
            "Epoch 11/100\n",
            "60/60 - 0s - loss: 0.1963 - accuracy: 0.7345 - val_loss: 0.1506 - val_accuracy: 0.7833 - 236ms/epoch - 4ms/step\n",
            "Epoch 12/100\n",
            "60/60 - 0s - loss: 0.1814 - accuracy: 0.7654 - val_loss: 0.1627 - val_accuracy: 0.7848 - 223ms/epoch - 4ms/step\n",
            "Epoch 13/100\n",
            "60/60 - 0s - loss: 0.1784 - accuracy: 0.7580 - val_loss: 0.1611 - val_accuracy: 0.7713 - 247ms/epoch - 4ms/step\n",
            "Epoch 14/100\n",
            "60/60 - 0s - loss: 0.1880 - accuracy: 0.7469 - val_loss: 0.1529 - val_accuracy: 0.7848 - 235ms/epoch - 4ms/step\n",
            "Epoch 15/100\n",
            "60/60 - 0s - loss: 0.1760 - accuracy: 0.7622 - val_loss: 0.1570 - val_accuracy: 0.7743 - 298ms/epoch - 5ms/step\n",
            "Epoch 16/100\n",
            "60/60 - 0s - loss: 0.1740 - accuracy: 0.7691 - val_loss: 0.1675 - val_accuracy: 0.7892 - 188ms/epoch - 3ms/step\n",
            "Epoch 17/100\n",
            "60/60 - 0s - loss: 0.1723 - accuracy: 0.7701 - val_loss: 0.1629 - val_accuracy: 0.7833 - 161ms/epoch - 3ms/step\n",
            "Epoch 18/100\n",
            "60/60 - 0s - loss: 0.1718 - accuracy: 0.7731 - val_loss: 0.1614 - val_accuracy: 0.7877 - 160ms/epoch - 3ms/step\n",
            "Epoch 19/100\n",
            "60/60 - 0s - loss: 0.1702 - accuracy: 0.7696 - val_loss: 0.1497 - val_accuracy: 0.7877 - 165ms/epoch - 3ms/step\n",
            "Epoch 20/100\n",
            "60/60 - 0s - loss: 0.1745 - accuracy: 0.7667 - val_loss: 0.1615 - val_accuracy: 0.7848 - 162ms/epoch - 3ms/step\n",
            "Epoch 21/100\n",
            "60/60 - 0s - loss: 0.1637 - accuracy: 0.7849 - val_loss: 0.1713 - val_accuracy: 0.7758 - 155ms/epoch - 3ms/step\n",
            "Epoch 22/100\n",
            "60/60 - 0s - loss: 0.1674 - accuracy: 0.7826 - val_loss: 0.1478 - val_accuracy: 0.7818 - 155ms/epoch - 3ms/step\n",
            "Epoch 23/100\n",
            "60/60 - 0s - loss: 0.1628 - accuracy: 0.7881 - val_loss: 0.1535 - val_accuracy: 0.7877 - 153ms/epoch - 3ms/step\n",
            "Epoch 24/100\n",
            "60/60 - 0s - loss: 0.1640 - accuracy: 0.7818 - val_loss: 0.1516 - val_accuracy: 0.7982 - 155ms/epoch - 3ms/step\n",
            "Epoch 25/100\n",
            "60/60 - 0s - loss: 0.1669 - accuracy: 0.7754 - val_loss: 0.1463 - val_accuracy: 0.7892 - 183ms/epoch - 3ms/step\n",
            "Epoch 26/100\n",
            "60/60 - 0s - loss: 0.1618 - accuracy: 0.7852 - val_loss: 0.1487 - val_accuracy: 0.7997 - 171ms/epoch - 3ms/step\n",
            "Epoch 27/100\n",
            "60/60 - 0s - loss: 0.1624 - accuracy: 0.7831 - val_loss: 0.1543 - val_accuracy: 0.7862 - 161ms/epoch - 3ms/step\n",
            "Epoch 28/100\n",
            "60/60 - 0s - loss: 0.1612 - accuracy: 0.7889 - val_loss: 0.1477 - val_accuracy: 0.7803 - 158ms/epoch - 3ms/step\n",
            "Epoch 29/100\n",
            "60/60 - 0s - loss: 0.1595 - accuracy: 0.7929 - val_loss: 0.1476 - val_accuracy: 0.7952 - 168ms/epoch - 3ms/step\n",
            "Epoch 30/100\n",
            "60/60 - 0s - loss: 0.1583 - accuracy: 0.7900 - val_loss: 0.1448 - val_accuracy: 0.7922 - 151ms/epoch - 3ms/step\n",
            "Epoch 31/100\n",
            "60/60 - 0s - loss: 0.1585 - accuracy: 0.7886 - val_loss: 0.1511 - val_accuracy: 0.7997 - 172ms/epoch - 3ms/step\n",
            "Epoch 32/100\n",
            "60/60 - 0s - loss: 0.1601 - accuracy: 0.7857 - val_loss: 0.1434 - val_accuracy: 0.7862 - 153ms/epoch - 3ms/step\n",
            "Epoch 33/100\n",
            "60/60 - 0s - loss: 0.1576 - accuracy: 0.7892 - val_loss: 0.1418 - val_accuracy: 0.7922 - 161ms/epoch - 3ms/step\n",
            "Epoch 34/100\n",
            "60/60 - 0s - loss: 0.1558 - accuracy: 0.7952 - val_loss: 0.1447 - val_accuracy: 0.8042 - 156ms/epoch - 3ms/step\n",
            "Epoch 35/100\n",
            "60/60 - 0s - loss: 0.1536 - accuracy: 0.7939 - val_loss: 0.1418 - val_accuracy: 0.7982 - 153ms/epoch - 3ms/step\n",
            "Epoch 36/100\n",
            "60/60 - 0s - loss: 0.1567 - accuracy: 0.7897 - val_loss: 0.1454 - val_accuracy: 0.8012 - 149ms/epoch - 2ms/step\n",
            "Epoch 37/100\n",
            "60/60 - 0s - loss: 0.1563 - accuracy: 0.7968 - val_loss: 0.1449 - val_accuracy: 0.7907 - 159ms/epoch - 3ms/step\n",
            "Epoch 38/100\n",
            "60/60 - 0s - loss: 0.1556 - accuracy: 0.7889 - val_loss: 0.1495 - val_accuracy: 0.7952 - 152ms/epoch - 3ms/step\n",
            "Epoch 39/100\n",
            "60/60 - 0s - loss: 0.1501 - accuracy: 0.7966 - val_loss: 0.1478 - val_accuracy: 0.7967 - 173ms/epoch - 3ms/step\n",
            "Epoch 40/100\n",
            "60/60 - 0s - loss: 0.1527 - accuracy: 0.7950 - val_loss: 0.1419 - val_accuracy: 0.7907 - 162ms/epoch - 3ms/step\n",
            "Epoch 41/100\n",
            "60/60 - 0s - loss: 0.1575 - accuracy: 0.7950 - val_loss: 0.1395 - val_accuracy: 0.7982 - 156ms/epoch - 3ms/step\n",
            "Epoch 42/100\n",
            "60/60 - 0s - loss: 0.1530 - accuracy: 0.7997 - val_loss: 0.1452 - val_accuracy: 0.8012 - 160ms/epoch - 3ms/step\n",
            "Epoch 43/100\n",
            "60/60 - 0s - loss: 0.1549 - accuracy: 0.7971 - val_loss: 0.1592 - val_accuracy: 0.7952 - 148ms/epoch - 2ms/step\n",
            "Epoch 44/100\n",
            "60/60 - 0s - loss: 0.1552 - accuracy: 0.7918 - val_loss: 0.1425 - val_accuracy: 0.8012 - 169ms/epoch - 3ms/step\n",
            "Epoch 45/100\n",
            "60/60 - 0s - loss: 0.1548 - accuracy: 0.7942 - val_loss: 0.1403 - val_accuracy: 0.8102 - 160ms/epoch - 3ms/step\n",
            "Epoch 46/100\n",
            "60/60 - 0s - loss: 0.1485 - accuracy: 0.8021 - val_loss: 0.1472 - val_accuracy: 0.7937 - 155ms/epoch - 3ms/step\n",
            "Epoch 47/100\n",
            "60/60 - 0s - loss: 0.1529 - accuracy: 0.7968 - val_loss: 0.1383 - val_accuracy: 0.8042 - 158ms/epoch - 3ms/step\n",
            "Epoch 48/100\n",
            "60/60 - 0s - loss: 0.1513 - accuracy: 0.7984 - val_loss: 0.1510 - val_accuracy: 0.7952 - 156ms/epoch - 3ms/step\n",
            "Epoch 49/100\n",
            "60/60 - 0s - loss: 0.1507 - accuracy: 0.8061 - val_loss: 0.1417 - val_accuracy: 0.8057 - 153ms/epoch - 3ms/step\n",
            "Epoch 50/100\n",
            "60/60 - 0s - loss: 0.1537 - accuracy: 0.7966 - val_loss: 0.1435 - val_accuracy: 0.8087 - 181ms/epoch - 3ms/step\n",
            "Epoch 51/100\n",
            "60/60 - 0s - loss: 0.1525 - accuracy: 0.7979 - val_loss: 0.1518 - val_accuracy: 0.7952 - 156ms/epoch - 3ms/step\n",
            "Epoch 52/100\n",
            "60/60 - 0s - loss: 0.1541 - accuracy: 0.7876 - val_loss: 0.1554 - val_accuracy: 0.8087 - 164ms/epoch - 3ms/step\n",
            "Epoch 53/100\n",
            "60/60 - 0s - loss: 0.1564 - accuracy: 0.7934 - val_loss: 0.1406 - val_accuracy: 0.8117 - 154ms/epoch - 3ms/step\n",
            "Epoch 54/100\n",
            "60/60 - 0s - loss: 0.1484 - accuracy: 0.8077 - val_loss: 0.1418 - val_accuracy: 0.8027 - 155ms/epoch - 3ms/step\n",
            "Epoch 55/100\n",
            "60/60 - 0s - loss: 0.1524 - accuracy: 0.7976 - val_loss: 0.1466 - val_accuracy: 0.8117 - 155ms/epoch - 3ms/step\n",
            "Epoch 56/100\n",
            "60/60 - 0s - loss: 0.1497 - accuracy: 0.7960 - val_loss: 0.1451 - val_accuracy: 0.8102 - 160ms/epoch - 3ms/step\n",
            "Epoch 57/100\n",
            "60/60 - 0s - loss: 0.1518 - accuracy: 0.7992 - val_loss: 0.1647 - val_accuracy: 0.8042 - 161ms/epoch - 3ms/step\n",
            "Epoch 58/100\n",
            "60/60 - 0s - loss: 0.1500 - accuracy: 0.7968 - val_loss: 0.1490 - val_accuracy: 0.8102 - 158ms/epoch - 3ms/step\n",
            "Epoch 59/100\n",
            "60/60 - 0s - loss: 0.1490 - accuracy: 0.8005 - val_loss: 0.1440 - val_accuracy: 0.8132 - 156ms/epoch - 3ms/step\n",
            "Epoch 60/100\n",
            "60/60 - 0s - loss: 0.1497 - accuracy: 0.8032 - val_loss: 0.1536 - val_accuracy: 0.8057 - 160ms/epoch - 3ms/step\n",
            "Epoch 61/100\n",
            "60/60 - 0s - loss: 0.1473 - accuracy: 0.8021 - val_loss: 0.1488 - val_accuracy: 0.8072 - 176ms/epoch - 3ms/step\n",
            "Epoch 62/100\n",
            "60/60 - 0s - loss: 0.1457 - accuracy: 0.8050 - val_loss: 0.1538 - val_accuracy: 0.8042 - 164ms/epoch - 3ms/step\n",
            "Epoch 63/100\n",
            "60/60 - 0s - loss: 0.1500 - accuracy: 0.7992 - val_loss: 0.1556 - val_accuracy: 0.8072 - 156ms/epoch - 3ms/step\n",
            "Epoch 64/100\n",
            "60/60 - 0s - loss: 0.1502 - accuracy: 0.7982 - val_loss: 0.1478 - val_accuracy: 0.8042 - 157ms/epoch - 3ms/step\n",
            "Epoch 65/100\n",
            "60/60 - 0s - loss: 0.1475 - accuracy: 0.8055 - val_loss: 0.1438 - val_accuracy: 0.8117 - 160ms/epoch - 3ms/step\n",
            "Epoch 66/100\n",
            "60/60 - 0s - loss: 0.1466 - accuracy: 0.8029 - val_loss: 0.1491 - val_accuracy: 0.8132 - 161ms/epoch - 3ms/step\n",
            "Epoch 67/100\n",
            "60/60 - 0s - loss: 0.1478 - accuracy: 0.8053 - val_loss: 0.1388 - val_accuracy: 0.8102 - 152ms/epoch - 3ms/step\n",
            "Epoch 68/100\n",
            "60/60 - 0s - loss: 0.1491 - accuracy: 0.7937 - val_loss: 0.1446 - val_accuracy: 0.8117 - 170ms/epoch - 3ms/step\n",
            "Epoch 69/100\n",
            "60/60 - 0s - loss: 0.1480 - accuracy: 0.8000 - val_loss: 0.1441 - val_accuracy: 0.7937 - 164ms/epoch - 3ms/step\n",
            "Epoch 70/100\n",
            "60/60 - 0s - loss: 0.1475 - accuracy: 0.7989 - val_loss: 0.1456 - val_accuracy: 0.8012 - 172ms/epoch - 3ms/step\n",
            "Epoch 71/100\n",
            "60/60 - 0s - loss: 0.1495 - accuracy: 0.7974 - val_loss: 0.1420 - val_accuracy: 0.8012 - 161ms/epoch - 3ms/step\n",
            "Epoch 72/100\n",
            "60/60 - 0s - loss: 0.1498 - accuracy: 0.7989 - val_loss: 0.1367 - val_accuracy: 0.8012 - 164ms/epoch - 3ms/step\n",
            "Epoch 73/100\n",
            "60/60 - 0s - loss: 0.1505 - accuracy: 0.8037 - val_loss: 0.1415 - val_accuracy: 0.8042 - 156ms/epoch - 3ms/step\n",
            "Epoch 74/100\n",
            "60/60 - 0s - loss: 0.1487 - accuracy: 0.7995 - val_loss: 0.1381 - val_accuracy: 0.8132 - 158ms/epoch - 3ms/step\n",
            "Epoch 75/100\n",
            "60/60 - 0s - loss: 0.1469 - accuracy: 0.8085 - val_loss: 0.1435 - val_accuracy: 0.8117 - 155ms/epoch - 3ms/step\n",
            "Epoch 76/100\n",
            "60/60 - 0s - loss: 0.1452 - accuracy: 0.8063 - val_loss: 0.1380 - val_accuracy: 0.8042 - 165ms/epoch - 3ms/step\n",
            "Epoch 77/100\n",
            "60/60 - 0s - loss: 0.1448 - accuracy: 0.8037 - val_loss: 0.1437 - val_accuracy: 0.7967 - 156ms/epoch - 3ms/step\n",
            "Epoch 78/100\n",
            "60/60 - 0s - loss: 0.1470 - accuracy: 0.8026 - val_loss: 0.1416 - val_accuracy: 0.8132 - 164ms/epoch - 3ms/step\n",
            "Epoch 79/100\n",
            "60/60 - 0s - loss: 0.1435 - accuracy: 0.8069 - val_loss: 0.1421 - val_accuracy: 0.8117 - 154ms/epoch - 3ms/step\n",
            "Epoch 80/100\n",
            "60/60 - 0s - loss: 0.1449 - accuracy: 0.8069 - val_loss: 0.1401 - val_accuracy: 0.7967 - 152ms/epoch - 3ms/step\n",
            "Epoch 81/100\n",
            "60/60 - 0s - loss: 0.1468 - accuracy: 0.8026 - val_loss: 0.1386 - val_accuracy: 0.8072 - 167ms/epoch - 3ms/step\n",
            "Epoch 82/100\n",
            "60/60 - 0s - loss: 0.1469 - accuracy: 0.8103 - val_loss: 0.1440 - val_accuracy: 0.7997 - 157ms/epoch - 3ms/step\n",
            "Epoch 83/100\n",
            "60/60 - 0s - loss: 0.1460 - accuracy: 0.8013 - val_loss: 0.1535 - val_accuracy: 0.8072 - 154ms/epoch - 3ms/step\n",
            "Epoch 84/100\n",
            "60/60 - 0s - loss: 0.1446 - accuracy: 0.8058 - val_loss: 0.1422 - val_accuracy: 0.8161 - 153ms/epoch - 3ms/step\n",
            "Epoch 85/100\n",
            "60/60 - 0s - loss: 0.1426 - accuracy: 0.8103 - val_loss: 0.1384 - val_accuracy: 0.8057 - 160ms/epoch - 3ms/step\n",
            "Epoch 86/100\n",
            "60/60 - 0s - loss: 0.1482 - accuracy: 0.7997 - val_loss: 0.1433 - val_accuracy: 0.8146 - 151ms/epoch - 3ms/step\n",
            "Epoch 87/100\n",
            "60/60 - 0s - loss: 0.1452 - accuracy: 0.8061 - val_loss: 0.1399 - val_accuracy: 0.8057 - 166ms/epoch - 3ms/step\n",
            "Epoch 88/100\n",
            "60/60 - 0s - loss: 0.1441 - accuracy: 0.8045 - val_loss: 0.1438 - val_accuracy: 0.8057 - 159ms/epoch - 3ms/step\n",
            "Epoch 89/100\n",
            "60/60 - 0s - loss: 0.1455 - accuracy: 0.8058 - val_loss: 0.1350 - val_accuracy: 0.7997 - 164ms/epoch - 3ms/step\n",
            "Epoch 90/100\n",
            "60/60 - 0s - loss: 0.1468 - accuracy: 0.8077 - val_loss: 0.1366 - val_accuracy: 0.8117 - 162ms/epoch - 3ms/step\n",
            "Epoch 91/100\n",
            "60/60 - 0s - loss: 0.1420 - accuracy: 0.8074 - val_loss: 0.1368 - val_accuracy: 0.7967 - 154ms/epoch - 3ms/step\n",
            "Epoch 92/100\n",
            "60/60 - 0s - loss: 0.1434 - accuracy: 0.8037 - val_loss: 0.1397 - val_accuracy: 0.8132 - 157ms/epoch - 3ms/step\n",
            "Epoch 93/100\n",
            "60/60 - 0s - loss: 0.1423 - accuracy: 0.8055 - val_loss: 0.1570 - val_accuracy: 0.8072 - 164ms/epoch - 3ms/step\n",
            "Epoch 94/100\n",
            "60/60 - 0s - loss: 0.1452 - accuracy: 0.8061 - val_loss: 0.1468 - val_accuracy: 0.8102 - 173ms/epoch - 3ms/step\n",
            "Epoch 95/100\n",
            "60/60 - 0s - loss: 0.1461 - accuracy: 0.8055 - val_loss: 0.1540 - val_accuracy: 0.8087 - 154ms/epoch - 3ms/step\n",
            "Epoch 96/100\n",
            "60/60 - 0s - loss: 0.1434 - accuracy: 0.8106 - val_loss: 0.1573 - val_accuracy: 0.7997 - 158ms/epoch - 3ms/step\n",
            "Epoch 97/100\n",
            "60/60 - 0s - loss: 0.1430 - accuracy: 0.8103 - val_loss: 0.1493 - val_accuracy: 0.8072 - 156ms/epoch - 3ms/step\n",
            "Epoch 98/100\n",
            "60/60 - 0s - loss: 0.1446 - accuracy: 0.8040 - val_loss: 0.1412 - val_accuracy: 0.7997 - 152ms/epoch - 3ms/step\n",
            "Epoch 99/100\n",
            "60/60 - 0s - loss: 0.1405 - accuracy: 0.8114 - val_loss: 0.1613 - val_accuracy: 0.8117 - 163ms/epoch - 3ms/step\n",
            "Epoch 100/100\n",
            "60/60 - 0s - loss: 0.1425 - accuracy: 0.8111 - val_loss: 0.1399 - val_accuracy: 0.8027 - 163ms/epoch - 3ms/step\n"
          ]
        }
      ]
    },
    {
      "cell_type": "code",
      "source": [
        "valid_loss, valid_accuracy = model.evaluate(x_valid, y_valid)\n",
        "valid_accuracy"
      ],
      "metadata": {
        "colab": {
          "base_uri": "https://localhost:8080/"
        },
        "outputId": "04f6d76e-df3f-460f-9259-9e66f9538a21",
        "id": "JAji6EmyRZn2"
      },
      "execution_count": null,
      "outputs": [
        {
          "output_type": "stream",
          "name": "stdout",
          "text": [
            "47/47 [==============================] - 0s 1ms/step - loss: 0.1257 - accuracy: 0.8370\n"
          ]
        },
        {
          "output_type": "execute_result",
          "data": {
            "text/plain": [
              "0.8370370268821716"
            ]
          },
          "metadata": {},
          "execution_count": 186
        }
      ]
    },
    {
      "cell_type": "markdown",
      "source": [
        "#Batch normalization , L2 regularization , Dropout"
      ],
      "metadata": {
        "id": "EkamHE1GRwFm"
      }
    },
    {
      "cell_type": "markdown",
      "source": [
        "Batch Normalization custom model and Dropout rate = 0.5 Penalty = 0.0005\n"
      ],
      "metadata": {
        "id": "ojtf1ddjR-SK"
      }
    },
    {
      "cell_type": "code",
      "source": [
        "model = Sequential([\n",
        "    Dense(64, input_shape=[x_train.shape[1],], activation=\"relu\",kernel_regularizer = tf.keras.regularizers.l2(0.001)),\n",
        "    BatchNormalization(),  # <- Batch normalization layer 1\n",
        "    Dropout(0.5),\n",
        "    Dense(256, activation='relu'),\n",
        "])"
      ],
      "metadata": {
        "id": "W8Com59dR-SL"
      },
      "execution_count": null,
      "outputs": []
    },
    {
      "cell_type": "code",
      "source": [
        "# Add a customised batch normalization layer 2\n",
        "\n",
        "model.add(tf.keras.layers.BatchNormalization(\n",
        "    momentum=0.85, # default is 0.99\n",
        "    epsilon=0.002, #default is 0.001\n",
        "    axis = -1, #default is -1\n",
        "    beta_initializer=tf.keras.initializers.RandomNormal(mean=0.0, stddev=0.07), # default is beta_initializer='zeros'\n",
        "    gamma_initializer=tf.keras.initializers.Constant(value=0.9) # default is gamma_initializer='ones'\n",
        "))"
      ],
      "metadata": {
        "id": "H1z46jqHR-SL"
      },
      "execution_count": null,
      "outputs": []
    },
    {
      "cell_type": "code",
      "source": [
        "# Add the output layer\n",
        "\n",
        "model.add(Dense(1))"
      ],
      "metadata": {
        "id": "tBuyHMMwR-SL"
      },
      "execution_count": null,
      "outputs": []
    },
    {
      "cell_type": "code",
      "source": [
        "# Compile the model\n",
        "\n",
        "model.compile(optimizer='adam',\n",
        "              loss='mse',\n",
        "              metrics=['accuracy'])"
      ],
      "metadata": {
        "id": "YPWHnFX_R-SM"
      },
      "execution_count": null,
      "outputs": []
    },
    {
      "cell_type": "code",
      "source": [
        "# Train the model\n",
        "\n",
        "history = model.fit(x_train, y_train, epochs=100, validation_split=0.15, batch_size=64,verbose=2)"
      ],
      "metadata": {
        "colab": {
          "base_uri": "https://localhost:8080/"
        },
        "outputId": "c9cbe3b9-949a-46a3-b17e-53afa31953fd",
        "id": "ql5fAWQjR-SM"
      },
      "execution_count": null,
      "outputs": [
        {
          "output_type": "stream",
          "name": "stdout",
          "text": [
            "Epoch 1/100\n",
            "60/60 - 1s - loss: 0.6121 - accuracy: 0.6016 - val_loss: 0.4139 - val_accuracy: 0.5755 - 1s/epoch - 21ms/step\n",
            "Epoch 2/100\n",
            "60/60 - 0s - loss: 0.3162 - accuracy: 0.6618 - val_loss: 0.2446 - val_accuracy: 0.6293 - 158ms/epoch - 3ms/step\n",
            "Epoch 3/100\n",
            "60/60 - 0s - loss: 0.2760 - accuracy: 0.6811 - val_loss: 0.1944 - val_accuracy: 0.7474 - 187ms/epoch - 3ms/step\n",
            "Epoch 4/100\n",
            "60/60 - 0s - loss: 0.2466 - accuracy: 0.6985 - val_loss: 0.1833 - val_accuracy: 0.7459 - 171ms/epoch - 3ms/step\n",
            "Epoch 5/100\n",
            "60/60 - 0s - loss: 0.2225 - accuracy: 0.7186 - val_loss: 0.2129 - val_accuracy: 0.7205 - 167ms/epoch - 3ms/step\n",
            "Epoch 6/100\n",
            "60/60 - 0s - loss: 0.2297 - accuracy: 0.7168 - val_loss: 0.1954 - val_accuracy: 0.7339 - 155ms/epoch - 3ms/step\n",
            "Epoch 7/100\n",
            "60/60 - 0s - loss: 0.2108 - accuracy: 0.7353 - val_loss: 0.9706 - val_accuracy: 0.5082 - 152ms/epoch - 3ms/step\n",
            "Epoch 8/100\n",
            "60/60 - 0s - loss: 0.2083 - accuracy: 0.7403 - val_loss: 0.1908 - val_accuracy: 0.7564 - 160ms/epoch - 3ms/step\n",
            "Epoch 9/100\n",
            "60/60 - 0s - loss: 0.1953 - accuracy: 0.7511 - val_loss: 0.1698 - val_accuracy: 0.7728 - 164ms/epoch - 3ms/step\n",
            "Epoch 10/100\n",
            "60/60 - 0s - loss: 0.1980 - accuracy: 0.7535 - val_loss: 0.1622 - val_accuracy: 0.7848 - 153ms/epoch - 3ms/step\n",
            "Epoch 11/100\n",
            "60/60 - 0s - loss: 0.1815 - accuracy: 0.7686 - val_loss: 0.1621 - val_accuracy: 0.7922 - 161ms/epoch - 3ms/step\n",
            "Epoch 12/100\n",
            "60/60 - 0s - loss: 0.1813 - accuracy: 0.7789 - val_loss: 0.1598 - val_accuracy: 0.7862 - 163ms/epoch - 3ms/step\n",
            "Epoch 13/100\n",
            "60/60 - 0s - loss: 0.1772 - accuracy: 0.7804 - val_loss: 0.1639 - val_accuracy: 0.7877 - 155ms/epoch - 3ms/step\n",
            "Epoch 14/100\n",
            "60/60 - 0s - loss: 0.1786 - accuracy: 0.7746 - val_loss: 0.1625 - val_accuracy: 0.7907 - 156ms/epoch - 3ms/step\n",
            "Epoch 15/100\n",
            "60/60 - 0s - loss: 0.1755 - accuracy: 0.7773 - val_loss: 0.1632 - val_accuracy: 0.7907 - 158ms/epoch - 3ms/step\n",
            "Epoch 16/100\n",
            "60/60 - 0s - loss: 0.1756 - accuracy: 0.7765 - val_loss: 0.1578 - val_accuracy: 0.7952 - 167ms/epoch - 3ms/step\n",
            "Epoch 17/100\n",
            "60/60 - 0s - loss: 0.1678 - accuracy: 0.7818 - val_loss: 0.1574 - val_accuracy: 0.7877 - 152ms/epoch - 3ms/step\n",
            "Epoch 18/100\n",
            "60/60 - 0s - loss: 0.1713 - accuracy: 0.7844 - val_loss: 0.1598 - val_accuracy: 0.7982 - 161ms/epoch - 3ms/step\n",
            "Epoch 19/100\n",
            "60/60 - 0s - loss: 0.1729 - accuracy: 0.7791 - val_loss: 0.1517 - val_accuracy: 0.8042 - 164ms/epoch - 3ms/step\n",
            "Epoch 20/100\n",
            "60/60 - 0s - loss: 0.1683 - accuracy: 0.7831 - val_loss: 0.1629 - val_accuracy: 0.7967 - 161ms/epoch - 3ms/step\n",
            "Epoch 21/100\n",
            "60/60 - 0s - loss: 0.1669 - accuracy: 0.7810 - val_loss: 0.1538 - val_accuracy: 0.7997 - 157ms/epoch - 3ms/step\n",
            "Epoch 22/100\n",
            "60/60 - 0s - loss: 0.1688 - accuracy: 0.7841 - val_loss: 0.1506 - val_accuracy: 0.8042 - 156ms/epoch - 3ms/step\n",
            "Epoch 23/100\n",
            "60/60 - 0s - loss: 0.1629 - accuracy: 0.7871 - val_loss: 0.1540 - val_accuracy: 0.8057 - 156ms/epoch - 3ms/step\n",
            "Epoch 24/100\n",
            "60/60 - 0s - loss: 0.1652 - accuracy: 0.7863 - val_loss: 0.1532 - val_accuracy: 0.7952 - 175ms/epoch - 3ms/step\n",
            "Epoch 25/100\n",
            "60/60 - 0s - loss: 0.1654 - accuracy: 0.7799 - val_loss: 0.1491 - val_accuracy: 0.7982 - 156ms/epoch - 3ms/step\n",
            "Epoch 26/100\n",
            "60/60 - 0s - loss: 0.1640 - accuracy: 0.7873 - val_loss: 0.1495 - val_accuracy: 0.8102 - 157ms/epoch - 3ms/step\n",
            "Epoch 27/100\n",
            "60/60 - 0s - loss: 0.1656 - accuracy: 0.7847 - val_loss: 0.1548 - val_accuracy: 0.7997 - 174ms/epoch - 3ms/step\n",
            "Epoch 28/100\n",
            "60/60 - 0s - loss: 0.1646 - accuracy: 0.7818 - val_loss: 0.1536 - val_accuracy: 0.8072 - 160ms/epoch - 3ms/step\n",
            "Epoch 29/100\n",
            "60/60 - 0s - loss: 0.1636 - accuracy: 0.7915 - val_loss: 0.1505 - val_accuracy: 0.8057 - 152ms/epoch - 3ms/step\n",
            "Epoch 30/100\n",
            "60/60 - 0s - loss: 0.1630 - accuracy: 0.7881 - val_loss: 0.1442 - val_accuracy: 0.8027 - 166ms/epoch - 3ms/step\n",
            "Epoch 31/100\n",
            "60/60 - 0s - loss: 0.1604 - accuracy: 0.7947 - val_loss: 0.1520 - val_accuracy: 0.7997 - 157ms/epoch - 3ms/step\n",
            "Epoch 32/100\n",
            "60/60 - 0s - loss: 0.1638 - accuracy: 0.7871 - val_loss: 0.1479 - val_accuracy: 0.7967 - 156ms/epoch - 3ms/step\n",
            "Epoch 33/100\n",
            "60/60 - 0s - loss: 0.1602 - accuracy: 0.7910 - val_loss: 0.1471 - val_accuracy: 0.8117 - 170ms/epoch - 3ms/step\n",
            "Epoch 34/100\n",
            "60/60 - 0s - loss: 0.1624 - accuracy: 0.7921 - val_loss: 0.1526 - val_accuracy: 0.7937 - 148ms/epoch - 2ms/step\n",
            "Epoch 35/100\n",
            "60/60 - 0s - loss: 0.1578 - accuracy: 0.8008 - val_loss: 0.1573 - val_accuracy: 0.8012 - 158ms/epoch - 3ms/step\n",
            "Epoch 36/100\n",
            "60/60 - 0s - loss: 0.1642 - accuracy: 0.7841 - val_loss: 0.1574 - val_accuracy: 0.7773 - 173ms/epoch - 3ms/step\n",
            "Epoch 37/100\n",
            "60/60 - 0s - loss: 0.1617 - accuracy: 0.7839 - val_loss: 0.1602 - val_accuracy: 0.7848 - 158ms/epoch - 3ms/step\n",
            "Epoch 38/100\n",
            "60/60 - 0s - loss: 0.1643 - accuracy: 0.7823 - val_loss: 0.1539 - val_accuracy: 0.7833 - 158ms/epoch - 3ms/step\n",
            "Epoch 39/100\n",
            "60/60 - 0s - loss: 0.1585 - accuracy: 0.7918 - val_loss: 0.1478 - val_accuracy: 0.8012 - 153ms/epoch - 3ms/step\n",
            "Epoch 40/100\n",
            "60/60 - 0s - loss: 0.1611 - accuracy: 0.7926 - val_loss: 0.1511 - val_accuracy: 0.7892 - 153ms/epoch - 3ms/step\n",
            "Epoch 41/100\n",
            "60/60 - 0s - loss: 0.1604 - accuracy: 0.7836 - val_loss: 0.1487 - val_accuracy: 0.7967 - 163ms/epoch - 3ms/step\n",
            "Epoch 42/100\n",
            "60/60 - 0s - loss: 0.1599 - accuracy: 0.7915 - val_loss: 0.1504 - val_accuracy: 0.7922 - 154ms/epoch - 3ms/step\n",
            "Epoch 43/100\n",
            "60/60 - 0s - loss: 0.1591 - accuracy: 0.7934 - val_loss: 0.1505 - val_accuracy: 0.7848 - 161ms/epoch - 3ms/step\n",
            "Epoch 44/100\n",
            "60/60 - 0s - loss: 0.1598 - accuracy: 0.7836 - val_loss: 0.1557 - val_accuracy: 0.7907 - 159ms/epoch - 3ms/step\n",
            "Epoch 45/100\n",
            "60/60 - 0s - loss: 0.1609 - accuracy: 0.7849 - val_loss: 0.1444 - val_accuracy: 0.8027 - 157ms/epoch - 3ms/step\n",
            "Epoch 46/100\n",
            "60/60 - 0s - loss: 0.1581 - accuracy: 0.7902 - val_loss: 0.1447 - val_accuracy: 0.7967 - 159ms/epoch - 3ms/step\n",
            "Epoch 47/100\n",
            "60/60 - 0s - loss: 0.1574 - accuracy: 0.7947 - val_loss: 0.1441 - val_accuracy: 0.7997 - 154ms/epoch - 3ms/step\n",
            "Epoch 48/100\n",
            "60/60 - 0s - loss: 0.1559 - accuracy: 0.7942 - val_loss: 0.1454 - val_accuracy: 0.7967 - 157ms/epoch - 3ms/step\n",
            "Epoch 49/100\n",
            "60/60 - 0s - loss: 0.1546 - accuracy: 0.7902 - val_loss: 0.1426 - val_accuracy: 0.8057 - 162ms/epoch - 3ms/step\n",
            "Epoch 50/100\n",
            "60/60 - 0s - loss: 0.1577 - accuracy: 0.7976 - val_loss: 0.1592 - val_accuracy: 0.7818 - 168ms/epoch - 3ms/step\n",
            "Epoch 51/100\n",
            "60/60 - 0s - loss: 0.1581 - accuracy: 0.7910 - val_loss: 0.1433 - val_accuracy: 0.7952 - 158ms/epoch - 3ms/step\n",
            "Epoch 52/100\n",
            "60/60 - 0s - loss: 0.1601 - accuracy: 0.7868 - val_loss: 0.1602 - val_accuracy: 0.7877 - 154ms/epoch - 3ms/step\n",
            "Epoch 53/100\n",
            "60/60 - 0s - loss: 0.1547 - accuracy: 0.7931 - val_loss: 0.1449 - val_accuracy: 0.7967 - 149ms/epoch - 2ms/step\n",
            "Epoch 54/100\n",
            "60/60 - 0s - loss: 0.1552 - accuracy: 0.7997 - val_loss: 0.1652 - val_accuracy: 0.7743 - 158ms/epoch - 3ms/step\n",
            "Epoch 55/100\n",
            "60/60 - 0s - loss: 0.1566 - accuracy: 0.7937 - val_loss: 0.1463 - val_accuracy: 0.7922 - 174ms/epoch - 3ms/step\n",
            "Epoch 56/100\n",
            "60/60 - 0s - loss: 0.1540 - accuracy: 0.7945 - val_loss: 0.1428 - val_accuracy: 0.8042 - 158ms/epoch - 3ms/step\n",
            "Epoch 57/100\n",
            "60/60 - 0s - loss: 0.1563 - accuracy: 0.7929 - val_loss: 0.1430 - val_accuracy: 0.7967 - 153ms/epoch - 3ms/step\n",
            "Epoch 58/100\n",
            "60/60 - 0s - loss: 0.1583 - accuracy: 0.7902 - val_loss: 0.1510 - val_accuracy: 0.7952 - 153ms/epoch - 3ms/step\n",
            "Epoch 59/100\n",
            "60/60 - 0s - loss: 0.1561 - accuracy: 0.7886 - val_loss: 0.1524 - val_accuracy: 0.8027 - 157ms/epoch - 3ms/step\n",
            "Epoch 60/100\n",
            "60/60 - 0s - loss: 0.1600 - accuracy: 0.7836 - val_loss: 0.1450 - val_accuracy: 0.8027 - 158ms/epoch - 3ms/step\n",
            "Epoch 61/100\n",
            "60/60 - 0s - loss: 0.1543 - accuracy: 0.7913 - val_loss: 0.1471 - val_accuracy: 0.8087 - 172ms/epoch - 3ms/step\n",
            "Epoch 62/100\n",
            "60/60 - 0s - loss: 0.1536 - accuracy: 0.7958 - val_loss: 0.1457 - val_accuracy: 0.8072 - 161ms/epoch - 3ms/step\n",
            "Epoch 63/100\n",
            "60/60 - 0s - loss: 0.1560 - accuracy: 0.7958 - val_loss: 0.1458 - val_accuracy: 0.7892 - 175ms/epoch - 3ms/step\n",
            "Epoch 64/100\n",
            "60/60 - 0s - loss: 0.1538 - accuracy: 0.7921 - val_loss: 0.1413 - val_accuracy: 0.8012 - 204ms/epoch - 3ms/step\n",
            "Epoch 65/100\n",
            "60/60 - 0s - loss: 0.1523 - accuracy: 0.7992 - val_loss: 0.1426 - val_accuracy: 0.8057 - 160ms/epoch - 3ms/step\n",
            "Epoch 66/100\n",
            "60/60 - 0s - loss: 0.1544 - accuracy: 0.7989 - val_loss: 0.1495 - val_accuracy: 0.8072 - 159ms/epoch - 3ms/step\n",
            "Epoch 67/100\n",
            "60/60 - 0s - loss: 0.1529 - accuracy: 0.7966 - val_loss: 0.1441 - val_accuracy: 0.8132 - 168ms/epoch - 3ms/step\n",
            "Epoch 68/100\n",
            "60/60 - 0s - loss: 0.1522 - accuracy: 0.7976 - val_loss: 0.1411 - val_accuracy: 0.7982 - 163ms/epoch - 3ms/step\n",
            "Epoch 69/100\n",
            "60/60 - 0s - loss: 0.1521 - accuracy: 0.7984 - val_loss: 0.1436 - val_accuracy: 0.8042 - 166ms/epoch - 3ms/step\n",
            "Epoch 70/100\n",
            "60/60 - 0s - loss: 0.1514 - accuracy: 0.7952 - val_loss: 0.1432 - val_accuracy: 0.7967 - 154ms/epoch - 3ms/step\n",
            "Epoch 71/100\n",
            "60/60 - 0s - loss: 0.1515 - accuracy: 0.7937 - val_loss: 0.1434 - val_accuracy: 0.7937 - 163ms/epoch - 3ms/step\n",
            "Epoch 72/100\n",
            "60/60 - 0s - loss: 0.1518 - accuracy: 0.7974 - val_loss: 0.1772 - val_accuracy: 0.7564 - 182ms/epoch - 3ms/step\n",
            "Epoch 73/100\n",
            "60/60 - 0s - loss: 0.1502 - accuracy: 0.8050 - val_loss: 0.1457 - val_accuracy: 0.8072 - 156ms/epoch - 3ms/step\n",
            "Epoch 74/100\n",
            "60/60 - 0s - loss: 0.1518 - accuracy: 0.7937 - val_loss: 0.1477 - val_accuracy: 0.7952 - 205ms/epoch - 3ms/step\n",
            "Epoch 75/100\n",
            "60/60 - 0s - loss: 0.1524 - accuracy: 0.7979 - val_loss: 0.1437 - val_accuracy: 0.8087 - 164ms/epoch - 3ms/step\n",
            "Epoch 76/100\n",
            "60/60 - 0s - loss: 0.1502 - accuracy: 0.7968 - val_loss: 0.1484 - val_accuracy: 0.7937 - 167ms/epoch - 3ms/step\n",
            "Epoch 77/100\n",
            "60/60 - 0s - loss: 0.1535 - accuracy: 0.7913 - val_loss: 0.1418 - val_accuracy: 0.7952 - 162ms/epoch - 3ms/step\n",
            "Epoch 78/100\n",
            "60/60 - 0s - loss: 0.1529 - accuracy: 0.7910 - val_loss: 0.1473 - val_accuracy: 0.7997 - 179ms/epoch - 3ms/step\n",
            "Epoch 79/100\n",
            "60/60 - 0s - loss: 0.1541 - accuracy: 0.7910 - val_loss: 0.1433 - val_accuracy: 0.7937 - 173ms/epoch - 3ms/step\n",
            "Epoch 80/100\n",
            "60/60 - 0s - loss: 0.1564 - accuracy: 0.7876 - val_loss: 0.1522 - val_accuracy: 0.7967 - 152ms/epoch - 3ms/step\n",
            "Epoch 81/100\n",
            "60/60 - 0s - loss: 0.1505 - accuracy: 0.7971 - val_loss: 0.1705 - val_accuracy: 0.7743 - 149ms/epoch - 2ms/step\n",
            "Epoch 82/100\n",
            "60/60 - 0s - loss: 0.1519 - accuracy: 0.7958 - val_loss: 0.1481 - val_accuracy: 0.8012 - 174ms/epoch - 3ms/step\n",
            "Epoch 83/100\n",
            "60/60 - 0s - loss: 0.1535 - accuracy: 0.7923 - val_loss: 0.1517 - val_accuracy: 0.7937 - 151ms/epoch - 3ms/step\n",
            "Epoch 84/100\n",
            "60/60 - 0s - loss: 0.1503 - accuracy: 0.7947 - val_loss: 0.1487 - val_accuracy: 0.7952 - 162ms/epoch - 3ms/step\n",
            "Epoch 85/100\n",
            "60/60 - 0s - loss: 0.1540 - accuracy: 0.7878 - val_loss: 0.1429 - val_accuracy: 0.7982 - 189ms/epoch - 3ms/step\n",
            "Epoch 86/100\n",
            "60/60 - 0s - loss: 0.1534 - accuracy: 0.7989 - val_loss: 0.1445 - val_accuracy: 0.7982 - 153ms/epoch - 3ms/step\n",
            "Epoch 87/100\n",
            "60/60 - 0s - loss: 0.1537 - accuracy: 0.7905 - val_loss: 0.1480 - val_accuracy: 0.8027 - 164ms/epoch - 3ms/step\n",
            "Epoch 88/100\n",
            "60/60 - 0s - loss: 0.1533 - accuracy: 0.7918 - val_loss: 0.1475 - val_accuracy: 0.7997 - 165ms/epoch - 3ms/step\n",
            "Epoch 89/100\n",
            "60/60 - 0s - loss: 0.1506 - accuracy: 0.7918 - val_loss: 0.1452 - val_accuracy: 0.8027 - 160ms/epoch - 3ms/step\n",
            "Epoch 90/100\n",
            "60/60 - 0s - loss: 0.1502 - accuracy: 0.7974 - val_loss: 0.1492 - val_accuracy: 0.7982 - 173ms/epoch - 3ms/step\n",
            "Epoch 91/100\n",
            "60/60 - 0s - loss: 0.1501 - accuracy: 0.7976 - val_loss: 0.1512 - val_accuracy: 0.8027 - 162ms/epoch - 3ms/step\n",
            "Epoch 92/100\n",
            "60/60 - 0s - loss: 0.1482 - accuracy: 0.7955 - val_loss: 0.1435 - val_accuracy: 0.8012 - 161ms/epoch - 3ms/step\n",
            "Epoch 93/100\n",
            "60/60 - 0s - loss: 0.1523 - accuracy: 0.7979 - val_loss: 0.1428 - val_accuracy: 0.8042 - 165ms/epoch - 3ms/step\n",
            "Epoch 94/100\n",
            "60/60 - 0s - loss: 0.1481 - accuracy: 0.8029 - val_loss: 0.1431 - val_accuracy: 0.7967 - 155ms/epoch - 3ms/step\n",
            "Epoch 95/100\n",
            "60/60 - 0s - loss: 0.1483 - accuracy: 0.8018 - val_loss: 0.1422 - val_accuracy: 0.8042 - 157ms/epoch - 3ms/step\n",
            "Epoch 96/100\n",
            "60/60 - 0s - loss: 0.1510 - accuracy: 0.7997 - val_loss: 0.1517 - val_accuracy: 0.7922 - 165ms/epoch - 3ms/step\n",
            "Epoch 97/100\n",
            "60/60 - 0s - loss: 0.1492 - accuracy: 0.7966 - val_loss: 0.1409 - val_accuracy: 0.8027 - 165ms/epoch - 3ms/step\n",
            "Epoch 98/100\n",
            "60/60 - 0s - loss: 0.1504 - accuracy: 0.7897 - val_loss: 0.1430 - val_accuracy: 0.8072 - 159ms/epoch - 3ms/step\n",
            "Epoch 99/100\n",
            "60/60 - 0s - loss: 0.1482 - accuracy: 0.7982 - val_loss: 0.1424 - val_accuracy: 0.7997 - 163ms/epoch - 3ms/step\n",
            "Epoch 100/100\n",
            "60/60 - 0s - loss: 0.1509 - accuracy: 0.7971 - val_loss: 0.1498 - val_accuracy: 0.8012 - 164ms/epoch - 3ms/step\n"
          ]
        }
      ]
    },
    {
      "cell_type": "code",
      "source": [
        "valid_loss, valid_accuracy = model.evaluate(x_valid, y_valid)\n",
        "valid_accuracy"
      ],
      "metadata": {
        "colab": {
          "base_uri": "https://localhost:8080/"
        },
        "outputId": "3309fa91-ab8e-4e9d-e4bd-5f10821647ba",
        "id": "KdemlX3XR-SM"
      },
      "execution_count": null,
      "outputs": [
        {
          "output_type": "stream",
          "name": "stdout",
          "text": [
            "47/47 [==============================] - 0s 1ms/step - loss: 0.1371 - accuracy: 0.8189\n"
          ]
        },
        {
          "output_type": "execute_result",
          "data": {
            "text/plain": [
              "0.8188552260398865"
            ]
          },
          "metadata": {},
          "execution_count": 193
        }
      ]
    },
    {
      "cell_type": "markdown",
      "source": [
        "Batch Normalization custom model and Dropout rate = 0.4 Penalty = 0.0005\n"
      ],
      "metadata": {
        "id": "XuQRo7kES6_M"
      }
    },
    {
      "cell_type": "code",
      "source": [
        "model = Sequential([\n",
        "    Dense(64, input_shape=[x_train.shape[1],], activation=\"relu\",kernel_regularizer = tf.keras.regularizers.l2(0.0005)),\n",
        "    BatchNormalization(),  # <- Batch normalization layer 1\n",
        "    Dropout(0.4),\n",
        "    Dense(256, activation='relu'),\n",
        "])"
      ],
      "metadata": {
        "id": "1IJIuhhkS6_N"
      },
      "execution_count": null,
      "outputs": []
    },
    {
      "cell_type": "code",
      "source": [
        "# Add a customised batch normalization layer 2\n",
        "\n",
        "model.add(tf.keras.layers.BatchNormalization(\n",
        "    momentum=0.95, # default is 0.99\n",
        "    epsilon=0.005, #default is 0.001\n",
        "    axis = -1, #default is -1\n",
        "    beta_initializer=tf.keras.initializers.RandomNormal(mean=0.0, stddev=0.07), # default is beta_initializer='zeros'\n",
        "    gamma_initializer=tf.keras.initializers.Constant(value=0.9) # default is gamma_initializer='ones'\n",
        "))"
      ],
      "metadata": {
        "id": "u-hNeVjsS6_N"
      },
      "execution_count": null,
      "outputs": []
    },
    {
      "cell_type": "code",
      "source": [
        "# Add the output layer\n",
        "\n",
        "model.add(Dense(1))"
      ],
      "metadata": {
        "id": "xATvist2S6_N"
      },
      "execution_count": null,
      "outputs": []
    },
    {
      "cell_type": "code",
      "source": [
        "# Compile the model\n",
        "\n",
        "model.compile(optimizer='adam',\n",
        "              loss='mse',\n",
        "              metrics=['accuracy'])"
      ],
      "metadata": {
        "id": "vvNbKAonS6_N"
      },
      "execution_count": null,
      "outputs": []
    },
    {
      "cell_type": "code",
      "source": [
        "# Train the model\n",
        "\n",
        "history = model.fit(x_train, y_train, epochs=100, validation_split=0.15, batch_size=64,verbose=2)"
      ],
      "metadata": {
        "colab": {
          "base_uri": "https://localhost:8080/"
        },
        "outputId": "59bce0d8-1a45-4cc5-e8f5-1dd0c8eeaa76",
        "id": "S_qhOEEdS6_O"
      },
      "execution_count": null,
      "outputs": [
        {
          "output_type": "stream",
          "name": "stdout",
          "text": [
            "Epoch 1/100\n",
            "60/60 - 1s - loss: 0.5327 - accuracy: 0.6177 - val_loss: 0.2761 - val_accuracy: 0.6009 - 1s/epoch - 18ms/step\n",
            "Epoch 2/100\n",
            "60/60 - 0s - loss: 0.2946 - accuracy: 0.6661 - val_loss: 0.1897 - val_accuracy: 0.7623 - 159ms/epoch - 3ms/step\n",
            "Epoch 3/100\n",
            "60/60 - 0s - loss: 0.2606 - accuracy: 0.7015 - val_loss: 0.1863 - val_accuracy: 0.7788 - 176ms/epoch - 3ms/step\n",
            "Epoch 4/100\n",
            "60/60 - 0s - loss: 0.2301 - accuracy: 0.7162 - val_loss: 0.1632 - val_accuracy: 0.7952 - 154ms/epoch - 3ms/step\n",
            "Epoch 5/100\n",
            "60/60 - 0s - loss: 0.2114 - accuracy: 0.7392 - val_loss: 0.1712 - val_accuracy: 0.7773 - 164ms/epoch - 3ms/step\n",
            "Epoch 6/100\n",
            "60/60 - 0s - loss: 0.2045 - accuracy: 0.7466 - val_loss: 0.1641 - val_accuracy: 0.7818 - 162ms/epoch - 3ms/step\n",
            "Epoch 7/100\n",
            "60/60 - 0s - loss: 0.1937 - accuracy: 0.7480 - val_loss: 0.1606 - val_accuracy: 0.7952 - 151ms/epoch - 3ms/step\n",
            "Epoch 8/100\n",
            "60/60 - 0s - loss: 0.1890 - accuracy: 0.7601 - val_loss: 0.1738 - val_accuracy: 0.7788 - 167ms/epoch - 3ms/step\n",
            "Epoch 9/100\n",
            "60/60 - 0s - loss: 0.1888 - accuracy: 0.7604 - val_loss: 0.1636 - val_accuracy: 0.7937 - 161ms/epoch - 3ms/step\n",
            "Epoch 10/100\n",
            "60/60 - 0s - loss: 0.1842 - accuracy: 0.7720 - val_loss: 0.1631 - val_accuracy: 0.7848 - 156ms/epoch - 3ms/step\n",
            "Epoch 11/100\n",
            "60/60 - 0s - loss: 0.1786 - accuracy: 0.7704 - val_loss: 0.1721 - val_accuracy: 0.7833 - 159ms/epoch - 3ms/step\n",
            "Epoch 12/100\n",
            "60/60 - 0s - loss: 0.1767 - accuracy: 0.7731 - val_loss: 0.1745 - val_accuracy: 0.7788 - 212ms/epoch - 4ms/step\n",
            "Epoch 13/100\n",
            "60/60 - 0s - loss: 0.1766 - accuracy: 0.7783 - val_loss: 0.1735 - val_accuracy: 0.7803 - 151ms/epoch - 3ms/step\n",
            "Epoch 14/100\n",
            "60/60 - 0s - loss: 0.1727 - accuracy: 0.7831 - val_loss: 0.1581 - val_accuracy: 0.7967 - 165ms/epoch - 3ms/step\n",
            "Epoch 15/100\n",
            "60/60 - 0s - loss: 0.1747 - accuracy: 0.7810 - val_loss: 0.1579 - val_accuracy: 0.7862 - 151ms/epoch - 3ms/step\n",
            "Epoch 16/100\n",
            "60/60 - 0s - loss: 0.1697 - accuracy: 0.7786 - val_loss: 0.1497 - val_accuracy: 0.7937 - 146ms/epoch - 2ms/step\n",
            "Epoch 17/100\n",
            "60/60 - 0s - loss: 0.1676 - accuracy: 0.7878 - val_loss: 0.1476 - val_accuracy: 0.7862 - 160ms/epoch - 3ms/step\n",
            "Epoch 18/100\n",
            "60/60 - 0s - loss: 0.1662 - accuracy: 0.7884 - val_loss: 0.1503 - val_accuracy: 0.7892 - 166ms/epoch - 3ms/step\n",
            "Epoch 19/100\n",
            "60/60 - 0s - loss: 0.1677 - accuracy: 0.7844 - val_loss: 0.1484 - val_accuracy: 0.7833 - 163ms/epoch - 3ms/step\n",
            "Epoch 20/100\n",
            "60/60 - 0s - loss: 0.1672 - accuracy: 0.7860 - val_loss: 0.1496 - val_accuracy: 0.7997 - 167ms/epoch - 3ms/step\n",
            "Epoch 21/100\n",
            "60/60 - 0s - loss: 0.1619 - accuracy: 0.7923 - val_loss: 0.1618 - val_accuracy: 0.7892 - 161ms/epoch - 3ms/step\n",
            "Epoch 22/100\n",
            "60/60 - 0s - loss: 0.1637 - accuracy: 0.7950 - val_loss: 0.1816 - val_accuracy: 0.7937 - 166ms/epoch - 3ms/step\n",
            "Epoch 23/100\n",
            "60/60 - 0s - loss: 0.1613 - accuracy: 0.7844 - val_loss: 0.1648 - val_accuracy: 0.7892 - 153ms/epoch - 3ms/step\n",
            "Epoch 24/100\n",
            "60/60 - 0s - loss: 0.1625 - accuracy: 0.7892 - val_loss: 0.1488 - val_accuracy: 0.7952 - 158ms/epoch - 3ms/step\n",
            "Epoch 25/100\n",
            "60/60 - 0s - loss: 0.1619 - accuracy: 0.7945 - val_loss: 0.1727 - val_accuracy: 0.7967 - 161ms/epoch - 3ms/step\n",
            "Epoch 26/100\n",
            "60/60 - 0s - loss: 0.1617 - accuracy: 0.7934 - val_loss: 0.1532 - val_accuracy: 0.8027 - 159ms/epoch - 3ms/step\n",
            "Epoch 27/100\n",
            "60/60 - 0s - loss: 0.1615 - accuracy: 0.7878 - val_loss: 0.1508 - val_accuracy: 0.7997 - 158ms/epoch - 3ms/step\n",
            "Epoch 28/100\n",
            "60/60 - 0s - loss: 0.1601 - accuracy: 0.7931 - val_loss: 0.1500 - val_accuracy: 0.7967 - 151ms/epoch - 3ms/step\n",
            "Epoch 29/100\n",
            "60/60 - 0s - loss: 0.1616 - accuracy: 0.7913 - val_loss: 0.1508 - val_accuracy: 0.7997 - 149ms/epoch - 2ms/step\n",
            "Epoch 30/100\n",
            "60/60 - 0s - loss: 0.1581 - accuracy: 0.7945 - val_loss: 0.1531 - val_accuracy: 0.7967 - 158ms/epoch - 3ms/step\n",
            "Epoch 31/100\n",
            "60/60 - 0s - loss: 0.1560 - accuracy: 0.7995 - val_loss: 0.1433 - val_accuracy: 0.7967 - 158ms/epoch - 3ms/step\n",
            "Epoch 32/100\n",
            "60/60 - 0s - loss: 0.1549 - accuracy: 0.7918 - val_loss: 0.1553 - val_accuracy: 0.8012 - 153ms/epoch - 3ms/step\n",
            "Epoch 33/100\n",
            "60/60 - 0s - loss: 0.1621 - accuracy: 0.7873 - val_loss: 0.1465 - val_accuracy: 0.8117 - 173ms/epoch - 3ms/step\n",
            "Epoch 34/100\n",
            "60/60 - 0s - loss: 0.1558 - accuracy: 0.7963 - val_loss: 0.1416 - val_accuracy: 0.7982 - 156ms/epoch - 3ms/step\n",
            "Epoch 35/100\n",
            "60/60 - 0s - loss: 0.1537 - accuracy: 0.8042 - val_loss: 0.1510 - val_accuracy: 0.7952 - 165ms/epoch - 3ms/step\n",
            "Epoch 36/100\n",
            "60/60 - 0s - loss: 0.1573 - accuracy: 0.7974 - val_loss: 0.1505 - val_accuracy: 0.7982 - 153ms/epoch - 3ms/step\n",
            "Epoch 37/100\n",
            "60/60 - 0s - loss: 0.1628 - accuracy: 0.7921 - val_loss: 0.1824 - val_accuracy: 0.7608 - 159ms/epoch - 3ms/step\n",
            "Epoch 38/100\n",
            "60/60 - 0s - loss: 0.1565 - accuracy: 0.7939 - val_loss: 0.1469 - val_accuracy: 0.8057 - 163ms/epoch - 3ms/step\n",
            "Epoch 39/100\n",
            "60/60 - 0s - loss: 0.1572 - accuracy: 0.7958 - val_loss: 0.1535 - val_accuracy: 0.7997 - 159ms/epoch - 3ms/step\n",
            "Epoch 40/100\n",
            "60/60 - 0s - loss: 0.1567 - accuracy: 0.8013 - val_loss: 0.1460 - val_accuracy: 0.8027 - 164ms/epoch - 3ms/step\n",
            "Epoch 41/100\n",
            "60/60 - 0s - loss: 0.1534 - accuracy: 0.7950 - val_loss: 0.1660 - val_accuracy: 0.7952 - 170ms/epoch - 3ms/step\n",
            "Epoch 42/100\n",
            "60/60 - 0s - loss: 0.1566 - accuracy: 0.7931 - val_loss: 0.1484 - val_accuracy: 0.8057 - 182ms/epoch - 3ms/step\n",
            "Epoch 43/100\n",
            "60/60 - 0s - loss: 0.1543 - accuracy: 0.7966 - val_loss: 0.1462 - val_accuracy: 0.8072 - 158ms/epoch - 3ms/step\n",
            "Epoch 44/100\n",
            "60/60 - 0s - loss: 0.1564 - accuracy: 0.7945 - val_loss: 0.1505 - val_accuracy: 0.8012 - 171ms/epoch - 3ms/step\n",
            "Epoch 45/100\n",
            "60/60 - 0s - loss: 0.1525 - accuracy: 0.7968 - val_loss: 0.1527 - val_accuracy: 0.8072 - 169ms/epoch - 3ms/step\n",
            "Epoch 46/100\n",
            "60/60 - 0s - loss: 0.1538 - accuracy: 0.8013 - val_loss: 0.1605 - val_accuracy: 0.7862 - 150ms/epoch - 3ms/step\n",
            "Epoch 47/100\n",
            "60/60 - 0s - loss: 0.1535 - accuracy: 0.7968 - val_loss: 0.1497 - val_accuracy: 0.8027 - 161ms/epoch - 3ms/step\n",
            "Epoch 48/100\n",
            "60/60 - 0s - loss: 0.1497 - accuracy: 0.8079 - val_loss: 0.1518 - val_accuracy: 0.7922 - 168ms/epoch - 3ms/step\n",
            "Epoch 49/100\n",
            "60/60 - 0s - loss: 0.1558 - accuracy: 0.8018 - val_loss: 0.1461 - val_accuracy: 0.8042 - 168ms/epoch - 3ms/step\n",
            "Epoch 50/100\n",
            "60/60 - 0s - loss: 0.1543 - accuracy: 0.7966 - val_loss: 0.1499 - val_accuracy: 0.8042 - 152ms/epoch - 3ms/step\n",
            "Epoch 51/100\n",
            "60/60 - 0s - loss: 0.1513 - accuracy: 0.8003 - val_loss: 0.1415 - val_accuracy: 0.8057 - 171ms/epoch - 3ms/step\n",
            "Epoch 52/100\n",
            "60/60 - 0s - loss: 0.1506 - accuracy: 0.8048 - val_loss: 0.1485 - val_accuracy: 0.7952 - 159ms/epoch - 3ms/step\n",
            "Epoch 53/100\n",
            "60/60 - 0s - loss: 0.1484 - accuracy: 0.8069 - val_loss: 0.1447 - val_accuracy: 0.8027 - 167ms/epoch - 3ms/step\n",
            "Epoch 54/100\n",
            "60/60 - 0s - loss: 0.1502 - accuracy: 0.8018 - val_loss: 0.1593 - val_accuracy: 0.7862 - 150ms/epoch - 2ms/step\n",
            "Epoch 55/100\n",
            "60/60 - 0s - loss: 0.1507 - accuracy: 0.8021 - val_loss: 0.1487 - val_accuracy: 0.8072 - 175ms/epoch - 3ms/step\n",
            "Epoch 56/100\n",
            "60/60 - 0s - loss: 0.1533 - accuracy: 0.8013 - val_loss: 0.1461 - val_accuracy: 0.7997 - 159ms/epoch - 3ms/step\n",
            "Epoch 57/100\n",
            "60/60 - 0s - loss: 0.1493 - accuracy: 0.8053 - val_loss: 0.1497 - val_accuracy: 0.8072 - 159ms/epoch - 3ms/step\n",
            "Epoch 58/100\n",
            "60/60 - 0s - loss: 0.1507 - accuracy: 0.7995 - val_loss: 0.1539 - val_accuracy: 0.8087 - 162ms/epoch - 3ms/step\n",
            "Epoch 59/100\n",
            "60/60 - 0s - loss: 0.1517 - accuracy: 0.8013 - val_loss: 0.1534 - val_accuracy: 0.7997 - 160ms/epoch - 3ms/step\n",
            "Epoch 60/100\n",
            "60/60 - 0s - loss: 0.1519 - accuracy: 0.8008 - val_loss: 0.1443 - val_accuracy: 0.8042 - 154ms/epoch - 3ms/step\n",
            "Epoch 61/100\n",
            "60/60 - 0s - loss: 0.1520 - accuracy: 0.7992 - val_loss: 0.1707 - val_accuracy: 0.8042 - 153ms/epoch - 3ms/step\n",
            "Epoch 62/100\n",
            "60/60 - 0s - loss: 0.1535 - accuracy: 0.7984 - val_loss: 0.1620 - val_accuracy: 0.7982 - 169ms/epoch - 3ms/step\n",
            "Epoch 63/100\n",
            "60/60 - 0s - loss: 0.1502 - accuracy: 0.7984 - val_loss: 0.1590 - val_accuracy: 0.8027 - 155ms/epoch - 3ms/step\n",
            "Epoch 64/100\n",
            "60/60 - 0s - loss: 0.1521 - accuracy: 0.8024 - val_loss: 0.1452 - val_accuracy: 0.8057 - 156ms/epoch - 3ms/step\n",
            "Epoch 65/100\n",
            "60/60 - 0s - loss: 0.1481 - accuracy: 0.8032 - val_loss: 0.1461 - val_accuracy: 0.8027 - 160ms/epoch - 3ms/step\n",
            "Epoch 66/100\n",
            "60/60 - 0s - loss: 0.1486 - accuracy: 0.8048 - val_loss: 0.1443 - val_accuracy: 0.8057 - 163ms/epoch - 3ms/step\n",
            "Epoch 67/100\n",
            "60/60 - 0s - loss: 0.1486 - accuracy: 0.8074 - val_loss: 0.1475 - val_accuracy: 0.8087 - 162ms/epoch - 3ms/step\n",
            "Epoch 68/100\n",
            "60/60 - 0s - loss: 0.1518 - accuracy: 0.7955 - val_loss: 0.1494 - val_accuracy: 0.7982 - 162ms/epoch - 3ms/step\n",
            "Epoch 69/100\n",
            "60/60 - 0s - loss: 0.1509 - accuracy: 0.8034 - val_loss: 0.1383 - val_accuracy: 0.8146 - 177ms/epoch - 3ms/step\n",
            "Epoch 70/100\n",
            "60/60 - 0s - loss: 0.1525 - accuracy: 0.8011 - val_loss: 0.1634 - val_accuracy: 0.8161 - 161ms/epoch - 3ms/step\n",
            "Epoch 71/100\n",
            "60/60 - 0s - loss: 0.1520 - accuracy: 0.7976 - val_loss: 0.1400 - val_accuracy: 0.8072 - 169ms/epoch - 3ms/step\n",
            "Epoch 72/100\n",
            "60/60 - 0s - loss: 0.1494 - accuracy: 0.8013 - val_loss: 0.1534 - val_accuracy: 0.7862 - 178ms/epoch - 3ms/step\n",
            "Epoch 73/100\n",
            "60/60 - 0s - loss: 0.1542 - accuracy: 0.8011 - val_loss: 0.1419 - val_accuracy: 0.8027 - 166ms/epoch - 3ms/step\n",
            "Epoch 74/100\n",
            "60/60 - 0s - loss: 0.1475 - accuracy: 0.7997 - val_loss: 0.1608 - val_accuracy: 0.7803 - 190ms/epoch - 3ms/step\n",
            "Epoch 75/100\n",
            "60/60 - 0s - loss: 0.1484 - accuracy: 0.8011 - val_loss: 0.1393 - val_accuracy: 0.8027 - 161ms/epoch - 3ms/step\n",
            "Epoch 76/100\n",
            "60/60 - 0s - loss: 0.1461 - accuracy: 0.8077 - val_loss: 0.1428 - val_accuracy: 0.8087 - 152ms/epoch - 3ms/step\n",
            "Epoch 77/100\n",
            "60/60 - 0s - loss: 0.1498 - accuracy: 0.7992 - val_loss: 0.1469 - val_accuracy: 0.8132 - 158ms/epoch - 3ms/step\n",
            "Epoch 78/100\n",
            "60/60 - 0s - loss: 0.1509 - accuracy: 0.7971 - val_loss: 0.1547 - val_accuracy: 0.7952 - 157ms/epoch - 3ms/step\n",
            "Epoch 79/100\n",
            "60/60 - 0s - loss: 0.1495 - accuracy: 0.8024 - val_loss: 0.1552 - val_accuracy: 0.7967 - 150ms/epoch - 2ms/step\n",
            "Epoch 80/100\n",
            "60/60 - 0s - loss: 0.1494 - accuracy: 0.8053 - val_loss: 0.1572 - val_accuracy: 0.7892 - 169ms/epoch - 3ms/step\n",
            "Epoch 81/100\n",
            "60/60 - 0s - loss: 0.1484 - accuracy: 0.8029 - val_loss: 0.1467 - val_accuracy: 0.8087 - 159ms/epoch - 3ms/step\n",
            "Epoch 82/100\n",
            "60/60 - 0s - loss: 0.1468 - accuracy: 0.8018 - val_loss: 0.1440 - val_accuracy: 0.8057 - 160ms/epoch - 3ms/step\n",
            "Epoch 83/100\n",
            "60/60 - 0s - loss: 0.1514 - accuracy: 0.8011 - val_loss: 0.1632 - val_accuracy: 0.7623 - 173ms/epoch - 3ms/step\n",
            "Epoch 84/100\n",
            "60/60 - 0s - loss: 0.1506 - accuracy: 0.8003 - val_loss: 0.1587 - val_accuracy: 0.7848 - 167ms/epoch - 3ms/step\n",
            "Epoch 85/100\n",
            "60/60 - 0s - loss: 0.1471 - accuracy: 0.8063 - val_loss: 0.1425 - val_accuracy: 0.8042 - 176ms/epoch - 3ms/step\n",
            "Epoch 86/100\n",
            "60/60 - 0s - loss: 0.1500 - accuracy: 0.7982 - val_loss: 0.1477 - val_accuracy: 0.8102 - 176ms/epoch - 3ms/step\n",
            "Epoch 87/100\n",
            "60/60 - 0s - loss: 0.1501 - accuracy: 0.8053 - val_loss: 0.1478 - val_accuracy: 0.7967 - 155ms/epoch - 3ms/step\n",
            "Epoch 88/100\n",
            "60/60 - 0s - loss: 0.1512 - accuracy: 0.7987 - val_loss: 0.1448 - val_accuracy: 0.8042 - 150ms/epoch - 3ms/step\n",
            "Epoch 89/100\n",
            "60/60 - 0s - loss: 0.1487 - accuracy: 0.8026 - val_loss: 0.1413 - val_accuracy: 0.7982 - 157ms/epoch - 3ms/step\n",
            "Epoch 90/100\n",
            "60/60 - 0s - loss: 0.1474 - accuracy: 0.7984 - val_loss: 0.1500 - val_accuracy: 0.7952 - 148ms/epoch - 2ms/step\n",
            "Epoch 91/100\n",
            "60/60 - 0s - loss: 0.1474 - accuracy: 0.8034 - val_loss: 0.1397 - val_accuracy: 0.8057 - 158ms/epoch - 3ms/step\n",
            "Epoch 92/100\n",
            "60/60 - 0s - loss: 0.1469 - accuracy: 0.8048 - val_loss: 0.1518 - val_accuracy: 0.7833 - 162ms/epoch - 3ms/step\n",
            "Epoch 93/100\n",
            "60/60 - 0s - loss: 0.1488 - accuracy: 0.8013 - val_loss: 0.1549 - val_accuracy: 0.8057 - 157ms/epoch - 3ms/step\n",
            "Epoch 94/100\n",
            "60/60 - 0s - loss: 0.1492 - accuracy: 0.7995 - val_loss: 0.1484 - val_accuracy: 0.7952 - 160ms/epoch - 3ms/step\n",
            "Epoch 95/100\n",
            "60/60 - 0s - loss: 0.1459 - accuracy: 0.8055 - val_loss: 0.1460 - val_accuracy: 0.8042 - 167ms/epoch - 3ms/step\n",
            "Epoch 96/100\n",
            "60/60 - 0s - loss: 0.1449 - accuracy: 0.8037 - val_loss: 0.1439 - val_accuracy: 0.8132 - 155ms/epoch - 3ms/step\n",
            "Epoch 97/100\n",
            "60/60 - 0s - loss: 0.1437 - accuracy: 0.8077 - val_loss: 0.1538 - val_accuracy: 0.7892 - 154ms/epoch - 3ms/step\n",
            "Epoch 98/100\n",
            "60/60 - 0s - loss: 0.1459 - accuracy: 0.8037 - val_loss: 0.1467 - val_accuracy: 0.8012 - 162ms/epoch - 3ms/step\n",
            "Epoch 99/100\n",
            "60/60 - 0s - loss: 0.1443 - accuracy: 0.8063 - val_loss: 0.1389 - val_accuracy: 0.8027 - 157ms/epoch - 3ms/step\n",
            "Epoch 100/100\n",
            "60/60 - 0s - loss: 0.1462 - accuracy: 0.8079 - val_loss: 0.1461 - val_accuracy: 0.8027 - 157ms/epoch - 3ms/step\n"
          ]
        }
      ]
    },
    {
      "cell_type": "code",
      "source": [
        "valid_loss, valid_accuracy = model.evaluate(x_valid, y_valid)\n",
        "valid_accuracy"
      ],
      "metadata": {
        "colab": {
          "base_uri": "https://localhost:8080/"
        },
        "outputId": "37fa57d8-12fa-4c73-fe13-50049c364618",
        "id": "iz4BbS81S6_O"
      },
      "execution_count": null,
      "outputs": [
        {
          "output_type": "stream",
          "name": "stdout",
          "text": [
            "47/47 [==============================] - 0s 2ms/step - loss: 0.1258 - accuracy: 0.8397\n"
          ]
        },
        {
          "output_type": "execute_result",
          "data": {
            "text/plain": [
              "0.8397306203842163"
            ]
          },
          "metadata": {},
          "execution_count": 200
        }
      ]
    },
    {
      "cell_type": "markdown",
      "source": [
        "Batch Normalization custom model and Dropout rate = 0.4 Penalty = 0.0005\n"
      ],
      "metadata": {
        "id": "y7OCjDDlTepK"
      }
    },
    {
      "cell_type": "code",
      "source": [
        "model = Sequential([\n",
        "    Dense(64, input_shape=[x_train.shape[1],], activation=\"relu\",kernel_regularizer = tf.keras.regularizers.l2(0.0005)),\n",
        "    BatchNormalization(),  # <- Batch normalization layer 1\n",
        "    Dropout(0.4),\n",
        "    Dense(256, activation='relu'),\n",
        "])"
      ],
      "metadata": {
        "id": "BcK2nGyjTepK"
      },
      "execution_count": null,
      "outputs": []
    },
    {
      "cell_type": "code",
      "source": [
        "# Add a customised batch normalization layer 2\n",
        "\n",
        "model.add(tf.keras.layers.BatchNormalization(\n",
        "    momentum=0.90, # default is 0.99\n",
        "    epsilon=0.002, #default is 0.001\n",
        "    axis = -1, #default is -1\n",
        "    beta_initializer=tf.keras.initializers.RandomNormal(mean=0.0, stddev=0.07), # default is beta_initializer='zeros'\n",
        "    gamma_initializer=tf.keras.initializers.Constant(value=0.7) # default is gamma_initializer='ones'\n",
        "))"
      ],
      "metadata": {
        "id": "kGoH2gSPTepK"
      },
      "execution_count": null,
      "outputs": []
    },
    {
      "cell_type": "code",
      "source": [
        "# Add the output layer\n",
        "\n",
        "model.add(Dense(1))"
      ],
      "metadata": {
        "id": "VcLHczYDTepL"
      },
      "execution_count": null,
      "outputs": []
    },
    {
      "cell_type": "code",
      "source": [
        "# Compile the model\n",
        "\n",
        "model.compile(optimizer='adam',\n",
        "              loss='mse',\n",
        "              metrics=['accuracy'])"
      ],
      "metadata": {
        "id": "a2HUCqgKTepL"
      },
      "execution_count": null,
      "outputs": []
    },
    {
      "cell_type": "code",
      "source": [
        "# Train the model\n",
        "\n",
        "history = model.fit(x_train, y_train, epochs=100, validation_split=0.15, batch_size=64,verbose=2)"
      ],
      "metadata": {
        "colab": {
          "base_uri": "https://localhost:8080/"
        },
        "outputId": "97c5dc42-d09d-4a78-b827-6224f0767f97",
        "id": "RDSBeWNATepL"
      },
      "execution_count": null,
      "outputs": [
        {
          "output_type": "stream",
          "name": "stdout",
          "text": [
            "Epoch 1/100\n",
            "60/60 - 2s - loss: 0.4958 - accuracy: 0.6254 - val_loss: 0.3318 - val_accuracy: 0.6517 - 2s/epoch - 25ms/step\n",
            "Epoch 2/100\n",
            "60/60 - 0s - loss: 0.2647 - accuracy: 0.6882 - val_loss: 0.1954 - val_accuracy: 0.7324 - 155ms/epoch - 3ms/step\n",
            "Epoch 3/100\n",
            "60/60 - 0s - loss: 0.2386 - accuracy: 0.7118 - val_loss: 0.1839 - val_accuracy: 0.7534 - 165ms/epoch - 3ms/step\n",
            "Epoch 4/100\n",
            "60/60 - 0s - loss: 0.2247 - accuracy: 0.7131 - val_loss: 0.1780 - val_accuracy: 0.7713 - 151ms/epoch - 3ms/step\n",
            "Epoch 5/100\n",
            "60/60 - 0s - loss: 0.2058 - accuracy: 0.7384 - val_loss: 0.2264 - val_accuracy: 0.6562 - 162ms/epoch - 3ms/step\n",
            "Epoch 6/100\n",
            "60/60 - 0s - loss: 0.1995 - accuracy: 0.7493 - val_loss: 0.1893 - val_accuracy: 0.7578 - 181ms/epoch - 3ms/step\n",
            "Epoch 7/100\n",
            "60/60 - 0s - loss: 0.1879 - accuracy: 0.7530 - val_loss: 0.2057 - val_accuracy: 0.7519 - 150ms/epoch - 2ms/step\n",
            "Epoch 8/100\n",
            "60/60 - 0s - loss: 0.1860 - accuracy: 0.7667 - val_loss: 0.1631 - val_accuracy: 0.7818 - 165ms/epoch - 3ms/step\n",
            "Epoch 9/100\n",
            "60/60 - 0s - loss: 0.1837 - accuracy: 0.7612 - val_loss: 0.1681 - val_accuracy: 0.7922 - 188ms/epoch - 3ms/step\n",
            "Epoch 10/100\n",
            "60/60 - 0s - loss: 0.1742 - accuracy: 0.7770 - val_loss: 0.1510 - val_accuracy: 0.7907 - 168ms/epoch - 3ms/step\n",
            "Epoch 11/100\n",
            "60/60 - 0s - loss: 0.1759 - accuracy: 0.7680 - val_loss: 0.1561 - val_accuracy: 0.7967 - 173ms/epoch - 3ms/step\n",
            "Epoch 12/100\n",
            "60/60 - 0s - loss: 0.1775 - accuracy: 0.7773 - val_loss: 0.1541 - val_accuracy: 0.7892 - 164ms/epoch - 3ms/step\n",
            "Epoch 13/100\n",
            "60/60 - 0s - loss: 0.1726 - accuracy: 0.7841 - val_loss: 0.1511 - val_accuracy: 0.7877 - 159ms/epoch - 3ms/step\n",
            "Epoch 14/100\n",
            "60/60 - 0s - loss: 0.1676 - accuracy: 0.7839 - val_loss: 0.1562 - val_accuracy: 0.8012 - 161ms/epoch - 3ms/step\n",
            "Epoch 15/100\n",
            "60/60 - 0s - loss: 0.1664 - accuracy: 0.7892 - val_loss: 0.6740 - val_accuracy: 0.5904 - 163ms/epoch - 3ms/step\n",
            "Epoch 16/100\n",
            "60/60 - 0s - loss: 0.1717 - accuracy: 0.7744 - val_loss: 0.1695 - val_accuracy: 0.7892 - 148ms/epoch - 2ms/step\n",
            "Epoch 17/100\n",
            "60/60 - 0s - loss: 0.1683 - accuracy: 0.7826 - val_loss: 0.1513 - val_accuracy: 0.7997 - 161ms/epoch - 3ms/step\n",
            "Epoch 18/100\n",
            "60/60 - 0s - loss: 0.1648 - accuracy: 0.7892 - val_loss: 0.1533 - val_accuracy: 0.7967 - 177ms/epoch - 3ms/step\n",
            "Epoch 19/100\n",
            "60/60 - 0s - loss: 0.1613 - accuracy: 0.7884 - val_loss: 0.1475 - val_accuracy: 0.7967 - 160ms/epoch - 3ms/step\n",
            "Epoch 20/100\n",
            "60/60 - 0s - loss: 0.1625 - accuracy: 0.7937 - val_loss: 0.1507 - val_accuracy: 0.7982 - 166ms/epoch - 3ms/step\n",
            "Epoch 21/100\n",
            "60/60 - 0s - loss: 0.1608 - accuracy: 0.7989 - val_loss: 0.1554 - val_accuracy: 0.7952 - 168ms/epoch - 3ms/step\n",
            "Epoch 22/100\n",
            "60/60 - 0s - loss: 0.1644 - accuracy: 0.7939 - val_loss: 0.1450 - val_accuracy: 0.7892 - 143ms/epoch - 2ms/step\n",
            "Epoch 23/100\n",
            "60/60 - 0s - loss: 0.1635 - accuracy: 0.7892 - val_loss: 0.1466 - val_accuracy: 0.7922 - 154ms/epoch - 3ms/step\n",
            "Epoch 24/100\n",
            "60/60 - 0s - loss: 0.1559 - accuracy: 0.7892 - val_loss: 0.1486 - val_accuracy: 0.7952 - 168ms/epoch - 3ms/step\n",
            "Epoch 25/100\n",
            "60/60 - 0s - loss: 0.1631 - accuracy: 0.7876 - val_loss: 0.1697 - val_accuracy: 0.7803 - 153ms/epoch - 3ms/step\n",
            "Epoch 26/100\n",
            "60/60 - 0s - loss: 0.1603 - accuracy: 0.7971 - val_loss: 0.1519 - val_accuracy: 0.7982 - 152ms/epoch - 3ms/step\n",
            "Epoch 27/100\n",
            "60/60 - 0s - loss: 0.1612 - accuracy: 0.7966 - val_loss: 0.1629 - val_accuracy: 0.7848 - 161ms/epoch - 3ms/step\n",
            "Epoch 28/100\n",
            "60/60 - 0s - loss: 0.1580 - accuracy: 0.7955 - val_loss: 0.1476 - val_accuracy: 0.8042 - 152ms/epoch - 3ms/step\n",
            "Epoch 29/100\n",
            "60/60 - 0s - loss: 0.1598 - accuracy: 0.7849 - val_loss: 0.1416 - val_accuracy: 0.7997 - 157ms/epoch - 3ms/step\n",
            "Epoch 30/100\n",
            "60/60 - 0s - loss: 0.1581 - accuracy: 0.7974 - val_loss: 0.1424 - val_accuracy: 0.7982 - 157ms/epoch - 3ms/step\n",
            "Epoch 31/100\n",
            "60/60 - 0s - loss: 0.1600 - accuracy: 0.7881 - val_loss: 0.1603 - val_accuracy: 0.8012 - 161ms/epoch - 3ms/step\n",
            "Epoch 32/100\n",
            "60/60 - 0s - loss: 0.1582 - accuracy: 0.7963 - val_loss: 0.1427 - val_accuracy: 0.7982 - 201ms/epoch - 3ms/step\n",
            "Epoch 33/100\n",
            "60/60 - 0s - loss: 0.1565 - accuracy: 0.7984 - val_loss: 0.1425 - val_accuracy: 0.8042 - 163ms/epoch - 3ms/step\n",
            "Epoch 34/100\n",
            "60/60 - 0s - loss: 0.1557 - accuracy: 0.7982 - val_loss: 0.1472 - val_accuracy: 0.8042 - 156ms/epoch - 3ms/step\n",
            "Epoch 35/100\n",
            "60/60 - 0s - loss: 0.1584 - accuracy: 0.7997 - val_loss: 0.1421 - val_accuracy: 0.8012 - 161ms/epoch - 3ms/step\n",
            "Epoch 36/100\n",
            "60/60 - 0s - loss: 0.1543 - accuracy: 0.7984 - val_loss: 0.1452 - val_accuracy: 0.7967 - 155ms/epoch - 3ms/step\n",
            "Epoch 37/100\n",
            "60/60 - 0s - loss: 0.1533 - accuracy: 0.8021 - val_loss: 0.1428 - val_accuracy: 0.8012 - 154ms/epoch - 3ms/step\n",
            "Epoch 38/100\n",
            "60/60 - 0s - loss: 0.1549 - accuracy: 0.7992 - val_loss: 0.1642 - val_accuracy: 0.7713 - 157ms/epoch - 3ms/step\n",
            "Epoch 39/100\n",
            "60/60 - 0s - loss: 0.1557 - accuracy: 0.7987 - val_loss: 0.1566 - val_accuracy: 0.7967 - 159ms/epoch - 3ms/step\n",
            "Epoch 40/100\n",
            "60/60 - 0s - loss: 0.1533 - accuracy: 0.8008 - val_loss: 0.1434 - val_accuracy: 0.8102 - 162ms/epoch - 3ms/step\n",
            "Epoch 41/100\n",
            "60/60 - 0s - loss: 0.1553 - accuracy: 0.8008 - val_loss: 0.1563 - val_accuracy: 0.7982 - 165ms/epoch - 3ms/step\n",
            "Epoch 42/100\n",
            "60/60 - 0s - loss: 0.1535 - accuracy: 0.7902 - val_loss: 0.1451 - val_accuracy: 0.7952 - 161ms/epoch - 3ms/step\n",
            "Epoch 43/100\n",
            "60/60 - 0s - loss: 0.1531 - accuracy: 0.7966 - val_loss: 0.1427 - val_accuracy: 0.7997 - 154ms/epoch - 3ms/step\n",
            "Epoch 44/100\n",
            "60/60 - 0s - loss: 0.1537 - accuracy: 0.8016 - val_loss: 0.1463 - val_accuracy: 0.8012 - 152ms/epoch - 3ms/step\n",
            "Epoch 45/100\n",
            "60/60 - 0s - loss: 0.1542 - accuracy: 0.7979 - val_loss: 0.1407 - val_accuracy: 0.7982 - 154ms/epoch - 3ms/step\n",
            "Epoch 46/100\n",
            "60/60 - 0s - loss: 0.1553 - accuracy: 0.7931 - val_loss: 0.1491 - val_accuracy: 0.8027 - 159ms/epoch - 3ms/step\n",
            "Epoch 47/100\n",
            "60/60 - 0s - loss: 0.1524 - accuracy: 0.7989 - val_loss: 0.1459 - val_accuracy: 0.8087 - 162ms/epoch - 3ms/step\n",
            "Epoch 48/100\n",
            "60/60 - 0s - loss: 0.1539 - accuracy: 0.7934 - val_loss: 0.1461 - val_accuracy: 0.8057 - 154ms/epoch - 3ms/step\n",
            "Epoch 49/100\n",
            "60/60 - 0s - loss: 0.1512 - accuracy: 0.8005 - val_loss: 0.1405 - val_accuracy: 0.8161 - 155ms/epoch - 3ms/step\n",
            "Epoch 50/100\n",
            "60/60 - 0s - loss: 0.1524 - accuracy: 0.7971 - val_loss: 0.1473 - val_accuracy: 0.7937 - 164ms/epoch - 3ms/step\n",
            "Epoch 51/100\n",
            "60/60 - 0s - loss: 0.1511 - accuracy: 0.8050 - val_loss: 0.1464 - val_accuracy: 0.7952 - 157ms/epoch - 3ms/step\n",
            "Epoch 52/100\n",
            "60/60 - 0s - loss: 0.1501 - accuracy: 0.7984 - val_loss: 0.1405 - val_accuracy: 0.8012 - 155ms/epoch - 3ms/step\n",
            "Epoch 53/100\n",
            "60/60 - 0s - loss: 0.1506 - accuracy: 0.8000 - val_loss: 0.1444 - val_accuracy: 0.8072 - 163ms/epoch - 3ms/step\n",
            "Epoch 54/100\n",
            "60/60 - 0s - loss: 0.1537 - accuracy: 0.7997 - val_loss: 0.1466 - val_accuracy: 0.8057 - 156ms/epoch - 3ms/step\n",
            "Epoch 55/100\n",
            "60/60 - 0s - loss: 0.1534 - accuracy: 0.8032 - val_loss: 0.1400 - val_accuracy: 0.7997 - 164ms/epoch - 3ms/step\n",
            "Epoch 56/100\n",
            "60/60 - 0s - loss: 0.1510 - accuracy: 0.7968 - val_loss: 0.1569 - val_accuracy: 0.7818 - 173ms/epoch - 3ms/step\n",
            "Epoch 57/100\n",
            "60/60 - 0s - loss: 0.1536 - accuracy: 0.8003 - val_loss: 0.1594 - val_accuracy: 0.7818 - 170ms/epoch - 3ms/step\n",
            "Epoch 58/100\n",
            "60/60 - 0s - loss: 0.1506 - accuracy: 0.8016 - val_loss: 0.1444 - val_accuracy: 0.7877 - 180ms/epoch - 3ms/step\n",
            "Epoch 59/100\n",
            "60/60 - 0s - loss: 0.1529 - accuracy: 0.7945 - val_loss: 0.1418 - val_accuracy: 0.8057 - 175ms/epoch - 3ms/step\n",
            "Epoch 60/100\n",
            "60/60 - 0s - loss: 0.1505 - accuracy: 0.8048 - val_loss: 0.1403 - val_accuracy: 0.8042 - 157ms/epoch - 3ms/step\n",
            "Epoch 61/100\n",
            "60/60 - 0s - loss: 0.1504 - accuracy: 0.8061 - val_loss: 0.1379 - val_accuracy: 0.7997 - 156ms/epoch - 3ms/step\n",
            "Epoch 62/100\n",
            "60/60 - 0s - loss: 0.1506 - accuracy: 0.7995 - val_loss: 0.1412 - val_accuracy: 0.8072 - 158ms/epoch - 3ms/step\n",
            "Epoch 63/100\n",
            "60/60 - 0s - loss: 0.1491 - accuracy: 0.8053 - val_loss: 0.1432 - val_accuracy: 0.8087 - 161ms/epoch - 3ms/step\n",
            "Epoch 64/100\n",
            "60/60 - 0s - loss: 0.1520 - accuracy: 0.7987 - val_loss: 0.1548 - val_accuracy: 0.7907 - 159ms/epoch - 3ms/step\n",
            "Epoch 65/100\n",
            "60/60 - 0s - loss: 0.1486 - accuracy: 0.7989 - val_loss: 0.1502 - val_accuracy: 0.8042 - 152ms/epoch - 3ms/step\n",
            "Epoch 66/100\n",
            "60/60 - 0s - loss: 0.1486 - accuracy: 0.8011 - val_loss: 0.1434 - val_accuracy: 0.8042 - 156ms/epoch - 3ms/step\n",
            "Epoch 67/100\n",
            "60/60 - 0s - loss: 0.1487 - accuracy: 0.7992 - val_loss: 0.1399 - val_accuracy: 0.8102 - 158ms/epoch - 3ms/step\n",
            "Epoch 68/100\n",
            "60/60 - 0s - loss: 0.1467 - accuracy: 0.8066 - val_loss: 0.1458 - val_accuracy: 0.8012 - 171ms/epoch - 3ms/step\n",
            "Epoch 69/100\n",
            "60/60 - 0s - loss: 0.1487 - accuracy: 0.8008 - val_loss: 0.1522 - val_accuracy: 0.7997 - 155ms/epoch - 3ms/step\n",
            "Epoch 70/100\n",
            "60/60 - 0s - loss: 0.1496 - accuracy: 0.8050 - val_loss: 0.1420 - val_accuracy: 0.8057 - 174ms/epoch - 3ms/step\n",
            "Epoch 71/100\n",
            "60/60 - 0s - loss: 0.1518 - accuracy: 0.7929 - val_loss: 0.1415 - val_accuracy: 0.7952 - 156ms/epoch - 3ms/step\n",
            "Epoch 72/100\n",
            "60/60 - 0s - loss: 0.1512 - accuracy: 0.8000 - val_loss: 0.1623 - val_accuracy: 0.8057 - 175ms/epoch - 3ms/step\n",
            "Epoch 73/100\n",
            "60/60 - 0s - loss: 0.1511 - accuracy: 0.8000 - val_loss: 0.1379 - val_accuracy: 0.8072 - 172ms/epoch - 3ms/step\n",
            "Epoch 74/100\n",
            "60/60 - 0s - loss: 0.1512 - accuracy: 0.8018 - val_loss: 0.1441 - val_accuracy: 0.8132 - 173ms/epoch - 3ms/step\n",
            "Epoch 75/100\n",
            "60/60 - 0s - loss: 0.1501 - accuracy: 0.7966 - val_loss: 0.1394 - val_accuracy: 0.8027 - 182ms/epoch - 3ms/step\n",
            "Epoch 76/100\n",
            "60/60 - 0s - loss: 0.1473 - accuracy: 0.8063 - val_loss: 0.1526 - val_accuracy: 0.8012 - 170ms/epoch - 3ms/step\n",
            "Epoch 77/100\n",
            "60/60 - 0s - loss: 0.1523 - accuracy: 0.7979 - val_loss: 0.1430 - val_accuracy: 0.8102 - 170ms/epoch - 3ms/step\n",
            "Epoch 78/100\n",
            "60/60 - 0s - loss: 0.1501 - accuracy: 0.8016 - val_loss: 0.1429 - val_accuracy: 0.8087 - 153ms/epoch - 3ms/step\n",
            "Epoch 79/100\n",
            "60/60 - 0s - loss: 0.1454 - accuracy: 0.7987 - val_loss: 0.1451 - val_accuracy: 0.8087 - 157ms/epoch - 3ms/step\n",
            "Epoch 80/100\n",
            "60/60 - 0s - loss: 0.1501 - accuracy: 0.8003 - val_loss: 0.1408 - val_accuracy: 0.8132 - 165ms/epoch - 3ms/step\n",
            "Epoch 81/100\n",
            "60/60 - 0s - loss: 0.1503 - accuracy: 0.7958 - val_loss: 0.1431 - val_accuracy: 0.8102 - 203ms/epoch - 3ms/step\n",
            "Epoch 82/100\n",
            "60/60 - 0s - loss: 0.1472 - accuracy: 0.8061 - val_loss: 0.1382 - val_accuracy: 0.8057 - 186ms/epoch - 3ms/step\n",
            "Epoch 83/100\n",
            "60/60 - 0s - loss: 0.1446 - accuracy: 0.8077 - val_loss: 0.1386 - val_accuracy: 0.8012 - 162ms/epoch - 3ms/step\n",
            "Epoch 84/100\n",
            "60/60 - 0s - loss: 0.1498 - accuracy: 0.7984 - val_loss: 0.1436 - val_accuracy: 0.8027 - 162ms/epoch - 3ms/step\n",
            "Epoch 85/100\n",
            "60/60 - 0s - loss: 0.1461 - accuracy: 0.8069 - val_loss: 0.1393 - val_accuracy: 0.8057 - 148ms/epoch - 2ms/step\n",
            "Epoch 86/100\n",
            "60/60 - 0s - loss: 0.1464 - accuracy: 0.8034 - val_loss: 0.1505 - val_accuracy: 0.7967 - 164ms/epoch - 3ms/step\n",
            "Epoch 87/100\n",
            "60/60 - 0s - loss: 0.1498 - accuracy: 0.8005 - val_loss: 0.1432 - val_accuracy: 0.8027 - 164ms/epoch - 3ms/step\n",
            "Epoch 88/100\n",
            "60/60 - 0s - loss: 0.1473 - accuracy: 0.8042 - val_loss: 0.1429 - val_accuracy: 0.8042 - 163ms/epoch - 3ms/step\n",
            "Epoch 89/100\n",
            "60/60 - 0s - loss: 0.1484 - accuracy: 0.7992 - val_loss: 0.1451 - val_accuracy: 0.8102 - 155ms/epoch - 3ms/step\n",
            "Epoch 90/100\n",
            "60/60 - 0s - loss: 0.1458 - accuracy: 0.8050 - val_loss: 0.1472 - val_accuracy: 0.7952 - 153ms/epoch - 3ms/step\n",
            "Epoch 91/100\n",
            "60/60 - 0s - loss: 0.1495 - accuracy: 0.7989 - val_loss: 0.1483 - val_accuracy: 0.8027 - 152ms/epoch - 3ms/step\n",
            "Epoch 92/100\n",
            "60/60 - 0s - loss: 0.1495 - accuracy: 0.7979 - val_loss: 0.1374 - val_accuracy: 0.8132 - 153ms/epoch - 3ms/step\n",
            "Epoch 93/100\n",
            "60/60 - 0s - loss: 0.1461 - accuracy: 0.8034 - val_loss: 0.1779 - val_accuracy: 0.7444 - 152ms/epoch - 3ms/step\n",
            "Epoch 94/100\n",
            "60/60 - 0s - loss: 0.1475 - accuracy: 0.7984 - val_loss: 0.1473 - val_accuracy: 0.8057 - 165ms/epoch - 3ms/step\n",
            "Epoch 95/100\n",
            "60/60 - 0s - loss: 0.1447 - accuracy: 0.8042 - val_loss: 0.1370 - val_accuracy: 0.7967 - 164ms/epoch - 3ms/step\n",
            "Epoch 96/100\n",
            "60/60 - 0s - loss: 0.1463 - accuracy: 0.8106 - val_loss: 0.1383 - val_accuracy: 0.8012 - 165ms/epoch - 3ms/step\n",
            "Epoch 97/100\n",
            "60/60 - 0s - loss: 0.1468 - accuracy: 0.8029 - val_loss: 0.1381 - val_accuracy: 0.8072 - 164ms/epoch - 3ms/step\n",
            "Epoch 98/100\n",
            "60/60 - 0s - loss: 0.1467 - accuracy: 0.8018 - val_loss: 0.1454 - val_accuracy: 0.8042 - 152ms/epoch - 3ms/step\n",
            "Epoch 99/100\n",
            "60/60 - 0s - loss: 0.1465 - accuracy: 0.8024 - val_loss: 0.1421 - val_accuracy: 0.8057 - 163ms/epoch - 3ms/step\n",
            "Epoch 100/100\n",
            "60/60 - 0s - loss: 0.1458 - accuracy: 0.8087 - val_loss: 0.1418 - val_accuracy: 0.8027 - 160ms/epoch - 3ms/step\n"
          ]
        }
      ]
    },
    {
      "cell_type": "code",
      "source": [
        "valid_loss, valid_accuracy = model.evaluate(x_valid, y_valid)\n",
        "valid_accuracy"
      ],
      "metadata": {
        "colab": {
          "base_uri": "https://localhost:8080/"
        },
        "outputId": "eeb8af52-4716-42a1-cbc7-4368d1b1a319",
        "id": "b1jMJRKITepL"
      },
      "execution_count": null,
      "outputs": [
        {
          "output_type": "stream",
          "name": "stdout",
          "text": [
            "47/47 [==============================] - 0s 2ms/step - loss: 0.1263 - accuracy: 0.8263\n"
          ]
        },
        {
          "output_type": "execute_result",
          "data": {
            "text/plain": [
              "0.8262626528739929"
            ]
          },
          "metadata": {},
          "execution_count": 206
        }
      ]
    },
    {
      "cell_type": "markdown",
      "source": [
        "Batch Normalization custom model and Dropout rate = 0.3 Penalty = 0.0007\n"
      ],
      "metadata": {
        "id": "ca-L-9e-T1HA"
      }
    },
    {
      "cell_type": "code",
      "source": [
        "model = Sequential([\n",
        "    Dense(64, input_shape=[x_train.shape[1],], activation=\"relu\",kernel_regularizer = tf.keras.regularizers.l2(0.0007)),\n",
        "    BatchNormalization(),  # <- Batch normalization layer 1\n",
        "    Dropout(0.3),\n",
        "    Dense(256, activation='relu'),\n",
        "])"
      ],
      "metadata": {
        "id": "w8JcXRwCT1HA"
      },
      "execution_count": null,
      "outputs": []
    },
    {
      "cell_type": "code",
      "source": [
        "# Add a customised batch normalization layer 2\n",
        "\n",
        "model.add(tf.keras.layers.BatchNormalization(\n",
        "    momentum=0.95, # default is 0.99\n",
        "    epsilon=0.005, #default is 0.001\n",
        "    axis = -1, #default is -1\n",
        "    beta_initializer=tf.keras.initializers.RandomNormal(mean=0.0, stddev=0.07), # default is beta_initializer='zeros'\n",
        "    gamma_initializer=tf.keras.initializers.Constant(value=0.7) # default is gamma_initializer='ones'\n",
        "))"
      ],
      "metadata": {
        "id": "6JXurTl4T1HA"
      },
      "execution_count": null,
      "outputs": []
    },
    {
      "cell_type": "code",
      "source": [
        "# Add the output layer\n",
        "\n",
        "model.add(Dense(1))"
      ],
      "metadata": {
        "id": "jTT6zbzVT1HB"
      },
      "execution_count": null,
      "outputs": []
    },
    {
      "cell_type": "code",
      "source": [
        "# Compile the model\n",
        "\n",
        "model.compile(optimizer='adam',\n",
        "              loss='mse',\n",
        "              metrics=['accuracy'])"
      ],
      "metadata": {
        "id": "hN8ziZ1yT1HB"
      },
      "execution_count": null,
      "outputs": []
    },
    {
      "cell_type": "code",
      "source": [
        "# Train the model\n",
        "\n",
        "history = model.fit(x_train, y_train, epochs=100, validation_split=0.15, batch_size=64,verbose=2)"
      ],
      "metadata": {
        "colab": {
          "base_uri": "https://localhost:8080/"
        },
        "outputId": "b5298dfc-daa0-4607-eaa0-23e8880515ed",
        "id": "9BsNAIwHT1HB"
      },
      "execution_count": null,
      "outputs": [
        {
          "output_type": "stream",
          "name": "stdout",
          "text": [
            "Epoch 1/100\n",
            "60/60 - 1s - loss: 0.4431 - accuracy: 0.6531 - val_loss: 0.3082 - val_accuracy: 0.6502 - 1s/epoch - 20ms/step\n",
            "Epoch 2/100\n",
            "60/60 - 0s - loss: 0.2434 - accuracy: 0.7081 - val_loss: 0.1857 - val_accuracy: 0.7803 - 175ms/epoch - 3ms/step\n",
            "Epoch 3/100\n",
            "60/60 - 0s - loss: 0.2289 - accuracy: 0.7128 - val_loss: 0.1823 - val_accuracy: 0.7549 - 160ms/epoch - 3ms/step\n",
            "Epoch 4/100\n",
            "60/60 - 0s - loss: 0.2063 - accuracy: 0.7363 - val_loss: 0.1926 - val_accuracy: 0.7713 - 161ms/epoch - 3ms/step\n",
            "Epoch 5/100\n",
            "60/60 - 0s - loss: 0.1984 - accuracy: 0.7554 - val_loss: 0.1663 - val_accuracy: 0.7743 - 156ms/epoch - 3ms/step\n",
            "Epoch 6/100\n",
            "60/60 - 0s - loss: 0.1939 - accuracy: 0.7511 - val_loss: 0.1637 - val_accuracy: 0.7773 - 166ms/epoch - 3ms/step\n",
            "Epoch 7/100\n",
            "60/60 - 0s - loss: 0.1820 - accuracy: 0.7757 - val_loss: 0.1612 - val_accuracy: 0.7833 - 163ms/epoch - 3ms/step\n",
            "Epoch 8/100\n",
            "60/60 - 0s - loss: 0.1812 - accuracy: 0.7699 - val_loss: 0.1759 - val_accuracy: 0.7892 - 168ms/epoch - 3ms/step\n",
            "Epoch 9/100\n",
            "60/60 - 0s - loss: 0.1771 - accuracy: 0.7699 - val_loss: 0.1645 - val_accuracy: 0.7773 - 165ms/epoch - 3ms/step\n",
            "Epoch 10/100\n",
            "60/60 - 0s - loss: 0.1765 - accuracy: 0.7688 - val_loss: 0.1823 - val_accuracy: 0.7922 - 169ms/epoch - 3ms/step\n",
            "Epoch 11/100\n",
            "60/60 - 0s - loss: 0.1805 - accuracy: 0.7728 - val_loss: 0.1722 - val_accuracy: 0.7892 - 144ms/epoch - 2ms/step\n",
            "Epoch 12/100\n",
            "60/60 - 0s - loss: 0.1732 - accuracy: 0.7794 - val_loss: 0.1755 - val_accuracy: 0.7788 - 162ms/epoch - 3ms/step\n",
            "Epoch 13/100\n",
            "60/60 - 0s - loss: 0.1704 - accuracy: 0.7844 - val_loss: 0.1522 - val_accuracy: 0.7922 - 171ms/epoch - 3ms/step\n",
            "Epoch 14/100\n",
            "60/60 - 0s - loss: 0.1696 - accuracy: 0.7820 - val_loss: 0.1613 - val_accuracy: 0.7997 - 158ms/epoch - 3ms/step\n",
            "Epoch 15/100\n",
            "60/60 - 0s - loss: 0.1679 - accuracy: 0.7815 - val_loss: 0.1545 - val_accuracy: 0.7848 - 150ms/epoch - 2ms/step\n",
            "Epoch 16/100\n",
            "60/60 - 0s - loss: 0.1633 - accuracy: 0.7926 - val_loss: 0.1647 - val_accuracy: 0.7997 - 175ms/epoch - 3ms/step\n",
            "Epoch 17/100\n",
            "60/60 - 0s - loss: 0.1658 - accuracy: 0.7871 - val_loss: 0.1795 - val_accuracy: 0.7892 - 183ms/epoch - 3ms/step\n",
            "Epoch 18/100\n",
            "60/60 - 0s - loss: 0.1666 - accuracy: 0.7871 - val_loss: 0.1556 - val_accuracy: 0.7967 - 178ms/epoch - 3ms/step\n",
            "Epoch 19/100\n",
            "60/60 - 0s - loss: 0.1641 - accuracy: 0.7942 - val_loss: 0.1524 - val_accuracy: 0.8027 - 166ms/epoch - 3ms/step\n",
            "Epoch 20/100\n",
            "60/60 - 0s - loss: 0.1623 - accuracy: 0.7931 - val_loss: 0.1952 - val_accuracy: 0.7429 - 152ms/epoch - 3ms/step\n",
            "Epoch 21/100\n",
            "60/60 - 0s - loss: 0.1666 - accuracy: 0.7918 - val_loss: 0.1597 - val_accuracy: 0.7952 - 157ms/epoch - 3ms/step\n",
            "Epoch 22/100\n",
            "60/60 - 0s - loss: 0.1632 - accuracy: 0.7923 - val_loss: 0.1556 - val_accuracy: 0.8012 - 173ms/epoch - 3ms/step\n",
            "Epoch 23/100\n",
            "60/60 - 0s - loss: 0.1608 - accuracy: 0.7892 - val_loss: 0.1512 - val_accuracy: 0.8042 - 156ms/epoch - 3ms/step\n",
            "Epoch 24/100\n",
            "60/60 - 0s - loss: 0.1563 - accuracy: 0.7913 - val_loss: 0.1467 - val_accuracy: 0.8057 - 160ms/epoch - 3ms/step\n",
            "Epoch 25/100\n",
            "60/60 - 0s - loss: 0.1561 - accuracy: 0.7982 - val_loss: 0.1487 - val_accuracy: 0.7922 - 160ms/epoch - 3ms/step\n",
            "Epoch 26/100\n",
            "60/60 - 0s - loss: 0.1562 - accuracy: 0.8005 - val_loss: 0.1519 - val_accuracy: 0.7982 - 155ms/epoch - 3ms/step\n",
            "Epoch 27/100\n",
            "60/60 - 0s - loss: 0.1580 - accuracy: 0.7982 - val_loss: 0.1465 - val_accuracy: 0.8027 - 163ms/epoch - 3ms/step\n",
            "Epoch 28/100\n",
            "60/60 - 0s - loss: 0.1539 - accuracy: 0.8024 - val_loss: 0.1473 - val_accuracy: 0.8102 - 171ms/epoch - 3ms/step\n",
            "Epoch 29/100\n",
            "60/60 - 0s - loss: 0.1540 - accuracy: 0.8013 - val_loss: 0.1680 - val_accuracy: 0.8012 - 156ms/epoch - 3ms/step\n",
            "Epoch 30/100\n",
            "60/60 - 0s - loss: 0.1589 - accuracy: 0.7971 - val_loss: 0.1525 - val_accuracy: 0.8087 - 159ms/epoch - 3ms/step\n",
            "Epoch 31/100\n",
            "60/60 - 0s - loss: 0.1509 - accuracy: 0.8055 - val_loss: 0.1798 - val_accuracy: 0.7578 - 159ms/epoch - 3ms/step\n",
            "Epoch 32/100\n",
            "60/60 - 0s - loss: 0.1547 - accuracy: 0.8053 - val_loss: 0.1562 - val_accuracy: 0.8012 - 204ms/epoch - 3ms/step\n",
            "Epoch 33/100\n",
            "60/60 - 0s - loss: 0.1585 - accuracy: 0.7945 - val_loss: 0.1533 - val_accuracy: 0.8042 - 166ms/epoch - 3ms/step\n",
            "Epoch 34/100\n",
            "60/60 - 0s - loss: 0.1554 - accuracy: 0.8050 - val_loss: 0.1728 - val_accuracy: 0.7803 - 168ms/epoch - 3ms/step\n",
            "Epoch 35/100\n",
            "60/60 - 0s - loss: 0.1550 - accuracy: 0.8050 - val_loss: 0.1463 - val_accuracy: 0.7997 - 161ms/epoch - 3ms/step\n",
            "Epoch 36/100\n",
            "60/60 - 0s - loss: 0.1571 - accuracy: 0.7995 - val_loss: 0.1587 - val_accuracy: 0.7803 - 166ms/epoch - 3ms/step\n",
            "Epoch 37/100\n",
            "60/60 - 0s - loss: 0.1559 - accuracy: 0.8013 - val_loss: 0.1503 - val_accuracy: 0.8087 - 151ms/epoch - 3ms/step\n",
            "Epoch 38/100\n",
            "60/60 - 0s - loss: 0.1542 - accuracy: 0.7934 - val_loss: 0.1499 - val_accuracy: 0.8042 - 152ms/epoch - 3ms/step\n",
            "Epoch 39/100\n",
            "60/60 - 0s - loss: 0.1531 - accuracy: 0.7987 - val_loss: 0.1572 - val_accuracy: 0.7803 - 150ms/epoch - 3ms/step\n",
            "Epoch 40/100\n",
            "60/60 - 0s - loss: 0.1508 - accuracy: 0.8021 - val_loss: 0.1557 - val_accuracy: 0.7967 - 162ms/epoch - 3ms/step\n",
            "Epoch 41/100\n",
            "60/60 - 0s - loss: 0.1529 - accuracy: 0.8000 - val_loss: 0.1437 - val_accuracy: 0.8087 - 167ms/epoch - 3ms/step\n",
            "Epoch 42/100\n",
            "60/60 - 0s - loss: 0.1555 - accuracy: 0.7976 - val_loss: 0.1531 - val_accuracy: 0.7877 - 156ms/epoch - 3ms/step\n",
            "Epoch 43/100\n",
            "60/60 - 0s - loss: 0.1512 - accuracy: 0.8029 - val_loss: 0.1545 - val_accuracy: 0.7862 - 160ms/epoch - 3ms/step\n",
            "Epoch 44/100\n",
            "60/60 - 0s - loss: 0.1510 - accuracy: 0.8034 - val_loss: 0.1425 - val_accuracy: 0.8087 - 151ms/epoch - 3ms/step\n",
            "Epoch 45/100\n",
            "60/60 - 0s - loss: 0.1523 - accuracy: 0.8029 - val_loss: 0.1773 - val_accuracy: 0.7608 - 171ms/epoch - 3ms/step\n",
            "Epoch 46/100\n",
            "60/60 - 0s - loss: 0.1507 - accuracy: 0.7995 - val_loss: 0.1466 - val_accuracy: 0.8072 - 168ms/epoch - 3ms/step\n",
            "Epoch 47/100\n",
            "60/60 - 0s - loss: 0.1508 - accuracy: 0.8024 - val_loss: 0.1500 - val_accuracy: 0.8042 - 158ms/epoch - 3ms/step\n",
            "Epoch 48/100\n",
            "60/60 - 0s - loss: 0.1520 - accuracy: 0.8021 - val_loss: 0.1473 - val_accuracy: 0.8117 - 162ms/epoch - 3ms/step\n",
            "Epoch 49/100\n",
            "60/60 - 0s - loss: 0.1543 - accuracy: 0.8003 - val_loss: 0.1580 - val_accuracy: 0.8102 - 169ms/epoch - 3ms/step\n",
            "Epoch 50/100\n",
            "60/60 - 0s - loss: 0.1490 - accuracy: 0.8032 - val_loss: 0.1405 - val_accuracy: 0.8146 - 169ms/epoch - 3ms/step\n",
            "Epoch 51/100\n",
            "60/60 - 0s - loss: 0.1491 - accuracy: 0.7960 - val_loss: 0.1500 - val_accuracy: 0.8072 - 154ms/epoch - 3ms/step\n",
            "Epoch 52/100\n",
            "60/60 - 0s - loss: 0.1491 - accuracy: 0.8040 - val_loss: 0.1433 - val_accuracy: 0.8042 - 162ms/epoch - 3ms/step\n",
            "Epoch 53/100\n",
            "60/60 - 0s - loss: 0.1509 - accuracy: 0.8053 - val_loss: 0.1461 - val_accuracy: 0.8117 - 154ms/epoch - 3ms/step\n",
            "Epoch 54/100\n",
            "60/60 - 0s - loss: 0.1509 - accuracy: 0.8042 - val_loss: 0.1449 - val_accuracy: 0.8027 - 156ms/epoch - 3ms/step\n",
            "Epoch 55/100\n",
            "60/60 - 0s - loss: 0.1487 - accuracy: 0.8000 - val_loss: 0.1506 - val_accuracy: 0.8087 - 152ms/epoch - 3ms/step\n",
            "Epoch 56/100\n",
            "60/60 - 0s - loss: 0.1521 - accuracy: 0.8042 - val_loss: 0.1592 - val_accuracy: 0.7922 - 152ms/epoch - 3ms/step\n",
            "Epoch 57/100\n",
            "60/60 - 0s - loss: 0.1499 - accuracy: 0.8061 - val_loss: 0.1424 - val_accuracy: 0.8146 - 152ms/epoch - 3ms/step\n",
            "Epoch 58/100\n",
            "60/60 - 0s - loss: 0.1487 - accuracy: 0.8061 - val_loss: 0.1625 - val_accuracy: 0.7803 - 154ms/epoch - 3ms/step\n",
            "Epoch 59/100\n",
            "60/60 - 0s - loss: 0.1489 - accuracy: 0.8071 - val_loss: 0.1445 - val_accuracy: 0.8027 - 167ms/epoch - 3ms/step\n",
            "Epoch 60/100\n",
            "60/60 - 0s - loss: 0.1469 - accuracy: 0.8016 - val_loss: 0.1509 - val_accuracy: 0.8027 - 164ms/epoch - 3ms/step\n",
            "Epoch 61/100\n",
            "60/60 - 0s - loss: 0.1495 - accuracy: 0.7992 - val_loss: 0.1455 - val_accuracy: 0.8027 - 153ms/epoch - 3ms/step\n",
            "Epoch 62/100\n",
            "60/60 - 0s - loss: 0.1467 - accuracy: 0.8045 - val_loss: 0.1442 - val_accuracy: 0.8102 - 147ms/epoch - 2ms/step\n",
            "Epoch 63/100\n",
            "60/60 - 0s - loss: 0.1497 - accuracy: 0.8021 - val_loss: 0.1424 - val_accuracy: 0.8057 - 152ms/epoch - 3ms/step\n",
            "Epoch 64/100\n",
            "60/60 - 0s - loss: 0.1490 - accuracy: 0.8069 - val_loss: 0.1478 - val_accuracy: 0.8012 - 167ms/epoch - 3ms/step\n",
            "Epoch 65/100\n",
            "60/60 - 0s - loss: 0.1470 - accuracy: 0.8013 - val_loss: 0.1404 - val_accuracy: 0.8117 - 181ms/epoch - 3ms/step\n",
            "Epoch 66/100\n",
            "60/60 - 0s - loss: 0.1470 - accuracy: 0.8066 - val_loss: 0.1561 - val_accuracy: 0.7997 - 168ms/epoch - 3ms/step\n",
            "Epoch 67/100\n",
            "60/60 - 0s - loss: 0.1521 - accuracy: 0.7979 - val_loss: 0.1403 - val_accuracy: 0.8102 - 159ms/epoch - 3ms/step\n",
            "Epoch 68/100\n",
            "60/60 - 0s - loss: 0.1537 - accuracy: 0.8011 - val_loss: 0.1490 - val_accuracy: 0.8012 - 152ms/epoch - 3ms/step\n",
            "Epoch 69/100\n",
            "60/60 - 0s - loss: 0.1484 - accuracy: 0.8026 - val_loss: 0.1555 - val_accuracy: 0.7892 - 160ms/epoch - 3ms/step\n",
            "Epoch 70/100\n",
            "60/60 - 0s - loss: 0.1500 - accuracy: 0.8026 - val_loss: 0.1413 - val_accuracy: 0.8191 - 159ms/epoch - 3ms/step\n",
            "Epoch 71/100\n",
            "60/60 - 0s - loss: 0.1462 - accuracy: 0.8000 - val_loss: 0.1620 - val_accuracy: 0.7653 - 162ms/epoch - 3ms/step\n",
            "Epoch 72/100\n",
            "60/60 - 0s - loss: 0.1471 - accuracy: 0.8114 - val_loss: 0.1475 - val_accuracy: 0.8102 - 162ms/epoch - 3ms/step\n",
            "Epoch 73/100\n",
            "60/60 - 0s - loss: 0.1472 - accuracy: 0.8111 - val_loss: 0.1427 - val_accuracy: 0.8012 - 152ms/epoch - 3ms/step\n",
            "Epoch 74/100\n",
            "60/60 - 0s - loss: 0.1455 - accuracy: 0.8071 - val_loss: 0.1504 - val_accuracy: 0.8027 - 156ms/epoch - 3ms/step\n",
            "Epoch 75/100\n",
            "60/60 - 0s - loss: 0.1479 - accuracy: 0.8026 - val_loss: 0.1473 - val_accuracy: 0.7982 - 160ms/epoch - 3ms/step\n",
            "Epoch 76/100\n",
            "60/60 - 0s - loss: 0.1473 - accuracy: 0.8024 - val_loss: 0.1508 - val_accuracy: 0.8072 - 167ms/epoch - 3ms/step\n",
            "Epoch 77/100\n",
            "60/60 - 0s - loss: 0.1488 - accuracy: 0.8050 - val_loss: 0.1499 - val_accuracy: 0.8057 - 176ms/epoch - 3ms/step\n",
            "Epoch 78/100\n",
            "60/60 - 0s - loss: 0.1441 - accuracy: 0.8077 - val_loss: 0.1398 - val_accuracy: 0.8087 - 155ms/epoch - 3ms/step\n",
            "Epoch 79/100\n",
            "60/60 - 0s - loss: 0.1466 - accuracy: 0.8074 - val_loss: 0.1472 - val_accuracy: 0.8072 - 152ms/epoch - 3ms/step\n",
            "Epoch 80/100\n",
            "60/60 - 0s - loss: 0.1474 - accuracy: 0.8011 - val_loss: 0.1413 - val_accuracy: 0.8057 - 153ms/epoch - 3ms/step\n",
            "Epoch 81/100\n",
            "60/60 - 0s - loss: 0.1466 - accuracy: 0.8085 - val_loss: 0.1453 - val_accuracy: 0.8102 - 149ms/epoch - 2ms/step\n",
            "Epoch 82/100\n",
            "60/60 - 0s - loss: 0.1449 - accuracy: 0.8063 - val_loss: 0.1395 - val_accuracy: 0.8161 - 163ms/epoch - 3ms/step\n",
            "Epoch 83/100\n",
            "60/60 - 0s - loss: 0.1469 - accuracy: 0.8053 - val_loss: 0.1477 - val_accuracy: 0.8117 - 176ms/epoch - 3ms/step\n",
            "Epoch 84/100\n",
            "60/60 - 0s - loss: 0.1493 - accuracy: 0.8029 - val_loss: 0.1542 - val_accuracy: 0.7848 - 158ms/epoch - 3ms/step\n",
            "Epoch 85/100\n",
            "60/60 - 0s - loss: 0.1477 - accuracy: 0.8042 - val_loss: 0.1459 - val_accuracy: 0.7982 - 156ms/epoch - 3ms/step\n",
            "Epoch 86/100\n",
            "60/60 - 0s - loss: 0.1435 - accuracy: 0.8061 - val_loss: 0.1385 - val_accuracy: 0.8057 - 167ms/epoch - 3ms/step\n",
            "Epoch 87/100\n",
            "60/60 - 0s - loss: 0.1474 - accuracy: 0.8024 - val_loss: 0.1395 - val_accuracy: 0.8057 - 161ms/epoch - 3ms/step\n",
            "Epoch 88/100\n",
            "60/60 - 0s - loss: 0.1488 - accuracy: 0.8034 - val_loss: 0.1396 - val_accuracy: 0.8087 - 158ms/epoch - 3ms/step\n",
            "Epoch 89/100\n",
            "60/60 - 0s - loss: 0.1470 - accuracy: 0.8079 - val_loss: 0.1355 - val_accuracy: 0.8146 - 172ms/epoch - 3ms/step\n",
            "Epoch 90/100\n",
            "60/60 - 0s - loss: 0.1432 - accuracy: 0.8058 - val_loss: 0.1387 - val_accuracy: 0.8072 - 155ms/epoch - 3ms/step\n",
            "Epoch 91/100\n",
            "60/60 - 0s - loss: 0.1472 - accuracy: 0.8016 - val_loss: 0.1597 - val_accuracy: 0.7818 - 156ms/epoch - 3ms/step\n",
            "Epoch 92/100\n",
            "60/60 - 0s - loss: 0.1466 - accuracy: 0.8098 - val_loss: 0.1431 - val_accuracy: 0.8012 - 165ms/epoch - 3ms/step\n",
            "Epoch 93/100\n",
            "60/60 - 0s - loss: 0.1483 - accuracy: 0.8024 - val_loss: 0.1413 - val_accuracy: 0.8057 - 168ms/epoch - 3ms/step\n",
            "Epoch 94/100\n",
            "60/60 - 0s - loss: 0.1460 - accuracy: 0.8032 - val_loss: 0.1405 - val_accuracy: 0.8132 - 188ms/epoch - 3ms/step\n",
            "Epoch 95/100\n",
            "60/60 - 0s - loss: 0.1440 - accuracy: 0.8071 - val_loss: 0.1397 - val_accuracy: 0.8027 - 163ms/epoch - 3ms/step\n",
            "Epoch 96/100\n",
            "60/60 - 0s - loss: 0.1480 - accuracy: 0.7971 - val_loss: 0.1462 - val_accuracy: 0.7833 - 163ms/epoch - 3ms/step\n",
            "Epoch 97/100\n",
            "60/60 - 0s - loss: 0.1432 - accuracy: 0.8085 - val_loss: 0.1385 - val_accuracy: 0.8087 - 156ms/epoch - 3ms/step\n",
            "Epoch 98/100\n",
            "60/60 - 0s - loss: 0.1444 - accuracy: 0.8058 - val_loss: 0.1358 - val_accuracy: 0.8102 - 161ms/epoch - 3ms/step\n",
            "Epoch 99/100\n",
            "60/60 - 0s - loss: 0.1449 - accuracy: 0.7960 - val_loss: 0.1443 - val_accuracy: 0.8057 - 155ms/epoch - 3ms/step\n",
            "Epoch 100/100\n",
            "60/60 - 0s - loss: 0.1467 - accuracy: 0.8082 - val_loss: 0.1560 - val_accuracy: 0.8042 - 173ms/epoch - 3ms/step\n"
          ]
        }
      ]
    },
    {
      "cell_type": "code",
      "source": [
        "valid_loss, valid_accuracy = model.evaluate(x_valid, y_valid)\n",
        "valid_accuracy"
      ],
      "metadata": {
        "colab": {
          "base_uri": "https://localhost:8080/"
        },
        "outputId": "d00eb350-0774-4c15-8492-b4a2fca64e03",
        "id": "QPle8EndT1HB"
      },
      "execution_count": null,
      "outputs": [
        {
          "output_type": "stream",
          "name": "stdout",
          "text": [
            "47/47 [==============================] - 0s 1ms/step - loss: 0.1409 - accuracy: 0.8128\n"
          ]
        },
        {
          "output_type": "execute_result",
          "data": {
            "text/plain": [
              "0.8127946257591248"
            ]
          },
          "metadata": {},
          "execution_count": 212
        }
      ]
    },
    {
      "cell_type": "markdown",
      "source": [
        "Batch Normalization custom model and Dropout rate = 0.5 Penalty = 0.0005\n"
      ],
      "metadata": {
        "id": "JRByKW27UL21"
      }
    },
    {
      "cell_type": "code",
      "source": [
        "model = Sequential([\n",
        "    Dense(64, input_shape=[x_train.shape[1],], activation=\"relu\",kernel_regularizer = tf.keras.regularizers.l2(0.0005)),\n",
        "    BatchNormalization(),  # <- Batch normalization layer 1\n",
        "    Dropout(0.5),\n",
        "    Dense(256, activation='relu'),\n",
        "])"
      ],
      "metadata": {
        "id": "lAGwa-NnUL22"
      },
      "execution_count": null,
      "outputs": []
    },
    {
      "cell_type": "code",
      "source": [
        "# Add a customised batch normalization layer 2\n",
        "\n",
        "model.add(tf.keras.layers.BatchNormalization(\n",
        "    momentum=0.95, # default is 0.99\n",
        "    epsilon=0.003, #default is 0.001\n",
        "    axis = -1, #default is -1\n",
        "    beta_initializer=tf.keras.initializers.RandomNormal(mean=0.0, stddev=0.07), # default is beta_initializer='zeros'\n",
        "    gamma_initializer=tf.keras.initializers.Constant(value=0.9) # default is gamma_initializer='ones'\n",
        "))"
      ],
      "metadata": {
        "id": "9z9n_qCWUL22"
      },
      "execution_count": null,
      "outputs": []
    },
    {
      "cell_type": "code",
      "source": [
        "# Add the output layer\n",
        "\n",
        "model.add(Dense(1))"
      ],
      "metadata": {
        "id": "0SFoB2K7UL22"
      },
      "execution_count": null,
      "outputs": []
    },
    {
      "cell_type": "code",
      "source": [
        "# Compile the model\n",
        "\n",
        "model.compile(optimizer='adam',\n",
        "              loss='mse',\n",
        "              metrics=['accuracy'])"
      ],
      "metadata": {
        "id": "oqxrJwjAUL22"
      },
      "execution_count": null,
      "outputs": []
    },
    {
      "cell_type": "code",
      "source": [
        "# Train the model\n",
        "\n",
        "history = model.fit(x_train, y_train, epochs=100, validation_split=0.15, batch_size=64,verbose=2)"
      ],
      "metadata": {
        "colab": {
          "base_uri": "https://localhost:8080/"
        },
        "outputId": "a6480a30-14b8-4454-8efe-6b1e2caf961e",
        "id": "R04peyg8UL22"
      },
      "execution_count": null,
      "outputs": [
        {
          "output_type": "stream",
          "name": "stdout",
          "text": [
            "Epoch 1/100\n",
            "60/60 - 1s - loss: 0.6080 - accuracy: 0.5952 - val_loss: 0.2708 - val_accuracy: 0.6607 - 1s/epoch - 19ms/step\n",
            "Epoch 2/100\n",
            "60/60 - 0s - loss: 0.3161 - accuracy: 0.6573 - val_loss: 0.2225 - val_accuracy: 0.7414 - 177ms/epoch - 3ms/step\n",
            "Epoch 3/100\n",
            "60/60 - 0s - loss: 0.2966 - accuracy: 0.6705 - val_loss: 0.1897 - val_accuracy: 0.7564 - 162ms/epoch - 3ms/step\n",
            "Epoch 4/100\n",
            "60/60 - 0s - loss: 0.2623 - accuracy: 0.6838 - val_loss: 0.1861 - val_accuracy: 0.7429 - 215ms/epoch - 4ms/step\n",
            "Epoch 5/100\n",
            "60/60 - 0s - loss: 0.2406 - accuracy: 0.6930 - val_loss: 0.1856 - val_accuracy: 0.7384 - 161ms/epoch - 3ms/step\n",
            "Epoch 6/100\n",
            "60/60 - 0s - loss: 0.2288 - accuracy: 0.7104 - val_loss: 0.1813 - val_accuracy: 0.7414 - 155ms/epoch - 3ms/step\n",
            "Epoch 7/100\n",
            "60/60 - 0s - loss: 0.2151 - accuracy: 0.7213 - val_loss: 0.2067 - val_accuracy: 0.7130 - 169ms/epoch - 3ms/step\n",
            "Epoch 8/100\n",
            "60/60 - 0s - loss: 0.2127 - accuracy: 0.7316 - val_loss: 0.2102 - val_accuracy: 0.7414 - 169ms/epoch - 3ms/step\n",
            "Epoch 9/100\n",
            "60/60 - 0s - loss: 0.2073 - accuracy: 0.7408 - val_loss: 0.1737 - val_accuracy: 0.7593 - 162ms/epoch - 3ms/step\n",
            "Epoch 10/100\n",
            "60/60 - 0s - loss: 0.1985 - accuracy: 0.7453 - val_loss: 0.1773 - val_accuracy: 0.7862 - 158ms/epoch - 3ms/step\n",
            "Epoch 11/100\n",
            "60/60 - 0s - loss: 0.1907 - accuracy: 0.7517 - val_loss: 0.1640 - val_accuracy: 0.7788 - 158ms/epoch - 3ms/step\n",
            "Epoch 12/100\n",
            "60/60 - 0s - loss: 0.1861 - accuracy: 0.7583 - val_loss: 0.1623 - val_accuracy: 0.7728 - 157ms/epoch - 3ms/step\n",
            "Epoch 13/100\n",
            "60/60 - 0s - loss: 0.1794 - accuracy: 0.7749 - val_loss: 0.1641 - val_accuracy: 0.7713 - 169ms/epoch - 3ms/step\n",
            "Epoch 14/100\n",
            "60/60 - 0s - loss: 0.1828 - accuracy: 0.7707 - val_loss: 0.1835 - val_accuracy: 0.7668 - 160ms/epoch - 3ms/step\n",
            "Epoch 15/100\n",
            "60/60 - 0s - loss: 0.1816 - accuracy: 0.7667 - val_loss: 0.1672 - val_accuracy: 0.7743 - 183ms/epoch - 3ms/step\n",
            "Epoch 16/100\n",
            "60/60 - 0s - loss: 0.1795 - accuracy: 0.7799 - val_loss: 0.1598 - val_accuracy: 0.8027 - 158ms/epoch - 3ms/step\n",
            "Epoch 17/100\n",
            "60/60 - 0s - loss: 0.1756 - accuracy: 0.7723 - val_loss: 0.1551 - val_accuracy: 0.7818 - 158ms/epoch - 3ms/step\n",
            "Epoch 18/100\n",
            "60/60 - 0s - loss: 0.1745 - accuracy: 0.7707 - val_loss: 0.1617 - val_accuracy: 0.7892 - 161ms/epoch - 3ms/step\n",
            "Epoch 19/100\n",
            "60/60 - 0s - loss: 0.1739 - accuracy: 0.7699 - val_loss: 0.1564 - val_accuracy: 0.7743 - 167ms/epoch - 3ms/step\n",
            "Epoch 20/100\n",
            "60/60 - 0s - loss: 0.1708 - accuracy: 0.7773 - val_loss: 0.1623 - val_accuracy: 0.7833 - 156ms/epoch - 3ms/step\n",
            "Epoch 21/100\n",
            "60/60 - 0s - loss: 0.1722 - accuracy: 0.7752 - val_loss: 0.1527 - val_accuracy: 0.7833 - 186ms/epoch - 3ms/step\n",
            "Epoch 22/100\n",
            "60/60 - 0s - loss: 0.1712 - accuracy: 0.7736 - val_loss: 0.1541 - val_accuracy: 0.7803 - 170ms/epoch - 3ms/step\n",
            "Epoch 23/100\n",
            "60/60 - 0s - loss: 0.1702 - accuracy: 0.7791 - val_loss: 0.1603 - val_accuracy: 0.7833 - 164ms/epoch - 3ms/step\n",
            "Epoch 24/100\n",
            "60/60 - 0s - loss: 0.1668 - accuracy: 0.7878 - val_loss: 0.1550 - val_accuracy: 0.7892 - 164ms/epoch - 3ms/step\n",
            "Epoch 25/100\n",
            "60/60 - 0s - loss: 0.1698 - accuracy: 0.7794 - val_loss: 0.1500 - val_accuracy: 0.7773 - 163ms/epoch - 3ms/step\n",
            "Epoch 26/100\n",
            "60/60 - 0s - loss: 0.1660 - accuracy: 0.7818 - val_loss: 0.1562 - val_accuracy: 0.7818 - 156ms/epoch - 3ms/step\n",
            "Epoch 27/100\n",
            "60/60 - 0s - loss: 0.1677 - accuracy: 0.7810 - val_loss: 0.1522 - val_accuracy: 0.7952 - 172ms/epoch - 3ms/step\n",
            "Epoch 28/100\n",
            "60/60 - 0s - loss: 0.1649 - accuracy: 0.7868 - val_loss: 0.1491 - val_accuracy: 0.7803 - 158ms/epoch - 3ms/step\n",
            "Epoch 29/100\n",
            "60/60 - 0s - loss: 0.1663 - accuracy: 0.7799 - val_loss: 0.1525 - val_accuracy: 0.7907 - 165ms/epoch - 3ms/step\n",
            "Epoch 30/100\n",
            "60/60 - 0s - loss: 0.1648 - accuracy: 0.7876 - val_loss: 0.1525 - val_accuracy: 0.7862 - 162ms/epoch - 3ms/step\n",
            "Epoch 31/100\n",
            "60/60 - 0s - loss: 0.1601 - accuracy: 0.7955 - val_loss: 0.1551 - val_accuracy: 0.7862 - 173ms/epoch - 3ms/step\n",
            "Epoch 32/100\n",
            "60/60 - 0s - loss: 0.1668 - accuracy: 0.7841 - val_loss: 0.1576 - val_accuracy: 0.7937 - 152ms/epoch - 3ms/step\n",
            "Epoch 33/100\n",
            "60/60 - 0s - loss: 0.1665 - accuracy: 0.7857 - val_loss: 0.1670 - val_accuracy: 0.7833 - 155ms/epoch - 3ms/step\n",
            "Epoch 34/100\n",
            "60/60 - 0s - loss: 0.1683 - accuracy: 0.7783 - val_loss: 0.1605 - val_accuracy: 0.7848 - 163ms/epoch - 3ms/step\n",
            "Epoch 35/100\n",
            "60/60 - 0s - loss: 0.1650 - accuracy: 0.7797 - val_loss: 0.1465 - val_accuracy: 0.7922 - 165ms/epoch - 3ms/step\n",
            "Epoch 36/100\n",
            "60/60 - 0s - loss: 0.1649 - accuracy: 0.7878 - val_loss: 0.1474 - val_accuracy: 0.7922 - 161ms/epoch - 3ms/step\n",
            "Epoch 37/100\n",
            "60/60 - 0s - loss: 0.1603 - accuracy: 0.7947 - val_loss: 0.1447 - val_accuracy: 0.7907 - 177ms/epoch - 3ms/step\n",
            "Epoch 38/100\n",
            "60/60 - 0s - loss: 0.1585 - accuracy: 0.7921 - val_loss: 0.1475 - val_accuracy: 0.7922 - 162ms/epoch - 3ms/step\n",
            "Epoch 39/100\n",
            "60/60 - 0s - loss: 0.1585 - accuracy: 0.7921 - val_loss: 0.1532 - val_accuracy: 0.8012 - 160ms/epoch - 3ms/step\n",
            "Epoch 40/100\n",
            "60/60 - 0s - loss: 0.1576 - accuracy: 0.7900 - val_loss: 0.1463 - val_accuracy: 0.8042 - 152ms/epoch - 3ms/step\n",
            "Epoch 41/100\n",
            "60/60 - 0s - loss: 0.1617 - accuracy: 0.7881 - val_loss: 0.1499 - val_accuracy: 0.7907 - 150ms/epoch - 3ms/step\n",
            "Epoch 42/100\n",
            "60/60 - 0s - loss: 0.1606 - accuracy: 0.7900 - val_loss: 0.1482 - val_accuracy: 0.7877 - 150ms/epoch - 2ms/step\n",
            "Epoch 43/100\n",
            "60/60 - 0s - loss: 0.1595 - accuracy: 0.7937 - val_loss: 0.1464 - val_accuracy: 0.7937 - 164ms/epoch - 3ms/step\n",
            "Epoch 44/100\n",
            "60/60 - 0s - loss: 0.1586 - accuracy: 0.7937 - val_loss: 0.1474 - val_accuracy: 0.7922 - 151ms/epoch - 3ms/step\n",
            "Epoch 45/100\n",
            "60/60 - 0s - loss: 0.1585 - accuracy: 0.7955 - val_loss: 0.1546 - val_accuracy: 0.7833 - 180ms/epoch - 3ms/step\n",
            "Epoch 46/100\n",
            "60/60 - 0s - loss: 0.1604 - accuracy: 0.7950 - val_loss: 0.1552 - val_accuracy: 0.7952 - 152ms/epoch - 3ms/step\n",
            "Epoch 47/100\n",
            "60/60 - 0s - loss: 0.1588 - accuracy: 0.7979 - val_loss: 0.1465 - val_accuracy: 0.7982 - 153ms/epoch - 3ms/step\n",
            "Epoch 48/100\n",
            "60/60 - 0s - loss: 0.1569 - accuracy: 0.7958 - val_loss: 0.1457 - val_accuracy: 0.7907 - 151ms/epoch - 3ms/step\n",
            "Epoch 49/100\n",
            "60/60 - 0s - loss: 0.1567 - accuracy: 0.7955 - val_loss: 0.1424 - val_accuracy: 0.7982 - 156ms/epoch - 3ms/step\n",
            "Epoch 50/100\n",
            "60/60 - 0s - loss: 0.1556 - accuracy: 0.8011 - val_loss: 0.1420 - val_accuracy: 0.8042 - 158ms/epoch - 3ms/step\n",
            "Epoch 51/100\n",
            "60/60 - 0s - loss: 0.1536 - accuracy: 0.7979 - val_loss: 0.1424 - val_accuracy: 0.8027 - 159ms/epoch - 3ms/step\n",
            "Epoch 52/100\n",
            "60/60 - 0s - loss: 0.1601 - accuracy: 0.7905 - val_loss: 0.1447 - val_accuracy: 0.8027 - 161ms/epoch - 3ms/step\n",
            "Epoch 53/100\n",
            "60/60 - 0s - loss: 0.1615 - accuracy: 0.7984 - val_loss: 0.1460 - val_accuracy: 0.7937 - 163ms/epoch - 3ms/step\n",
            "Epoch 54/100\n",
            "60/60 - 0s - loss: 0.1555 - accuracy: 0.7923 - val_loss: 0.1629 - val_accuracy: 0.7818 - 167ms/epoch - 3ms/step\n",
            "Epoch 55/100\n",
            "60/60 - 0s - loss: 0.1570 - accuracy: 0.7945 - val_loss: 0.1430 - val_accuracy: 0.7982 - 152ms/epoch - 3ms/step\n",
            "Epoch 56/100\n",
            "60/60 - 0s - loss: 0.1540 - accuracy: 0.8003 - val_loss: 0.1460 - val_accuracy: 0.7937 - 170ms/epoch - 3ms/step\n",
            "Epoch 57/100\n",
            "60/60 - 0s - loss: 0.1575 - accuracy: 0.7947 - val_loss: 0.1466 - val_accuracy: 0.7937 - 151ms/epoch - 3ms/step\n",
            "Epoch 58/100\n",
            "60/60 - 0s - loss: 0.1570 - accuracy: 0.7968 - val_loss: 0.1430 - val_accuracy: 0.8072 - 170ms/epoch - 3ms/step\n",
            "Epoch 59/100\n",
            "60/60 - 0s - loss: 0.1516 - accuracy: 0.7958 - val_loss: 0.1521 - val_accuracy: 0.7892 - 154ms/epoch - 3ms/step\n",
            "Epoch 60/100\n",
            "60/60 - 0s - loss: 0.1539 - accuracy: 0.8021 - val_loss: 0.1433 - val_accuracy: 0.7997 - 163ms/epoch - 3ms/step\n",
            "Epoch 61/100\n",
            "60/60 - 0s - loss: 0.1534 - accuracy: 0.7987 - val_loss: 0.1418 - val_accuracy: 0.7997 - 147ms/epoch - 2ms/step\n",
            "Epoch 62/100\n",
            "60/60 - 0s - loss: 0.1511 - accuracy: 0.7966 - val_loss: 0.1424 - val_accuracy: 0.8027 - 161ms/epoch - 3ms/step\n",
            "Epoch 63/100\n",
            "60/60 - 0s - loss: 0.1523 - accuracy: 0.8045 - val_loss: 0.1428 - val_accuracy: 0.8012 - 158ms/epoch - 3ms/step\n",
            "Epoch 64/100\n",
            "60/60 - 0s - loss: 0.1559 - accuracy: 0.7939 - val_loss: 0.1437 - val_accuracy: 0.7967 - 149ms/epoch - 2ms/step\n",
            "Epoch 65/100\n",
            "60/60 - 0s - loss: 0.1536 - accuracy: 0.7939 - val_loss: 0.1487 - val_accuracy: 0.7862 - 158ms/epoch - 3ms/step\n",
            "Epoch 66/100\n",
            "60/60 - 0s - loss: 0.1566 - accuracy: 0.7897 - val_loss: 0.1410 - val_accuracy: 0.8027 - 155ms/epoch - 3ms/step\n",
            "Epoch 67/100\n",
            "60/60 - 0s - loss: 0.1545 - accuracy: 0.7979 - val_loss: 0.1479 - val_accuracy: 0.7997 - 155ms/epoch - 3ms/step\n",
            "Epoch 68/100\n",
            "60/60 - 0s - loss: 0.1531 - accuracy: 0.8018 - val_loss: 0.1412 - val_accuracy: 0.8027 - 165ms/epoch - 3ms/step\n",
            "Epoch 69/100\n",
            "60/60 - 0s - loss: 0.1515 - accuracy: 0.8000 - val_loss: 0.1511 - val_accuracy: 0.8012 - 171ms/epoch - 3ms/step\n",
            "Epoch 70/100\n",
            "60/60 - 0s - loss: 0.1540 - accuracy: 0.7968 - val_loss: 0.1395 - val_accuracy: 0.8057 - 149ms/epoch - 2ms/step\n",
            "Epoch 71/100\n",
            "60/60 - 0s - loss: 0.1568 - accuracy: 0.7968 - val_loss: 0.1546 - val_accuracy: 0.7937 - 162ms/epoch - 3ms/step\n",
            "Epoch 72/100\n",
            "60/60 - 0s - loss: 0.1548 - accuracy: 0.7923 - val_loss: 0.1471 - val_accuracy: 0.7997 - 150ms/epoch - 2ms/step\n",
            "Epoch 73/100\n",
            "60/60 - 0s - loss: 0.1522 - accuracy: 0.7995 - val_loss: 0.1440 - val_accuracy: 0.8117 - 162ms/epoch - 3ms/step\n",
            "Epoch 74/100\n",
            "60/60 - 0s - loss: 0.1512 - accuracy: 0.7923 - val_loss: 0.1393 - val_accuracy: 0.7997 - 160ms/epoch - 3ms/step\n",
            "Epoch 75/100\n",
            "60/60 - 0s - loss: 0.1519 - accuracy: 0.8003 - val_loss: 0.1473 - val_accuracy: 0.8072 - 155ms/epoch - 3ms/step\n",
            "Epoch 76/100\n",
            "60/60 - 0s - loss: 0.1557 - accuracy: 0.8018 - val_loss: 0.1582 - val_accuracy: 0.8102 - 161ms/epoch - 3ms/step\n",
            "Epoch 77/100\n",
            "60/60 - 0s - loss: 0.1548 - accuracy: 0.7958 - val_loss: 0.1465 - val_accuracy: 0.8012 - 158ms/epoch - 3ms/step\n",
            "Epoch 78/100\n",
            "60/60 - 0s - loss: 0.1554 - accuracy: 0.7908 - val_loss: 0.1385 - val_accuracy: 0.7967 - 156ms/epoch - 3ms/step\n",
            "Epoch 79/100\n",
            "60/60 - 0s - loss: 0.1483 - accuracy: 0.8040 - val_loss: 0.1397 - val_accuracy: 0.8102 - 152ms/epoch - 3ms/step\n",
            "Epoch 80/100\n",
            "60/60 - 0s - loss: 0.1528 - accuracy: 0.7952 - val_loss: 0.1441 - val_accuracy: 0.8042 - 151ms/epoch - 3ms/step\n",
            "Epoch 81/100\n",
            "60/60 - 0s - loss: 0.1521 - accuracy: 0.8026 - val_loss: 0.1387 - val_accuracy: 0.8057 - 161ms/epoch - 3ms/step\n",
            "Epoch 82/100\n",
            "60/60 - 0s - loss: 0.1537 - accuracy: 0.7918 - val_loss: 0.1478 - val_accuracy: 0.7997 - 159ms/epoch - 3ms/step\n",
            "Epoch 83/100\n",
            "60/60 - 0s - loss: 0.1521 - accuracy: 0.7987 - val_loss: 0.1390 - val_accuracy: 0.8072 - 155ms/epoch - 3ms/step\n",
            "Epoch 84/100\n",
            "60/60 - 0s - loss: 0.1555 - accuracy: 0.7908 - val_loss: 0.1408 - val_accuracy: 0.8057 - 149ms/epoch - 2ms/step\n",
            "Epoch 85/100\n",
            "60/60 - 0s - loss: 0.1521 - accuracy: 0.7984 - val_loss: 0.1414 - val_accuracy: 0.8102 - 160ms/epoch - 3ms/step\n",
            "Epoch 86/100\n",
            "60/60 - 0s - loss: 0.1523 - accuracy: 0.8016 - val_loss: 0.1453 - val_accuracy: 0.7997 - 177ms/epoch - 3ms/step\n",
            "Epoch 87/100\n",
            "60/60 - 0s - loss: 0.1521 - accuracy: 0.7968 - val_loss: 0.1398 - val_accuracy: 0.7982 - 179ms/epoch - 3ms/step\n",
            "Epoch 88/100\n",
            "60/60 - 0s - loss: 0.1526 - accuracy: 0.7963 - val_loss: 0.1529 - val_accuracy: 0.8027 - 168ms/epoch - 3ms/step\n",
            "Epoch 89/100\n",
            "60/60 - 0s - loss: 0.1578 - accuracy: 0.7945 - val_loss: 0.1523 - val_accuracy: 0.7937 - 150ms/epoch - 2ms/step\n",
            "Epoch 90/100\n",
            "60/60 - 0s - loss: 0.1496 - accuracy: 0.8000 - val_loss: 0.1478 - val_accuracy: 0.7997 - 168ms/epoch - 3ms/step\n",
            "Epoch 91/100\n",
            "60/60 - 0s - loss: 0.1496 - accuracy: 0.8018 - val_loss: 0.1386 - val_accuracy: 0.8027 - 157ms/epoch - 3ms/step\n",
            "Epoch 92/100\n",
            "60/60 - 0s - loss: 0.1488 - accuracy: 0.8042 - val_loss: 0.1465 - val_accuracy: 0.8027 - 149ms/epoch - 2ms/step\n",
            "Epoch 93/100\n",
            "60/60 - 0s - loss: 0.1506 - accuracy: 0.7995 - val_loss: 0.1405 - val_accuracy: 0.8042 - 155ms/epoch - 3ms/step\n",
            "Epoch 94/100\n",
            "60/60 - 0s - loss: 0.1507 - accuracy: 0.8024 - val_loss: 0.1424 - val_accuracy: 0.8042 - 153ms/epoch - 3ms/step\n",
            "Epoch 95/100\n",
            "60/60 - 0s - loss: 0.1493 - accuracy: 0.8050 - val_loss: 0.1415 - val_accuracy: 0.8072 - 169ms/epoch - 3ms/step\n",
            "Epoch 96/100\n",
            "60/60 - 0s - loss: 0.1506 - accuracy: 0.7968 - val_loss: 0.1427 - val_accuracy: 0.8057 - 155ms/epoch - 3ms/step\n",
            "Epoch 97/100\n",
            "60/60 - 0s - loss: 0.1516 - accuracy: 0.7987 - val_loss: 0.1405 - val_accuracy: 0.8102 - 163ms/epoch - 3ms/step\n",
            "Epoch 98/100\n",
            "60/60 - 0s - loss: 0.1497 - accuracy: 0.8029 - val_loss: 0.1463 - val_accuracy: 0.7967 - 159ms/epoch - 3ms/step\n",
            "Epoch 99/100\n",
            "60/60 - 0s - loss: 0.1500 - accuracy: 0.8034 - val_loss: 0.1648 - val_accuracy: 0.8012 - 166ms/epoch - 3ms/step\n",
            "Epoch 100/100\n",
            "60/60 - 0s - loss: 0.1525 - accuracy: 0.7971 - val_loss: 0.1536 - val_accuracy: 0.8012 - 157ms/epoch - 3ms/step\n"
          ]
        }
      ]
    },
    {
      "cell_type": "code",
      "source": [
        "valid_loss, valid_accuracy = model.evaluate(x_valid, y_valid)\n",
        "valid_accuracy"
      ],
      "metadata": {
        "colab": {
          "base_uri": "https://localhost:8080/"
        },
        "outputId": "a15a080d-5d92-4757-806c-af56df349449",
        "id": "Z4iciBeSUL23"
      },
      "execution_count": null,
      "outputs": [
        {
          "output_type": "stream",
          "name": "stdout",
          "text": [
            "47/47 [==============================] - 0s 1ms/step - loss: 0.1395 - accuracy: 0.8182\n"
          ]
        },
        {
          "output_type": "execute_result",
          "data": {
            "text/plain": [
              "0.8181818127632141"
            ]
          },
          "metadata": {},
          "execution_count": 218
        }
      ]
    },
    {
      "cell_type": "markdown",
      "metadata": {
        "id": "WD627bM_3_NT"
      },
      "source": [
        "# Reduce Overfit - Early Stopping "
      ]
    },
    {
      "cell_type": "code",
      "metadata": {
        "id": "SMYgkhVs4U6M"
      },
      "source": [
        "#set early stopping\n",
        "\n",
        "early_stopping = tf.keras.callbacks.EarlyStopping(monitor = 'loss',min_delta=0.02,patience=5) "
      ],
      "execution_count": 142,
      "outputs": []
    },
    {
      "cell_type": "code",
      "metadata": {
        "id": "y5g5bdNx4dYG"
      },
      "source": [
        "model = Sequential([\n",
        "                    Dense(32, activation = 'relu', input_shape = (15,)),\n",
        "                    Dense(10, activation = 'softmax')])"
      ],
      "execution_count": 143,
      "outputs": []
    },
    {
      "cell_type": "code",
      "metadata": {
        "id": "21OJdhWQoNuV"
      },
      "source": [
        "# compile the model\n",
        "\n",
        "model.compile(optimizer = tf.keras.optimizers.Adam(learning_rate = 0.003),\n",
        "              loss='sparse_categorical_crossentropy', #Use this loss function when y labels are integers\n",
        "              metrics = [tf.keras.metrics.SparseCategoricalAccuracy()]) #use this accuracy when ylabels are integers"
      ],
      "execution_count": 144,
      "outputs": []
    },
    {
      "cell_type": "code",
      "metadata": {
        "id": "H5F5HtET4xy8",
        "colab": {
          "base_uri": "https://localhost:8080/"
        },
        "outputId": "d3ca2f50-9551-46c6-cf84-10372dd4ea0a"
      },
      "source": [
        "# fit the model with validation set and earlystopping\n",
        "\n",
        "history = model.fit(x_train, y_train, epochs=20,batch_size=64, verbose = 2,callbacks=[early_stopping])"
      ],
      "execution_count": 145,
      "outputs": [
        {
          "output_type": "stream",
          "name": "stdout",
          "text": [
            "Epoch 1/20\n",
            "70/70 - 0s - loss: 1.0264 - sparse_categorical_accuracy: 0.5094 - 414ms/epoch - 6ms/step\n",
            "Epoch 2/20\n",
            "70/70 - 0s - loss: 0.6197 - sparse_categorical_accuracy: 0.6502 - 103ms/epoch - 1ms/step\n",
            "Epoch 3/20\n",
            "70/70 - 0s - loss: 0.5853 - sparse_categorical_accuracy: 0.6780 - 93ms/epoch - 1ms/step\n",
            "Epoch 4/20\n",
            "70/70 - 0s - loss: 0.5593 - sparse_categorical_accuracy: 0.7023 - 104ms/epoch - 1ms/step\n",
            "Epoch 5/20\n",
            "70/70 - 0s - loss: 0.5369 - sparse_categorical_accuracy: 0.7319 - 106ms/epoch - 2ms/step\n",
            "Epoch 6/20\n",
            "70/70 - 0s - loss: 0.5189 - sparse_categorical_accuracy: 0.7384 - 106ms/epoch - 2ms/step\n",
            "Epoch 7/20\n",
            "70/70 - 0s - loss: 0.5128 - sparse_categorical_accuracy: 0.7423 - 95ms/epoch - 1ms/step\n",
            "Epoch 8/20\n",
            "70/70 - 0s - loss: 0.4881 - sparse_categorical_accuracy: 0.7782 - 104ms/epoch - 1ms/step\n",
            "Epoch 9/20\n",
            "70/70 - 0s - loss: 0.4761 - sparse_categorical_accuracy: 0.7818 - 90ms/epoch - 1ms/step\n",
            "Epoch 10/20\n",
            "70/70 - 0s - loss: 0.4643 - sparse_categorical_accuracy: 0.7934 - 90ms/epoch - 1ms/step\n",
            "Epoch 11/20\n",
            "70/70 - 0s - loss: 0.4613 - sparse_categorical_accuracy: 0.7894 - 102ms/epoch - 1ms/step\n",
            "Epoch 12/20\n",
            "70/70 - 0s - loss: 0.4649 - sparse_categorical_accuracy: 0.7822 - 89ms/epoch - 1ms/step\n",
            "Epoch 13/20\n",
            "70/70 - 0s - loss: 0.4502 - sparse_categorical_accuracy: 0.7941 - 86ms/epoch - 1ms/step\n",
            "Epoch 14/20\n",
            "70/70 - 0s - loss: 0.4476 - sparse_categorical_accuracy: 0.8002 - 93ms/epoch - 1ms/step\n",
            "Epoch 15/20\n",
            "70/70 - 0s - loss: 0.4454 - sparse_categorical_accuracy: 0.7991 - 89ms/epoch - 1ms/step\n"
          ]
        }
      ]
    },
    {
      "cell_type": "code",
      "source": [
        "valid_loss, valid_accuracy = model.evaluate(x_valid, y_valid)\n",
        "valid_accuracy"
      ],
      "metadata": {
        "colab": {
          "base_uri": "https://localhost:8080/"
        },
        "id": "iCMnQznQPbWy",
        "outputId": "387dc869-c711-4413-84ae-90beb9ea8002"
      },
      "execution_count": 146,
      "outputs": [
        {
          "output_type": "stream",
          "name": "stdout",
          "text": [
            "47/47 [==============================] - 0s 1ms/step - loss: 0.4361 - sparse_categorical_accuracy: 0.8249\n"
          ]
        },
        {
          "output_type": "execute_result",
          "data": {
            "text/plain": [
              "0.8249158263206482"
            ]
          },
          "metadata": {},
          "execution_count": 146
        }
      ]
    },
    {
      "cell_type": "markdown",
      "source": [
        "#Early stopping, L2 regularization, Dropout regularization, Batch Normalization"
      ],
      "metadata": {
        "id": "eTY9LSssV3J_"
      }
    },
    {
      "cell_type": "code",
      "source": [
        "#set early stopping\n",
        "\n",
        "early_stopping = tf.keras.callbacks.EarlyStopping(monitor = 'loss',min_delta=0.02,patience=5) "
      ],
      "metadata": {
        "id": "kF6kWLGkWNJd"
      },
      "execution_count": 154,
      "outputs": []
    },
    {
      "cell_type": "code",
      "source": [
        "model = Sequential([\n",
        "    Dense(64, input_shape=[x_train.shape[1],], activation=\"relu\",kernel_regularizer = tf.keras.regularizers.l2(0.00005)),\n",
        "    BatchNormalization(),  # <- Batch normalization layer 1\n",
        "    Dropout(0.5),\n",
        "    Dense(256, activation='relu'),\n",
        "])"
      ],
      "metadata": {
        "id": "b7lwr3quWD0D"
      },
      "execution_count": 155,
      "outputs": []
    },
    {
      "cell_type": "code",
      "source": [
        "# Add a customised batch normalization layer 2\n",
        "\n",
        "model.add(tf.keras.layers.BatchNormalization(\n",
        "    momentum=0.95, # default is 0.99\n",
        "    epsilon=0.005, #default is 0.001\n",
        "    axis = -1, #default is -1\n",
        "    beta_initializer=tf.keras.initializers.RandomNormal(mean=0.0, stddev=0.07), # default is beta_initializer='zeros'\n",
        "    gamma_initializer=tf.keras.initializers.Constant(value=0.9) # default is gamma_initializer='ones'\n",
        "))"
      ],
      "metadata": {
        "id": "ldauuM0HWD0D"
      },
      "execution_count": 156,
      "outputs": []
    },
    {
      "cell_type": "code",
      "source": [
        "# Add the output layer\n",
        "\n",
        "model.add(Dense(1))"
      ],
      "metadata": {
        "id": "Y_geio3XWD0E"
      },
      "execution_count": 157,
      "outputs": []
    },
    {
      "cell_type": "code",
      "source": [
        "# Compile the model\n",
        "\n",
        "model.compile(optimizer='adam',\n",
        "              loss='mse',\n",
        "              metrics=['accuracy'])"
      ],
      "metadata": {
        "id": "IFWLrP14WD0E"
      },
      "execution_count": 158,
      "outputs": []
    },
    {
      "cell_type": "code",
      "source": [
        "# Train the model\n",
        "\n",
        "history = model.fit(x_train, y_train, epochs=100, validation_split=0.15, batch_size=64,verbose=2,callbacks=[early_stopping])"
      ],
      "metadata": {
        "colab": {
          "base_uri": "https://localhost:8080/"
        },
        "outputId": "435f5c53-8d03-46bc-e015-69668acf7dbb",
        "id": "VgJhTDegWD0E"
      },
      "execution_count": 159,
      "outputs": [
        {
          "output_type": "stream",
          "name": "stdout",
          "text": [
            "Epoch 1/100\n",
            "60/60 - 2s - loss: 0.6217 - accuracy: 0.5266 - val_loss: 0.3634 - val_accuracy: 0.5007 - 2s/epoch - 28ms/step\n",
            "Epoch 2/100\n",
            "60/60 - 0s - loss: 0.3823 - accuracy: 0.5651 - val_loss: 0.2600 - val_accuracy: 0.5845 - 150ms/epoch - 2ms/step\n",
            "Epoch 3/100\n",
            "60/60 - 0s - loss: 0.3304 - accuracy: 0.5678 - val_loss: 0.2278 - val_accuracy: 0.6472 - 155ms/epoch - 3ms/step\n",
            "Epoch 4/100\n",
            "60/60 - 0s - loss: 0.3239 - accuracy: 0.5694 - val_loss: 0.2266 - val_accuracy: 0.6502 - 159ms/epoch - 3ms/step\n",
            "Epoch 5/100\n",
            "60/60 - 0s - loss: 0.2936 - accuracy: 0.5823 - val_loss: 0.2405 - val_accuracy: 0.6009 - 179ms/epoch - 3ms/step\n",
            "Epoch 6/100\n",
            "60/60 - 0s - loss: 0.2812 - accuracy: 0.5900 - val_loss: 0.2178 - val_accuracy: 0.6398 - 172ms/epoch - 3ms/step\n",
            "Epoch 7/100\n",
            "60/60 - 0s - loss: 0.2687 - accuracy: 0.6013 - val_loss: 0.2137 - val_accuracy: 0.6652 - 155ms/epoch - 3ms/step\n",
            "Epoch 8/100\n",
            "60/60 - 0s - loss: 0.2774 - accuracy: 0.5826 - val_loss: 0.2154 - val_accuracy: 0.6577 - 169ms/epoch - 3ms/step\n",
            "Epoch 9/100\n",
            "60/60 - 0s - loss: 0.2654 - accuracy: 0.6045 - val_loss: 0.2195 - val_accuracy: 0.6338 - 159ms/epoch - 3ms/step\n",
            "Epoch 10/100\n",
            "60/60 - 0s - loss: 0.2621 - accuracy: 0.6048 - val_loss: 0.2127 - val_accuracy: 0.6831 - 149ms/epoch - 2ms/step\n",
            "Epoch 11/100\n",
            "60/60 - 0s - loss: 0.2543 - accuracy: 0.6082 - val_loss: 0.2168 - val_accuracy: 0.6577 - 173ms/epoch - 3ms/step\n",
            "Epoch 12/100\n",
            "60/60 - 0s - loss: 0.2444 - accuracy: 0.6177 - val_loss: 0.2095 - val_accuracy: 0.6682 - 153ms/epoch - 3ms/step\n",
            "Epoch 13/100\n",
            "60/60 - 0s - loss: 0.2390 - accuracy: 0.6291 - val_loss: 0.2159 - val_accuracy: 0.6487 - 160ms/epoch - 3ms/step\n",
            "Epoch 14/100\n",
            "60/60 - 0s - loss: 0.2346 - accuracy: 0.6293 - val_loss: 0.2076 - val_accuracy: 0.6786 - 158ms/epoch - 3ms/step\n",
            "Epoch 15/100\n",
            "60/60 - 0s - loss: 0.2280 - accuracy: 0.6431 - val_loss: 0.2096 - val_accuracy: 0.6697 - 163ms/epoch - 3ms/step\n",
            "Epoch 16/100\n",
            "60/60 - 0s - loss: 0.2191 - accuracy: 0.6613 - val_loss: 0.1968 - val_accuracy: 0.7085 - 155ms/epoch - 3ms/step\n",
            "Epoch 17/100\n",
            "60/60 - 0s - loss: 0.2044 - accuracy: 0.6941 - val_loss: 0.2066 - val_accuracy: 0.6981 - 167ms/epoch - 3ms/step\n",
            "Epoch 18/100\n",
            "60/60 - 0s - loss: 0.2036 - accuracy: 0.6930 - val_loss: 0.2074 - val_accuracy: 0.6667 - 155ms/epoch - 3ms/step\n",
            "Epoch 19/100\n",
            "60/60 - 0s - loss: 0.1973 - accuracy: 0.7033 - val_loss: 0.1682 - val_accuracy: 0.7668 - 157ms/epoch - 3ms/step\n",
            "Epoch 20/100\n",
            "60/60 - 0s - loss: 0.1970 - accuracy: 0.7038 - val_loss: 0.1724 - val_accuracy: 0.7833 - 165ms/epoch - 3ms/step\n",
            "Epoch 21/100\n",
            "60/60 - 0s - loss: 0.1953 - accuracy: 0.7091 - val_loss: 0.1617 - val_accuracy: 0.7728 - 152ms/epoch - 3ms/step\n",
            "Epoch 22/100\n",
            "60/60 - 0s - loss: 0.1909 - accuracy: 0.7152 - val_loss: 0.1593 - val_accuracy: 0.7937 - 158ms/epoch - 3ms/step\n",
            "Epoch 23/100\n",
            "60/60 - 0s - loss: 0.1922 - accuracy: 0.7266 - val_loss: 0.1826 - val_accuracy: 0.7160 - 168ms/epoch - 3ms/step\n",
            "Epoch 24/100\n",
            "60/60 - 0s - loss: 0.1896 - accuracy: 0.7250 - val_loss: 0.1511 - val_accuracy: 0.7997 - 155ms/epoch - 3ms/step\n"
          ]
        }
      ]
    },
    {
      "cell_type": "code",
      "source": [
        "valid_loss, valid_accuracy = model.evaluate(x_valid, y_valid)\n",
        "valid_accuracy"
      ],
      "metadata": {
        "colab": {
          "base_uri": "https://localhost:8080/"
        },
        "outputId": "a2c4fcc0-6518-442b-c4c0-0cd1ecb7f508",
        "id": "a203jY2LWD0E"
      },
      "execution_count": 160,
      "outputs": [
        {
          "output_type": "stream",
          "name": "stdout",
          "text": [
            "47/47 [==============================] - 0s 2ms/step - loss: 0.1510 - accuracy: 0.8034\n"
          ]
        },
        {
          "output_type": "execute_result",
          "data": {
            "text/plain": [
              "0.803367018699646"
            ]
          },
          "metadata": {},
          "execution_count": 160
        }
      ]
    },
    {
      "cell_type": "code",
      "source": [
        ""
      ],
      "metadata": {
        "id": "YmwP7ZV5O6Ma"
      },
      "execution_count": null,
      "outputs": []
    }
  ]
}